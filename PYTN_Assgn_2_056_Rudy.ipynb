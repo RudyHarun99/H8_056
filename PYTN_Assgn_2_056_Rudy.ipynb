{
  "nbformat": 4,
  "nbformat_minor": 0,
  "metadata": {
    "colab": {
      "name": "PYTN_Assgn_2_056_Rudy.ipynb",
      "provenance": [],
      "authorship_tag": "ABX9TyN/kZvgkTqrTztIOVDDBvol",
      "include_colab_link": true
    },
    "kernelspec": {
      "name": "python3",
      "display_name": "Python 3"
    },
    "language_info": {
      "name": "python"
    }
  },
  "cells": [
    {
      "cell_type": "markdown",
      "metadata": {
        "id": "view-in-github",
        "colab_type": "text"
      },
      "source": [
        "<a href=\"https://colab.research.google.com/github/RudyHarun99/H8_056/blob/master/PYTN_Assgn_2_056_Rudy.ipynb\" target=\"_parent\"><img src=\"https://colab.research.google.com/assets/colab-badge.svg\" alt=\"Open In Colab\"/></a>"
      ]
    },
    {
      "cell_type": "markdown",
      "metadata": {
        "id": "8XCfWBEb4btF"
      },
      "source": [
        "#**NYC PROPERTY SALES**"
      ]
    },
    {
      "cell_type": "markdown",
      "metadata": {
        "id": "kKd9G0sy4eLA"
      },
      "source": [
        "##Project Overview"
      ]
    },
    {
      "cell_type": "markdown",
      "metadata": {
        "id": "PY1pxbUI4gsL"
      },
      "source": [
        "This dataset contains the location, address, type, sale price, and sale date of building units sold. A refrence on the trickier fields:\n",
        "- BOROUGH: A digit code for the borough the property is located in; in order these are Manhattan (1), Bronkx (2), Brooklyn (3), Queens (4), and Staten Island (5).\n",
        "- BLOCK: The combination of borough, block, and lot forms a unique key for property in New York City. Commonly callad a BBL.\n",
        "- BUILDING CLASS AT PRESENT and BUILDING CLASS AT TIME OF SALE: The type of building at various points in time.\n",
        "\n",
        "Note that because this is a financial transaction dataset, there are some points that need to be kept in mind:\n",
        "- Many sales occur with a nonsensically small dollar amount: $0 most commonly. These sales are actually transfers of deed between parties: for example, parents transferring ownership to their home to a child after moving out for retirement.\n",
        "- This dataset uses the financial definition of a building/building unit, for tax purposes. In case a single entity owns the building in question, a sale covers the value of the entire bulding. In case a building is owned piecemeal by its residents (a condominium), a sale refers to a single apartment (or group of apartements) owned by some individual."
      ]
    },
    {
      "cell_type": "markdown",
      "metadata": {
        "id": "AVLVhY8Z8DFr"
      },
      "source": [
        "##Data Preparation"
      ]
    },
    {
      "cell_type": "code",
      "metadata": {
        "id": "pSgZpZ-zuMZF"
      },
      "source": [
        "import math\n",
        "import statistics\n",
        "import numpy as np\n",
        "import scipy.stats\n",
        "import pandas as pd\n",
        "import matplotlib.pyplot as plt\n",
        "import seaborn as sns"
      ],
      "execution_count": null,
      "outputs": []
    },
    {
      "cell_type": "code",
      "metadata": {
        "colab": {
          "base_uri": "https://localhost:8080/"
        },
        "id": "zhMhqwnaA6Sp",
        "outputId": "b91c3dc2-53f4-4b2c-d22e-019cb1d56695"
      },
      "source": [
        "from google.colab import drive\n",
        "drive.mount('/content/gdrive')"
      ],
      "execution_count": null,
      "outputs": [
        {
          "output_type": "stream",
          "text": [
            "Mounted at /content/gdrive\n"
          ],
          "name": "stdout"
        }
      ]
    },
    {
      "cell_type": "code",
      "metadata": {
        "colab": {
          "base_uri": "https://localhost:8080/"
        },
        "id": "KY5_GOITBX0l",
        "outputId": "8f48eead-7a6e-4e80-e54e-757f028de09c"
      },
      "source": [
        "path = '/content/gdrive/MyDrive/DATA/Hacktiv8_ptp_python/nyc-rolling-sales.csv'\n",
        "df = pd.read_csv(path)\n",
        "df.shape"
      ],
      "execution_count": null,
      "outputs": [
        {
          "output_type": "execute_result",
          "data": {
            "text/plain": [
              "(84548, 22)"
            ]
          },
          "metadata": {
            "tags": []
          },
          "execution_count": 4
        }
      ]
    },
    {
      "cell_type": "code",
      "metadata": {
        "colab": {
          "base_uri": "https://localhost:8080/",
          "height": 555
        },
        "id": "e7DHPoRiB19X",
        "outputId": "9166d0dc-c2de-4371-ead7-47b8a01566c9"
      },
      "source": [
        "df.head()"
      ],
      "execution_count": null,
      "outputs": [
        {
          "output_type": "execute_result",
          "data": {
            "text/html": [
              "<div>\n",
              "<style scoped>\n",
              "    .dataframe tbody tr th:only-of-type {\n",
              "        vertical-align: middle;\n",
              "    }\n",
              "\n",
              "    .dataframe tbody tr th {\n",
              "        vertical-align: top;\n",
              "    }\n",
              "\n",
              "    .dataframe thead th {\n",
              "        text-align: right;\n",
              "    }\n",
              "</style>\n",
              "<table border=\"1\" class=\"dataframe\">\n",
              "  <thead>\n",
              "    <tr style=\"text-align: right;\">\n",
              "      <th></th>\n",
              "      <th>Unnamed: 0</th>\n",
              "      <th>BOROUGH</th>\n",
              "      <th>NEIGHBORHOOD</th>\n",
              "      <th>BUILDING CLASS CATEGORY</th>\n",
              "      <th>TAX CLASS AT PRESENT</th>\n",
              "      <th>BLOCK</th>\n",
              "      <th>LOT</th>\n",
              "      <th>EASE-MENT</th>\n",
              "      <th>BUILDING CLASS AT PRESENT</th>\n",
              "      <th>ADDRESS</th>\n",
              "      <th>APARTMENT NUMBER</th>\n",
              "      <th>ZIP CODE</th>\n",
              "      <th>RESIDENTIAL UNITS</th>\n",
              "      <th>COMMERCIAL UNITS</th>\n",
              "      <th>TOTAL UNITS</th>\n",
              "      <th>LAND SQUARE FEET</th>\n",
              "      <th>GROSS SQUARE FEET</th>\n",
              "      <th>YEAR BUILT</th>\n",
              "      <th>TAX CLASS AT TIME OF SALE</th>\n",
              "      <th>BUILDING CLASS AT TIME OF SALE</th>\n",
              "      <th>SALE PRICE</th>\n",
              "      <th>SALE DATE</th>\n",
              "    </tr>\n",
              "  </thead>\n",
              "  <tbody>\n",
              "    <tr>\n",
              "      <th>0</th>\n",
              "      <td>4</td>\n",
              "      <td>1</td>\n",
              "      <td>ALPHABET CITY</td>\n",
              "      <td>07 RENTALS - WALKUP APARTMENTS</td>\n",
              "      <td>2A</td>\n",
              "      <td>392</td>\n",
              "      <td>6</td>\n",
              "      <td></td>\n",
              "      <td>C2</td>\n",
              "      <td>153 AVENUE B</td>\n",
              "      <td></td>\n",
              "      <td>10009</td>\n",
              "      <td>5</td>\n",
              "      <td>0</td>\n",
              "      <td>5</td>\n",
              "      <td>1633</td>\n",
              "      <td>6440</td>\n",
              "      <td>1900</td>\n",
              "      <td>2</td>\n",
              "      <td>C2</td>\n",
              "      <td>6625000</td>\n",
              "      <td>2017-07-19 00:00:00</td>\n",
              "    </tr>\n",
              "    <tr>\n",
              "      <th>1</th>\n",
              "      <td>5</td>\n",
              "      <td>1</td>\n",
              "      <td>ALPHABET CITY</td>\n",
              "      <td>07 RENTALS - WALKUP APARTMENTS</td>\n",
              "      <td>2</td>\n",
              "      <td>399</td>\n",
              "      <td>26</td>\n",
              "      <td></td>\n",
              "      <td>C7</td>\n",
              "      <td>234 EAST 4TH   STREET</td>\n",
              "      <td></td>\n",
              "      <td>10009</td>\n",
              "      <td>28</td>\n",
              "      <td>3</td>\n",
              "      <td>31</td>\n",
              "      <td>4616</td>\n",
              "      <td>18690</td>\n",
              "      <td>1900</td>\n",
              "      <td>2</td>\n",
              "      <td>C7</td>\n",
              "      <td>-</td>\n",
              "      <td>2016-12-14 00:00:00</td>\n",
              "    </tr>\n",
              "    <tr>\n",
              "      <th>2</th>\n",
              "      <td>6</td>\n",
              "      <td>1</td>\n",
              "      <td>ALPHABET CITY</td>\n",
              "      <td>07 RENTALS - WALKUP APARTMENTS</td>\n",
              "      <td>2</td>\n",
              "      <td>399</td>\n",
              "      <td>39</td>\n",
              "      <td></td>\n",
              "      <td>C7</td>\n",
              "      <td>197 EAST 3RD   STREET</td>\n",
              "      <td></td>\n",
              "      <td>10009</td>\n",
              "      <td>16</td>\n",
              "      <td>1</td>\n",
              "      <td>17</td>\n",
              "      <td>2212</td>\n",
              "      <td>7803</td>\n",
              "      <td>1900</td>\n",
              "      <td>2</td>\n",
              "      <td>C7</td>\n",
              "      <td>-</td>\n",
              "      <td>2016-12-09 00:00:00</td>\n",
              "    </tr>\n",
              "    <tr>\n",
              "      <th>3</th>\n",
              "      <td>7</td>\n",
              "      <td>1</td>\n",
              "      <td>ALPHABET CITY</td>\n",
              "      <td>07 RENTALS - WALKUP APARTMENTS</td>\n",
              "      <td>2B</td>\n",
              "      <td>402</td>\n",
              "      <td>21</td>\n",
              "      <td></td>\n",
              "      <td>C4</td>\n",
              "      <td>154 EAST 7TH STREET</td>\n",
              "      <td></td>\n",
              "      <td>10009</td>\n",
              "      <td>10</td>\n",
              "      <td>0</td>\n",
              "      <td>10</td>\n",
              "      <td>2272</td>\n",
              "      <td>6794</td>\n",
              "      <td>1913</td>\n",
              "      <td>2</td>\n",
              "      <td>C4</td>\n",
              "      <td>3936272</td>\n",
              "      <td>2016-09-23 00:00:00</td>\n",
              "    </tr>\n",
              "    <tr>\n",
              "      <th>4</th>\n",
              "      <td>8</td>\n",
              "      <td>1</td>\n",
              "      <td>ALPHABET CITY</td>\n",
              "      <td>07 RENTALS - WALKUP APARTMENTS</td>\n",
              "      <td>2A</td>\n",
              "      <td>404</td>\n",
              "      <td>55</td>\n",
              "      <td></td>\n",
              "      <td>C2</td>\n",
              "      <td>301 EAST 10TH   STREET</td>\n",
              "      <td></td>\n",
              "      <td>10009</td>\n",
              "      <td>6</td>\n",
              "      <td>0</td>\n",
              "      <td>6</td>\n",
              "      <td>2369</td>\n",
              "      <td>4615</td>\n",
              "      <td>1900</td>\n",
              "      <td>2</td>\n",
              "      <td>C2</td>\n",
              "      <td>8000000</td>\n",
              "      <td>2016-11-17 00:00:00</td>\n",
              "    </tr>\n",
              "  </tbody>\n",
              "</table>\n",
              "</div>"
            ],
            "text/plain": [
              "   Unnamed: 0  BOROUGH  ... SALE PRICE            SALE DATE\n",
              "0           4        1  ...    6625000  2017-07-19 00:00:00\n",
              "1           5        1  ...        -    2016-12-14 00:00:00\n",
              "2           6        1  ...        -    2016-12-09 00:00:00\n",
              "3           7        1  ...    3936272  2016-09-23 00:00:00\n",
              "4           8        1  ...    8000000  2016-11-17 00:00:00\n",
              "\n",
              "[5 rows x 22 columns]"
            ]
          },
          "metadata": {
            "tags": []
          },
          "execution_count": 5
        }
      ]
    },
    {
      "cell_type": "code",
      "metadata": {
        "colab": {
          "base_uri": "https://localhost:8080/",
          "height": 521
        },
        "id": "oJKj95X7B3tR",
        "outputId": "2b3864c4-1af4-45ff-abb6-68660089d2ea"
      },
      "source": [
        "df.tail()"
      ],
      "execution_count": null,
      "outputs": [
        {
          "output_type": "execute_result",
          "data": {
            "text/html": [
              "<div>\n",
              "<style scoped>\n",
              "    .dataframe tbody tr th:only-of-type {\n",
              "        vertical-align: middle;\n",
              "    }\n",
              "\n",
              "    .dataframe tbody tr th {\n",
              "        vertical-align: top;\n",
              "    }\n",
              "\n",
              "    .dataframe thead th {\n",
              "        text-align: right;\n",
              "    }\n",
              "</style>\n",
              "<table border=\"1\" class=\"dataframe\">\n",
              "  <thead>\n",
              "    <tr style=\"text-align: right;\">\n",
              "      <th></th>\n",
              "      <th>Unnamed: 0</th>\n",
              "      <th>BOROUGH</th>\n",
              "      <th>NEIGHBORHOOD</th>\n",
              "      <th>BUILDING CLASS CATEGORY</th>\n",
              "      <th>TAX CLASS AT PRESENT</th>\n",
              "      <th>BLOCK</th>\n",
              "      <th>LOT</th>\n",
              "      <th>EASE-MENT</th>\n",
              "      <th>BUILDING CLASS AT PRESENT</th>\n",
              "      <th>ADDRESS</th>\n",
              "      <th>APARTMENT NUMBER</th>\n",
              "      <th>ZIP CODE</th>\n",
              "      <th>RESIDENTIAL UNITS</th>\n",
              "      <th>COMMERCIAL UNITS</th>\n",
              "      <th>TOTAL UNITS</th>\n",
              "      <th>LAND SQUARE FEET</th>\n",
              "      <th>GROSS SQUARE FEET</th>\n",
              "      <th>YEAR BUILT</th>\n",
              "      <th>TAX CLASS AT TIME OF SALE</th>\n",
              "      <th>BUILDING CLASS AT TIME OF SALE</th>\n",
              "      <th>SALE PRICE</th>\n",
              "      <th>SALE DATE</th>\n",
              "    </tr>\n",
              "  </thead>\n",
              "  <tbody>\n",
              "    <tr>\n",
              "      <th>84543</th>\n",
              "      <td>8409</td>\n",
              "      <td>5</td>\n",
              "      <td>WOODROW</td>\n",
              "      <td>02 TWO FAMILY DWELLINGS</td>\n",
              "      <td>1</td>\n",
              "      <td>7349</td>\n",
              "      <td>34</td>\n",
              "      <td></td>\n",
              "      <td>B9</td>\n",
              "      <td>37 QUAIL LANE</td>\n",
              "      <td></td>\n",
              "      <td>10309</td>\n",
              "      <td>2</td>\n",
              "      <td>0</td>\n",
              "      <td>2</td>\n",
              "      <td>2400</td>\n",
              "      <td>2575</td>\n",
              "      <td>1998</td>\n",
              "      <td>1</td>\n",
              "      <td>B9</td>\n",
              "      <td>450000</td>\n",
              "      <td>2016-11-28 00:00:00</td>\n",
              "    </tr>\n",
              "    <tr>\n",
              "      <th>84544</th>\n",
              "      <td>8410</td>\n",
              "      <td>5</td>\n",
              "      <td>WOODROW</td>\n",
              "      <td>02 TWO FAMILY DWELLINGS</td>\n",
              "      <td>1</td>\n",
              "      <td>7349</td>\n",
              "      <td>78</td>\n",
              "      <td></td>\n",
              "      <td>B9</td>\n",
              "      <td>32 PHEASANT LANE</td>\n",
              "      <td></td>\n",
              "      <td>10309</td>\n",
              "      <td>2</td>\n",
              "      <td>0</td>\n",
              "      <td>2</td>\n",
              "      <td>2498</td>\n",
              "      <td>2377</td>\n",
              "      <td>1998</td>\n",
              "      <td>1</td>\n",
              "      <td>B9</td>\n",
              "      <td>550000</td>\n",
              "      <td>2017-04-21 00:00:00</td>\n",
              "    </tr>\n",
              "    <tr>\n",
              "      <th>84545</th>\n",
              "      <td>8411</td>\n",
              "      <td>5</td>\n",
              "      <td>WOODROW</td>\n",
              "      <td>02 TWO FAMILY DWELLINGS</td>\n",
              "      <td>1</td>\n",
              "      <td>7351</td>\n",
              "      <td>60</td>\n",
              "      <td></td>\n",
              "      <td>B2</td>\n",
              "      <td>49 PITNEY AVENUE</td>\n",
              "      <td></td>\n",
              "      <td>10309</td>\n",
              "      <td>2</td>\n",
              "      <td>0</td>\n",
              "      <td>2</td>\n",
              "      <td>4000</td>\n",
              "      <td>1496</td>\n",
              "      <td>1925</td>\n",
              "      <td>1</td>\n",
              "      <td>B2</td>\n",
              "      <td>460000</td>\n",
              "      <td>2017-07-05 00:00:00</td>\n",
              "    </tr>\n",
              "    <tr>\n",
              "      <th>84546</th>\n",
              "      <td>8412</td>\n",
              "      <td>5</td>\n",
              "      <td>WOODROW</td>\n",
              "      <td>22 STORE BUILDINGS</td>\n",
              "      <td>4</td>\n",
              "      <td>7100</td>\n",
              "      <td>28</td>\n",
              "      <td></td>\n",
              "      <td>K6</td>\n",
              "      <td>2730 ARTHUR KILL ROAD</td>\n",
              "      <td></td>\n",
              "      <td>10309</td>\n",
              "      <td>0</td>\n",
              "      <td>7</td>\n",
              "      <td>7</td>\n",
              "      <td>208033</td>\n",
              "      <td>64117</td>\n",
              "      <td>2001</td>\n",
              "      <td>4</td>\n",
              "      <td>K6</td>\n",
              "      <td>11693337</td>\n",
              "      <td>2016-12-21 00:00:00</td>\n",
              "    </tr>\n",
              "    <tr>\n",
              "      <th>84547</th>\n",
              "      <td>8413</td>\n",
              "      <td>5</td>\n",
              "      <td>WOODROW</td>\n",
              "      <td>35 INDOOR PUBLIC AND CULTURAL FACILITIES</td>\n",
              "      <td>4</td>\n",
              "      <td>7105</td>\n",
              "      <td>679</td>\n",
              "      <td></td>\n",
              "      <td>P9</td>\n",
              "      <td>155 CLAY PIT ROAD</td>\n",
              "      <td></td>\n",
              "      <td>10309</td>\n",
              "      <td>0</td>\n",
              "      <td>1</td>\n",
              "      <td>1</td>\n",
              "      <td>10796</td>\n",
              "      <td>2400</td>\n",
              "      <td>2006</td>\n",
              "      <td>4</td>\n",
              "      <td>P9</td>\n",
              "      <td>69300</td>\n",
              "      <td>2016-10-27 00:00:00</td>\n",
              "    </tr>\n",
              "  </tbody>\n",
              "</table>\n",
              "</div>"
            ],
            "text/plain": [
              "       Unnamed: 0  BOROUGH  ... SALE PRICE            SALE DATE\n",
              "84543        8409        5  ...     450000  2016-11-28 00:00:00\n",
              "84544        8410        5  ...     550000  2017-04-21 00:00:00\n",
              "84545        8411        5  ...     460000  2017-07-05 00:00:00\n",
              "84546        8412        5  ...   11693337  2016-12-21 00:00:00\n",
              "84547        8413        5  ...      69300  2016-10-27 00:00:00\n",
              "\n",
              "[5 rows x 22 columns]"
            ]
          },
          "metadata": {
            "tags": []
          },
          "execution_count": 6
        }
      ]
    },
    {
      "cell_type": "markdown",
      "metadata": {
        "id": "-FYje02g-G_v"
      },
      "source": [
        "Dari head dan tail, kita lihat ada beberapa kolom yang kosong, yaitu kolom *EASE-MENT* dan *APARTMENT NUMBER*, maka kita akan periksa apakah benar semua value dari kolom tersebut kosong?"
      ]
    },
    {
      "cell_type": "code",
      "metadata": {
        "colab": {
          "base_uri": "https://localhost:8080/"
        },
        "id": "0ywDB-xETKp3",
        "outputId": "ce745031-da11-4aa3-ac61-fff9520dfc0e"
      },
      "source": [
        "(df['EASE-MENT'] != ' ').sum()"
      ],
      "execution_count": null,
      "outputs": [
        {
          "output_type": "execute_result",
          "data": {
            "text/plain": [
              "0"
            ]
          },
          "metadata": {
            "tags": []
          },
          "execution_count": 7
        }
      ]
    },
    {
      "cell_type": "code",
      "metadata": {
        "colab": {
          "base_uri": "https://localhost:8080/"
        },
        "id": "nW0ztzcOVryR",
        "outputId": "f44899ab-8366-4833-8b7d-16ffb6049dd7"
      },
      "source": [
        "(df['APARTMENT NUMBER'] != ' ').sum()"
      ],
      "execution_count": null,
      "outputs": [
        {
          "output_type": "execute_result",
          "data": {
            "text/plain": [
              "19052"
            ]
          },
          "metadata": {
            "tags": []
          },
          "execution_count": 8
        }
      ]
    },
    {
      "cell_type": "markdown",
      "metadata": {
        "id": "TZRq_96T-Z0X"
      },
      "source": [
        "Ternyata seluruh value dari kolom *EASE-MENT* kosong, dan kolom *APARTMENT NUMBER* tidak semua kosong. Selain itu, kolom *Unnamed* juga tidak dibutuhkan, maka kita akan drop kolom *Unnamed* dan *EASE-MENT*."
      ]
    },
    {
      "cell_type": "code",
      "metadata": {
        "id": "pN_C3dMIGwpu"
      },
      "source": [
        "df.drop(['Unnamed: 0', 'EASE-MENT'], axis=1, inplace=True)"
      ],
      "execution_count": null,
      "outputs": []
    },
    {
      "cell_type": "code",
      "metadata": {
        "colab": {
          "base_uri": "https://localhost:8080/"
        },
        "id": "azIZ_djyB7KY",
        "outputId": "75581921-ac17-4132-b601-7622f1f7aa3e"
      },
      "source": [
        "df.isnull().any()"
      ],
      "execution_count": null,
      "outputs": [
        {
          "output_type": "execute_result",
          "data": {
            "text/plain": [
              "BOROUGH                           False\n",
              "NEIGHBORHOOD                      False\n",
              "BUILDING CLASS CATEGORY           False\n",
              "TAX CLASS AT PRESENT              False\n",
              "BLOCK                             False\n",
              "LOT                               False\n",
              "BUILDING CLASS AT PRESENT         False\n",
              "ADDRESS                           False\n",
              "APARTMENT NUMBER                  False\n",
              "ZIP CODE                          False\n",
              "RESIDENTIAL UNITS                 False\n",
              "COMMERCIAL UNITS                  False\n",
              "TOTAL UNITS                       False\n",
              "LAND SQUARE FEET                  False\n",
              "GROSS SQUARE FEET                 False\n",
              "YEAR BUILT                        False\n",
              "TAX CLASS AT TIME OF SALE         False\n",
              "BUILDING CLASS AT TIME OF SALE    False\n",
              "SALE PRICE                        False\n",
              "SALE DATE                         False\n",
              "dtype: bool"
            ]
          },
          "metadata": {
            "tags": []
          },
          "execution_count": 10
        }
      ]
    },
    {
      "cell_type": "code",
      "metadata": {
        "colab": {
          "base_uri": "https://localhost:8080/"
        },
        "id": "3qlaaj2CCCPe",
        "outputId": "fc51e59d-0ced-41ad-e136-9f10d1491eb7"
      },
      "source": [
        "df.isnull().sum()"
      ],
      "execution_count": null,
      "outputs": [
        {
          "output_type": "execute_result",
          "data": {
            "text/plain": [
              "BOROUGH                           0\n",
              "NEIGHBORHOOD                      0\n",
              "BUILDING CLASS CATEGORY           0\n",
              "TAX CLASS AT PRESENT              0\n",
              "BLOCK                             0\n",
              "LOT                               0\n",
              "BUILDING CLASS AT PRESENT         0\n",
              "ADDRESS                           0\n",
              "APARTMENT NUMBER                  0\n",
              "ZIP CODE                          0\n",
              "RESIDENTIAL UNITS                 0\n",
              "COMMERCIAL UNITS                  0\n",
              "TOTAL UNITS                       0\n",
              "LAND SQUARE FEET                  0\n",
              "GROSS SQUARE FEET                 0\n",
              "YEAR BUILT                        0\n",
              "TAX CLASS AT TIME OF SALE         0\n",
              "BUILDING CLASS AT TIME OF SALE    0\n",
              "SALE PRICE                        0\n",
              "SALE DATE                         0\n",
              "dtype: int64"
            ]
          },
          "metadata": {
            "tags": []
          },
          "execution_count": 11
        }
      ]
    },
    {
      "cell_type": "code",
      "metadata": {
        "colab": {
          "base_uri": "https://localhost:8080/"
        },
        "id": "reOC27oBCGeh",
        "outputId": "b49443cf-fa9b-4c45-a33c-87d82df7e948"
      },
      "source": [
        "df.info()"
      ],
      "execution_count": null,
      "outputs": [
        {
          "output_type": "stream",
          "text": [
            "<class 'pandas.core.frame.DataFrame'>\n",
            "RangeIndex: 84548 entries, 0 to 84547\n",
            "Data columns (total 20 columns):\n",
            " #   Column                          Non-Null Count  Dtype \n",
            "---  ------                          --------------  ----- \n",
            " 0   BOROUGH                         84548 non-null  int64 \n",
            " 1   NEIGHBORHOOD                    84548 non-null  object\n",
            " 2   BUILDING CLASS CATEGORY         84548 non-null  object\n",
            " 3   TAX CLASS AT PRESENT            84548 non-null  object\n",
            " 4   BLOCK                           84548 non-null  int64 \n",
            " 5   LOT                             84548 non-null  int64 \n",
            " 6   BUILDING CLASS AT PRESENT       84548 non-null  object\n",
            " 7   ADDRESS                         84548 non-null  object\n",
            " 8   APARTMENT NUMBER                84548 non-null  object\n",
            " 9   ZIP CODE                        84548 non-null  int64 \n",
            " 10  RESIDENTIAL UNITS               84548 non-null  int64 \n",
            " 11  COMMERCIAL UNITS                84548 non-null  int64 \n",
            " 12  TOTAL UNITS                     84548 non-null  int64 \n",
            " 13  LAND SQUARE FEET                84548 non-null  object\n",
            " 14  GROSS SQUARE FEET               84548 non-null  object\n",
            " 15  YEAR BUILT                      84548 non-null  int64 \n",
            " 16  TAX CLASS AT TIME OF SALE       84548 non-null  int64 \n",
            " 17  BUILDING CLASS AT TIME OF SALE  84548 non-null  object\n",
            " 18  SALE PRICE                      84548 non-null  object\n",
            " 19  SALE DATE                       84548 non-null  object\n",
            "dtypes: int64(9), object(11)\n",
            "memory usage: 12.9+ MB\n"
          ],
          "name": "stdout"
        }
      ]
    },
    {
      "cell_type": "markdown",
      "metadata": {
        "id": "XAGJPsf_-0k6"
      },
      "source": [
        "Bila kita perhatikan dari info, kolom *SALE PRICE* bertipe object, kita perlu ubah ke bentuk int atau float terlebih dahulu."
      ]
    },
    {
      "cell_type": "code",
      "metadata": {
        "colab": {
          "base_uri": "https://localhost:8080/"
        },
        "id": "n_0hrItTZ575",
        "outputId": "04b19ffe-6d05-41c8-deae-ee4105020976"
      },
      "source": [
        "df['SALE PRICE'] = pd.to_numeric(df['SALE PRICE'], errors='coerce')\n",
        "print(df['SALE PRICE'].dtypes)"
      ],
      "execution_count": null,
      "outputs": [
        {
          "output_type": "stream",
          "text": [
            "float64\n"
          ],
          "name": "stdout"
        }
      ]
    },
    {
      "cell_type": "code",
      "metadata": {
        "colab": {
          "base_uri": "https://localhost:8080/"
        },
        "id": "MqTaAFbPcinq",
        "outputId": "ed1cf74b-4f13-43c6-804c-f657a8cd543a"
      },
      "source": [
        "df['SALE PRICE'].isnull().any()"
      ],
      "execution_count": null,
      "outputs": [
        {
          "output_type": "execute_result",
          "data": {
            "text/plain": [
              "True"
            ]
          },
          "metadata": {
            "tags": []
          },
          "execution_count": 14
        }
      ]
    },
    {
      "cell_type": "code",
      "metadata": {
        "colab": {
          "base_uri": "https://localhost:8080/"
        },
        "id": "DhHHItIyclgq",
        "outputId": "474c3e13-e07a-4cc9-f88e-982b8bd091a1"
      },
      "source": [
        "df['SALE PRICE'].isnull().sum()"
      ],
      "execution_count": null,
      "outputs": [
        {
          "output_type": "execute_result",
          "data": {
            "text/plain": [
              "14561"
            ]
          },
          "metadata": {
            "tags": []
          },
          "execution_count": 15
        }
      ]
    },
    {
      "cell_type": "markdown",
      "metadata": {
        "id": "MOGGowNF_Sr_"
      },
      "source": [
        "Setelah diubah ke bentu float, kolom *SALE PRICE* memiliki nilai null sebanyak 14561 baris, maka kita akan drop baris tersebut."
      ]
    },
    {
      "cell_type": "code",
      "metadata": {
        "colab": {
          "base_uri": "https://localhost:8080/"
        },
        "id": "GkJSpRhWl6-y",
        "outputId": "87fbf9ee-05bc-420b-a535-701045b0e2cd"
      },
      "source": [
        "df.dropna(subset=['SALE PRICE'], inplace=True)\n",
        "df.shape"
      ],
      "execution_count": null,
      "outputs": [
        {
          "output_type": "execute_result",
          "data": {
            "text/plain": [
              "(69987, 20)"
            ]
          },
          "metadata": {
            "tags": []
          },
          "execution_count": 16
        }
      ]
    },
    {
      "cell_type": "code",
      "metadata": {
        "id": "85LYPkJ2mGcY",
        "colab": {
          "base_uri": "https://localhost:8080/"
        },
        "outputId": "5453018d-1aa3-4717-f1e4-33c622b0cc5f"
      },
      "source": [
        "df['SALE PRICE'].isnull().any()"
      ],
      "execution_count": null,
      "outputs": [
        {
          "output_type": "execute_result",
          "data": {
            "text/plain": [
              "False"
            ]
          },
          "metadata": {
            "tags": []
          },
          "execution_count": 17
        }
      ]
    },
    {
      "cell_type": "markdown",
      "metadata": {
        "id": "MKHAlbJT_nk1"
      },
      "source": [
        "Setelah tidak ada nilai null, kita bisa melakukan perhitungan terhadap kolom *SALE PRICE*."
      ]
    },
    {
      "cell_type": "markdown",
      "metadata": {
        "id": "mbIEXdfu9tgl"
      },
      "source": [
        "##Measure of Central Tendency"
      ]
    },
    {
      "cell_type": "code",
      "metadata": {
        "colab": {
          "base_uri": "https://localhost:8080/",
          "height": 317
        },
        "id": "Y5swqf67IPCI",
        "outputId": "5e425d62-3086-4245-b8e0-cdca047461bf"
      },
      "source": [
        "df.describe()"
      ],
      "execution_count": null,
      "outputs": [
        {
          "output_type": "execute_result",
          "data": {
            "text/html": [
              "<div>\n",
              "<style scoped>\n",
              "    .dataframe tbody tr th:only-of-type {\n",
              "        vertical-align: middle;\n",
              "    }\n",
              "\n",
              "    .dataframe tbody tr th {\n",
              "        vertical-align: top;\n",
              "    }\n",
              "\n",
              "    .dataframe thead th {\n",
              "        text-align: right;\n",
              "    }\n",
              "</style>\n",
              "<table border=\"1\" class=\"dataframe\">\n",
              "  <thead>\n",
              "    <tr style=\"text-align: right;\">\n",
              "      <th></th>\n",
              "      <th>BOROUGH</th>\n",
              "      <th>BLOCK</th>\n",
              "      <th>LOT</th>\n",
              "      <th>ZIP CODE</th>\n",
              "      <th>RESIDENTIAL UNITS</th>\n",
              "      <th>COMMERCIAL UNITS</th>\n",
              "      <th>TOTAL UNITS</th>\n",
              "      <th>YEAR BUILT</th>\n",
              "      <th>TAX CLASS AT TIME OF SALE</th>\n",
              "      <th>SALE PRICE</th>\n",
              "    </tr>\n",
              "  </thead>\n",
              "  <tbody>\n",
              "    <tr>\n",
              "      <th>count</th>\n",
              "      <td>69987.000000</td>\n",
              "      <td>69987.000000</td>\n",
              "      <td>69987.000000</td>\n",
              "      <td>69987.000000</td>\n",
              "      <td>69987.000000</td>\n",
              "      <td>69987.000000</td>\n",
              "      <td>69987.000000</td>\n",
              "      <td>69987.000000</td>\n",
              "      <td>69987.000000</td>\n",
              "      <td>6.998700e+04</td>\n",
              "    </tr>\n",
              "    <tr>\n",
              "      <th>mean</th>\n",
              "      <td>2.921928</td>\n",
              "      <td>4196.072528</td>\n",
              "      <td>373.828397</td>\n",
              "      <td>10741.455185</td>\n",
              "      <td>1.899553</td>\n",
              "      <td>0.172489</td>\n",
              "      <td>2.092203</td>\n",
              "      <td>1799.348236</td>\n",
              "      <td>1.641976</td>\n",
              "      <td>1.276456e+06</td>\n",
              "    </tr>\n",
              "    <tr>\n",
              "      <th>std</th>\n",
              "      <td>1.235688</td>\n",
              "      <td>3429.196524</td>\n",
              "      <td>656.096528</td>\n",
              "      <td>1263.234938</td>\n",
              "      <td>14.549545</td>\n",
              "      <td>9.123717</td>\n",
              "      <td>17.276100</td>\n",
              "      <td>520.884552</td>\n",
              "      <td>0.771162</td>\n",
              "      <td>1.140526e+07</td>\n",
              "    </tr>\n",
              "    <tr>\n",
              "      <th>min</th>\n",
              "      <td>1.000000</td>\n",
              "      <td>1.000000</td>\n",
              "      <td>1.000000</td>\n",
              "      <td>0.000000</td>\n",
              "      <td>0.000000</td>\n",
              "      <td>0.000000</td>\n",
              "      <td>0.000000</td>\n",
              "      <td>0.000000</td>\n",
              "      <td>1.000000</td>\n",
              "      <td>0.000000e+00</td>\n",
              "    </tr>\n",
              "    <tr>\n",
              "      <th>25%</th>\n",
              "      <td>2.000000</td>\n",
              "      <td>1348.000000</td>\n",
              "      <td>22.000000</td>\n",
              "      <td>10306.000000</td>\n",
              "      <td>0.000000</td>\n",
              "      <td>0.000000</td>\n",
              "      <td>0.000000</td>\n",
              "      <td>1920.000000</td>\n",
              "      <td>1.000000</td>\n",
              "      <td>2.250000e+05</td>\n",
              "    </tr>\n",
              "    <tr>\n",
              "      <th>50%</th>\n",
              "      <td>3.000000</td>\n",
              "      <td>3378.000000</td>\n",
              "      <td>50.000000</td>\n",
              "      <td>11209.000000</td>\n",
              "      <td>1.000000</td>\n",
              "      <td>0.000000</td>\n",
              "      <td>1.000000</td>\n",
              "      <td>1937.000000</td>\n",
              "      <td>2.000000</td>\n",
              "      <td>5.300000e+05</td>\n",
              "    </tr>\n",
              "    <tr>\n",
              "      <th>75%</th>\n",
              "      <td>4.000000</td>\n",
              "      <td>6186.000000</td>\n",
              "      <td>709.000000</td>\n",
              "      <td>11249.000000</td>\n",
              "      <td>2.000000</td>\n",
              "      <td>0.000000</td>\n",
              "      <td>2.000000</td>\n",
              "      <td>1965.000000</td>\n",
              "      <td>2.000000</td>\n",
              "      <td>9.500000e+05</td>\n",
              "    </tr>\n",
              "    <tr>\n",
              "      <th>max</th>\n",
              "      <td>5.000000</td>\n",
              "      <td>16319.000000</td>\n",
              "      <td>9106.000000</td>\n",
              "      <td>11694.000000</td>\n",
              "      <td>1844.000000</td>\n",
              "      <td>2261.000000</td>\n",
              "      <td>2261.000000</td>\n",
              "      <td>2017.000000</td>\n",
              "      <td>4.000000</td>\n",
              "      <td>2.210000e+09</td>\n",
              "    </tr>\n",
              "  </tbody>\n",
              "</table>\n",
              "</div>"
            ],
            "text/plain": [
              "            BOROUGH         BLOCK  ...  TAX CLASS AT TIME OF SALE    SALE PRICE\n",
              "count  69987.000000  69987.000000  ...               69987.000000  6.998700e+04\n",
              "mean       2.921928   4196.072528  ...                   1.641976  1.276456e+06\n",
              "std        1.235688   3429.196524  ...                   0.771162  1.140526e+07\n",
              "min        1.000000      1.000000  ...                   1.000000  0.000000e+00\n",
              "25%        2.000000   1348.000000  ...                   1.000000  2.250000e+05\n",
              "50%        3.000000   3378.000000  ...                   2.000000  5.300000e+05\n",
              "75%        4.000000   6186.000000  ...                   2.000000  9.500000e+05\n",
              "max        5.000000  16319.000000  ...                   4.000000  2.210000e+09\n",
              "\n",
              "[8 rows x 10 columns]"
            ]
          },
          "metadata": {
            "tags": []
          },
          "execution_count": 18
        }
      ]
    },
    {
      "cell_type": "markdown",
      "metadata": {
        "id": "h5khM-JB-FCI"
      },
      "source": [
        "###Mean"
      ]
    },
    {
      "cell_type": "code",
      "metadata": {
        "colab": {
          "base_uri": "https://localhost:8080/"
        },
        "id": "TTmrV1jyEr8R",
        "outputId": "5db4c3f3-f2f4-4a2a-bb62-39cb26725abc"
      },
      "source": [
        "df_sale_price = df['SALE PRICE']\n",
        "df_sale_price"
      ],
      "execution_count": null,
      "outputs": [
        {
          "output_type": "execute_result",
          "data": {
            "text/plain": [
              "0         6625000.0\n",
              "3         3936272.0\n",
              "4         8000000.0\n",
              "6         3192840.0\n",
              "9        16232000.0\n",
              "            ...    \n",
              "84543      450000.0\n",
              "84544      550000.0\n",
              "84545      460000.0\n",
              "84546    11693337.0\n",
              "84547       69300.0\n",
              "Name: SALE PRICE, Length: 69987, dtype: float64"
            ]
          },
          "metadata": {
            "tags": []
          },
          "execution_count": 19
        }
      ]
    },
    {
      "cell_type": "code",
      "metadata": {
        "colab": {
          "base_uri": "https://localhost:8080/"
        },
        "id": "kLX45uftMB-3",
        "outputId": "fee6b6a6-03b1-4e7f-fab6-50e8aef6a51a"
      },
      "source": [
        "mean_ = sum(df_sale_price) / len(df_sale_price)\n",
        "mean_"
      ],
      "execution_count": null,
      "outputs": [
        {
          "output_type": "execute_result",
          "data": {
            "text/plain": [
              "1276456.4977638705"
            ]
          },
          "metadata": {
            "tags": []
          },
          "execution_count": 20
        }
      ]
    },
    {
      "cell_type": "code",
      "metadata": {
        "colab": {
          "base_uri": "https://localhost:8080/"
        },
        "id": "l79LZOkyLhZs",
        "outputId": "9864daeb-178e-4065-80d2-4b0c45c5522e"
      },
      "source": [
        "print(statistics.mean(df_sale_price))\n",
        "print(np.mean(df_sale_price))\n",
        "print(df_sale_price.mean())"
      ],
      "execution_count": null,
      "outputs": [
        {
          "output_type": "stream",
          "text": [
            "1276456.4977638705\n",
            "1276456.4977638705\n",
            "1276456.4977638705\n"
          ],
          "name": "stdout"
        }
      ]
    },
    {
      "cell_type": "markdown",
      "metadata": {
        "id": "j4_eQL7IAPlX"
      },
      "source": [
        "Mean dari kolom *SALE PRICE* adalah 1276456.4977638705"
      ]
    },
    {
      "cell_type": "markdown",
      "metadata": {
        "id": "vqfEXTw5-G_u"
      },
      "source": [
        "###Median"
      ]
    },
    {
      "cell_type": "code",
      "metadata": {
        "colab": {
          "base_uri": "https://localhost:8080/"
        },
        "id": "OrX0xo6NKnK7",
        "outputId": "a5afe79b-9472-4a0b-d9d6-988e0d5e71dc"
      },
      "source": [
        "if len(df_sale_price) % 2:\n",
        "  median_ = sorted(df_sale_price)[round(0.5 * (len(df_sale_price) - 1))]\n",
        "else:\n",
        "  x_ord, index = sorted(x), round(0.5 * len(df_sale_price))\n",
        "  median_ = 0.5 * (x_ord[index - 1] + x_ord[index])\n",
        "\n",
        "median_"
      ],
      "execution_count": null,
      "outputs": [
        {
          "output_type": "execute_result",
          "data": {
            "text/plain": [
              "530000.0"
            ]
          },
          "metadata": {
            "tags": []
          },
          "execution_count": 22
        }
      ]
    },
    {
      "cell_type": "code",
      "metadata": {
        "colab": {
          "base_uri": "https://localhost:8080/"
        },
        "id": "lqdW_ydOLXm3",
        "outputId": "15dcb30a-6122-48b7-e9b3-29b0c298e4d0"
      },
      "source": [
        "print(statistics.median(df_sale_price))\n",
        "print(np.median(df_sale_price))\n",
        "print(df_sale_price.median())"
      ],
      "execution_count": null,
      "outputs": [
        {
          "output_type": "stream",
          "text": [
            "530000.0\n",
            "530000.0\n",
            "530000.0\n"
          ],
          "name": "stdout"
        }
      ]
    },
    {
      "cell_type": "markdown",
      "metadata": {
        "id": "AzSMvMhwAw_j"
      },
      "source": [
        "Median dari kolom *SALE PRICE* adalah 530000.0"
      ]
    },
    {
      "cell_type": "markdown",
      "metadata": {
        "id": "XBp11djR-IWP"
      },
      "source": [
        "###Mode"
      ]
    },
    {
      "cell_type": "code",
      "metadata": {
        "colab": {
          "base_uri": "https://localhost:8080/"
        },
        "id": "2DLh0apSMKCb",
        "outputId": "c259cbdf-c947-4d23-9f11-8a01795f4924"
      },
      "source": [
        "print(statistics.mode(df_sale_price))\n",
        "print(df_sale_price.mode())\n",
        "print(scipy.stats.mode(df_sale_price))"
      ],
      "execution_count": null,
      "outputs": [
        {
          "output_type": "stream",
          "text": [
            "0.0\n",
            "0    0.0\n",
            "dtype: float64\n",
            "ModeResult(mode=array([0.]), count=array([10228]))\n"
          ],
          "name": "stdout"
        }
      ]
    },
    {
      "cell_type": "markdown",
      "metadata": {
        "id": "o6u-eEjzA9nO"
      },
      "source": [
        "Mode dari kolom *SALE PRICE* adalah 0.0 sebanyak 10228 kemunculan"
      ]
    },
    {
      "cell_type": "markdown",
      "metadata": {
        "id": "kT2_KiaV99C9"
      },
      "source": [
        "##Measure of Spread"
      ]
    },
    {
      "cell_type": "code",
      "metadata": {
        "colab": {
          "base_uri": "https://localhost:8080/"
        },
        "id": "8YwCAfKUQRJ9",
        "outputId": "d47734b5-f0a9-42ea-d572-b2d2dad6533b"
      },
      "source": [
        "scipy.stats.describe(df_sale_price, ddof=1, bias=False)"
      ],
      "execution_count": null,
      "outputs": [
        {
          "output_type": "execute_result",
          "data": {
            "text/plain": [
              "DescribeResult(nobs=69987, minmax=(0.0, 2210000000.0), mean=1276456.4977638705, variance=130079849507172.7, skewness=124.09425128278802, kurtosis=21493.72293236857)"
            ]
          },
          "metadata": {
            "tags": []
          },
          "execution_count": 25
        }
      ]
    },
    {
      "cell_type": "markdown",
      "metadata": {
        "id": "dEhmmK_Q-Ngf"
      },
      "source": [
        "###Range"
      ]
    },
    {
      "cell_type": "code",
      "metadata": {
        "colab": {
          "base_uri": "https://localhost:8080/"
        },
        "id": "P9Z-8I2qSQ4G",
        "outputId": "8a40e87e-9300-47f3-ff8c-f34c973cadaa"
      },
      "source": [
        "print(np.ptp(df_sale_price))\n",
        "print(np.amax(df_sale_price) - np.amin(df_sale_price))\n",
        "print(df_sale_price.max() - df_sale_price.min())"
      ],
      "execution_count": null,
      "outputs": [
        {
          "output_type": "stream",
          "text": [
            "2210000000.0\n",
            "2210000000.0\n",
            "2210000000.0\n"
          ],
          "name": "stdout"
        }
      ]
    },
    {
      "cell_type": "markdown",
      "metadata": {
        "id": "FFy37REKBIhO"
      },
      "source": [
        "Range dari kolom *SALE PRICE* adalah sebesar 2210000000.0 dimulai dari 0.0 sampai dengan 2210000000.0"
      ]
    },
    {
      "cell_type": "markdown",
      "metadata": {
        "id": "xBb8BoTo-O5o"
      },
      "source": [
        "###Variance"
      ]
    },
    {
      "cell_type": "code",
      "metadata": {
        "colab": {
          "base_uri": "https://localhost:8080/"
        },
        "id": "WKLja1ZPStdb",
        "outputId": "d4125d14-a18a-4fde-890c-b9152410068d"
      },
      "source": [
        "var_ = sum((item - mean_) ** 2 for item in df_sale_price) / (len(df_sale_price) - 1)\n",
        "var_"
      ],
      "execution_count": null,
      "outputs": [
        {
          "output_type": "execute_result",
          "data": {
            "text/plain": [
              "130079849507240.9"
            ]
          },
          "metadata": {
            "tags": []
          },
          "execution_count": 27
        }
      ]
    },
    {
      "cell_type": "code",
      "metadata": {
        "colab": {
          "base_uri": "https://localhost:8080/"
        },
        "id": "mJKm1V2ETJng",
        "outputId": "33234278-f2e2-4925-f8e9-0edb0b4e12b4"
      },
      "source": [
        "print(statistics.variance(df_sale_price))\n",
        "print(np.var(df_sale_price, ddof=1))\n",
        "print(df_sale_price.var(ddof=1))"
      ],
      "execution_count": null,
      "outputs": [
        {
          "output_type": "stream",
          "text": [
            "130079849507172.66\n",
            "130079849507240.9\n",
            "130079849507240.9\n"
          ],
          "name": "stdout"
        }
      ]
    },
    {
      "cell_type": "markdown",
      "metadata": {
        "id": "E3qUF3tKBi4W"
      },
      "source": [
        "Variance dari kolom *SALE PRICE* adalah 130079849507240.9"
      ]
    },
    {
      "cell_type": "markdown",
      "metadata": {
        "id": "E8CMn9ib-Qav"
      },
      "source": [
        "###Standard Deviation"
      ]
    },
    {
      "cell_type": "code",
      "metadata": {
        "colab": {
          "base_uri": "https://localhost:8080/"
        },
        "id": "Zmg9vWKXTd48",
        "outputId": "dab9b8e6-927e-452c-86d6-379c5601a481"
      },
      "source": [
        "std_ = var_ ** 0.5\n",
        "std_"
      ],
      "execution_count": null,
      "outputs": [
        {
          "output_type": "execute_result",
          "data": {
            "text/plain": [
              "11405255.345990326"
            ]
          },
          "metadata": {
            "tags": []
          },
          "execution_count": 29
        }
      ]
    },
    {
      "cell_type": "code",
      "metadata": {
        "colab": {
          "base_uri": "https://localhost:8080/"
        },
        "id": "TEeFEzunTgbt",
        "outputId": "3b625289-e9d7-4518-af65-4c977d074b8b"
      },
      "source": [
        "print(statistics.stdev(df_sale_price))\n",
        "print(np.std(df_sale_price, ddof=1))\n",
        "print(df_sale_price.std(ddof=1))"
      ],
      "execution_count": null,
      "outputs": [
        {
          "output_type": "stream",
          "text": [
            "11405255.345987333\n",
            "11405255.345990326\n",
            "11405255.345990326\n"
          ],
          "name": "stdout"
        }
      ]
    },
    {
      "cell_type": "markdown",
      "metadata": {
        "id": "fIOJrx16DLpc"
      },
      "source": [
        "Standar Deviasi dari kolom *SALE PRICE* adalah 11405255.345990326"
      ]
    },
    {
      "cell_type": "markdown",
      "metadata": {
        "id": "f-P_h4Vd-a3L"
      },
      "source": [
        "##Probability Distribution"
      ]
    },
    {
      "cell_type": "code",
      "metadata": {
        "colab": {
          "base_uri": "https://localhost:8080/",
          "height": 621
        },
        "id": "n_Uo9wa3VhMj",
        "outputId": "8e2ba8fb-4a99-465b-ff16-3fa6bc2e8ea2"
      },
      "source": [
        "count, bin_edges = np.histogram(df_sale_price, 15)\n",
        "\n",
        "df_sale_price.plot(kind='hist',\n",
        "          figsize=(15, 10),\n",
        "          bins=15,\n",
        "          alpha=0.6,\n",
        "          xticks=bin_edges)\n",
        "\n",
        "plt.title('Histogram of Sale Price')\n",
        "plt.ylabel('Frequency')\n",
        "plt.xlabel('Sale Price')\n",
        "\n",
        "plt.show()"
      ],
      "execution_count": null,
      "outputs": [
        {
          "output_type": "display_data",
          "data": {
            "image/png": "[encoded data removed]",
            "text/plain": [
              "<Figure size 1080x720 with 1 Axes>"
            ]
          },
          "metadata": {
            "tags": [],
            "needs_background": "light"
          }
        }
      ]
    },
    {
      "cell_type": "code",
      "metadata": {
        "colab": {
          "base_uri": "https://localhost:8080/",
          "height": 607
        },
        "id": "X2Wts4OrWuJ_",
        "outputId": "ad9bec0c-d1a2-4eb0-d924-2d43daa4de9b"
      },
      "source": [
        "df_sale_price.plot(kind='box', figsize=(15, 10))\n",
        "\n",
        "plt.title('Box plot of Sale Price')\n",
        "plt.ylabel('Number of Prices')\n",
        "\n",
        "plt.show()"
      ],
      "execution_count": null,
      "outputs": [
        {
          "output_type": "display_data",
          "data": {
            "image/png": "[encoded data removed]",
            "text/plain": [
              "<Figure size 1080x720 with 1 Axes>"
            ]
          },
          "metadata": {
            "tags": [],
            "needs_background": "light"
          }
        }
      ]
    },
    {
      "cell_type": "markdown",
      "metadata": {
        "id": "cvmwTdXADe6j"
      },
      "source": [
        "Histogram dan box plot di atas menunjukkan sebaran harga dari *SALE PRICE*, terlihat bahwa banyak harga 0.0 yang mana seperti dijelaskan pada overview, bahwa harga 0.0 tersebut memungkinkan terjadi dikarenakan terjadinya perpindahan kepemilikan properti dengan pihak lain, contohnya perpindahan kepemilikan properti dari orang tua kepada anaknya.\n",
        "\n",
        "Untuk itu, kita akan mempersempit area perhitungan, di mana kita akan mengambil sebaran harga yang lebih banyak daripada 0.0 dan juga tidak akan mengambil harga dengan jarak sebaran yang lebih jauh, misalnya harga tertinggi. Kita akan mengambil sebaran harga dari 200 usd sampai dengan 3000000 usd, ini adalah rentang sebagian besar harga properti."
      ]
    },
    {
      "cell_type": "code",
      "metadata": {
        "colab": {
          "base_uri": "https://localhost:8080/"
        },
        "id": "pR7TP0n8SZkU",
        "outputId": "d2860e49-eb44-4fe3-c4f6-ac3ec5e191cd"
      },
      "source": [
        "new_df_sale_price = df_sale_price[(df_sale_price > 200) & (df_sale_price < 3000000)]\n",
        "new_df_sale_price"
      ],
      "execution_count": null,
      "outputs": [
        {
          "output_type": "execute_result",
          "data": {
            "text/plain": [
              "13       499000.0\n",
              "15       529500.0\n",
              "16       423000.0\n",
              "17       501000.0\n",
              "18       450000.0\n",
              "           ...   \n",
              "84541    648000.0\n",
              "84543    450000.0\n",
              "84544    550000.0\n",
              "84545    460000.0\n",
              "84547     69300.0\n",
              "Name: SALE PRICE, Length: 54526, dtype: float64"
            ]
          },
          "metadata": {
            "tags": []
          },
          "execution_count": 33
        }
      ]
    },
    {
      "cell_type": "markdown",
      "metadata": {
        "id": "zaJILNbxEvCR"
      },
      "source": [
        "Jumlah data yang termasuk ke dalam rentang tersebut, sebanyak 54526"
      ]
    },
    {
      "cell_type": "code",
      "metadata": {
        "colab": {
          "base_uri": "https://localhost:8080/",
          "height": 692
        },
        "id": "JTanE-ziTkZy",
        "outputId": "0f961fd4-ca98-4590-acba-3b01019059cb"
      },
      "source": [
        "plt.figure(figsize=(15, 10))\n",
        "sns.distplot(new_df_sale_price, color='darkslategrey')\n",
        "plt.ylabel('Frequency', labelpad=14)\n",
        "plt.xlabel('Sale Price', labelpad=14)\n",
        "plt.title('Distribution of Sale Price between 200 to 3000000', fontsize=20)\n",
        "plt.show()"
      ],
      "execution_count": null,
      "outputs": [
        {
          "output_type": "stream",
          "text": [
            "/usr/local/lib/python3.7/dist-packages/seaborn/distributions.py:2557: FutureWarning: `distplot` is a deprecated function and will be removed in a future version. Please adapt your code to use either `displot` (a figure-level function with similar flexibility) or `histplot` (an axes-level function for histograms).\n",
            "  warnings.warn(msg, FutureWarning)\n"
          ],
          "name": "stderr"
        },
        {
          "output_type": "display_data",
          "data": {
            "image/png": "[encoded data removed]",
            "text/plain": [
              "<Figure size 1080x720 with 1 Axes>"
            ]
          },
          "metadata": {
            "tags": [],
            "needs_background": "light"
          }
        }
      ]
    },
    {
      "cell_type": "markdown",
      "metadata": {
        "id": "hrI5HAbRFAw3"
      },
      "source": [
        "Dilihat dari grafik di atas, terlihat *Probability Distribution* dari *SALE PRICE* dengan rentang 200 sampai 3000000, menyerupai *Gamma Distribution*"
      ]
    },
    {
      "cell_type": "markdown",
      "metadata": {
        "id": "ivdDvzGH-omF"
      },
      "source": [
        "##Confidence Intervals"
      ]
    },
    {
      "cell_type": "code",
      "metadata": {
        "colab": {
          "base_uri": "https://localhost:8080/"
        },
        "id": "zXzrrjLmG5q8",
        "outputId": "445d82db-eb58-4a19-d1fa-a20a4413f10f"
      },
      "source": [
        "new_size = new_df_sale_price.size\n",
        "new_mean = new_df_sale_price.mean()\n",
        "new_std = new_df_sale_price.std()\n",
        "z = 1.96\n",
        "print('Sample price from 200 tp 3000000             :', new_size)\n",
        "print('Mean price from 200 tp 3000000               :', new_mean)\n",
        "print('Standart Deviation price from 200 tp 3000000 :', new_std)"
      ],
      "execution_count": null,
      "outputs": [
        {
          "output_type": "stream",
          "text": [
            "Sample price from 200 tp 3000000             : 54526\n",
            "Mean price from 200 tp 3000000               : 741943.4469977625\n",
            "Standart Deviation price from 200 tp 3000000 : 557540.6908746746\n"
          ],
          "name": "stdout"
        }
      ]
    },
    {
      "cell_type": "code",
      "metadata": {
        "colab": {
          "base_uri": "https://localhost:8080/"
        },
        "id": "TwwmUdGoS1PS",
        "outputId": "499ae93d-039f-4afc-c210-413b25249850"
      },
      "source": [
        "std_err = new_std / np.sqrt(new_size)\n",
        "print('Standart Error :', std_err)"
      ],
      "execution_count": null,
      "outputs": [
        {
          "output_type": "stream",
          "text": [
            "Standart Error : 2387.6724550135027\n"
          ],
          "name": "stdout"
        }
      ]
    },
    {
      "cell_type": "code",
      "metadata": {
        "colab": {
          "base_uri": "https://localhost:8080/"
        },
        "id": "Ae4dYvZETMo2",
        "outputId": "2cbf79f2-7c46-427e-c2e9-6d140c3c2649"
      },
      "source": [
        "lcb = new_mean - z * std_err\n",
        "ucb = new_mean + z * std_err\n",
        "print('Confidence Intervals')\n",
        "print('Lower Class Boundaries :', lcb)\n",
        "print('Upper Class Boundaries :', ucb)"
      ],
      "execution_count": null,
      "outputs": [
        {
          "output_type": "stream",
          "text": [
            "Confidence Intervals\n",
            "Lower Class Boundaries : 737263.608985936\n",
            "Upper Class Boundaries : 746623.285009589\n"
          ],
          "name": "stdout"
        }
      ]
    },
    {
      "cell_type": "markdown",
      "metadata": {
        "id": "9S-bkiHKHfhn"
      },
      "source": [
        "Confidence Intervals\n",
        "\n",
        "Lower Class Boundaries : 737263.608985936\n",
        "\n",
        "Upper Class Boundaries : 746623.285009589"
      ]
    },
    {
      "cell_type": "markdown",
      "metadata": {
        "id": "wvnQjkQB-0eR"
      },
      "source": [
        "##Hypothesis Testing"
      ]
    },
    {
      "cell_type": "code",
      "metadata": {
        "colab": {
          "base_uri": "https://localhost:8080/"
        },
        "id": "QvRKmyCPmFbF",
        "outputId": "03651ec2-36ca-4ce2-f78a-aec4854a868b"
      },
      "source": [
        "import statsmodels.api as sm"
      ],
      "execution_count": null,
      "outputs": [
        {
          "output_type": "stream",
          "text": [
            "/usr/local/lib/python3.7/dist-packages/statsmodels/tools/_testing.py:19: FutureWarning: pandas.util.testing is deprecated. Use the functions in the public API at pandas.testing instead.\n",
            "  import pandas.util.testing as tm\n"
          ],
          "name": "stderr"
        }
      ]
    },
    {
      "cell_type": "code",
      "metadata": {
        "colab": {
          "base_uri": "https://localhost:8080/"
        },
        "id": "iapKWyZxRdOj",
        "outputId": "68cb4d68-c6d5-4d6b-95a6-fe2066cc31e1"
      },
      "source": [
        "df1 = df[df['BOROUGH'] == 1]['SALE PRICE'][(df_sale_price > 200) & (df_sale_price < 3000000)]\n",
        "df2 = df[df['BOROUGH'] == 3]['SALE PRICE'][(df_sale_price > 200) & (df_sale_price < 3000000)]\n",
        "sm.stats.ztest(df1, df2, alternative='two-sided')"
      ],
      "execution_count": null,
      "outputs": [
        {
          "output_type": "execute_result",
          "data": {
            "text/plain": [
              "(30.25392551704525, 4.632479383048973e-201)"
            ]
          },
          "metadata": {
            "tags": []
          },
          "execution_count": 39
        }
      ]
    },
    {
      "cell_type": "code",
      "metadata": {
        "colab": {
          "base_uri": "https://localhost:8080/",
          "height": 623
        },
        "id": "kH8wkBB0a2hd",
        "outputId": "298d66aa-2c89-437a-a1e9-edf26997b756"
      },
      "source": [
        "plt.figure(figsize=(15, 10))\n",
        "plt.title('Manhattan Histogram SALE PRICE', fontsize= 15)\n",
        "plt.hist(df1, edgecolor='k', color='r', bins = 100)\n",
        "plt.show()"
      ],
      "execution_count": null,
      "outputs": [
        {
          "output_type": "display_data",
          "data": {
            "image/png": "[encoded data removed]",
            "text/plain": [
              "<Figure size 1080x720 with 1 Axes>"
            ]
          },
          "metadata": {
            "tags": [],
            "needs_background": "light"
          }
        }
      ]
    },
    {
      "cell_type": "code",
      "metadata": {
        "colab": {
          "base_uri": "https://localhost:8080/",
          "height": 623
        },
        "id": "y1Rdva5Lb9vv",
        "outputId": "b4af68bb-df2b-4bb9-9a43-0d27418c29e1"
      },
      "source": [
        "plt.figure(figsize=(15, 10))\n",
        "plt.title('Brooklyn Histogram SALE PRICE', fontsize= 15)\n",
        "plt.hist(df2, edgecolor='k', color='b', bins = 100)\n",
        "plt.show()"
      ],
      "execution_count": null,
      "outputs": [
        {
          "output_type": "display_data",
          "data": {
            "image/png": "[encoded data removed]",
            "text/plain": [
              "<Figure size 1080x720 with 1 Axes>"
            ]
          },
          "metadata": {
            "tags": [],
            "needs_background": "light"
          }
        }
      ]
    },
    {
      "cell_type": "code",
      "metadata": {
        "id": "L5PZ7PWUzqu_"
      },
      "source": [
        ""
      ],
      "execution_count": null,
      "outputs": []
    }
  ]
}