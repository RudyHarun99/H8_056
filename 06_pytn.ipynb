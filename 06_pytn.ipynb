{
  "nbformat": 4,
  "nbformat_minor": 0,
  "metadata": {
    "colab": {
      "name": "06_pytn.ipynb",
      "provenance": [],
      "authorship_tag": "ABX9TyNRtEMvin3m/MiQmasW/84T",
      "include_colab_link": true
    },
    "kernelspec": {
      "name": "python3",
      "display_name": "Python 3"
    },
    "language_info": {
      "name": "python"
    }
  },
  "cells": [
    {
      "cell_type": "markdown",
      "metadata": {
        "id": "view-in-github",
        "colab_type": "text"
      },
      "source": [
        "<a href=\"https://colab.research.google.com/github/RudyHarun99/H8_056/blob/master/06_pytn.ipynb\" target=\"_parent\"><img src=\"https://colab.research.google.com/assets/colab-badge.svg\" alt=\"Open In Colab\"/></a>"
      ]
    },
    {
      "cell_type": "markdown",
      "metadata": {
        "id": "c2ZKlFGj_ZZh"
      },
      "source": [
        "# EDA WITH PANDAS"
      ]
    },
    {
      "cell_type": "markdown",
      "metadata": {
        "id": "oARs5wNp_d0x"
      },
      "source": [
        "## Data CLeaning with Pandas"
      ]
    },
    {
      "cell_type": "code",
      "metadata": {
        "id": "OG7RhBVBRtT2"
      },
      "source": [
        "import numpy as np\n",
        "import pandas as pd"
      ],
      "execution_count": 1,
      "outputs": []
    },
    {
      "cell_type": "code",
      "metadata": {
        "colab": {
          "base_uri": "https://localhost:8080/",
          "height": 331
        },
        "id": "-DKh-4op7ASa",
        "outputId": "f5e7d7cf-e8dc-4392-b863-8472caa7775a"
      },
      "source": [
        "df = pd.read_csv('https://raw.githubusercontent.com/ardhiraka/PFDS_sources/master/property_data.csv')\n",
        "df.head(10)"
      ],
      "execution_count": 2,
      "outputs": [
        {
          "output_type": "execute_result",
          "data": {
            "text/html": [
              "<div>\n",
              "<style scoped>\n",
              "    .dataframe tbody tr th:only-of-type {\n",
              "        vertical-align: middle;\n",
              "    }\n",
              "\n",
              "    .dataframe tbody tr th {\n",
              "        vertical-align: top;\n",
              "    }\n",
              "\n",
              "    .dataframe thead th {\n",
              "        text-align: right;\n",
              "    }\n",
              "</style>\n",
              "<table border=\"1\" class=\"dataframe\">\n",
              "  <thead>\n",
              "    <tr style=\"text-align: right;\">\n",
              "      <th></th>\n",
              "      <th>PID</th>\n",
              "      <th>ST_NUM</th>\n",
              "      <th>ST_NAME</th>\n",
              "      <th>OWN_OCCUPIED</th>\n",
              "      <th>NUM_BEDROOMS</th>\n",
              "      <th>NUM_BATH</th>\n",
              "      <th>SQ_FT</th>\n",
              "    </tr>\n",
              "  </thead>\n",
              "  <tbody>\n",
              "    <tr>\n",
              "      <th>0</th>\n",
              "      <td>100001000.0</td>\n",
              "      <td>104.0</td>\n",
              "      <td>PUTNAM</td>\n",
              "      <td>Y</td>\n",
              "      <td>3</td>\n",
              "      <td>1</td>\n",
              "      <td>1000</td>\n",
              "    </tr>\n",
              "    <tr>\n",
              "      <th>1</th>\n",
              "      <td>100002000.0</td>\n",
              "      <td>197.0</td>\n",
              "      <td>LEXINGTON</td>\n",
              "      <td>N</td>\n",
              "      <td>3</td>\n",
              "      <td>1.5</td>\n",
              "      <td>--</td>\n",
              "    </tr>\n",
              "    <tr>\n",
              "      <th>2</th>\n",
              "      <td>100003000.0</td>\n",
              "      <td>NaN</td>\n",
              "      <td>LEXINGTON</td>\n",
              "      <td>N</td>\n",
              "      <td>NaN</td>\n",
              "      <td>1</td>\n",
              "      <td>850</td>\n",
              "    </tr>\n",
              "    <tr>\n",
              "      <th>3</th>\n",
              "      <td>100004000.0</td>\n",
              "      <td>201.0</td>\n",
              "      <td>BERKELEY</td>\n",
              "      <td>12</td>\n",
              "      <td>1</td>\n",
              "      <td>NaN</td>\n",
              "      <td>700</td>\n",
              "    </tr>\n",
              "    <tr>\n",
              "      <th>4</th>\n",
              "      <td>NaN</td>\n",
              "      <td>203.0</td>\n",
              "      <td>BERKELEY</td>\n",
              "      <td>Y</td>\n",
              "      <td>3</td>\n",
              "      <td>2</td>\n",
              "      <td>1600</td>\n",
              "    </tr>\n",
              "    <tr>\n",
              "      <th>5</th>\n",
              "      <td>100006000.0</td>\n",
              "      <td>207.0</td>\n",
              "      <td>BERKELEY</td>\n",
              "      <td>Y</td>\n",
              "      <td>NaN</td>\n",
              "      <td>1</td>\n",
              "      <td>800</td>\n",
              "    </tr>\n",
              "    <tr>\n",
              "      <th>6</th>\n",
              "      <td>100007000.0</td>\n",
              "      <td>NaN</td>\n",
              "      <td>WASHINGTON</td>\n",
              "      <td>NaN</td>\n",
              "      <td>2</td>\n",
              "      <td>HURLEY</td>\n",
              "      <td>950</td>\n",
              "    </tr>\n",
              "    <tr>\n",
              "      <th>7</th>\n",
              "      <td>100008000.0</td>\n",
              "      <td>213.0</td>\n",
              "      <td>TREMONT</td>\n",
              "      <td>Y</td>\n",
              "      <td>--</td>\n",
              "      <td>1</td>\n",
              "      <td>NaN</td>\n",
              "    </tr>\n",
              "    <tr>\n",
              "      <th>8</th>\n",
              "      <td>100009000.0</td>\n",
              "      <td>215.0</td>\n",
              "      <td>TREMONT</td>\n",
              "      <td>Y</td>\n",
              "      <td>na</td>\n",
              "      <td>2</td>\n",
              "      <td>1800</td>\n",
              "    </tr>\n",
              "  </tbody>\n",
              "</table>\n",
              "</div>"
            ],
            "text/plain": [
              "           PID  ST_NUM     ST_NAME OWN_OCCUPIED NUM_BEDROOMS NUM_BATH SQ_FT\n",
              "0  100001000.0   104.0      PUTNAM            Y            3        1  1000\n",
              "1  100002000.0   197.0   LEXINGTON            N            3      1.5    --\n",
              "2  100003000.0     NaN   LEXINGTON            N          NaN        1   850\n",
              "3  100004000.0   201.0    BERKELEY           12            1      NaN   700\n",
              "4          NaN   203.0    BERKELEY            Y            3        2  1600\n",
              "5  100006000.0   207.0    BERKELEY            Y          NaN        1   800\n",
              "6  100007000.0     NaN  WASHINGTON          NaN            2   HURLEY   950\n",
              "7  100008000.0   213.0     TREMONT            Y           --        1   NaN\n",
              "8  100009000.0   215.0     TREMONT            Y           na        2  1800"
            ]
          },
          "metadata": {
            "tags": []
          },
          "execution_count": 2
        }
      ]
    },
    {
      "cell_type": "markdown",
      "metadata": {
        "id": "pnGipGI-_n8f"
      },
      "source": [
        "### Standard Missing Values"
      ]
    },
    {
      "cell_type": "code",
      "metadata": {
        "colab": {
          "base_uri": "https://localhost:8080/"
        },
        "id": "kJoboyF67LZP",
        "outputId": "7245011e-d4f0-4a54-d4f9-f6c505753b7f"
      },
      "source": [
        "df['ST_NUM']"
      ],
      "execution_count": 3,
      "outputs": [
        {
          "output_type": "execute_result",
          "data": {
            "text/plain": [
              "0    104.0\n",
              "1    197.0\n",
              "2      NaN\n",
              "3    201.0\n",
              "4    203.0\n",
              "5    207.0\n",
              "6      NaN\n",
              "7    213.0\n",
              "8    215.0\n",
              "Name: ST_NUM, dtype: float64"
            ]
          },
          "metadata": {
            "tags": []
          },
          "execution_count": 3
        }
      ]
    },
    {
      "cell_type": "code",
      "metadata": {
        "colab": {
          "base_uri": "https://localhost:8080/"
        },
        "id": "ZAJShCP9_KvG",
        "outputId": "b7d45baf-6643-4436-8d35-6a1d943d0f79"
      },
      "source": [
        "df[\"ST_NUM\"].isnull()"
      ],
      "execution_count": 4,
      "outputs": [
        {
          "output_type": "execute_result",
          "data": {
            "text/plain": [
              "0    False\n",
              "1    False\n",
              "2     True\n",
              "3    False\n",
              "4    False\n",
              "5    False\n",
              "6     True\n",
              "7    False\n",
              "8    False\n",
              "Name: ST_NUM, dtype: bool"
            ]
          },
          "metadata": {
            "tags": []
          },
          "execution_count": 4
        }
      ]
    },
    {
      "cell_type": "markdown",
      "metadata": {
        "id": "k-0wxdga_zkM"
      },
      "source": [
        "### Non Standard Missing Values"
      ]
    },
    {
      "cell_type": "code",
      "metadata": {
        "colab": {
          "base_uri": "https://localhost:8080/"
        },
        "id": "FXgCnoh2_POU",
        "outputId": "b2266cb9-5078-4ce9-bc23-9ad41908376e"
      },
      "source": [
        "df[\"NUM_BEDROOMS\"]"
      ],
      "execution_count": 5,
      "outputs": [
        {
          "output_type": "execute_result",
          "data": {
            "text/plain": [
              "0      3\n",
              "1      3\n",
              "2    NaN\n",
              "3      1\n",
              "4      3\n",
              "5    NaN\n",
              "6      2\n",
              "7     --\n",
              "8     na\n",
              "Name: NUM_BEDROOMS, dtype: object"
            ]
          },
          "metadata": {
            "tags": []
          },
          "execution_count": 5
        }
      ]
    },
    {
      "cell_type": "code",
      "metadata": {
        "colab": {
          "base_uri": "https://localhost:8080/"
        },
        "id": "sQR13r0DADgN",
        "outputId": "7fedfe97-e55f-4ab4-d4dd-6dca4f99453b"
      },
      "source": [
        "df[\"NUM_BEDROOMS\"].isnull()"
      ],
      "execution_count": 6,
      "outputs": [
        {
          "output_type": "execute_result",
          "data": {
            "text/plain": [
              "0    False\n",
              "1    False\n",
              "2     True\n",
              "3    False\n",
              "4    False\n",
              "5     True\n",
              "6    False\n",
              "7    False\n",
              "8    False\n",
              "Name: NUM_BEDROOMS, dtype: bool"
            ]
          },
          "metadata": {
            "tags": []
          },
          "execution_count": 6
        }
      ]
    },
    {
      "cell_type": "code",
      "metadata": {
        "colab": {
          "base_uri": "https://localhost:8080/"
        },
        "id": "j45Fe12mAIOf",
        "outputId": "438279ac-f0a6-4df7-cdc5-46fed4ee269e"
      },
      "source": [
        "missing_values = [\"n/a\", \"na\", \"--\"]\n",
        "df = pd.read_csv(\n",
        "    \"https://raw.githubusercontent.com/ardhiraka/PFDS_sources/master/property_data.csv\",\n",
        "    na_values = missing_values\n",
        "    )\n",
        "df[\"NUM_BEDROOMS\"]"
      ],
      "execution_count": 7,
      "outputs": [
        {
          "output_type": "execute_result",
          "data": {
            "text/plain": [
              "0    3.0\n",
              "1    3.0\n",
              "2    NaN\n",
              "3    1.0\n",
              "4    3.0\n",
              "5    NaN\n",
              "6    2.0\n",
              "7    NaN\n",
              "8    NaN\n",
              "Name: NUM_BEDROOMS, dtype: float64"
            ]
          },
          "metadata": {
            "tags": []
          },
          "execution_count": 7
        }
      ]
    },
    {
      "cell_type": "code",
      "metadata": {
        "colab": {
          "base_uri": "https://localhost:8080/"
        },
        "id": "GthDG-LBAfK-",
        "outputId": "cc5cf509-c134-41f9-ab58-173efd1d09b0"
      },
      "source": [
        "df[\"NUM_BEDROOMS\"].isnull()"
      ],
      "execution_count": 8,
      "outputs": [
        {
          "output_type": "execute_result",
          "data": {
            "text/plain": [
              "0    False\n",
              "1    False\n",
              "2     True\n",
              "3    False\n",
              "4    False\n",
              "5     True\n",
              "6    False\n",
              "7     True\n",
              "8     True\n",
              "Name: NUM_BEDROOMS, dtype: bool"
            ]
          },
          "metadata": {
            "tags": []
          },
          "execution_count": 8
        }
      ]
    },
    {
      "cell_type": "markdown",
      "metadata": {
        "id": "6Q-Sw_qkBATq"
      },
      "source": [
        "### Unexpected Missing Values"
      ]
    },
    {
      "cell_type": "code",
      "metadata": {
        "colab": {
          "base_uri": "https://localhost:8080/"
        },
        "id": "igwuSvR3A3Fz",
        "outputId": "29329528-c3e2-425a-ca9a-1911032bef3d"
      },
      "source": [
        "df[\"OWN_OCCUPIED\"]"
      ],
      "execution_count": 9,
      "outputs": [
        {
          "output_type": "execute_result",
          "data": {
            "text/plain": [
              "0      Y\n",
              "1      N\n",
              "2      N\n",
              "3     12\n",
              "4      Y\n",
              "5      Y\n",
              "6    NaN\n",
              "7      Y\n",
              "8      Y\n",
              "Name: OWN_OCCUPIED, dtype: object"
            ]
          },
          "metadata": {
            "tags": []
          },
          "execution_count": 9
        }
      ]
    },
    {
      "cell_type": "code",
      "metadata": {
        "colab": {
          "base_uri": "https://localhost:8080/"
        },
        "id": "GzG3T-q4DjJy",
        "outputId": "3793fdb3-cf87-42ff-e535-ed659e53344e"
      },
      "source": [
        "df[\"OWN_OCCUPIED\"].isnull()"
      ],
      "execution_count": 10,
      "outputs": [
        {
          "output_type": "execute_result",
          "data": {
            "text/plain": [
              "0    False\n",
              "1    False\n",
              "2    False\n",
              "3    False\n",
              "4    False\n",
              "5    False\n",
              "6     True\n",
              "7    False\n",
              "8    False\n",
              "Name: OWN_OCCUPIED, dtype: bool"
            ]
          },
          "metadata": {
            "tags": []
          },
          "execution_count": 10
        }
      ]
    },
    {
      "cell_type": "markdown",
      "metadata": {
        "id": "ziUmbvh8Dzje"
      },
      "source": [
        "Di baris keempat, ada angka 12. Respons untuk Owner Occupied jelas harus berupa string (Y atau N), jadi tipe numerik ini berupa missing value.\n",
        "\n",
        "Contoh ini sedikit lebih rumit sehingga kita perlu memikirkan strategi untuk mendeteksi jenis nilai yang hilang ini. Ada sejumlah pendekatan berbeda, tetapi inilah cara kita mengatasinya.\n",
        "- loop pada kolom OWN_OCCUPIED\n",
        "- kita coba ubah semua entry menjadi integer\n",
        "- jika entry tidak dapat diubah menjadi integer, tandai sebagai missing value\n",
        "- jika tidak dapat menjadi integer, maka kita tau kalau entry adlaah string, keep going"
      ]
    },
    {
      "cell_type": "code",
      "metadata": {
        "id": "vtx3Z-dPDqRU"
      },
      "source": [
        "cnt = 0\n",
        "for row in df[\"OWN_OCCUPIED\"]:\n",
        "  try:\n",
        "    int(row)\n",
        "    df.loc[cnt, \"OWN_OCCUPIED\"] = np.nan\n",
        "  except ValueError:\n",
        "    pass\n",
        "  cnt += 1"
      ],
      "execution_count": 11,
      "outputs": []
    },
    {
      "cell_type": "code",
      "metadata": {
        "colab": {
          "base_uri": "https://localhost:8080/",
          "height": 0
        },
        "id": "rgN_63vZE0BA",
        "outputId": "5d53f721-d785-480a-8d05-496de2f0c1d1"
      },
      "source": [
        "df.head(9)"
      ],
      "execution_count": 12,
      "outputs": [
        {
          "output_type": "execute_result",
          "data": {
            "text/html": [
              "<div>\n",
              "<style scoped>\n",
              "    .dataframe tbody tr th:only-of-type {\n",
              "        vertical-align: middle;\n",
              "    }\n",
              "\n",
              "    .dataframe tbody tr th {\n",
              "        vertical-align: top;\n",
              "    }\n",
              "\n",
              "    .dataframe thead th {\n",
              "        text-align: right;\n",
              "    }\n",
              "</style>\n",
              "<table border=\"1\" class=\"dataframe\">\n",
              "  <thead>\n",
              "    <tr style=\"text-align: right;\">\n",
              "      <th></th>\n",
              "      <th>PID</th>\n",
              "      <th>ST_NUM</th>\n",
              "      <th>ST_NAME</th>\n",
              "      <th>OWN_OCCUPIED</th>\n",
              "      <th>NUM_BEDROOMS</th>\n",
              "      <th>NUM_BATH</th>\n",
              "      <th>SQ_FT</th>\n",
              "    </tr>\n",
              "  </thead>\n",
              "  <tbody>\n",
              "    <tr>\n",
              "      <th>0</th>\n",
              "      <td>100001000.0</td>\n",
              "      <td>104.0</td>\n",
              "      <td>PUTNAM</td>\n",
              "      <td>Y</td>\n",
              "      <td>3.0</td>\n",
              "      <td>1</td>\n",
              "      <td>1000.0</td>\n",
              "    </tr>\n",
              "    <tr>\n",
              "      <th>1</th>\n",
              "      <td>100002000.0</td>\n",
              "      <td>197.0</td>\n",
              "      <td>LEXINGTON</td>\n",
              "      <td>N</td>\n",
              "      <td>3.0</td>\n",
              "      <td>1.5</td>\n",
              "      <td>NaN</td>\n",
              "    </tr>\n",
              "    <tr>\n",
              "      <th>2</th>\n",
              "      <td>100003000.0</td>\n",
              "      <td>NaN</td>\n",
              "      <td>LEXINGTON</td>\n",
              "      <td>N</td>\n",
              "      <td>NaN</td>\n",
              "      <td>1</td>\n",
              "      <td>850.0</td>\n",
              "    </tr>\n",
              "    <tr>\n",
              "      <th>3</th>\n",
              "      <td>100004000.0</td>\n",
              "      <td>201.0</td>\n",
              "      <td>BERKELEY</td>\n",
              "      <td>NaN</td>\n",
              "      <td>1.0</td>\n",
              "      <td>NaN</td>\n",
              "      <td>700.0</td>\n",
              "    </tr>\n",
              "    <tr>\n",
              "      <th>4</th>\n",
              "      <td>NaN</td>\n",
              "      <td>203.0</td>\n",
              "      <td>BERKELEY</td>\n",
              "      <td>Y</td>\n",
              "      <td>3.0</td>\n",
              "      <td>2</td>\n",
              "      <td>1600.0</td>\n",
              "    </tr>\n",
              "    <tr>\n",
              "      <th>5</th>\n",
              "      <td>100006000.0</td>\n",
              "      <td>207.0</td>\n",
              "      <td>BERKELEY</td>\n",
              "      <td>Y</td>\n",
              "      <td>NaN</td>\n",
              "      <td>1</td>\n",
              "      <td>800.0</td>\n",
              "    </tr>\n",
              "    <tr>\n",
              "      <th>6</th>\n",
              "      <td>100007000.0</td>\n",
              "      <td>NaN</td>\n",
              "      <td>WASHINGTON</td>\n",
              "      <td>NaN</td>\n",
              "      <td>2.0</td>\n",
              "      <td>HURLEY</td>\n",
              "      <td>950.0</td>\n",
              "    </tr>\n",
              "    <tr>\n",
              "      <th>7</th>\n",
              "      <td>100008000.0</td>\n",
              "      <td>213.0</td>\n",
              "      <td>TREMONT</td>\n",
              "      <td>Y</td>\n",
              "      <td>NaN</td>\n",
              "      <td>1</td>\n",
              "      <td>NaN</td>\n",
              "    </tr>\n",
              "    <tr>\n",
              "      <th>8</th>\n",
              "      <td>100009000.0</td>\n",
              "      <td>215.0</td>\n",
              "      <td>TREMONT</td>\n",
              "      <td>Y</td>\n",
              "      <td>NaN</td>\n",
              "      <td>2</td>\n",
              "      <td>1800.0</td>\n",
              "    </tr>\n",
              "  </tbody>\n",
              "</table>\n",
              "</div>"
            ],
            "text/plain": [
              "           PID  ST_NUM     ST_NAME OWN_OCCUPIED  NUM_BEDROOMS NUM_BATH   SQ_FT\n",
              "0  100001000.0   104.0      PUTNAM            Y           3.0        1  1000.0\n",
              "1  100002000.0   197.0   LEXINGTON            N           3.0      1.5     NaN\n",
              "2  100003000.0     NaN   LEXINGTON            N           NaN        1   850.0\n",
              "3  100004000.0   201.0    BERKELEY          NaN           1.0      NaN   700.0\n",
              "4          NaN   203.0    BERKELEY            Y           3.0        2  1600.0\n",
              "5  100006000.0   207.0    BERKELEY            Y           NaN        1   800.0\n",
              "6  100007000.0     NaN  WASHINGTON          NaN           2.0   HURLEY   950.0\n",
              "7  100008000.0   213.0     TREMONT            Y           NaN        1     NaN\n",
              "8  100009000.0   215.0     TREMONT            Y           NaN        2  1800.0"
            ]
          },
          "metadata": {
            "tags": []
          },
          "execution_count": 12
        }
      ]
    },
    {
      "cell_type": "markdown",
      "metadata": {
        "id": "uxxRZXGfFK6z"
      },
      "source": [
        "Dalam kode di atas, kita loo[ing setiap entri di kolom \"Owner Occupied. Untuk mencoba dan mengubah entri menjadi integer, kita menggunakan int(row).\n",
        "\n",
        "Jika nilai dapat diubah menjadi bilangan bulat, kita mengubah entri menjadi missing value menggunakan np.nan Numpy.\n",
        "\n",
        "Di sisi lain, jika tidak dapat diubah menjadi bilangan bulat, kita pass dan keep going."
      ]
    },
    {
      "cell_type": "markdown",
      "metadata": {
        "id": "8-QwyOwMFjZ2"
      },
      "source": [
        "### Summarizing Missing Values"
      ]
    },
    {
      "cell_type": "code",
      "metadata": {
        "colab": {
          "base_uri": "https://localhost:8080/"
        },
        "id": "YyU85M8nE1aN",
        "outputId": "98ebaedf-08e7-47a6-99e7-9c2079c0ee1d"
      },
      "source": [
        "df.isnull().sum()"
      ],
      "execution_count": 13,
      "outputs": [
        {
          "output_type": "execute_result",
          "data": {
            "text/plain": [
              "PID             1\n",
              "ST_NUM          2\n",
              "ST_NAME         0\n",
              "OWN_OCCUPIED    2\n",
              "NUM_BEDROOMS    4\n",
              "NUM_BATH        1\n",
              "SQ_FT           2\n",
              "dtype: int64"
            ]
          },
          "metadata": {
            "tags": []
          },
          "execution_count": 13
        }
      ]
    },
    {
      "cell_type": "code",
      "metadata": {
        "colab": {
          "base_uri": "https://localhost:8080/"
        },
        "id": "37fbDPCRFpbK",
        "outputId": "9ee28bb5-9c29-48e5-e451-554f948c282a"
      },
      "source": [
        "df.isnull().values.any()"
      ],
      "execution_count": 14,
      "outputs": [
        {
          "output_type": "execute_result",
          "data": {
            "text/plain": [
              "True"
            ]
          },
          "metadata": {
            "tags": []
          },
          "execution_count": 14
        }
      ]
    },
    {
      "cell_type": "code",
      "metadata": {
        "colab": {
          "base_uri": "https://localhost:8080/"
        },
        "id": "Qw186yzAGG5T",
        "outputId": "7301298d-08aa-42a2-c48f-29d4fab9f80f"
      },
      "source": [
        "df.isnull().sum().sum()"
      ],
      "execution_count": 15,
      "outputs": [
        {
          "output_type": "execute_result",
          "data": {
            "text/plain": [
              "12"
            ]
          },
          "metadata": {
            "tags": []
          },
          "execution_count": 15
        }
      ]
    },
    {
      "cell_type": "markdown",
      "metadata": {
        "id": "viZ-pemVGQLF"
      },
      "source": [
        "### Replacing"
      ]
    },
    {
      "cell_type": "markdown",
      "metadata": {
        "id": "nAk50OyOGjTX"
      },
      "source": [
        "Seringkali kita harus memikirkan bagaimana kita menangani missing values.\n",
        "\n",
        "Terkadang kita hanya ingin menghapus baris tersebut, di lain waktu kita menggantinya."
      ]
    },
    {
      "cell_type": "code",
      "metadata": {
        "id": "M4xtWE5fGNN6"
      },
      "source": [
        "# Maybe you just want to fill in missinng values with a single value.\n",
        "df[\"ST_NUM\"].fillna(125, inplace=True)"
      ],
      "execution_count": 16,
      "outputs": []
    },
    {
      "cell_type": "markdown",
      "metadata": {
        "id": "d2LhIMRXICJ-"
      },
      "source": [
        "Kemungkinan besar, kita mungkin ingin melakukan imputasi berbasis lokasi/location based imputation."
      ]
    },
    {
      "cell_type": "code",
      "metadata": {
        "id": "eYrbrld7GgDo"
      },
      "source": [
        "df.loc[2, \"ST_NUM\"] = 125"
      ],
      "execution_count": 17,
      "outputs": []
    },
    {
      "cell_type": "markdown",
      "metadata": {
        "id": "W3cMm3YyJPuX"
      },
      "source": [
        "Cara yang sangat umum untuk mengganti missing values menggunakan median."
      ]
    },
    {
      "cell_type": "code",
      "metadata": {
        "id": "CrVZWSyJIOCt"
      },
      "source": [
        "median = df[\"NUM_BEDROOMS\"].median()\n",
        "df[\"NUM_BEDROOMS\"].fillna(median, inplace=True)"
      ],
      "execution_count": 18,
      "outputs": []
    },
    {
      "cell_type": "code",
      "metadata": {
        "colab": {
          "base_uri": "https://localhost:8080/",
          "height": 0
        },
        "id": "Qki213xDJbPX",
        "outputId": "29c84adf-339f-4e96-f9ec-6423aeef4666"
      },
      "source": [
        "df.head(9)"
      ],
      "execution_count": 19,
      "outputs": [
        {
          "output_type": "execute_result",
          "data": {
            "text/html": [
              "<div>\n",
              "<style scoped>\n",
              "    .dataframe tbody tr th:only-of-type {\n",
              "        vertical-align: middle;\n",
              "    }\n",
              "\n",
              "    .dataframe tbody tr th {\n",
              "        vertical-align: top;\n",
              "    }\n",
              "\n",
              "    .dataframe thead th {\n",
              "        text-align: right;\n",
              "    }\n",
              "</style>\n",
              "<table border=\"1\" class=\"dataframe\">\n",
              "  <thead>\n",
              "    <tr style=\"text-align: right;\">\n",
              "      <th></th>\n",
              "      <th>PID</th>\n",
              "      <th>ST_NUM</th>\n",
              "      <th>ST_NAME</th>\n",
              "      <th>OWN_OCCUPIED</th>\n",
              "      <th>NUM_BEDROOMS</th>\n",
              "      <th>NUM_BATH</th>\n",
              "      <th>SQ_FT</th>\n",
              "    </tr>\n",
              "  </thead>\n",
              "  <tbody>\n",
              "    <tr>\n",
              "      <th>0</th>\n",
              "      <td>100001000.0</td>\n",
              "      <td>104.0</td>\n",
              "      <td>PUTNAM</td>\n",
              "      <td>Y</td>\n",
              "      <td>3.0</td>\n",
              "      <td>1</td>\n",
              "      <td>1000.0</td>\n",
              "    </tr>\n",
              "    <tr>\n",
              "      <th>1</th>\n",
              "      <td>100002000.0</td>\n",
              "      <td>197.0</td>\n",
              "      <td>LEXINGTON</td>\n",
              "      <td>N</td>\n",
              "      <td>3.0</td>\n",
              "      <td>1.5</td>\n",
              "      <td>NaN</td>\n",
              "    </tr>\n",
              "    <tr>\n",
              "      <th>2</th>\n",
              "      <td>100003000.0</td>\n",
              "      <td>125.0</td>\n",
              "      <td>LEXINGTON</td>\n",
              "      <td>N</td>\n",
              "      <td>3.0</td>\n",
              "      <td>1</td>\n",
              "      <td>850.0</td>\n",
              "    </tr>\n",
              "    <tr>\n",
              "      <th>3</th>\n",
              "      <td>100004000.0</td>\n",
              "      <td>201.0</td>\n",
              "      <td>BERKELEY</td>\n",
              "      <td>NaN</td>\n",
              "      <td>1.0</td>\n",
              "      <td>NaN</td>\n",
              "      <td>700.0</td>\n",
              "    </tr>\n",
              "    <tr>\n",
              "      <th>4</th>\n",
              "      <td>NaN</td>\n",
              "      <td>203.0</td>\n",
              "      <td>BERKELEY</td>\n",
              "      <td>Y</td>\n",
              "      <td>3.0</td>\n",
              "      <td>2</td>\n",
              "      <td>1600.0</td>\n",
              "    </tr>\n",
              "    <tr>\n",
              "      <th>5</th>\n",
              "      <td>100006000.0</td>\n",
              "      <td>207.0</td>\n",
              "      <td>BERKELEY</td>\n",
              "      <td>Y</td>\n",
              "      <td>3.0</td>\n",
              "      <td>1</td>\n",
              "      <td>800.0</td>\n",
              "    </tr>\n",
              "    <tr>\n",
              "      <th>6</th>\n",
              "      <td>100007000.0</td>\n",
              "      <td>125.0</td>\n",
              "      <td>WASHINGTON</td>\n",
              "      <td>NaN</td>\n",
              "      <td>2.0</td>\n",
              "      <td>HURLEY</td>\n",
              "      <td>950.0</td>\n",
              "    </tr>\n",
              "    <tr>\n",
              "      <th>7</th>\n",
              "      <td>100008000.0</td>\n",
              "      <td>213.0</td>\n",
              "      <td>TREMONT</td>\n",
              "      <td>Y</td>\n",
              "      <td>3.0</td>\n",
              "      <td>1</td>\n",
              "      <td>NaN</td>\n",
              "    </tr>\n",
              "    <tr>\n",
              "      <th>8</th>\n",
              "      <td>100009000.0</td>\n",
              "      <td>215.0</td>\n",
              "      <td>TREMONT</td>\n",
              "      <td>Y</td>\n",
              "      <td>3.0</td>\n",
              "      <td>2</td>\n",
              "      <td>1800.0</td>\n",
              "    </tr>\n",
              "  </tbody>\n",
              "</table>\n",
              "</div>"
            ],
            "text/plain": [
              "           PID  ST_NUM     ST_NAME OWN_OCCUPIED  NUM_BEDROOMS NUM_BATH   SQ_FT\n",
              "0  100001000.0   104.0      PUTNAM            Y           3.0        1  1000.0\n",
              "1  100002000.0   197.0   LEXINGTON            N           3.0      1.5     NaN\n",
              "2  100003000.0   125.0   LEXINGTON            N           3.0        1   850.0\n",
              "3  100004000.0   201.0    BERKELEY          NaN           1.0      NaN   700.0\n",
              "4          NaN   203.0    BERKELEY            Y           3.0        2  1600.0\n",
              "5  100006000.0   207.0    BERKELEY            Y           3.0        1   800.0\n",
              "6  100007000.0   125.0  WASHINGTON          NaN           2.0   HURLEY   950.0\n",
              "7  100008000.0   213.0     TREMONT            Y           3.0        1     NaN\n",
              "8  100009000.0   215.0     TREMONT            Y           3.0        2  1800.0"
            ]
          },
          "metadata": {
            "tags": []
          },
          "execution_count": 19
        }
      ]
    },
    {
      "cell_type": "markdown",
      "metadata": {
        "id": "9fFjopqqJoVH"
      },
      "source": [
        "## Analyzing Obesity in England"
      ]
    },
    {
      "cell_type": "markdown",
      "metadata": {
        "id": "c3-x0f8NDnBS"
      },
      "source": [
        "Data diambil dari Data.gov.uk. Kita akan menggunakan file XLS 2014."
      ]
    },
    {
      "cell_type": "code",
      "metadata": {
        "colab": {
          "resources": {
            "http://localhost:8080/nbextensions/google.colab/files.js": {
              "data": "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",
              "ok": true,
              "headers": [
                [
                  "content-type",
                  "application/javascript"
                ]
              ],
              "status": 200,
              "status_text": ""
            }
          },
          "base_uri": "https://localhost:8080/",
          "height": 73
        },
        "id": "ZUpvnfZqJcgG",
        "outputId": "688841c9-82e4-4446-c348-1dfe7b556c6c"
      },
      "source": [
        "%matplotlib inline\n",
        "# ini proses mengupload file dari local ke google colab\n",
        "# pake widget\n",
        "# sumber https://stackoverflow.com/questions/47430544/load-xlsx-file-from-drive-in-colaboratory\n",
        "import io\n",
        "from google.colab import files\n",
        "uploaded = files.upload()"
      ],
      "execution_count": 20,
      "outputs": [
        {
          "output_type": "display_data",
          "data": {
            "text/html": [
              "\n",
              "     <input type=\"file\" id=\"files-c67af6af-fe9d-42c8-9310-2a168d4a3310\" name=\"files[]\" multiple disabled\n",
              "        style=\"border:none\" />\n",
              "     <output id=\"result-c67af6af-fe9d-42c8-9310-2a168d4a3310\">\n",
              "      Upload widget is only available when the cell has been executed in the\n",
              "      current browser session. Please rerun this cell to enable.\n",
              "      </output>\n",
              "      <script src=\"/nbextensions/google.colab/files.js\"></script> "
            ],
            "text/plain": [
              "<IPython.core.display.HTML object>"
            ]
          },
          "metadata": {
            "tags": []
          }
        },
        {
          "output_type": "stream",
          "text": [
            "Saving obes.xls to obes.xls\n"
          ],
          "name": "stdout"
        }
      ]
    },
    {
      "cell_type": "code",
      "metadata": {
        "colab": {
          "base_uri": "https://localhost:8080/"
        },
        "id": "BQ-3up5MK5Ui",
        "outputId": "de612087-a5e7-4457-cb2f-380279f2d661"
      },
      "source": [
        "data = pd.ExcelFile(\"obes.xls\")\n",
        "data.sheet_names"
      ],
      "execution_count": 21,
      "outputs": [
        {
          "output_type": "execute_result",
          "data": {
            "text/plain": [
              "['Chapter 7',\n",
              " '7.1',\n",
              " '7.2',\n",
              " '7.3',\n",
              " '7.4',\n",
              " '7.5',\n",
              " '7.6',\n",
              " '7.7',\n",
              " '7.8',\n",
              " '7.9',\n",
              " '7.10']"
            ]
          },
          "metadata": {
            "tags": []
          },
          "execution_count": 21
        }
      ]
    },
    {
      "cell_type": "markdown",
      "metadata": {
        "id": "_kFzCNbcDxPP"
      },
      "source": [
        "Kita akan fokus pada sheet 7.2. Sekarang jika kita lihat 7.2 di Excel, kita akan melihat bahwa 4 baris teratas dan 14 baris terbawah berisi info yang tidak berguna. Kita hanya membutuhkan baris 5-18."
      ]
    },
    {
      "cell_type": "code",
      "metadata": {
        "colab": {
          "base_uri": "https://localhost:8080/",
          "height": 223
        },
        "id": "pWD5zdIZPEXz",
        "outputId": "8770755d-4376-4056-a95f-80f99e0d270e"
      },
      "source": [
        "data_age = data.parse(u'7.2', skiprows=4, skipfooter=14)\n",
        "data_age.head()"
      ],
      "execution_count": 22,
      "outputs": [
        {
          "output_type": "execute_result",
          "data": {
            "text/html": [
              "<div>\n",
              "<style scoped>\n",
              "    .dataframe tbody tr th:only-of-type {\n",
              "        vertical-align: middle;\n",
              "    }\n",
              "\n",
              "    .dataframe tbody tr th {\n",
              "        vertical-align: top;\n",
              "    }\n",
              "\n",
              "    .dataframe thead th {\n",
              "        text-align: right;\n",
              "    }\n",
              "</style>\n",
              "<table border=\"1\" class=\"dataframe\">\n",
              "  <thead>\n",
              "    <tr style=\"text-align: right;\">\n",
              "      <th></th>\n",
              "      <th>Unnamed: 0</th>\n",
              "      <th>Total</th>\n",
              "      <th>Under 16</th>\n",
              "      <th>16-24</th>\n",
              "      <th>25-34</th>\n",
              "      <th>35-44</th>\n",
              "      <th>45-54</th>\n",
              "      <th>55-64</th>\n",
              "      <th>65-74</th>\n",
              "      <th>75 and over</th>\n",
              "    </tr>\n",
              "  </thead>\n",
              "  <tbody>\n",
              "    <tr>\n",
              "      <th>0</th>\n",
              "      <td>NaN</td>\n",
              "      <td>NaN</td>\n",
              "      <td>NaN</td>\n",
              "      <td>NaN</td>\n",
              "      <td>NaN</td>\n",
              "      <td>NaN</td>\n",
              "      <td>NaN</td>\n",
              "      <td>NaN</td>\n",
              "      <td>NaN</td>\n",
              "      <td>NaN</td>\n",
              "    </tr>\n",
              "    <tr>\n",
              "      <th>1</th>\n",
              "      <td>2002/03</td>\n",
              "      <td>1275.0</td>\n",
              "      <td>400.0</td>\n",
              "      <td>65.0</td>\n",
              "      <td>136.0</td>\n",
              "      <td>289.0</td>\n",
              "      <td>216.0</td>\n",
              "      <td>94.0</td>\n",
              "      <td>52.0</td>\n",
              "      <td>23.0</td>\n",
              "    </tr>\n",
              "    <tr>\n",
              "      <th>2</th>\n",
              "      <td>2003/04</td>\n",
              "      <td>1711.0</td>\n",
              "      <td>579.0</td>\n",
              "      <td>67.0</td>\n",
              "      <td>174.0</td>\n",
              "      <td>391.0</td>\n",
              "      <td>273.0</td>\n",
              "      <td>151.0</td>\n",
              "      <td>52.0</td>\n",
              "      <td>24.0</td>\n",
              "    </tr>\n",
              "    <tr>\n",
              "      <th>3</th>\n",
              "      <td>2004/05</td>\n",
              "      <td>2035.0</td>\n",
              "      <td>547.0</td>\n",
              "      <td>107.0</td>\n",
              "      <td>287.0</td>\n",
              "      <td>487.0</td>\n",
              "      <td>364.0</td>\n",
              "      <td>174.0</td>\n",
              "      <td>36.0</td>\n",
              "      <td>32.0</td>\n",
              "    </tr>\n",
              "    <tr>\n",
              "      <th>4</th>\n",
              "      <td>2005/06</td>\n",
              "      <td>2564.0</td>\n",
              "      <td>583.0</td>\n",
              "      <td>96.0</td>\n",
              "      <td>341.0</td>\n",
              "      <td>637.0</td>\n",
              "      <td>554.0</td>\n",
              "      <td>258.0</td>\n",
              "      <td>72.0</td>\n",
              "      <td>20.0</td>\n",
              "    </tr>\n",
              "  </tbody>\n",
              "</table>\n",
              "</div>"
            ],
            "text/plain": [
              "  Unnamed: 0   Total  Under 16  16-24  ...  45-54  55-64  65-74  75 and over\n",
              "0        NaN     NaN       NaN    NaN  ...    NaN    NaN    NaN          NaN\n",
              "1    2002/03  1275.0     400.0   65.0  ...  216.0   94.0   52.0         23.0\n",
              "2    2003/04  1711.0     579.0   67.0  ...  273.0  151.0   52.0         24.0\n",
              "3    2004/05  2035.0     547.0  107.0  ...  364.0  174.0   36.0         32.0\n",
              "4    2005/06  2564.0     583.0   96.0  ...  554.0  258.0   72.0         20.0\n",
              "\n",
              "[5 rows x 10 columns]"
            ]
          },
          "metadata": {
            "tags": []
          },
          "execution_count": 22
        }
      ]
    },
    {
      "cell_type": "markdown",
      "metadata": {
        "id": "qY0yrgzpTkv0"
      },
      "source": [
        "Baris pertama mewakili column headers. Kita memiliki baris kosong di file asli, dan itu muncul sebagai NaN (bukan angka).\n",
        "\n",
        "Jadi sekarang kita perlu melakukan dua hal:\n",
        "- rename the first header to Year, and\n",
        "- get rid of any empty rows"
      ]
    },
    {
      "cell_type": "code",
      "metadata": {
        "id": "PRejfyAqPn7G"
      },
      "source": [
        "data_age.rename(columns={u'Unnamed: 0': u'Year'}, inplace=True)"
      ],
      "execution_count": 23,
      "outputs": []
    },
    {
      "cell_type": "markdown",
      "metadata": {
        "id": "L9GOHxC3Ut9g"
      },
      "source": [
        "Di sini kita memberitahu Pandas untuk mengganti kolom Unnamed: 0 menjadi Year menggunakan fungsi rename()\n",
        "\n",
        "> inplace = True modifies the existing object. Without this, Pandas will create a new object and return that.\n",
        "\n",
        "Selanjutnya mari kita hapus baris kosonng yang diisi dengan NaN"
      ]
    },
    {
      "cell_type": "code",
      "metadata": {
        "id": "-Wko2QMcT-Ck"
      },
      "source": [
        "data_age.dropna(inplace=True)"
      ],
      "execution_count": 24,
      "outputs": []
    },
    {
      "cell_type": "markdown",
      "metadata": {
        "id": "jrvL9oq_B_lK"
      },
      "source": [
        "Ada satu hal lagi yang perlu kita lakukan yang akan membuat hidup kita lebih mudah. Jika kita lihat data_age, nilai pertama adalah angka. Ini adalah indeksnya, dan Pandas menggunakan praktik Excel default yang memiliki angka sebagai indeks. Namun, kita ingin mengubah indeks menjadi Tahun. Ini akan mempermudah pembuatan plot, karena indeks biasanya diplot sebagai sumbu x."
      ]
    },
    {
      "cell_type": "code",
      "metadata": {
        "id": "fYRazsWHVJ8T",
        "colab": {
          "base_uri": "https://localhost:8080/",
          "height": 237
        },
        "outputId": "c7ff1975-37c2-42dd-b92c-8ddd9b942dcf"
      },
      "source": [
        "data_age.set_index(\"Year\", inplace=True)\n",
        "data_age.head()"
      ],
      "execution_count": 25,
      "outputs": [
        {
          "output_type": "execute_result",
          "data": {
            "text/html": [
              "<div>\n",
              "<style scoped>\n",
              "    .dataframe tbody tr th:only-of-type {\n",
              "        vertical-align: middle;\n",
              "    }\n",
              "\n",
              "    .dataframe tbody tr th {\n",
              "        vertical-align: top;\n",
              "    }\n",
              "\n",
              "    .dataframe thead th {\n",
              "        text-align: right;\n",
              "    }\n",
              "</style>\n",
              "<table border=\"1\" class=\"dataframe\">\n",
              "  <thead>\n",
              "    <tr style=\"text-align: right;\">\n",
              "      <th></th>\n",
              "      <th>Total</th>\n",
              "      <th>Under 16</th>\n",
              "      <th>16-24</th>\n",
              "      <th>25-34</th>\n",
              "      <th>35-44</th>\n",
              "      <th>45-54</th>\n",
              "      <th>55-64</th>\n",
              "      <th>65-74</th>\n",
              "      <th>75 and over</th>\n",
              "    </tr>\n",
              "    <tr>\n",
              "      <th>Year</th>\n",
              "      <th></th>\n",
              "      <th></th>\n",
              "      <th></th>\n",
              "      <th></th>\n",
              "      <th></th>\n",
              "      <th></th>\n",
              "      <th></th>\n",
              "      <th></th>\n",
              "      <th></th>\n",
              "    </tr>\n",
              "  </thead>\n",
              "  <tbody>\n",
              "    <tr>\n",
              "      <th>2002/03</th>\n",
              "      <td>1275.0</td>\n",
              "      <td>400.0</td>\n",
              "      <td>65.0</td>\n",
              "      <td>136.0</td>\n",
              "      <td>289.0</td>\n",
              "      <td>216.0</td>\n",
              "      <td>94.0</td>\n",
              "      <td>52.0</td>\n",
              "      <td>23.0</td>\n",
              "    </tr>\n",
              "    <tr>\n",
              "      <th>2003/04</th>\n",
              "      <td>1711.0</td>\n",
              "      <td>579.0</td>\n",
              "      <td>67.0</td>\n",
              "      <td>174.0</td>\n",
              "      <td>391.0</td>\n",
              "      <td>273.0</td>\n",
              "      <td>151.0</td>\n",
              "      <td>52.0</td>\n",
              "      <td>24.0</td>\n",
              "    </tr>\n",
              "    <tr>\n",
              "      <th>2004/05</th>\n",
              "      <td>2035.0</td>\n",
              "      <td>547.0</td>\n",
              "      <td>107.0</td>\n",
              "      <td>287.0</td>\n",
              "      <td>487.0</td>\n",
              "      <td>364.0</td>\n",
              "      <td>174.0</td>\n",
              "      <td>36.0</td>\n",
              "      <td>32.0</td>\n",
              "    </tr>\n",
              "    <tr>\n",
              "      <th>2005/06</th>\n",
              "      <td>2564.0</td>\n",
              "      <td>583.0</td>\n",
              "      <td>96.0</td>\n",
              "      <td>341.0</td>\n",
              "      <td>637.0</td>\n",
              "      <td>554.0</td>\n",
              "      <td>258.0</td>\n",
              "      <td>72.0</td>\n",
              "      <td>20.0</td>\n",
              "    </tr>\n",
              "    <tr>\n",
              "      <th>2006/07</th>\n",
              "      <td>3862.0</td>\n",
              "      <td>656.0</td>\n",
              "      <td>184.0</td>\n",
              "      <td>461.0</td>\n",
              "      <td>1069.0</td>\n",
              "      <td>872.0</td>\n",
              "      <td>459.0</td>\n",
              "      <td>118.0</td>\n",
              "      <td>43.0</td>\n",
              "    </tr>\n",
              "  </tbody>\n",
              "</table>\n",
              "</div>"
            ],
            "text/plain": [
              "          Total  Under 16  16-24  25-34  ...  45-54  55-64  65-74  75 and over\n",
              "Year                                     ...                                  \n",
              "2002/03  1275.0     400.0   65.0  136.0  ...  216.0   94.0   52.0         23.0\n",
              "2003/04  1711.0     579.0   67.0  174.0  ...  273.0  151.0   52.0         24.0\n",
              "2004/05  2035.0     547.0  107.0  287.0  ...  364.0  174.0   36.0         32.0\n",
              "2005/06  2564.0     583.0   96.0  341.0  ...  554.0  258.0   72.0         20.0\n",
              "2006/07  3862.0     656.0  184.0  461.0  ...  872.0  459.0  118.0         43.0\n",
              "\n",
              "[5 rows x 9 columns]"
            ]
          },
          "metadata": {
            "tags": []
          },
          "execution_count": 25
        }
      ]
    },
    {
      "cell_type": "code",
      "metadata": {
        "colab": {
          "base_uri": "https://localhost:8080/",
          "height": 297
        },
        "id": "Z1IMswGTCcvK",
        "outputId": "078f1013-b6c0-4fa3-d31a-089a90345026"
      },
      "source": [
        "data_age.plot()"
      ],
      "execution_count": 26,
      "outputs": [
        {
          "output_type": "execute_result",
          "data": {
            "text/plain": [
              "<matplotlib.axes._subplots.AxesSubplot at 0x7fd0e9d3c710>"
            ]
          },
          "metadata": {
            "tags": []
          },
          "execution_count": 26
        },
        {
          "output_type": "display_data",
          "data": {
            "image/png": "[encoded data removed]",
            "text/plain": [
              "<Figure size 432x288 with 1 Axes>"
            ]
          },
          "metadata": {
            "tags": [],
            "needs_background": "light"
          }
        }
      ]
    },
    {
      "cell_type": "markdown",
      "metadata": {
        "id": "ZL2JPK3gC-Qd"
      },
      "source": [
        "Ups. Ada masalah: Data asli kita berisi Total, yang menutupi bidanng lainnya. Kita perlu menyingkirkannya."
      ]
    },
    {
      "cell_type": "code",
      "metadata": {
        "colab": {
          "base_uri": "https://localhost:8080/",
          "height": 297
        },
        "id": "PtDTyfLxCfir",
        "outputId": "d6023d9d-f21e-435e-a51c-7c0aef727cac"
      },
      "source": [
        "data_age_minus_total = data_age.drop(\"Total\", axis=1)\n",
        "data_age_minus_total.plot()"
      ],
      "execution_count": 27,
      "outputs": [
        {
          "output_type": "execute_result",
          "data": {
            "text/plain": [
              "<matplotlib.axes._subplots.AxesSubplot at 0x7fd0ea20a190>"
            ]
          },
          "metadata": {
            "tags": []
          },
          "execution_count": 27
        },
        {
          "output_type": "display_data",
          "data": {
            "image/png": "[encoded data removed]",
            "text/plain": [
              "<Figure size 432x288 with 1 Axes>"
            ]
          },
          "metadata": {
            "tags": [],
            "needs_background": "light"
          }
        }
      ]
    },
    {
      "cell_type": "markdown",
      "metadata": {
        "id": "6QpIUvkUEFQs"
      },
      "source": [
        "Kita benar-benar dapat melihat kelompok usia individu sekarang. Bisakah kita melihat kelompok usia mana yang memiliki obesitas tertinggi?\n",
        "\n",
        "Kembali ke pertanyaan awal kita: Are children getting fatter?\n",
        "\n",
        "Mari kita buat plot sebagian kecil data: anak-anak di bawwah usia 16 tahun dan oranng dewasa dengan rentang usia 35-44 tahun."
      ]
    },
    {
      "cell_type": "code",
      "metadata": {
        "colab": {
          "base_uri": "https://localhost:8080/",
          "height": 297
        },
        "id": "2Pl3sbKSDOoO",
        "outputId": "487ee2f5-af25-4962-931d-0de844a85f43"
      },
      "source": [
        "data_age[\"Under 16\"].plot(label=\"Under 16\", legend=True)\n",
        "data_age[\"35-44\"].plot(label=\"35-44\", legend=True)"
      ],
      "execution_count": 29,
      "outputs": [
        {
          "output_type": "execute_result",
          "data": {
            "text/plain": [
              "<matplotlib.axes._subplots.AxesSubplot at 0x7fd0e53b8d90>"
            ]
          },
          "metadata": {
            "tags": []
          },
          "execution_count": 29
        },
        {
          "output_type": "display_data",
          "data": {
            "image/png": "[encoded data removed]",
            "text/plain": [
              "<Figure size 432x288 with 1 Axes>"
            ]
          },
          "metadata": {
            "tags": [],
            "needs_background": "light"
          }
        }
      ]
    },
    {
      "cell_type": "markdown",
      "metadata": {
        "id": "aqMklAhLExWL"
      },
      "source": [
        "So who is getting fatter?\n",
        "\n",
        "Ketika obesitas anak sedikit menurun, orang tua mereka membengkak. Jadi nampaknya para orang tua lebih perlu mengkhawatirkan diri sendiri daripada anak-anaknya."
      ]
    },
    {
      "cell_type": "markdown",
      "metadata": {
        "id": "cDtLLqvcFEg2"
      },
      "source": [
        "### Time Series"
      ]
    },
    {
      "cell_type": "markdown",
      "metadata": {
        "id": "CT2cezzvFGtS"
      },
      "source": [
        "Basic Time Series Manipulation"
      ]
    },
    {
      "cell_type": "code",
      "metadata": {
        "id": "uAGDZw3CEkFU"
      },
      "source": [
        "from datetime import datetime"
      ],
      "execution_count": 30,
      "outputs": []
    },
    {
      "cell_type": "markdown",
      "metadata": {
        "id": "vleK18wBFh_g"
      },
      "source": [
        "Date range ini memiliki timestamps dengan frekuensi per jam. Jika kita memanggil date_rng kita akan melihat seperti berikut."
      ]
    },
    {
      "cell_type": "code",
      "metadata": {
        "colab": {
          "base_uri": "https://localhost:8080/"
        },
        "id": "TfsFvtWbFMYJ",
        "outputId": "7a08d063-2367-4865-d64d-956da9291966"
      },
      "source": [
        "date_rng = pd.date_range(start=\"1/01/2020\", end=\"1/08/2020\", freq=\"H\")\n",
        "date_rng"
      ],
      "execution_count": 32,
      "outputs": [
        {
          "output_type": "execute_result",
          "data": {
            "text/plain": [
              "DatetimeIndex(['2020-01-01 00:00:00', '2020-01-01 01:00:00',\n",
              "               '2020-01-01 02:00:00', '2020-01-01 03:00:00',\n",
              "               '2020-01-01 04:00:00', '2020-01-01 05:00:00',\n",
              "               '2020-01-01 06:00:00', '2020-01-01 07:00:00',\n",
              "               '2020-01-01 08:00:00', '2020-01-01 09:00:00',\n",
              "               ...\n",
              "               '2020-01-07 15:00:00', '2020-01-07 16:00:00',\n",
              "               '2020-01-07 17:00:00', '2020-01-07 18:00:00',\n",
              "               '2020-01-07 19:00:00', '2020-01-07 20:00:00',\n",
              "               '2020-01-07 21:00:00', '2020-01-07 22:00:00',\n",
              "               '2020-01-07 23:00:00', '2020-01-08 00:00:00'],\n",
              "              dtype='datetime64[ns]', length=169, freq='H')"
            ]
          },
          "metadata": {
            "tags": []
          },
          "execution_count": 32
        }
      ]
    },
    {
      "cell_type": "markdown",
      "metadata": {
        "id": "OOvWboNnFv5W"
      },
      "source": [
        "Mari kita buat contoh data frame dengan timestamp dan lihat 15 elemen pertama:"
      ]
    },
    {
      "cell_type": "code",
      "metadata": {
        "colab": {
          "base_uri": "https://localhost:8080/",
          "height": 206
        },
        "id": "SncKlmDXFXxr",
        "outputId": "78530744-24f9-4c19-86f4-507a4a6ffea2"
      },
      "source": [
        "df = pd.DataFrame(date_rng, columns=[\"date\"])\n",
        "df[\"data\"] = np.random.randint(0, 100, size=(len(date_rng)))\n",
        "df.head()"
      ],
      "execution_count": 33,
      "outputs": [
        {
          "output_type": "execute_result",
          "data": {
            "text/html": [
              "<div>\n",
              "<style scoped>\n",
              "    .dataframe tbody tr th:only-of-type {\n",
              "        vertical-align: middle;\n",
              "    }\n",
              "\n",
              "    .dataframe tbody tr th {\n",
              "        vertical-align: top;\n",
              "    }\n",
              "\n",
              "    .dataframe thead th {\n",
              "        text-align: right;\n",
              "    }\n",
              "</style>\n",
              "<table border=\"1\" class=\"dataframe\">\n",
              "  <thead>\n",
              "    <tr style=\"text-align: right;\">\n",
              "      <th></th>\n",
              "      <th>date</th>\n",
              "      <th>data</th>\n",
              "    </tr>\n",
              "  </thead>\n",
              "  <tbody>\n",
              "    <tr>\n",
              "      <th>0</th>\n",
              "      <td>2020-01-01 00:00:00</td>\n",
              "      <td>59</td>\n",
              "    </tr>\n",
              "    <tr>\n",
              "      <th>1</th>\n",
              "      <td>2020-01-01 01:00:00</td>\n",
              "      <td>86</td>\n",
              "    </tr>\n",
              "    <tr>\n",
              "      <th>2</th>\n",
              "      <td>2020-01-01 02:00:00</td>\n",
              "      <td>27</td>\n",
              "    </tr>\n",
              "    <tr>\n",
              "      <th>3</th>\n",
              "      <td>2020-01-01 03:00:00</td>\n",
              "      <td>72</td>\n",
              "    </tr>\n",
              "    <tr>\n",
              "      <th>4</th>\n",
              "      <td>2020-01-01 04:00:00</td>\n",
              "      <td>65</td>\n",
              "    </tr>\n",
              "  </tbody>\n",
              "</table>\n",
              "</div>"
            ],
            "text/plain": [
              "                 date  data\n",
              "0 2020-01-01 00:00:00    59\n",
              "1 2020-01-01 01:00:00    86\n",
              "2 2020-01-01 02:00:00    27\n",
              "3 2020-01-01 03:00:00    72\n",
              "4 2020-01-01 04:00:00    65"
            ]
          },
          "metadata": {
            "tags": []
          },
          "execution_count": 33
        }
      ]
    },
    {
      "cell_type": "markdown",
      "metadata": {
        "id": "UAQeZkCYGJ5N"
      },
      "source": [
        "Jika kita ingin melakukan manipulasi deret waktu/time series, kita perlu memiliki date time index sehingga data frame kita diindeks pada timestamp.\n",
        "\n",
        "Konversikan indeks data frame menjadi datetime index dan tampilkan elemen pertama"
      ]
    },
    {
      "cell_type": "code",
      "metadata": {
        "colab": {
          "base_uri": "https://localhost:8080/",
          "height": 237
        },
        "id": "Iln8hhDrGCP8",
        "outputId": "728a799c-79d2-4045-83e4-040513ce98fa"
      },
      "source": [
        "df[\"datetime\"] = pd.to_datetime(df[\"date\"])\n",
        "df = df.set_index(\"datetime\")\n",
        "df.drop([\"date\"], axis=1, inplace=True)\n",
        "df.head()"
      ],
      "execution_count": 34,
      "outputs": [
        {
          "output_type": "execute_result",
          "data": {
            "text/html": [
              "<div>\n",
              "<style scoped>\n",
              "    .dataframe tbody tr th:only-of-type {\n",
              "        vertical-align: middle;\n",
              "    }\n",
              "\n",
              "    .dataframe tbody tr th {\n",
              "        vertical-align: top;\n",
              "    }\n",
              "\n",
              "    .dataframe thead th {\n",
              "        text-align: right;\n",
              "    }\n",
              "</style>\n",
              "<table border=\"1\" class=\"dataframe\">\n",
              "  <thead>\n",
              "    <tr style=\"text-align: right;\">\n",
              "      <th></th>\n",
              "      <th>data</th>\n",
              "    </tr>\n",
              "    <tr>\n",
              "      <th>datetime</th>\n",
              "      <th></th>\n",
              "    </tr>\n",
              "  </thead>\n",
              "  <tbody>\n",
              "    <tr>\n",
              "      <th>2020-01-01 00:00:00</th>\n",
              "      <td>59</td>\n",
              "    </tr>\n",
              "    <tr>\n",
              "      <th>2020-01-01 01:00:00</th>\n",
              "      <td>86</td>\n",
              "    </tr>\n",
              "    <tr>\n",
              "      <th>2020-01-01 02:00:00</th>\n",
              "      <td>27</td>\n",
              "    </tr>\n",
              "    <tr>\n",
              "      <th>2020-01-01 03:00:00</th>\n",
              "      <td>72</td>\n",
              "    </tr>\n",
              "    <tr>\n",
              "      <th>2020-01-01 04:00:00</th>\n",
              "      <td>65</td>\n",
              "    </tr>\n",
              "  </tbody>\n",
              "</table>\n",
              "</div>"
            ],
            "text/plain": [
              "                     data\n",
              "datetime                 \n",
              "2020-01-01 00:00:00    59\n",
              "2020-01-01 01:00:00    86\n",
              "2020-01-01 02:00:00    27\n",
              "2020-01-01 03:00:00    72\n",
              "2020-01-01 04:00:00    65"
            ]
          },
          "metadata": {
            "tags": []
          },
          "execution_count": 34
        }
      ]
    },
    {
      "cell_type": "markdown",
      "metadata": {
        "id": "bZt2jq4QG62z"
      },
      "source": [
        "Bagaimana jika 'time' stamps dalam data kita sebenarnya berjenis string vs numerik?\n",
        "\n",
        "Mari kita ubah date_rng menjadi list of string dan kemudian ubah string tersebut menjadi stempel waktu."
      ]
    },
    {
      "cell_type": "code",
      "metadata": {
        "colab": {
          "base_uri": "https://localhost:8080/"
        },
        "id": "km2tKAloGk7W",
        "outputId": "d218ed67-8f2a-403a-a2a4-3a33d1877ecc"
      },
      "source": [
        "string_date_rng = [str(x) for x in date_rng]\n",
        "string_date_rng"
      ],
      "execution_count": 36,
      "outputs": [
        {
          "output_type": "execute_result",
          "data": {
            "text/plain": [
              "['2020-01-01 00:00:00',\n",
              " '2020-01-01 01:00:00',\n",
              " '2020-01-01 02:00:00',\n",
              " '2020-01-01 03:00:00',\n",
              " '2020-01-01 04:00:00',\n",
              " '2020-01-01 05:00:00',\n",
              " '2020-01-01 06:00:00',\n",
              " '2020-01-01 07:00:00',\n",
              " '2020-01-01 08:00:00',\n",
              " '2020-01-01 09:00:00',\n",
              " '2020-01-01 10:00:00',\n",
              " '2020-01-01 11:00:00',\n",
              " '2020-01-01 12:00:00',\n",
              " '2020-01-01 13:00:00',\n",
              " '2020-01-01 14:00:00',\n",
              " '2020-01-01 15:00:00',\n",
              " '2020-01-01 16:00:00',\n",
              " '2020-01-01 17:00:00',\n",
              " '2020-01-01 18:00:00',\n",
              " '2020-01-01 19:00:00',\n",
              " '2020-01-01 20:00:00',\n",
              " '2020-01-01 21:00:00',\n",
              " '2020-01-01 22:00:00',\n",
              " '2020-01-01 23:00:00',\n",
              " '2020-01-02 00:00:00',\n",
              " '2020-01-02 01:00:00',\n",
              " '2020-01-02 02:00:00',\n",
              " '2020-01-02 03:00:00',\n",
              " '2020-01-02 04:00:00',\n",
              " '2020-01-02 05:00:00',\n",
              " '2020-01-02 06:00:00',\n",
              " '2020-01-02 07:00:00',\n",
              " '2020-01-02 08:00:00',\n",
              " '2020-01-02 09:00:00',\n",
              " '2020-01-02 10:00:00',\n",
              " '2020-01-02 11:00:00',\n",
              " '2020-01-02 12:00:00',\n",
              " '2020-01-02 13:00:00',\n",
              " '2020-01-02 14:00:00',\n",
              " '2020-01-02 15:00:00',\n",
              " '2020-01-02 16:00:00',\n",
              " '2020-01-02 17:00:00',\n",
              " '2020-01-02 18:00:00',\n",
              " '2020-01-02 19:00:00',\n",
              " '2020-01-02 20:00:00',\n",
              " '2020-01-02 21:00:00',\n",
              " '2020-01-02 22:00:00',\n",
              " '2020-01-02 23:00:00',\n",
              " '2020-01-03 00:00:00',\n",
              " '2020-01-03 01:00:00',\n",
              " '2020-01-03 02:00:00',\n",
              " '2020-01-03 03:00:00',\n",
              " '2020-01-03 04:00:00',\n",
              " '2020-01-03 05:00:00',\n",
              " '2020-01-03 06:00:00',\n",
              " '2020-01-03 07:00:00',\n",
              " '2020-01-03 08:00:00',\n",
              " '2020-01-03 09:00:00',\n",
              " '2020-01-03 10:00:00',\n",
              " '2020-01-03 11:00:00',\n",
              " '2020-01-03 12:00:00',\n",
              " '2020-01-03 13:00:00',\n",
              " '2020-01-03 14:00:00',\n",
              " '2020-01-03 15:00:00',\n",
              " '2020-01-03 16:00:00',\n",
              " '2020-01-03 17:00:00',\n",
              " '2020-01-03 18:00:00',\n",
              " '2020-01-03 19:00:00',\n",
              " '2020-01-03 20:00:00',\n",
              " '2020-01-03 21:00:00',\n",
              " '2020-01-03 22:00:00',\n",
              " '2020-01-03 23:00:00',\n",
              " '2020-01-04 00:00:00',\n",
              " '2020-01-04 01:00:00',\n",
              " '2020-01-04 02:00:00',\n",
              " '2020-01-04 03:00:00',\n",
              " '2020-01-04 04:00:00',\n",
              " '2020-01-04 05:00:00',\n",
              " '2020-01-04 06:00:00',\n",
              " '2020-01-04 07:00:00',\n",
              " '2020-01-04 08:00:00',\n",
              " '2020-01-04 09:00:00',\n",
              " '2020-01-04 10:00:00',\n",
              " '2020-01-04 11:00:00',\n",
              " '2020-01-04 12:00:00',\n",
              " '2020-01-04 13:00:00',\n",
              " '2020-01-04 14:00:00',\n",
              " '2020-01-04 15:00:00',\n",
              " '2020-01-04 16:00:00',\n",
              " '2020-01-04 17:00:00',\n",
              " '2020-01-04 18:00:00',\n",
              " '2020-01-04 19:00:00',\n",
              " '2020-01-04 20:00:00',\n",
              " '2020-01-04 21:00:00',\n",
              " '2020-01-04 22:00:00',\n",
              " '2020-01-04 23:00:00',\n",
              " '2020-01-05 00:00:00',\n",
              " '2020-01-05 01:00:00',\n",
              " '2020-01-05 02:00:00',\n",
              " '2020-01-05 03:00:00',\n",
              " '2020-01-05 04:00:00',\n",
              " '2020-01-05 05:00:00',\n",
              " '2020-01-05 06:00:00',\n",
              " '2020-01-05 07:00:00',\n",
              " '2020-01-05 08:00:00',\n",
              " '2020-01-05 09:00:00',\n",
              " '2020-01-05 10:00:00',\n",
              " '2020-01-05 11:00:00',\n",
              " '2020-01-05 12:00:00',\n",
              " '2020-01-05 13:00:00',\n",
              " '2020-01-05 14:00:00',\n",
              " '2020-01-05 15:00:00',\n",
              " '2020-01-05 16:00:00',\n",
              " '2020-01-05 17:00:00',\n",
              " '2020-01-05 18:00:00',\n",
              " '2020-01-05 19:00:00',\n",
              " '2020-01-05 20:00:00',\n",
              " '2020-01-05 21:00:00',\n",
              " '2020-01-05 22:00:00',\n",
              " '2020-01-05 23:00:00',\n",
              " '2020-01-06 00:00:00',\n",
              " '2020-01-06 01:00:00',\n",
              " '2020-01-06 02:00:00',\n",
              " '2020-01-06 03:00:00',\n",
              " '2020-01-06 04:00:00',\n",
              " '2020-01-06 05:00:00',\n",
              " '2020-01-06 06:00:00',\n",
              " '2020-01-06 07:00:00',\n",
              " '2020-01-06 08:00:00',\n",
              " '2020-01-06 09:00:00',\n",
              " '2020-01-06 10:00:00',\n",
              " '2020-01-06 11:00:00',\n",
              " '2020-01-06 12:00:00',\n",
              " '2020-01-06 13:00:00',\n",
              " '2020-01-06 14:00:00',\n",
              " '2020-01-06 15:00:00',\n",
              " '2020-01-06 16:00:00',\n",
              " '2020-01-06 17:00:00',\n",
              " '2020-01-06 18:00:00',\n",
              " '2020-01-06 19:00:00',\n",
              " '2020-01-06 20:00:00',\n",
              " '2020-01-06 21:00:00',\n",
              " '2020-01-06 22:00:00',\n",
              " '2020-01-06 23:00:00',\n",
              " '2020-01-07 00:00:00',\n",
              " '2020-01-07 01:00:00',\n",
              " '2020-01-07 02:00:00',\n",
              " '2020-01-07 03:00:00',\n",
              " '2020-01-07 04:00:00',\n",
              " '2020-01-07 05:00:00',\n",
              " '2020-01-07 06:00:00',\n",
              " '2020-01-07 07:00:00',\n",
              " '2020-01-07 08:00:00',\n",
              " '2020-01-07 09:00:00',\n",
              " '2020-01-07 10:00:00',\n",
              " '2020-01-07 11:00:00',\n",
              " '2020-01-07 12:00:00',\n",
              " '2020-01-07 13:00:00',\n",
              " '2020-01-07 14:00:00',\n",
              " '2020-01-07 15:00:00',\n",
              " '2020-01-07 16:00:00',\n",
              " '2020-01-07 17:00:00',\n",
              " '2020-01-07 18:00:00',\n",
              " '2020-01-07 19:00:00',\n",
              " '2020-01-07 20:00:00',\n",
              " '2020-01-07 21:00:00',\n",
              " '2020-01-07 22:00:00',\n",
              " '2020-01-07 23:00:00',\n",
              " '2020-01-08 00:00:00']"
            ]
          },
          "metadata": {
            "tags": []
          },
          "execution_count": 36
        }
      ]
    },
    {
      "cell_type": "markdown",
      "metadata": {
        "id": "fuBtnkyLHYRW"
      },
      "source": [
        "Kita dapat mengkonversi string menjadi timestamps dengan melihat formatnya, lalu melihat nilainya"
      ]
    },
    {
      "cell_type": "code",
      "metadata": {
        "colab": {
          "base_uri": "https://localhost:8080/"
        },
        "id": "rwOZgWhSHPqA",
        "outputId": "6b269af1-460e-47f6-8bff-a829805b3493"
      },
      "source": [
        "timestamp_date_rng = pd.to_datetime(string_date_rng, infer_datetime_format=True)\n",
        "timestamp_date_rng"
      ],
      "execution_count": 37,
      "outputs": [
        {
          "output_type": "execute_result",
          "data": {
            "text/plain": [
              "DatetimeIndex(['2020-01-01 00:00:00', '2020-01-01 01:00:00',\n",
              "               '2020-01-01 02:00:00', '2020-01-01 03:00:00',\n",
              "               '2020-01-01 04:00:00', '2020-01-01 05:00:00',\n",
              "               '2020-01-01 06:00:00', '2020-01-01 07:00:00',\n",
              "               '2020-01-01 08:00:00', '2020-01-01 09:00:00',\n",
              "               ...\n",
              "               '2020-01-07 15:00:00', '2020-01-07 16:00:00',\n",
              "               '2020-01-07 17:00:00', '2020-01-07 18:00:00',\n",
              "               '2020-01-07 19:00:00', '2020-01-07 20:00:00',\n",
              "               '2020-01-07 21:00:00', '2020-01-07 22:00:00',\n",
              "               '2020-01-07 23:00:00', '2020-01-08 00:00:00'],\n",
              "              dtype='datetime64[ns]', length=169, freq=None)"
            ]
          },
          "metadata": {
            "tags": []
          },
          "execution_count": 37
        }
      ]
    },
    {
      "cell_type": "markdown",
      "metadata": {
        "id": "NSpC5488Huiq"
      },
      "source": [
        "Tetapi bagaimana jika kita perlu mengubah format unique string?\n",
        "\n",
        "Mari kita buat daftar tanggal yang berubah-ubah menjadi string dan mengubahnya menjadi timestamps"
      ]
    },
    {
      "cell_type": "code",
      "metadata": {
        "colab": {
          "base_uri": "https://localhost:8080/"
        },
        "id": "toyqWdapHlOv",
        "outputId": "f94c5363-8082-47fc-f849-2ceb3bc60cf0"
      },
      "source": [
        "string_date_rng_2 = [\"June-01-2020\", \"June-02-2020\", \"June-03-2020\"]\n",
        "timestamp_date_rng_2 = [datetime.strptime(x, \"%B-%d-%Y\") for x in string_date_rng_2]\n",
        "timestamp_date_rng_2"
      ],
      "execution_count": 38,
      "outputs": [
        {
          "output_type": "execute_result",
          "data": {
            "text/plain": [
              "[datetime.datetime(2020, 6, 1, 0, 0),\n",
              " datetime.datetime(2020, 6, 2, 0, 0),\n",
              " datetime.datetime(2020, 6, 3, 0, 0)]"
            ]
          },
          "metadata": {
            "tags": []
          },
          "execution_count": 38
        }
      ]
    },
    {
      "cell_type": "markdown",
      "metadata": {
        "id": "nndXYxD8IYdy"
      },
      "source": [
        "Seperti apa jadinya jika kita memasukkan ini ke dalam data frame?"
      ]
    },
    {
      "cell_type": "code",
      "metadata": {
        "colab": {
          "base_uri": "https://localhost:8080/",
          "height": 143
        },
        "id": "WhegiM7WIQfD",
        "outputId": "1d5ca738-165e-4c24-c17e-9b01c648164d"
      },
      "source": [
        "df2 = pd.DataFrame(timestamp_date_rng_2, columns=[\"date\"])\n",
        "df2"
      ],
      "execution_count": 39,
      "outputs": [
        {
          "output_type": "execute_result",
          "data": {
            "text/html": [
              "<div>\n",
              "<style scoped>\n",
              "    .dataframe tbody tr th:only-of-type {\n",
              "        vertical-align: middle;\n",
              "    }\n",
              "\n",
              "    .dataframe tbody tr th {\n",
              "        vertical-align: top;\n",
              "    }\n",
              "\n",
              "    .dataframe thead th {\n",
              "        text-align: right;\n",
              "    }\n",
              "</style>\n",
              "<table border=\"1\" class=\"dataframe\">\n",
              "  <thead>\n",
              "    <tr style=\"text-align: right;\">\n",
              "      <th></th>\n",
              "      <th>date</th>\n",
              "    </tr>\n",
              "  </thead>\n",
              "  <tbody>\n",
              "    <tr>\n",
              "      <th>0</th>\n",
              "      <td>2020-06-01</td>\n",
              "    </tr>\n",
              "    <tr>\n",
              "      <th>1</th>\n",
              "      <td>2020-06-02</td>\n",
              "    </tr>\n",
              "    <tr>\n",
              "      <th>2</th>\n",
              "      <td>2020-06-03</td>\n",
              "    </tr>\n",
              "  </tbody>\n",
              "</table>\n",
              "</div>"
            ],
            "text/plain": [
              "        date\n",
              "0 2020-06-01\n",
              "1 2020-06-02\n",
              "2 2020-06-03"
            ]
          },
          "metadata": {
            "tags": []
          },
          "execution_count": 39
        }
      ]
    },
    {
      "cell_type": "markdown",
      "metadata": {
        "id": "8QDSJYkdIkm2"
      },
      "source": [
        "Kembali ke data frame asli kita, mari kita lihat datanya dengan parsing pada timestamp index.\n",
        "\n",
        "Katakanlah kita hanya ingin melihat data di mana tanggalnya addalah tanggal 2 setiap bulannya, kita bisa menggunakan indeks seperti di bawah ini."
      ]
    },
    {
      "cell_type": "code",
      "metadata": {
        "colab": {
          "base_uri": "https://localhost:8080/",
          "height": 833
        },
        "id": "RsD5POHeIiVB",
        "outputId": "f1ae38f2-a76a-4de1-a995-a79d5049c99b"
      },
      "source": [
        "df[df.index.day == 2]"
      ],
      "execution_count": 40,
      "outputs": [
        {
          "output_type": "execute_result",
          "data": {
            "text/html": [
              "<div>\n",
              "<style scoped>\n",
              "    .dataframe tbody tr th:only-of-type {\n",
              "        vertical-align: middle;\n",
              "    }\n",
              "\n",
              "    .dataframe tbody tr th {\n",
              "        vertical-align: top;\n",
              "    }\n",
              "\n",
              "    .dataframe thead th {\n",
              "        text-align: right;\n",
              "    }\n",
              "</style>\n",
              "<table border=\"1\" class=\"dataframe\">\n",
              "  <thead>\n",
              "    <tr style=\"text-align: right;\">\n",
              "      <th></th>\n",
              "      <th>data</th>\n",
              "    </tr>\n",
              "    <tr>\n",
              "      <th>datetime</th>\n",
              "      <th></th>\n",
              "    </tr>\n",
              "  </thead>\n",
              "  <tbody>\n",
              "    <tr>\n",
              "      <th>2020-01-02 00:00:00</th>\n",
              "      <td>67</td>\n",
              "    </tr>\n",
              "    <tr>\n",
              "      <th>2020-01-02 01:00:00</th>\n",
              "      <td>87</td>\n",
              "    </tr>\n",
              "    <tr>\n",
              "      <th>2020-01-02 02:00:00</th>\n",
              "      <td>77</td>\n",
              "    </tr>\n",
              "    <tr>\n",
              "      <th>2020-01-02 03:00:00</th>\n",
              "      <td>50</td>\n",
              "    </tr>\n",
              "    <tr>\n",
              "      <th>2020-01-02 04:00:00</th>\n",
              "      <td>38</td>\n",
              "    </tr>\n",
              "    <tr>\n",
              "      <th>2020-01-02 05:00:00</th>\n",
              "      <td>0</td>\n",
              "    </tr>\n",
              "    <tr>\n",
              "      <th>2020-01-02 06:00:00</th>\n",
              "      <td>24</td>\n",
              "    </tr>\n",
              "    <tr>\n",
              "      <th>2020-01-02 07:00:00</th>\n",
              "      <td>35</td>\n",
              "    </tr>\n",
              "    <tr>\n",
              "      <th>2020-01-02 08:00:00</th>\n",
              "      <td>38</td>\n",
              "    </tr>\n",
              "    <tr>\n",
              "      <th>2020-01-02 09:00:00</th>\n",
              "      <td>22</td>\n",
              "    </tr>\n",
              "    <tr>\n",
              "      <th>2020-01-02 10:00:00</th>\n",
              "      <td>78</td>\n",
              "    </tr>\n",
              "    <tr>\n",
              "      <th>2020-01-02 11:00:00</th>\n",
              "      <td>17</td>\n",
              "    </tr>\n",
              "    <tr>\n",
              "      <th>2020-01-02 12:00:00</th>\n",
              "      <td>44</td>\n",
              "    </tr>\n",
              "    <tr>\n",
              "      <th>2020-01-02 13:00:00</th>\n",
              "      <td>36</td>\n",
              "    </tr>\n",
              "    <tr>\n",
              "      <th>2020-01-02 14:00:00</th>\n",
              "      <td>53</td>\n",
              "    </tr>\n",
              "    <tr>\n",
              "      <th>2020-01-02 15:00:00</th>\n",
              "      <td>38</td>\n",
              "    </tr>\n",
              "    <tr>\n",
              "      <th>2020-01-02 16:00:00</th>\n",
              "      <td>87</td>\n",
              "    </tr>\n",
              "    <tr>\n",
              "      <th>2020-01-02 17:00:00</th>\n",
              "      <td>56</td>\n",
              "    </tr>\n",
              "    <tr>\n",
              "      <th>2020-01-02 18:00:00</th>\n",
              "      <td>86</td>\n",
              "    </tr>\n",
              "    <tr>\n",
              "      <th>2020-01-02 19:00:00</th>\n",
              "      <td>48</td>\n",
              "    </tr>\n",
              "    <tr>\n",
              "      <th>2020-01-02 20:00:00</th>\n",
              "      <td>75</td>\n",
              "    </tr>\n",
              "    <tr>\n",
              "      <th>2020-01-02 21:00:00</th>\n",
              "      <td>89</td>\n",
              "    </tr>\n",
              "    <tr>\n",
              "      <th>2020-01-02 22:00:00</th>\n",
              "      <td>87</td>\n",
              "    </tr>\n",
              "    <tr>\n",
              "      <th>2020-01-02 23:00:00</th>\n",
              "      <td>77</td>\n",
              "    </tr>\n",
              "  </tbody>\n",
              "</table>\n",
              "</div>"
            ],
            "text/plain": [
              "                     data\n",
              "datetime                 \n",
              "2020-01-02 00:00:00    67\n",
              "2020-01-02 01:00:00    87\n",
              "2020-01-02 02:00:00    77\n",
              "2020-01-02 03:00:00    50\n",
              "2020-01-02 04:00:00    38\n",
              "2020-01-02 05:00:00     0\n",
              "2020-01-02 06:00:00    24\n",
              "2020-01-02 07:00:00    35\n",
              "2020-01-02 08:00:00    38\n",
              "2020-01-02 09:00:00    22\n",
              "2020-01-02 10:00:00    78\n",
              "2020-01-02 11:00:00    17\n",
              "2020-01-02 12:00:00    44\n",
              "2020-01-02 13:00:00    36\n",
              "2020-01-02 14:00:00    53\n",
              "2020-01-02 15:00:00    38\n",
              "2020-01-02 16:00:00    87\n",
              "2020-01-02 17:00:00    56\n",
              "2020-01-02 18:00:00    86\n",
              "2020-01-02 19:00:00    48\n",
              "2020-01-02 20:00:00    75\n",
              "2020-01-02 21:00:00    89\n",
              "2020-01-02 22:00:00    87\n",
              "2020-01-02 23:00:00    77"
            ]
          },
          "metadata": {
            "tags": []
          },
          "execution_count": 40
        }
      ]
    },
    {
      "cell_type": "markdown",
      "metadata": {
        "id": "cQTseBRzI6MB"
      },
      "source": [
        "Kita juga bisa langsung memanggil tanggal yang ingin kita lihat melalui index dari data frame "
      ]
    },
    {
      "cell_type": "code",
      "metadata": {
        "colab": {
          "base_uri": "https://localhost:8080/",
          "height": 833
        },
        "id": "0EbXlcIQI0LI",
        "outputId": "29a71f51-e76b-4d0b-b557-4ac3065a8fd4"
      },
      "source": [
        "df[\"2020-01-03\"]"
      ],
      "execution_count": 41,
      "outputs": [
        {
          "output_type": "execute_result",
          "data": {
            "text/html": [
              "<div>\n",
              "<style scoped>\n",
              "    .dataframe tbody tr th:only-of-type {\n",
              "        vertical-align: middle;\n",
              "    }\n",
              "\n",
              "    .dataframe tbody tr th {\n",
              "        vertical-align: top;\n",
              "    }\n",
              "\n",
              "    .dataframe thead th {\n",
              "        text-align: right;\n",
              "    }\n",
              "</style>\n",
              "<table border=\"1\" class=\"dataframe\">\n",
              "  <thead>\n",
              "    <tr style=\"text-align: right;\">\n",
              "      <th></th>\n",
              "      <th>data</th>\n",
              "    </tr>\n",
              "    <tr>\n",
              "      <th>datetime</th>\n",
              "      <th></th>\n",
              "    </tr>\n",
              "  </thead>\n",
              "  <tbody>\n",
              "    <tr>\n",
              "      <th>2020-01-03 00:00:00</th>\n",
              "      <td>64</td>\n",
              "    </tr>\n",
              "    <tr>\n",
              "      <th>2020-01-03 01:00:00</th>\n",
              "      <td>36</td>\n",
              "    </tr>\n",
              "    <tr>\n",
              "      <th>2020-01-03 02:00:00</th>\n",
              "      <td>72</td>\n",
              "    </tr>\n",
              "    <tr>\n",
              "      <th>2020-01-03 03:00:00</th>\n",
              "      <td>38</td>\n",
              "    </tr>\n",
              "    <tr>\n",
              "      <th>2020-01-03 04:00:00</th>\n",
              "      <td>19</td>\n",
              "    </tr>\n",
              "    <tr>\n",
              "      <th>2020-01-03 05:00:00</th>\n",
              "      <td>4</td>\n",
              "    </tr>\n",
              "    <tr>\n",
              "      <th>2020-01-03 06:00:00</th>\n",
              "      <td>47</td>\n",
              "    </tr>\n",
              "    <tr>\n",
              "      <th>2020-01-03 07:00:00</th>\n",
              "      <td>0</td>\n",
              "    </tr>\n",
              "    <tr>\n",
              "      <th>2020-01-03 08:00:00</th>\n",
              "      <td>92</td>\n",
              "    </tr>\n",
              "    <tr>\n",
              "      <th>2020-01-03 09:00:00</th>\n",
              "      <td>18</td>\n",
              "    </tr>\n",
              "    <tr>\n",
              "      <th>2020-01-03 10:00:00</th>\n",
              "      <td>37</td>\n",
              "    </tr>\n",
              "    <tr>\n",
              "      <th>2020-01-03 11:00:00</th>\n",
              "      <td>82</td>\n",
              "    </tr>\n",
              "    <tr>\n",
              "      <th>2020-01-03 12:00:00</th>\n",
              "      <td>28</td>\n",
              "    </tr>\n",
              "    <tr>\n",
              "      <th>2020-01-03 13:00:00</th>\n",
              "      <td>43</td>\n",
              "    </tr>\n",
              "    <tr>\n",
              "      <th>2020-01-03 14:00:00</th>\n",
              "      <td>85</td>\n",
              "    </tr>\n",
              "    <tr>\n",
              "      <th>2020-01-03 15:00:00</th>\n",
              "      <td>99</td>\n",
              "    </tr>\n",
              "    <tr>\n",
              "      <th>2020-01-03 16:00:00</th>\n",
              "      <td>80</td>\n",
              "    </tr>\n",
              "    <tr>\n",
              "      <th>2020-01-03 17:00:00</th>\n",
              "      <td>59</td>\n",
              "    </tr>\n",
              "    <tr>\n",
              "      <th>2020-01-03 18:00:00</th>\n",
              "      <td>96</td>\n",
              "    </tr>\n",
              "    <tr>\n",
              "      <th>2020-01-03 19:00:00</th>\n",
              "      <td>26</td>\n",
              "    </tr>\n",
              "    <tr>\n",
              "      <th>2020-01-03 20:00:00</th>\n",
              "      <td>7</td>\n",
              "    </tr>\n",
              "    <tr>\n",
              "      <th>2020-01-03 21:00:00</th>\n",
              "      <td>76</td>\n",
              "    </tr>\n",
              "    <tr>\n",
              "      <th>2020-01-03 22:00:00</th>\n",
              "      <td>84</td>\n",
              "    </tr>\n",
              "    <tr>\n",
              "      <th>2020-01-03 23:00:00</th>\n",
              "      <td>44</td>\n",
              "    </tr>\n",
              "  </tbody>\n",
              "</table>\n",
              "</div>"
            ],
            "text/plain": [
              "                     data\n",
              "datetime                 \n",
              "2020-01-03 00:00:00    64\n",
              "2020-01-03 01:00:00    36\n",
              "2020-01-03 02:00:00    72\n",
              "2020-01-03 03:00:00    38\n",
              "2020-01-03 04:00:00    19\n",
              "2020-01-03 05:00:00     4\n",
              "2020-01-03 06:00:00    47\n",
              "2020-01-03 07:00:00     0\n",
              "2020-01-03 08:00:00    92\n",
              "2020-01-03 09:00:00    18\n",
              "2020-01-03 10:00:00    37\n",
              "2020-01-03 11:00:00    82\n",
              "2020-01-03 12:00:00    28\n",
              "2020-01-03 13:00:00    43\n",
              "2020-01-03 14:00:00    85\n",
              "2020-01-03 15:00:00    99\n",
              "2020-01-03 16:00:00    80\n",
              "2020-01-03 17:00:00    59\n",
              "2020-01-03 18:00:00    96\n",
              "2020-01-03 19:00:00    26\n",
              "2020-01-03 20:00:00     7\n",
              "2020-01-03 21:00:00    76\n",
              "2020-01-03 22:00:00    84\n",
              "2020-01-03 23:00:00    44"
            ]
          },
          "metadata": {
            "tags": []
          },
          "execution_count": 41
        }
      ]
    },
    {
      "cell_type": "markdown",
      "metadata": {
        "id": "mUzlkuOVJJu_"
      },
      "source": [
        "Bagaimana dengan memilih data di antara tanggal tertentu?"
      ]
    },
    {
      "cell_type": "code",
      "metadata": {
        "colab": {
          "base_uri": "https://localhost:8080/",
          "height": 455
        },
        "id": "VTjDinKZJFdF",
        "outputId": "db5ff6ca-043a-42fe-89cf-d2f1807c960d"
      },
      "source": [
        "df[\"2020-01-04\":\"2020-01-06\"]"
      ],
      "execution_count": 42,
      "outputs": [
        {
          "output_type": "execute_result",
          "data": {
            "text/html": [
              "<div>\n",
              "<style scoped>\n",
              "    .dataframe tbody tr th:only-of-type {\n",
              "        vertical-align: middle;\n",
              "    }\n",
              "\n",
              "    .dataframe tbody tr th {\n",
              "        vertical-align: top;\n",
              "    }\n",
              "\n",
              "    .dataframe thead th {\n",
              "        text-align: right;\n",
              "    }\n",
              "</style>\n",
              "<table border=\"1\" class=\"dataframe\">\n",
              "  <thead>\n",
              "    <tr style=\"text-align: right;\">\n",
              "      <th></th>\n",
              "      <th>data</th>\n",
              "    </tr>\n",
              "    <tr>\n",
              "      <th>datetime</th>\n",
              "      <th></th>\n",
              "    </tr>\n",
              "  </thead>\n",
              "  <tbody>\n",
              "    <tr>\n",
              "      <th>2020-01-04 00:00:00</th>\n",
              "      <td>23</td>\n",
              "    </tr>\n",
              "    <tr>\n",
              "      <th>2020-01-04 01:00:00</th>\n",
              "      <td>91</td>\n",
              "    </tr>\n",
              "    <tr>\n",
              "      <th>2020-01-04 02:00:00</th>\n",
              "      <td>4</td>\n",
              "    </tr>\n",
              "    <tr>\n",
              "      <th>2020-01-04 03:00:00</th>\n",
              "      <td>76</td>\n",
              "    </tr>\n",
              "    <tr>\n",
              "      <th>2020-01-04 04:00:00</th>\n",
              "      <td>31</td>\n",
              "    </tr>\n",
              "    <tr>\n",
              "      <th>...</th>\n",
              "      <td>...</td>\n",
              "    </tr>\n",
              "    <tr>\n",
              "      <th>2020-01-06 19:00:00</th>\n",
              "      <td>52</td>\n",
              "    </tr>\n",
              "    <tr>\n",
              "      <th>2020-01-06 20:00:00</th>\n",
              "      <td>93</td>\n",
              "    </tr>\n",
              "    <tr>\n",
              "      <th>2020-01-06 21:00:00</th>\n",
              "      <td>94</td>\n",
              "    </tr>\n",
              "    <tr>\n",
              "      <th>2020-01-06 22:00:00</th>\n",
              "      <td>79</td>\n",
              "    </tr>\n",
              "    <tr>\n",
              "      <th>2020-01-06 23:00:00</th>\n",
              "      <td>32</td>\n",
              "    </tr>\n",
              "  </tbody>\n",
              "</table>\n",
              "<p>72 rows × 1 columns</p>\n",
              "</div>"
            ],
            "text/plain": [
              "                     data\n",
              "datetime                 \n",
              "2020-01-04 00:00:00    23\n",
              "2020-01-04 01:00:00    91\n",
              "2020-01-04 02:00:00     4\n",
              "2020-01-04 03:00:00    76\n",
              "2020-01-04 04:00:00    31\n",
              "...                   ...\n",
              "2020-01-06 19:00:00    52\n",
              "2020-01-06 20:00:00    93\n",
              "2020-01-06 21:00:00    94\n",
              "2020-01-06 22:00:00    79\n",
              "2020-01-06 23:00:00    32\n",
              "\n",
              "[72 rows x 1 columns]"
            ]
          },
          "metadata": {
            "tags": []
          },
          "execution_count": 42
        }
      ]
    },
    {
      "cell_type": "markdown",
      "metadata": {
        "id": "khm-U_UXJUkO"
      },
      "source": [
        "Basic data frame yang telah kita buat memberi kita data dengan frekuensi per jam, tetapi kita dapat mengambil ualng sampel/resample data pada frekuensi yang berbeda dan menentukan bagaimana kita ingin menghitung summary statistic untuk frekuensi sampel baru.\n",
        "\n",
        "Kita dapat mengambil min, max, average, sum, dll. Dari data pada frekuensi harian daripada frekuensi per jam seperti contoh di bawah ini, tempat kita menghitung rata-rata harian dai data"
      ]
    },
    {
      "cell_type": "code",
      "metadata": {
        "colab": {
          "base_uri": "https://localhost:8080/",
          "height": 331
        },
        "id": "ekMwQUmWJRec",
        "outputId": "bbb0b42e-a631-470c-cd0d-34f4b31e806f"
      },
      "source": [
        "df.resample(\"D\").mean()"
      ],
      "execution_count": 43,
      "outputs": [
        {
          "output_type": "execute_result",
          "data": {
            "text/html": [
              "<div>\n",
              "<style scoped>\n",
              "    .dataframe tbody tr th:only-of-type {\n",
              "        vertical-align: middle;\n",
              "    }\n",
              "\n",
              "    .dataframe tbody tr th {\n",
              "        vertical-align: top;\n",
              "    }\n",
              "\n",
              "    .dataframe thead th {\n",
              "        text-align: right;\n",
              "    }\n",
              "</style>\n",
              "<table border=\"1\" class=\"dataframe\">\n",
              "  <thead>\n",
              "    <tr style=\"text-align: right;\">\n",
              "      <th></th>\n",
              "      <th>data</th>\n",
              "    </tr>\n",
              "    <tr>\n",
              "      <th>datetime</th>\n",
              "      <th></th>\n",
              "    </tr>\n",
              "  </thead>\n",
              "  <tbody>\n",
              "    <tr>\n",
              "      <th>2020-01-01</th>\n",
              "      <td>52.000000</td>\n",
              "    </tr>\n",
              "    <tr>\n",
              "      <th>2020-01-02</th>\n",
              "      <td>54.541667</td>\n",
              "    </tr>\n",
              "    <tr>\n",
              "      <th>2020-01-03</th>\n",
              "      <td>51.500000</td>\n",
              "    </tr>\n",
              "    <tr>\n",
              "      <th>2020-01-04</th>\n",
              "      <td>56.708333</td>\n",
              "    </tr>\n",
              "    <tr>\n",
              "      <th>2020-01-05</th>\n",
              "      <td>57.083333</td>\n",
              "    </tr>\n",
              "    <tr>\n",
              "      <th>2020-01-06</th>\n",
              "      <td>55.250000</td>\n",
              "    </tr>\n",
              "    <tr>\n",
              "      <th>2020-01-07</th>\n",
              "      <td>49.250000</td>\n",
              "    </tr>\n",
              "    <tr>\n",
              "      <th>2020-01-08</th>\n",
              "      <td>41.000000</td>\n",
              "    </tr>\n",
              "  </tbody>\n",
              "</table>\n",
              "</div>"
            ],
            "text/plain": [
              "                 data\n",
              "datetime             \n",
              "2020-01-01  52.000000\n",
              "2020-01-02  54.541667\n",
              "2020-01-03  51.500000\n",
              "2020-01-04  56.708333\n",
              "2020-01-05  57.083333\n",
              "2020-01-06  55.250000\n",
              "2020-01-07  49.250000\n",
              "2020-01-08  41.000000"
            ]
          },
          "metadata": {
            "tags": []
          },
          "execution_count": 43
        }
      ]
    },
    {
      "cell_type": "markdown",
      "metadata": {
        "id": "ZSRlE6cZJ9ON"
      },
      "source": [
        "Bagaimana dengan window statistics seperti rolling mean atau rolling sum?\n",
        "\n",
        "Mari buat kolom baru di df asli kita yang menghitung rolling sum selama periode 3 window dan kemudian lihat di bagian atas data frame"
      ]
    },
    {
      "cell_type": "code",
      "metadata": {
        "colab": {
          "base_uri": "https://localhost:8080/",
          "height": 237
        },
        "id": "LXWs3dvgJzwb",
        "outputId": "11c6636f-ad1a-446d-8a29-add51f425ee2"
      },
      "source": [
        "df[\"rolling_sum\"] = df.rolling(3).sum()\n",
        "df.head()"
      ],
      "execution_count": 44,
      "outputs": [
        {
          "output_type": "execute_result",
          "data": {
            "text/html": [
              "<div>\n",
              "<style scoped>\n",
              "    .dataframe tbody tr th:only-of-type {\n",
              "        vertical-align: middle;\n",
              "    }\n",
              "\n",
              "    .dataframe tbody tr th {\n",
              "        vertical-align: top;\n",
              "    }\n",
              "\n",
              "    .dataframe thead th {\n",
              "        text-align: right;\n",
              "    }\n",
              "</style>\n",
              "<table border=\"1\" class=\"dataframe\">\n",
              "  <thead>\n",
              "    <tr style=\"text-align: right;\">\n",
              "      <th></th>\n",
              "      <th>data</th>\n",
              "      <th>rolling_sum</th>\n",
              "    </tr>\n",
              "    <tr>\n",
              "      <th>datetime</th>\n",
              "      <th></th>\n",
              "      <th></th>\n",
              "    </tr>\n",
              "  </thead>\n",
              "  <tbody>\n",
              "    <tr>\n",
              "      <th>2020-01-01 00:00:00</th>\n",
              "      <td>59</td>\n",
              "      <td>NaN</td>\n",
              "    </tr>\n",
              "    <tr>\n",
              "      <th>2020-01-01 01:00:00</th>\n",
              "      <td>86</td>\n",
              "      <td>NaN</td>\n",
              "    </tr>\n",
              "    <tr>\n",
              "      <th>2020-01-01 02:00:00</th>\n",
              "      <td>27</td>\n",
              "      <td>172.0</td>\n",
              "    </tr>\n",
              "    <tr>\n",
              "      <th>2020-01-01 03:00:00</th>\n",
              "      <td>72</td>\n",
              "      <td>185.0</td>\n",
              "    </tr>\n",
              "    <tr>\n",
              "      <th>2020-01-01 04:00:00</th>\n",
              "      <td>65</td>\n",
              "      <td>164.0</td>\n",
              "    </tr>\n",
              "  </tbody>\n",
              "</table>\n",
              "</div>"
            ],
            "text/plain": [
              "                     data  rolling_sum\n",
              "datetime                              \n",
              "2020-01-01 00:00:00    59          NaN\n",
              "2020-01-01 01:00:00    86          NaN\n",
              "2020-01-01 02:00:00    27        172.0\n",
              "2020-01-01 03:00:00    72        185.0\n",
              "2020-01-01 04:00:00    65        164.0"
            ]
          },
          "metadata": {
            "tags": []
          },
          "execution_count": 44
        }
      ]
    },
    {
      "cell_type": "markdown",
      "metadata": {
        "id": "aGaLGmb0KRle"
      },
      "source": [
        "Kita dapat melihat bahwa pandas menghitung dengan benar dan hanya memiliki nilai yang valid ketika ada tiga periode untuk melihat ke belakang\n",
        "\n",
        "Ini adalah kesempatan bagus untuk melihat bagaimana kita dapat melakukan formward or backfilling data saat bekerja dengan nilai data yang hilang\n",
        "\n",
        "Berikut df kita, tetapi dengan kolom baru yang mengambil rolling sum dan backfills data"
      ]
    },
    {
      "cell_type": "code",
      "metadata": {
        "colab": {
          "base_uri": "https://localhost:8080/",
          "height": 237
        },
        "id": "T4c6i2KMKPfW",
        "outputId": "6ee62c58-f160-403c-97b2-c2af118c3646"
      },
      "source": [
        "df[\"rolling_sum_backfilled\"] = df[\"rolling_sum\"].fillna(method=\"backfill\")\n",
        "df.head()"
      ],
      "execution_count": 46,
      "outputs": [
        {
          "output_type": "execute_result",
          "data": {
            "text/html": [
              "<div>\n",
              "<style scoped>\n",
              "    .dataframe tbody tr th:only-of-type {\n",
              "        vertical-align: middle;\n",
              "    }\n",
              "\n",
              "    .dataframe tbody tr th {\n",
              "        vertical-align: top;\n",
              "    }\n",
              "\n",
              "    .dataframe thead th {\n",
              "        text-align: right;\n",
              "    }\n",
              "</style>\n",
              "<table border=\"1\" class=\"dataframe\">\n",
              "  <thead>\n",
              "    <tr style=\"text-align: right;\">\n",
              "      <th></th>\n",
              "      <th>data</th>\n",
              "      <th>rolling_sum</th>\n",
              "      <th>rolling_sum_backfilled</th>\n",
              "    </tr>\n",
              "    <tr>\n",
              "      <th>datetime</th>\n",
              "      <th></th>\n",
              "      <th></th>\n",
              "      <th></th>\n",
              "    </tr>\n",
              "  </thead>\n",
              "  <tbody>\n",
              "    <tr>\n",
              "      <th>2020-01-01 00:00:00</th>\n",
              "      <td>59</td>\n",
              "      <td>NaN</td>\n",
              "      <td>172.0</td>\n",
              "    </tr>\n",
              "    <tr>\n",
              "      <th>2020-01-01 01:00:00</th>\n",
              "      <td>86</td>\n",
              "      <td>NaN</td>\n",
              "      <td>172.0</td>\n",
              "    </tr>\n",
              "    <tr>\n",
              "      <th>2020-01-01 02:00:00</th>\n",
              "      <td>27</td>\n",
              "      <td>172.0</td>\n",
              "      <td>172.0</td>\n",
              "    </tr>\n",
              "    <tr>\n",
              "      <th>2020-01-01 03:00:00</th>\n",
              "      <td>72</td>\n",
              "      <td>185.0</td>\n",
              "      <td>185.0</td>\n",
              "    </tr>\n",
              "    <tr>\n",
              "      <th>2020-01-01 04:00:00</th>\n",
              "      <td>65</td>\n",
              "      <td>164.0</td>\n",
              "      <td>164.0</td>\n",
              "    </tr>\n",
              "  </tbody>\n",
              "</table>\n",
              "</div>"
            ],
            "text/plain": [
              "                     data  rolling_sum  rolling_sum_backfilled\n",
              "datetime                                                      \n",
              "2020-01-01 00:00:00    59          NaN                   172.0\n",
              "2020-01-01 01:00:00    86          NaN                   172.0\n",
              "2020-01-01 02:00:00    27        172.0                   172.0\n",
              "2020-01-01 03:00:00    72        185.0                   185.0\n",
              "2020-01-01 04:00:00    65        164.0                   164.0"
            ]
          },
          "metadata": {
            "tags": []
          },
          "execution_count": 46
        }
      ]
    },
    {
      "cell_type": "markdown",
      "metadata": {
        "id": "xhHeVGM9KyMk"
      },
      "source": [
        "## Time Series on Dataset"
      ]
    },
    {
      "cell_type": "code",
      "metadata": {
        "colab": {
          "base_uri": "https://localhost:8080/"
        },
        "id": "wpu4ykdsKsig",
        "outputId": "af5abbd6-9945-4a98-dbb0-ffc97ed388d2"
      },
      "source": [
        "opsd_daily = pd.read_csv('https://raw.githubusercontent.com/ardhiraka/PFDS_sources/master/opsd_germany_daily.csv')\n",
        "opsd_daily.shape"
      ],
      "execution_count": 47,
      "outputs": [
        {
          "output_type": "execute_result",
          "data": {
            "text/plain": [
              "(4383, 5)"
            ]
          },
          "metadata": {
            "tags": []
          },
          "execution_count": 47
        }
      ]
    },
    {
      "cell_type": "code",
      "metadata": {
        "colab": {
          "base_uri": "https://localhost:8080/",
          "height": 143
        },
        "id": "9Bj36_2vLDtM",
        "outputId": "8001e9d6-51cf-45a1-b68d-565ef8589bd0"
      },
      "source": [
        "opsd_daily.head(3)"
      ],
      "execution_count": 48,
      "outputs": [
        {
          "output_type": "execute_result",
          "data": {
            "text/html": [
              "<div>\n",
              "<style scoped>\n",
              "    .dataframe tbody tr th:only-of-type {\n",
              "        vertical-align: middle;\n",
              "    }\n",
              "\n",
              "    .dataframe tbody tr th {\n",
              "        vertical-align: top;\n",
              "    }\n",
              "\n",
              "    .dataframe thead th {\n",
              "        text-align: right;\n",
              "    }\n",
              "</style>\n",
              "<table border=\"1\" class=\"dataframe\">\n",
              "  <thead>\n",
              "    <tr style=\"text-align: right;\">\n",
              "      <th></th>\n",
              "      <th>Date</th>\n",
              "      <th>Consumption</th>\n",
              "      <th>Wind</th>\n",
              "      <th>Solar</th>\n",
              "      <th>Wind+Solar</th>\n",
              "    </tr>\n",
              "  </thead>\n",
              "  <tbody>\n",
              "    <tr>\n",
              "      <th>0</th>\n",
              "      <td>2006-01-01</td>\n",
              "      <td>1069.184</td>\n",
              "      <td>NaN</td>\n",
              "      <td>NaN</td>\n",
              "      <td>NaN</td>\n",
              "    </tr>\n",
              "    <tr>\n",
              "      <th>1</th>\n",
              "      <td>2006-01-02</td>\n",
              "      <td>1380.521</td>\n",
              "      <td>NaN</td>\n",
              "      <td>NaN</td>\n",
              "      <td>NaN</td>\n",
              "    </tr>\n",
              "    <tr>\n",
              "      <th>2</th>\n",
              "      <td>2006-01-03</td>\n",
              "      <td>1442.533</td>\n",
              "      <td>NaN</td>\n",
              "      <td>NaN</td>\n",
              "      <td>NaN</td>\n",
              "    </tr>\n",
              "  </tbody>\n",
              "</table>\n",
              "</div>"
            ],
            "text/plain": [
              "         Date  Consumption  Wind  Solar  Wind+Solar\n",
              "0  2006-01-01     1069.184   NaN    NaN         NaN\n",
              "1  2006-01-02     1380.521   NaN    NaN         NaN\n",
              "2  2006-01-03     1442.533   NaN    NaN         NaN"
            ]
          },
          "metadata": {
            "tags": []
          },
          "execution_count": 48
        }
      ]
    },
    {
      "cell_type": "code",
      "metadata": {
        "colab": {
          "base_uri": "https://localhost:8080/",
          "height": 143
        },
        "id": "T1uBvVyIL9GQ",
        "outputId": "8fa1e839-8b3b-4a26-b696-510e64483652"
      },
      "source": [
        "opsd_daily.tail(3)"
      ],
      "execution_count": 49,
      "outputs": [
        {
          "output_type": "execute_result",
          "data": {
            "text/html": [
              "<div>\n",
              "<style scoped>\n",
              "    .dataframe tbody tr th:only-of-type {\n",
              "        vertical-align: middle;\n",
              "    }\n",
              "\n",
              "    .dataframe tbody tr th {\n",
              "        vertical-align: top;\n",
              "    }\n",
              "\n",
              "    .dataframe thead th {\n",
              "        text-align: right;\n",
              "    }\n",
              "</style>\n",
              "<table border=\"1\" class=\"dataframe\">\n",
              "  <thead>\n",
              "    <tr style=\"text-align: right;\">\n",
              "      <th></th>\n",
              "      <th>Date</th>\n",
              "      <th>Consumption</th>\n",
              "      <th>Wind</th>\n",
              "      <th>Solar</th>\n",
              "      <th>Wind+Solar</th>\n",
              "    </tr>\n",
              "  </thead>\n",
              "  <tbody>\n",
              "    <tr>\n",
              "      <th>4380</th>\n",
              "      <td>2017-12-29</td>\n",
              "      <td>1295.08753</td>\n",
              "      <td>584.277</td>\n",
              "      <td>29.854</td>\n",
              "      <td>614.131</td>\n",
              "    </tr>\n",
              "    <tr>\n",
              "      <th>4381</th>\n",
              "      <td>2017-12-30</td>\n",
              "      <td>1215.44897</td>\n",
              "      <td>721.247</td>\n",
              "      <td>7.467</td>\n",
              "      <td>728.714</td>\n",
              "    </tr>\n",
              "    <tr>\n",
              "      <th>4382</th>\n",
              "      <td>2017-12-31</td>\n",
              "      <td>1107.11488</td>\n",
              "      <td>721.176</td>\n",
              "      <td>19.980</td>\n",
              "      <td>741.156</td>\n",
              "    </tr>\n",
              "  </tbody>\n",
              "</table>\n",
              "</div>"
            ],
            "text/plain": [
              "            Date  Consumption     Wind   Solar  Wind+Solar\n",
              "4380  2017-12-29   1295.08753  584.277  29.854     614.131\n",
              "4381  2017-12-30   1215.44897  721.247   7.467     728.714\n",
              "4382  2017-12-31   1107.11488  721.176  19.980     741.156"
            ]
          },
          "metadata": {
            "tags": []
          },
          "execution_count": 49
        }
      ]
    },
    {
      "cell_type": "markdown",
      "metadata": {
        "id": "OOewRwt2TMob"
      },
      "source": [
        "Karena kolom Date adalah tipe data yang benar, mari kita set sebagai indeks DataFrame"
      ]
    },
    {
      "cell_type": "code",
      "metadata": {
        "colab": {
          "base_uri": "https://localhost:8080/",
          "height": 175
        },
        "id": "8J9lGoHCTBYz",
        "outputId": "e1bd4124-ccdd-43a8-97d0-5547858756b0"
      },
      "source": [
        "opsd_daily = opsd_daily.set_index(\"Date\")\n",
        "opsd_daily.head(3)"
      ],
      "execution_count": 50,
      "outputs": [
        {
          "output_type": "execute_result",
          "data": {
            "text/html": [
              "<div>\n",
              "<style scoped>\n",
              "    .dataframe tbody tr th:only-of-type {\n",
              "        vertical-align: middle;\n",
              "    }\n",
              "\n",
              "    .dataframe tbody tr th {\n",
              "        vertical-align: top;\n",
              "    }\n",
              "\n",
              "    .dataframe thead th {\n",
              "        text-align: right;\n",
              "    }\n",
              "</style>\n",
              "<table border=\"1\" class=\"dataframe\">\n",
              "  <thead>\n",
              "    <tr style=\"text-align: right;\">\n",
              "      <th></th>\n",
              "      <th>Consumption</th>\n",
              "      <th>Wind</th>\n",
              "      <th>Solar</th>\n",
              "      <th>Wind+Solar</th>\n",
              "    </tr>\n",
              "    <tr>\n",
              "      <th>Date</th>\n",
              "      <th></th>\n",
              "      <th></th>\n",
              "      <th></th>\n",
              "      <th></th>\n",
              "    </tr>\n",
              "  </thead>\n",
              "  <tbody>\n",
              "    <tr>\n",
              "      <th>2006-01-01</th>\n",
              "      <td>1069.184</td>\n",
              "      <td>NaN</td>\n",
              "      <td>NaN</td>\n",
              "      <td>NaN</td>\n",
              "    </tr>\n",
              "    <tr>\n",
              "      <th>2006-01-02</th>\n",
              "      <td>1380.521</td>\n",
              "      <td>NaN</td>\n",
              "      <td>NaN</td>\n",
              "      <td>NaN</td>\n",
              "    </tr>\n",
              "    <tr>\n",
              "      <th>2006-01-03</th>\n",
              "      <td>1442.533</td>\n",
              "      <td>NaN</td>\n",
              "      <td>NaN</td>\n",
              "      <td>NaN</td>\n",
              "    </tr>\n",
              "  </tbody>\n",
              "</table>\n",
              "</div>"
            ],
            "text/plain": [
              "            Consumption  Wind  Solar  Wind+Solar\n",
              "Date                                            \n",
              "2006-01-01     1069.184   NaN    NaN         NaN\n",
              "2006-01-02     1380.521   NaN    NaN         NaN\n",
              "2006-01-03     1442.533   NaN    NaN         NaN"
            ]
          },
          "metadata": {
            "tags": []
          },
          "execution_count": 50
        }
      ]
    },
    {
      "cell_type": "code",
      "metadata": {
        "colab": {
          "base_uri": "https://localhost:8080/"
        },
        "id": "wAkm50SyTLo6",
        "outputId": "beef50f2-b4e6-49e6-e700-b10b0d47e22c"
      },
      "source": [
        "opsd_daily.index"
      ],
      "execution_count": 51,
      "outputs": [
        {
          "output_type": "execute_result",
          "data": {
            "text/plain": [
              "Index(['2006-01-01', '2006-01-02', '2006-01-03', '2006-01-04', '2006-01-05',\n",
              "       '2006-01-06', '2006-01-07', '2006-01-08', '2006-01-09', '2006-01-10',\n",
              "       ...\n",
              "       '2017-12-22', '2017-12-23', '2017-12-24', '2017-12-25', '2017-12-26',\n",
              "       '2017-12-27', '2017-12-28', '2017-12-29', '2017-12-30', '2017-12-31'],\n",
              "      dtype='object', name='Date', length=4383)"
            ]
          },
          "metadata": {
            "tags": []
          },
          "execution_count": 51
        }
      ]
    },
    {
      "cell_type": "markdown",
      "metadata": {
        "id": "6zmafytSTYYb"
      },
      "source": [
        "Alternatifnya, kita bisa menggabungkan langkah-langkah di atas menjadi satu baris, menggunakan parameter index_col dan parse _dates dari fungsi read_csv(). Ini seringkali merupakan jalan pintas yang berguna."
      ]
    },
    {
      "cell_type": "code",
      "metadata": {
        "colab": {
          "base_uri": "https://localhost:8080/",
          "height": 237
        },
        "id": "nkjrVOEhTWid",
        "outputId": "ec907b64-aa89-4a49-a661-06aabba8986b"
      },
      "source": [
        "opsd_daily = pd.read_csv('https://raw.githubusercontent.com/ardhiraka/PFDS_sources/master/opsd_germany_daily.csv',\n",
        "                         index_col=0, parse_dates=True)\n",
        "opsd_daily.head()"
      ],
      "execution_count": 52,
      "outputs": [
        {
          "output_type": "execute_result",
          "data": {
            "text/html": [
              "<div>\n",
              "<style scoped>\n",
              "    .dataframe tbody tr th:only-of-type {\n",
              "        vertical-align: middle;\n",
              "    }\n",
              "\n",
              "    .dataframe tbody tr th {\n",
              "        vertical-align: top;\n",
              "    }\n",
              "\n",
              "    .dataframe thead th {\n",
              "        text-align: right;\n",
              "    }\n",
              "</style>\n",
              "<table border=\"1\" class=\"dataframe\">\n",
              "  <thead>\n",
              "    <tr style=\"text-align: right;\">\n",
              "      <th></th>\n",
              "      <th>Consumption</th>\n",
              "      <th>Wind</th>\n",
              "      <th>Solar</th>\n",
              "      <th>Wind+Solar</th>\n",
              "    </tr>\n",
              "    <tr>\n",
              "      <th>Date</th>\n",
              "      <th></th>\n",
              "      <th></th>\n",
              "      <th></th>\n",
              "      <th></th>\n",
              "    </tr>\n",
              "  </thead>\n",
              "  <tbody>\n",
              "    <tr>\n",
              "      <th>2006-01-01</th>\n",
              "      <td>1069.184</td>\n",
              "      <td>NaN</td>\n",
              "      <td>NaN</td>\n",
              "      <td>NaN</td>\n",
              "    </tr>\n",
              "    <tr>\n",
              "      <th>2006-01-02</th>\n",
              "      <td>1380.521</td>\n",
              "      <td>NaN</td>\n",
              "      <td>NaN</td>\n",
              "      <td>NaN</td>\n",
              "    </tr>\n",
              "    <tr>\n",
              "      <th>2006-01-03</th>\n",
              "      <td>1442.533</td>\n",
              "      <td>NaN</td>\n",
              "      <td>NaN</td>\n",
              "      <td>NaN</td>\n",
              "    </tr>\n",
              "    <tr>\n",
              "      <th>2006-01-04</th>\n",
              "      <td>1457.217</td>\n",
              "      <td>NaN</td>\n",
              "      <td>NaN</td>\n",
              "      <td>NaN</td>\n",
              "    </tr>\n",
              "    <tr>\n",
              "      <th>2006-01-05</th>\n",
              "      <td>1477.131</td>\n",
              "      <td>NaN</td>\n",
              "      <td>NaN</td>\n",
              "      <td>NaN</td>\n",
              "    </tr>\n",
              "  </tbody>\n",
              "</table>\n",
              "</div>"
            ],
            "text/plain": [
              "            Consumption  Wind  Solar  Wind+Solar\n",
              "Date                                            \n",
              "2006-01-01     1069.184   NaN    NaN         NaN\n",
              "2006-01-02     1380.521   NaN    NaN         NaN\n",
              "2006-01-03     1442.533   NaN    NaN         NaN\n",
              "2006-01-04     1457.217   NaN    NaN         NaN\n",
              "2006-01-05     1477.131   NaN    NaN         NaN"
            ]
          },
          "metadata": {
            "tags": []
          },
          "execution_count": 52
        }
      ]
    },
    {
      "cell_type": "markdown",
      "metadata": {
        "id": "jjDOfEaqT98R"
      },
      "source": [
        "Aspek berguna lainnya dari DatetimeIndex adalah bahwa setiap komponen tanggal / waktu tersedia sebagai atribut seperti tahun, bulan, hari, dan seterusnya. Mari tambahkan beberapa kolom lagi ke opsd_daily, yang berisi tahun, bulan, dan hari kerja."
      ]
    },
    {
      "cell_type": "code",
      "metadata": {
        "colab": {
          "base_uri": "https://localhost:8080/"
        },
        "id": "z6z6f65TT7RJ",
        "outputId": "9f126a31-57a3-4a39-b8ee-e14a72052133"
      },
      "source": [
        "opsd_daily[\"Year\"] = opsd_daily.index.year\n",
        "opsd_daily[\"Month\"] = opsd_daily.index.month\n",
        "opsd_daily[\"Weekday\"] = opsd_daily.index.weekday\n",
        "opsd_daily.head"
      ],
      "execution_count": 53,
      "outputs": [
        {
          "output_type": "execute_result",
          "data": {
            "text/plain": [
              "<bound method NDFrame.head of             Consumption     Wind   Solar  Wind+Solar  Year  Month  Weekday\n",
              "Date                                                                      \n",
              "2006-01-01   1069.18400      NaN     NaN         NaN  2006      1        6\n",
              "2006-01-02   1380.52100      NaN     NaN         NaN  2006      1        0\n",
              "2006-01-03   1442.53300      NaN     NaN         NaN  2006      1        1\n",
              "2006-01-04   1457.21700      NaN     NaN         NaN  2006      1        2\n",
              "2006-01-05   1477.13100      NaN     NaN         NaN  2006      1        3\n",
              "...                 ...      ...     ...         ...   ...    ...      ...\n",
              "2017-12-27   1263.94091  394.507  16.530     411.037  2017     12        2\n",
              "2017-12-28   1299.86398  506.424  14.162     520.586  2017     12        3\n",
              "2017-12-29   1295.08753  584.277  29.854     614.131  2017     12        4\n",
              "2017-12-30   1215.44897  721.247   7.467     728.714  2017     12        5\n",
              "2017-12-31   1107.11488  721.176  19.980     741.156  2017     12        6\n",
              "\n",
              "[4383 rows x 7 columns]>"
            ]
          },
          "metadata": {
            "tags": []
          },
          "execution_count": 53
        }
      ]
    },
    {
      "cell_type": "markdown",
      "metadata": {
        "id": "B_vhW_QQUiEk"
      },
      "source": [
        "Kita dapat memilih data untuk satu hari menggunakan string seperti '2017-08-10'"
      ]
    },
    {
      "cell_type": "code",
      "metadata": {
        "colab": {
          "base_uri": "https://localhost:8080/"
        },
        "id": "EGaYrPFXUZor",
        "outputId": "f6c899ba-6f93-4a0f-9cc0-ac9ed5a4840f"
      },
      "source": [
        "opsd_daily.loc[\"2017-08-10\"]"
      ],
      "execution_count": 54,
      "outputs": [
        {
          "output_type": "execute_result",
          "data": {
            "text/plain": [
              "Consumption    1351.491\n",
              "Wind            100.274\n",
              "Solar            71.160\n",
              "Wind+Solar      171.434\n",
              "Year           2017.000\n",
              "Month             8.000\n",
              "Weekday           3.000\n",
              "Name: 2017-08-10 00:00:00, dtype: float64"
            ]
          },
          "metadata": {
            "tags": []
          },
          "execution_count": 54
        }
      ]
    },
    {
      "cell_type": "markdown",
      "metadata": {
        "id": "9FhzlOH5UtKU"
      },
      "source": [
        "Kita juga dapat memilih slice dari hari, seperti \"2014-01-20\":\"2014-01-22\". Seperti pengindeksan berbasis label biasa dengan loc, slice tersebut menyertakan kedua titik akhir."
      ]
    },
    {
      "cell_type": "code",
      "metadata": {
        "colab": {
          "base_uri": "https://localhost:8080/",
          "height": 175
        },
        "id": "IyixS26PUq3z",
        "outputId": "1df529cd-a133-4394-e05a-ba76f32c59f1"
      },
      "source": [
        "opsd_daily.loc[\"2014-01-20\":\"2014-01-22\"]"
      ],
      "execution_count": 55,
      "outputs": [
        {
          "output_type": "execute_result",
          "data": {
            "text/html": [
              "<div>\n",
              "<style scoped>\n",
              "    .dataframe tbody tr th:only-of-type {\n",
              "        vertical-align: middle;\n",
              "    }\n",
              "\n",
              "    .dataframe tbody tr th {\n",
              "        vertical-align: top;\n",
              "    }\n",
              "\n",
              "    .dataframe thead th {\n",
              "        text-align: right;\n",
              "    }\n",
              "</style>\n",
              "<table border=\"1\" class=\"dataframe\">\n",
              "  <thead>\n",
              "    <tr style=\"text-align: right;\">\n",
              "      <th></th>\n",
              "      <th>Consumption</th>\n",
              "      <th>Wind</th>\n",
              "      <th>Solar</th>\n",
              "      <th>Wind+Solar</th>\n",
              "      <th>Year</th>\n",
              "      <th>Month</th>\n",
              "      <th>Weekday</th>\n",
              "    </tr>\n",
              "    <tr>\n",
              "      <th>Date</th>\n",
              "      <th></th>\n",
              "      <th></th>\n",
              "      <th></th>\n",
              "      <th></th>\n",
              "      <th></th>\n",
              "      <th></th>\n",
              "      <th></th>\n",
              "    </tr>\n",
              "  </thead>\n",
              "  <tbody>\n",
              "    <tr>\n",
              "      <th>2014-01-20</th>\n",
              "      <td>1590.687</td>\n",
              "      <td>78.647</td>\n",
              "      <td>6.371</td>\n",
              "      <td>85.018</td>\n",
              "      <td>2014</td>\n",
              "      <td>1</td>\n",
              "      <td>0</td>\n",
              "    </tr>\n",
              "    <tr>\n",
              "      <th>2014-01-21</th>\n",
              "      <td>1624.806</td>\n",
              "      <td>15.643</td>\n",
              "      <td>5.835</td>\n",
              "      <td>21.478</td>\n",
              "      <td>2014</td>\n",
              "      <td>1</td>\n",
              "      <td>1</td>\n",
              "    </tr>\n",
              "    <tr>\n",
              "      <th>2014-01-22</th>\n",
              "      <td>1625.155</td>\n",
              "      <td>60.259</td>\n",
              "      <td>11.992</td>\n",
              "      <td>72.251</td>\n",
              "      <td>2014</td>\n",
              "      <td>1</td>\n",
              "      <td>2</td>\n",
              "    </tr>\n",
              "  </tbody>\n",
              "</table>\n",
              "</div>"
            ],
            "text/plain": [
              "            Consumption    Wind   Solar  Wind+Solar  Year  Month  Weekday\n",
              "Date                                                                     \n",
              "2014-01-20     1590.687  78.647   6.371      85.018  2014      1        0\n",
              "2014-01-21     1624.806  15.643   5.835      21.478  2014      1        1\n",
              "2014-01-22     1625.155  60.259  11.992      72.251  2014      1        2"
            ]
          },
          "metadata": {
            "tags": []
          },
          "execution_count": 55
        }
      ]
    },
    {
      "cell_type": "markdown",
      "metadata": {
        "id": "UtIn2s04VE5H"
      },
      "source": [
        "Fitur lain yang sangat berguna dari time series pandas adalah partial-string indexing, di mana kita dapat memilih semua tanggal/ waktu yang sebagian cocok dengan string yang diberikan. Misalnya, kita dapat memilih seluruh tahun 2006 dengan **opsd_daily.loc[\"2006\"]**, atau seluruh bulan Februari dengan **opsd_daily.loc[\"2012-02\"]**"
      ]
    },
    {
      "cell_type": "code",
      "metadata": {
        "colab": {
          "base_uri": "https://localhost:8080/",
          "height": 989
        },
        "id": "3tQIktLRVBK1",
        "outputId": "4f236dff-52d6-4fc4-d74d-a5b972b9b068"
      },
      "source": [
        "opsd_daily.loc[\"2012-02\"]"
      ],
      "execution_count": 56,
      "outputs": [
        {
          "output_type": "execute_result",
          "data": {
            "text/html": [
              "<div>\n",
              "<style scoped>\n",
              "    .dataframe tbody tr th:only-of-type {\n",
              "        vertical-align: middle;\n",
              "    }\n",
              "\n",
              "    .dataframe tbody tr th {\n",
              "        vertical-align: top;\n",
              "    }\n",
              "\n",
              "    .dataframe thead th {\n",
              "        text-align: right;\n",
              "    }\n",
              "</style>\n",
              "<table border=\"1\" class=\"dataframe\">\n",
              "  <thead>\n",
              "    <tr style=\"text-align: right;\">\n",
              "      <th></th>\n",
              "      <th>Consumption</th>\n",
              "      <th>Wind</th>\n",
              "      <th>Solar</th>\n",
              "      <th>Wind+Solar</th>\n",
              "      <th>Year</th>\n",
              "      <th>Month</th>\n",
              "      <th>Weekday</th>\n",
              "    </tr>\n",
              "    <tr>\n",
              "      <th>Date</th>\n",
              "      <th></th>\n",
              "      <th></th>\n",
              "      <th></th>\n",
              "      <th></th>\n",
              "      <th></th>\n",
              "      <th></th>\n",
              "      <th></th>\n",
              "    </tr>\n",
              "  </thead>\n",
              "  <tbody>\n",
              "    <tr>\n",
              "      <th>2012-02-01</th>\n",
              "      <td>1511.866</td>\n",
              "      <td>199.607</td>\n",
              "      <td>43.502</td>\n",
              "      <td>243.109</td>\n",
              "      <td>2012</td>\n",
              "      <td>2</td>\n",
              "      <td>2</td>\n",
              "    </tr>\n",
              "    <tr>\n",
              "      <th>2012-02-02</th>\n",
              "      <td>1563.407</td>\n",
              "      <td>73.469</td>\n",
              "      <td>44.675</td>\n",
              "      <td>118.144</td>\n",
              "      <td>2012</td>\n",
              "      <td>2</td>\n",
              "      <td>3</td>\n",
              "    </tr>\n",
              "    <tr>\n",
              "      <th>2012-02-03</th>\n",
              "      <td>1563.631</td>\n",
              "      <td>36.352</td>\n",
              "      <td>46.510</td>\n",
              "      <td>82.862</td>\n",
              "      <td>2012</td>\n",
              "      <td>2</td>\n",
              "      <td>4</td>\n",
              "    </tr>\n",
              "    <tr>\n",
              "      <th>2012-02-04</th>\n",
              "      <td>1372.614</td>\n",
              "      <td>20.551</td>\n",
              "      <td>45.225</td>\n",
              "      <td>65.776</td>\n",
              "      <td>2012</td>\n",
              "      <td>2</td>\n",
              "      <td>5</td>\n",
              "    </tr>\n",
              "    <tr>\n",
              "      <th>2012-02-05</th>\n",
              "      <td>1279.432</td>\n",
              "      <td>55.522</td>\n",
              "      <td>54.572</td>\n",
              "      <td>110.094</td>\n",
              "      <td>2012</td>\n",
              "      <td>2</td>\n",
              "      <td>6</td>\n",
              "    </tr>\n",
              "    <tr>\n",
              "      <th>2012-02-06</th>\n",
              "      <td>1574.766</td>\n",
              "      <td>34.896</td>\n",
              "      <td>55.389</td>\n",
              "      <td>90.285</td>\n",
              "      <td>2012</td>\n",
              "      <td>2</td>\n",
              "      <td>0</td>\n",
              "    </tr>\n",
              "    <tr>\n",
              "      <th>2012-02-07</th>\n",
              "      <td>1615.078</td>\n",
              "      <td>100.312</td>\n",
              "      <td>19.867</td>\n",
              "      <td>120.179</td>\n",
              "      <td>2012</td>\n",
              "      <td>2</td>\n",
              "      <td>1</td>\n",
              "    </tr>\n",
              "    <tr>\n",
              "      <th>2012-02-08</th>\n",
              "      <td>1613.774</td>\n",
              "      <td>93.763</td>\n",
              "      <td>36.930</td>\n",
              "      <td>130.693</td>\n",
              "      <td>2012</td>\n",
              "      <td>2</td>\n",
              "      <td>2</td>\n",
              "    </tr>\n",
              "    <tr>\n",
              "      <th>2012-02-09</th>\n",
              "      <td>1591.532</td>\n",
              "      <td>132.219</td>\n",
              "      <td>19.042</td>\n",
              "      <td>151.261</td>\n",
              "      <td>2012</td>\n",
              "      <td>2</td>\n",
              "      <td>3</td>\n",
              "    </tr>\n",
              "    <tr>\n",
              "      <th>2012-02-10</th>\n",
              "      <td>1581.287</td>\n",
              "      <td>52.122</td>\n",
              "      <td>34.873</td>\n",
              "      <td>86.995</td>\n",
              "      <td>2012</td>\n",
              "      <td>2</td>\n",
              "      <td>4</td>\n",
              "    </tr>\n",
              "    <tr>\n",
              "      <th>2012-02-11</th>\n",
              "      <td>1377.404</td>\n",
              "      <td>32.375</td>\n",
              "      <td>44.629</td>\n",
              "      <td>77.004</td>\n",
              "      <td>2012</td>\n",
              "      <td>2</td>\n",
              "      <td>5</td>\n",
              "    </tr>\n",
              "    <tr>\n",
              "      <th>2012-02-12</th>\n",
              "      <td>1264.254</td>\n",
              "      <td>62.659</td>\n",
              "      <td>45.176</td>\n",
              "      <td>107.835</td>\n",
              "      <td>2012</td>\n",
              "      <td>2</td>\n",
              "      <td>6</td>\n",
              "    </tr>\n",
              "    <tr>\n",
              "      <th>2012-02-13</th>\n",
              "      <td>1561.987</td>\n",
              "      <td>25.984</td>\n",
              "      <td>11.287</td>\n",
              "      <td>37.271</td>\n",
              "      <td>2012</td>\n",
              "      <td>2</td>\n",
              "      <td>0</td>\n",
              "    </tr>\n",
              "    <tr>\n",
              "      <th>2012-02-14</th>\n",
              "      <td>1550.366</td>\n",
              "      <td>146.495</td>\n",
              "      <td>9.610</td>\n",
              "      <td>156.105</td>\n",
              "      <td>2012</td>\n",
              "      <td>2</td>\n",
              "      <td>1</td>\n",
              "    </tr>\n",
              "    <tr>\n",
              "      <th>2012-02-15</th>\n",
              "      <td>1476.037</td>\n",
              "      <td>413.367</td>\n",
              "      <td>18.877</td>\n",
              "      <td>432.244</td>\n",
              "      <td>2012</td>\n",
              "      <td>2</td>\n",
              "      <td>2</td>\n",
              "    </tr>\n",
              "    <tr>\n",
              "      <th>2012-02-16</th>\n",
              "      <td>1504.119</td>\n",
              "      <td>130.247</td>\n",
              "      <td>38.176</td>\n",
              "      <td>168.423</td>\n",
              "      <td>2012</td>\n",
              "      <td>2</td>\n",
              "      <td>3</td>\n",
              "    </tr>\n",
              "    <tr>\n",
              "      <th>2012-02-17</th>\n",
              "      <td>1438.857</td>\n",
              "      <td>196.515</td>\n",
              "      <td>17.328</td>\n",
              "      <td>213.843</td>\n",
              "      <td>2012</td>\n",
              "      <td>2</td>\n",
              "      <td>4</td>\n",
              "    </tr>\n",
              "    <tr>\n",
              "      <th>2012-02-18</th>\n",
              "      <td>1236.069</td>\n",
              "      <td>237.889</td>\n",
              "      <td>26.248</td>\n",
              "      <td>264.137</td>\n",
              "      <td>2012</td>\n",
              "      <td>2</td>\n",
              "      <td>5</td>\n",
              "    </tr>\n",
              "    <tr>\n",
              "      <th>2012-02-19</th>\n",
              "      <td>1107.431</td>\n",
              "      <td>272.655</td>\n",
              "      <td>30.382</td>\n",
              "      <td>303.037</td>\n",
              "      <td>2012</td>\n",
              "      <td>2</td>\n",
              "      <td>6</td>\n",
              "    </tr>\n",
              "    <tr>\n",
              "      <th>2012-02-20</th>\n",
              "      <td>1401.873</td>\n",
              "      <td>160.315</td>\n",
              "      <td>53.794</td>\n",
              "      <td>214.109</td>\n",
              "      <td>2012</td>\n",
              "      <td>2</td>\n",
              "      <td>0</td>\n",
              "    </tr>\n",
              "    <tr>\n",
              "      <th>2012-02-21</th>\n",
              "      <td>1434.533</td>\n",
              "      <td>281.909</td>\n",
              "      <td>57.984</td>\n",
              "      <td>339.893</td>\n",
              "      <td>2012</td>\n",
              "      <td>2</td>\n",
              "      <td>1</td>\n",
              "    </tr>\n",
              "    <tr>\n",
              "      <th>2012-02-22</th>\n",
              "      <td>1453.507</td>\n",
              "      <td>287.635</td>\n",
              "      <td>74.904</td>\n",
              "      <td>362.539</td>\n",
              "      <td>2012</td>\n",
              "      <td>2</td>\n",
              "      <td>2</td>\n",
              "    </tr>\n",
              "    <tr>\n",
              "      <th>2012-02-23</th>\n",
              "      <td>1427.402</td>\n",
              "      <td>353.510</td>\n",
              "      <td>18.927</td>\n",
              "      <td>372.437</td>\n",
              "      <td>2012</td>\n",
              "      <td>2</td>\n",
              "      <td>3</td>\n",
              "    </tr>\n",
              "    <tr>\n",
              "      <th>2012-02-24</th>\n",
              "      <td>1373.800</td>\n",
              "      <td>382.777</td>\n",
              "      <td>29.281</td>\n",
              "      <td>412.058</td>\n",
              "      <td>2012</td>\n",
              "      <td>2</td>\n",
              "      <td>4</td>\n",
              "    </tr>\n",
              "    <tr>\n",
              "      <th>2012-02-25</th>\n",
              "      <td>1133.184</td>\n",
              "      <td>302.102</td>\n",
              "      <td>42.667</td>\n",
              "      <td>344.769</td>\n",
              "      <td>2012</td>\n",
              "      <td>2</td>\n",
              "      <td>5</td>\n",
              "    </tr>\n",
              "    <tr>\n",
              "      <th>2012-02-26</th>\n",
              "      <td>1086.743</td>\n",
              "      <td>95.234</td>\n",
              "      <td>37.214</td>\n",
              "      <td>132.448</td>\n",
              "      <td>2012</td>\n",
              "      <td>2</td>\n",
              "      <td>6</td>\n",
              "    </tr>\n",
              "    <tr>\n",
              "      <th>2012-02-27</th>\n",
              "      <td>1436.095</td>\n",
              "      <td>86.956</td>\n",
              "      <td>43.099</td>\n",
              "      <td>130.055</td>\n",
              "      <td>2012</td>\n",
              "      <td>2</td>\n",
              "      <td>0</td>\n",
              "    </tr>\n",
              "    <tr>\n",
              "      <th>2012-02-28</th>\n",
              "      <td>1408.211</td>\n",
              "      <td>231.923</td>\n",
              "      <td>16.190</td>\n",
              "      <td>248.113</td>\n",
              "      <td>2012</td>\n",
              "      <td>2</td>\n",
              "      <td>1</td>\n",
              "    </tr>\n",
              "    <tr>\n",
              "      <th>2012-02-29</th>\n",
              "      <td>1434.062</td>\n",
              "      <td>77.024</td>\n",
              "      <td>30.360</td>\n",
              "      <td>107.384</td>\n",
              "      <td>2012</td>\n",
              "      <td>2</td>\n",
              "      <td>2</td>\n",
              "    </tr>\n",
              "  </tbody>\n",
              "</table>\n",
              "</div>"
            ],
            "text/plain": [
              "            Consumption     Wind   Solar  Wind+Solar  Year  Month  Weekday\n",
              "Date                                                                      \n",
              "2012-02-01     1511.866  199.607  43.502     243.109  2012      2        2\n",
              "2012-02-02     1563.407   73.469  44.675     118.144  2012      2        3\n",
              "2012-02-03     1563.631   36.352  46.510      82.862  2012      2        4\n",
              "2012-02-04     1372.614   20.551  45.225      65.776  2012      2        5\n",
              "2012-02-05     1279.432   55.522  54.572     110.094  2012      2        6\n",
              "2012-02-06     1574.766   34.896  55.389      90.285  2012      2        0\n",
              "2012-02-07     1615.078  100.312  19.867     120.179  2012      2        1\n",
              "2012-02-08     1613.774   93.763  36.930     130.693  2012      2        2\n",
              "2012-02-09     1591.532  132.219  19.042     151.261  2012      2        3\n",
              "2012-02-10     1581.287   52.122  34.873      86.995  2012      2        4\n",
              "2012-02-11     1377.404   32.375  44.629      77.004  2012      2        5\n",
              "2012-02-12     1264.254   62.659  45.176     107.835  2012      2        6\n",
              "2012-02-13     1561.987   25.984  11.287      37.271  2012      2        0\n",
              "2012-02-14     1550.366  146.495   9.610     156.105  2012      2        1\n",
              "2012-02-15     1476.037  413.367  18.877     432.244  2012      2        2\n",
              "2012-02-16     1504.119  130.247  38.176     168.423  2012      2        3\n",
              "2012-02-17     1438.857  196.515  17.328     213.843  2012      2        4\n",
              "2012-02-18     1236.069  237.889  26.248     264.137  2012      2        5\n",
              "2012-02-19     1107.431  272.655  30.382     303.037  2012      2        6\n",
              "2012-02-20     1401.873  160.315  53.794     214.109  2012      2        0\n",
              "2012-02-21     1434.533  281.909  57.984     339.893  2012      2        1\n",
              "2012-02-22     1453.507  287.635  74.904     362.539  2012      2        2\n",
              "2012-02-23     1427.402  353.510  18.927     372.437  2012      2        3\n",
              "2012-02-24     1373.800  382.777  29.281     412.058  2012      2        4\n",
              "2012-02-25     1133.184  302.102  42.667     344.769  2012      2        5\n",
              "2012-02-26     1086.743   95.234  37.214     132.448  2012      2        6\n",
              "2012-02-27     1436.095   86.956  43.099     130.055  2012      2        0\n",
              "2012-02-28     1408.211  231.923  16.190     248.113  2012      2        1\n",
              "2012-02-29     1434.062   77.024  30.360     107.384  2012      2        2"
            ]
          },
          "metadata": {
            "tags": []
          },
          "execution_count": 56
        }
      ]
    },
    {
      "cell_type": "markdown",
      "metadata": {
        "id": "Z-smNeZvVuKw"
      },
      "source": [
        "Kita dapat dengan mudah memvisualisasikan data time series kita. Di bagian ini, kita akan membahas beberapa contoh dan beberapa penyesuaian yang berguna untuk plot time series.\n",
        "\n",
        "Mari kita buat line plot dari time series konsumsi listrik harian di jerman, menggunakan method **plot()** DataFrame"
      ]
    },
    {
      "cell_type": "code",
      "metadata": {
        "colab": {
          "base_uri": "https://localhost:8080/",
          "height": 297
        },
        "id": "aU850fqfVguN",
        "outputId": "49712f68-8320-45dc-8432-bebefb3c1a2f"
      },
      "source": [
        "opsd_daily[\"Consumption\"].plot(linewidth=0.5)"
      ],
      "execution_count": 57,
      "outputs": [
        {
          "output_type": "execute_result",
          "data": {
            "text/plain": [
              "<matplotlib.axes._subplots.AxesSubplot at 0x7fd0e5512e10>"
            ]
          },
          "metadata": {
            "tags": []
          },
          "execution_count": 57
        },
        {
          "output_type": "display_data",
          "data": {
            "image/png": "[encoded data removed]",
            "text/plain": [
              "<Figure size 432x288 with 1 Axes>"
            ]
          },
          "metadata": {
            "tags": [],
            "needs_background": "light"
          }
        }
      ]
    },
    {
      "cell_type": "markdown",
      "metadata": {
        "id": "JG_mhOldWLCG"
      },
      "source": [
        "Kita dapat melihat bahwa method plot() memilih lokasi trick yang cukup bagus (setiap dua tahun) dan label (years) untuk sumbu x, yang sangat membantu. Namun, dengan banyaknya titik data, line plot menjaddi padat dan sulit untuk dibaca.\n",
        "\n",
        "Mari kita plot data sebagai titik-titik, dan lihat juga time series dari Matahari dan Angin."
      ]
    },
    {
      "cell_type": "code",
      "metadata": {
        "colab": {
          "base_uri": "https://localhost:8080/",
          "height": 543
        },
        "id": "2PDqg9f2WHsb",
        "outputId": "46f39896-5f7d-4c21-856b-c9daffd8d0dd"
      },
      "source": [
        "opsd_daily[\"Consumption\"].plot(marker=\".\", alpha=0.5, linestyle=\"None\", figsize=(11, 9))"
      ],
      "execution_count": 58,
      "outputs": [
        {
          "output_type": "execute_result",
          "data": {
            "text/plain": [
              "<matplotlib.axes._subplots.AxesSubplot at 0x7fd0e539bd10>"
            ]
          },
          "metadata": {
            "tags": []
          },
          "execution_count": 58
        },
        {
          "output_type": "display_data",
          "data": {
            "image/png": "[encoded data removed]",
            "text/plain": [
              "<Figure size 792x648 with 1 Axes>"
            ]
          },
          "metadata": {
            "tags": [],
            "needs_background": "light"
          }
        }
      ]
    },
    {
      "cell_type": "code",
      "metadata": {
        "colab": {
          "base_uri": "https://localhost:8080/",
          "height": 548
        },
        "id": "LSzNIS5rWqKu",
        "outputId": "91707ea1-05c5-4281-b03f-79bc9728d60b"
      },
      "source": [
        "opsd_daily[\"Solar\"].plot(marker=\".\", alpha=0.5, linestyle=\"None\", figsize=(11, 9))"
      ],
      "execution_count": 59,
      "outputs": [
        {
          "output_type": "execute_result",
          "data": {
            "text/plain": [
              "<matplotlib.axes._subplots.AxesSubplot at 0x7fd0e4991e10>"
            ]
          },
          "metadata": {
            "tags": []
          },
          "execution_count": 59
        },
        {
          "output_type": "display_data",
          "data": {
            "image/png": "[encoded data removed]",
            "text/plain": [
              "<Figure size 792x648 with 1 Axes>"
            ]
          },
          "metadata": {
            "tags": [],
            "needs_background": "light"
          }
        }
      ]
    },
    {
      "cell_type": "code",
      "metadata": {
        "colab": {
          "base_uri": "https://localhost:8080/",
          "height": 548
        },
        "id": "7bQ_Dy9yWxYD",
        "outputId": "0c54645a-3b2c-4d1b-92ca-98a47609eea7"
      },
      "source": [
        "opsd_daily[\"Wind\"].plot(marker=\".\", alpha=0.5, linestyle=\"None\", figsize=(11, 9))"
      ],
      "execution_count": 60,
      "outputs": [
        {
          "output_type": "execute_result",
          "data": {
            "text/plain": [
              "<matplotlib.axes._subplots.AxesSubplot at 0x7fd0e3092c50>"
            ]
          },
          "metadata": {
            "tags": []
          },
          "execution_count": 60
        },
        {
          "output_type": "display_data",
          "data": {
            "image/png": "[encoded data removed]",
            "text/plain": [
              "<Figure size 792x648 with 1 Axes>"
            ]
          },
          "metadata": {
            "tags": [],
            "needs_background": "light"
          }
        }
      ]
    },
    {
      "cell_type": "markdown",
      "metadata": {
        "id": "MmS1i5MOdf3W"
      },
      "source": [
        "Kita sudah bisa melihat beberapa pola menarik yang muncul :\n",
        "- konsumsi listrik tertinggi ada di musim dingin, kemungkinan karena pemanas listrik dan peningkatan penggunaan penerangan, dan terendah di musim panas\n",
        "- produksi tenaga surya paling tinggi di musim panas, saat sinar matahari paling melimpah, dan paling rendah di musim dingin\n",
        "- produksi tenaga angin paling tinggi di musim dingin, mungkin karena angin yang lebih kuat dan badai yanng lebih sering, dan paling rendah di musim panas\n",
        "- tampaknya ada tren peningkatan yang kuat dalam produksi tenaga angin selama bertahun-tahun\n",
        "\n",
        "Ketiga time series dengan jelas menunjukkan perioditas -- sering disebut sebagai seasonality dalam time series analysis -- di mana sebuah pola berulang kalli pada interval waktu yang teratur. Rangkaian waktu Consumption, Solar, dan Wind berosilasi antara nilai tinggi dan rendah dalam skala waktu tahunan, sesuai dengan perubahan cucau musiman sepanjang tahun. Namun, musim secara umum tidak harus sesuai dengan musim meteorologi. Misalnya, data penjualan ritel sering kali menunjukkan musim tahunan dengan peningkatan penjualan pada bulan November dan Desember, menjelang liburan.\n",
        "\n",
        "Seasonality juga dapat terjadi pada skala waktu lain. Plot di atas menunjukkan bahwa konsumsi listrik Jerman mungkin terlihat weekly seasonality, sesuai dengan hari kerja dan akhir pekan. Mari kita plot deret waktu dalam satu tahun untuk menyelidiki lebih lanjut."
      ]
    },
    {
      "cell_type": "code",
      "metadata": {
        "colab": {
          "base_uri": "https://localhost:8080/",
          "height": 544
        },
        "id": "BPRtis-1W1SA",
        "outputId": "1b9fa950-dee1-49a5-b2e9-d0a535a62163"
      },
      "source": [
        "ax = opsd_daily.loc['2017', 'Consumption'].plot(figsize=(11, 9))\n",
        "ax.set_ylabel('daily Consumption (GWh)')"
      ],
      "execution_count": 61,
      "outputs": [
        {
          "output_type": "execute_result",
          "data": {
            "text/plain": [
              "Text(0, 0.5, 'daily Consumption (GWh)')"
            ]
          },
          "metadata": {
            "tags": []
          },
          "execution_count": 61
        },
        {
          "output_type": "display_data",
          "data": {
            "image/png": "[encoded data removed]",
            "text/plain": [
              "<Figure size 792x648 with 1 Axes>"
            ]
          },
          "metadata": {
            "tags": [],
            "needs_background": "light"
          }
        }
      ]
    },
    {
      "cell_type": "markdown",
      "metadata": {
        "id": "LqqAaJwwf1zy"
      },
      "source": [
        "Sekarang kita adapat dengan jelas melihat osilasi mingguan/weekly oscillations. Ciri menarik lain yang terlihat pada tingkat granularitas ini adalah penurunan drastis konsumsi listrik pada awal Januari dan akhir Desember, selama liburan.\n",
        "\n",
        "Mari kita perbesar lebih jauh dan lihat bulan Januari dan Februari saja."
      ]
    },
    {
      "cell_type": "code",
      "metadata": {
        "colab": {
          "base_uri": "https://localhost:8080/",
          "height": 565
        },
        "id": "TnZl_WiKfzLY",
        "outputId": "35035d66-f309-4595-e879-41a330d06075"
      },
      "source": [
        "ax = opsd_daily.loc['2017-01':'2017-02', 'Consumption'].plot(marker='o', linestyle='-', figsize=(11, 9))\n",
        "ax.set_ylabel('daily Consumption (GWh)')"
      ],
      "execution_count": 62,
      "outputs": [
        {
          "output_type": "execute_result",
          "data": {
            "text/plain": [
              "Text(0, 0.5, 'daily Consumption (GWh)')"
            ]
          },
          "metadata": {
            "tags": []
          },
          "execution_count": 62
        },
        {
          "output_type": "display_data",
          "data": {
            "image/png": "[encoded data removed]",
            "text/plain": [
              "<Figure size 792x648 with 1 Axes>"
            ]
          },
          "metadata": {
            "tags": [],
            "needs_background": "light"
          }
        }
      ]
    },
    {
      "cell_type": "markdown",
      "metadata": {
        "id": "T5MPG4dngeY6"
      },
      "source": [
        "Selanjutnya, mari kita jelajahi lebih jauh seasonality data kita dengan fungsi box plots untuk menglompokkan data berdasarkan periode waktu yang berbeda dan menampilkan distribusi untuk setiap kelompok. Pertama-tama, kita akan mengelompokkan data brdasarkan bulan, untuk memvisualisasikan yearly seasonality."
      ]
    },
    {
      "cell_type": "code",
      "metadata": {
        "colab": {
          "base_uri": "https://localhost:8080/",
          "height": 373
        },
        "id": "laIVnEhygasR",
        "outputId": "40dfb9ac-297d-4807-991d-57fbff653bd7"
      },
      "source": [
        "opsd_daily.boxplot(column=['Consumption'], by='Month')"
      ],
      "execution_count": 63,
      "outputs": [
        {
          "output_type": "stream",
          "text": [
            "/usr/local/lib/python3.7/dist-packages/numpy/core/_asarray.py:83: VisibleDeprecationWarning: Creating an ndarray from ragged nested sequences (which is a list-or-tuple of lists-or-tuples-or ndarrays with different lengths or shapes) is deprecated. If you meant to do this, you must specify 'dtype=object' when creating the ndarray\n",
            "  return array(a, dtype, copy=False, order=order)\n"
          ],
          "name": "stderr"
        },
        {
          "output_type": "execute_result",
          "data": {
            "text/plain": [
              "<matplotlib.axes._subplots.AxesSubplot at 0x7fd0e2bde810>"
            ]
          },
          "metadata": {
            "tags": []
          },
          "execution_count": 63
        },
        {
          "output_type": "display_data",
          "data": {
            "image/png": "[encoded data removed]",
            "text/plain": [
              "<Figure size 432x288 with 1 Axes>"
            ]
          },
          "metadata": {
            "tags": [],
            "needs_background": "light"
          }
        }
      ]
    },
    {
      "cell_type": "code",
      "metadata": {
        "colab": {
          "base_uri": "https://localhost:8080/",
          "height": 373
        },
        "id": "0u8w0Gz7g3no",
        "outputId": "2f21c969-fdab-4843-b41f-6b73051ba739"
      },
      "source": [
        "opsd_daily.boxplot(column=['Solar'], by='Month')"
      ],
      "execution_count": 64,
      "outputs": [
        {
          "output_type": "stream",
          "text": [
            "/usr/local/lib/python3.7/dist-packages/numpy/core/_asarray.py:83: VisibleDeprecationWarning: Creating an ndarray from ragged nested sequences (which is a list-or-tuple of lists-or-tuples-or ndarrays with different lengths or shapes) is deprecated. If you meant to do this, you must specify 'dtype=object' when creating the ndarray\n",
            "  return array(a, dtype, copy=False, order=order)\n"
          ],
          "name": "stderr"
        },
        {
          "output_type": "execute_result",
          "data": {
            "text/plain": [
              "<matplotlib.axes._subplots.AxesSubplot at 0x7fd0e2ad11d0>"
            ]
          },
          "metadata": {
            "tags": []
          },
          "execution_count": 64
        },
        {
          "output_type": "display_data",
          "data": {
            "image/png": "[encoded data removed]",
            "text/plain": [
              "<Figure size 432x288 with 1 Axes>"
            ]
          },
          "metadata": {
            "tags": [],
            "needs_background": "light"
          }
        }
      ]
    },
    {
      "cell_type": "code",
      "metadata": {
        "colab": {
          "base_uri": "https://localhost:8080/",
          "height": 373
        },
        "id": "M5x4T8VCg_ne",
        "outputId": "8f644489-575b-472a-e11b-c9d3a641d8c6"
      },
      "source": [
        "opsd_daily.boxplot(column=['Wind'], by='Month')"
      ],
      "execution_count": 65,
      "outputs": [
        {
          "output_type": "stream",
          "text": [
            "/usr/local/lib/python3.7/dist-packages/numpy/core/_asarray.py:83: VisibleDeprecationWarning: Creating an ndarray from ragged nested sequences (which is a list-or-tuple of lists-or-tuples-or ndarrays with different lengths or shapes) is deprecated. If you meant to do this, you must specify 'dtype=object' when creating the ndarray\n",
            "  return array(a, dtype, copy=False, order=order)\n"
          ],
          "name": "stderr"
        },
        {
          "output_type": "execute_result",
          "data": {
            "text/plain": [
              "<matplotlib.axes._subplots.AxesSubplot at 0x7fd0e2a54a90>"
            ]
          },
          "metadata": {
            "tags": []
          },
          "execution_count": 65
        },
        {
          "output_type": "display_data",
          "data": {
            "image/png": "[encoded data removed]",
            "text/plain": [
              "<Figure size 432x288 with 1 Axes>"
            ]
          },
          "metadata": {
            "tags": [],
            "needs_background": "light"
          }
        }
      ]
    },
    {
      "cell_type": "markdown",
      "metadata": {
        "id": "rY_cJJLfhGw6"
      },
      "source": [
        "box plots berikut mengkonfirmasi yearly seasonality yang kita lihat di plot sebelumnya dan memberikan beberapa insights :\n",
        "- meskipun konsumsi listrik umumnya lebih tinggi di musim dingin dan lebih besar di musim panas, median dan dua kuartil lebih rendah pada bulan Desember dan Januari dibandingkan dengan November dan Februari, kemungkinan karena bisnis tutup selama liburan. Kita melihat ini dalam rangkaiann waktu untuk tahun 2017, dan boz plot menegaskan bahwa ini adalah pola yang konsisten selama bertahun-tahun\n",
        "- sementara produksi tenaga surya dan angin sama-sama menunjukkan yearly seasonality, distribusi tenaga angin memiliki lebih banyak outliers, yang mencerminkan efek kecepatan angin ekstrem sesekali yang terkait dengan badai dan kondisi cuaca semenetara lainnya\n",
        "\n",
        "Selanjutnya, mari kelompokkan rangkaian waktu konsumsi listrik berdasarkan hari dalam seminggu, untuk menjelajahi weekly seasonality"
      ]
    },
    {
      "cell_type": "code",
      "metadata": {
        "colab": {
          "base_uri": "https://localhost:8080/",
          "height": 373
        },
        "id": "oAaLKZmJhC_m",
        "outputId": "9652eb1b-642e-4c72-aa05-502f7dc1bff2"
      },
      "source": [
        "opsd_daily.boxplot(column=['Consumption'], by='Weekday')"
      ],
      "execution_count": 67,
      "outputs": [
        {
          "output_type": "stream",
          "text": [
            "/usr/local/lib/python3.7/dist-packages/numpy/core/_asarray.py:83: VisibleDeprecationWarning: Creating an ndarray from ragged nested sequences (which is a list-or-tuple of lists-or-tuples-or ndarrays with different lengths or shapes) is deprecated. If you meant to do this, you must specify 'dtype=object' when creating the ndarray\n",
            "  return array(a, dtype, copy=False, order=order)\n"
          ],
          "name": "stderr"
        },
        {
          "output_type": "execute_result",
          "data": {
            "text/plain": [
              "<matplotlib.axes._subplots.AxesSubplot at 0x7fd0e2787610>"
            ]
          },
          "metadata": {
            "tags": []
          },
          "execution_count": 67
        },
        {
          "output_type": "display_data",
          "data": {
            "image/png": "[encoded data removed]",
            "text/plain": [
              "<Figure size 432x288 with 1 Axes>"
            ]
          },
          "metadata": {
            "tags": [],
            "needs_background": "light"
          }
        }
      ]
    },
    {
      "cell_type": "markdown",
      "metadata": {
        "id": "R2_AFg0Pj3lm"
      },
      "source": [
        "Seperti yang diharapkan, konsumsi listrik secara signifikan lebih tinggi pada hari kerja dibandingkan pada akhir pekan, Outliers rendah pada hari kerja mungkin selama hari libur/holidays.\n",
        "\n",
        "Seringkali berguna untuk resample data time series kita ke frekuensi yang lebih rendah atau lebih tinggi. Resampling ke frekuensi yang lebih rendah (downsampling) biasanya melibatkan operasi agregasi - misalnya, menghitung total penjualan bulanan dari data harian. Resampling ke frekuensi yang lebih tinggi (upsampling) kurang umum dan seringkali melibatkan interpolasi atau metode pengisian data lainnya - misalnya, menginterpolasi data cuaca setiap jam hingga interval 10 menit untuk dimasukkan ke model ilmiah.\n",
        "\n",
        "Kita akan fokus di sini pada downsampling, mengeksplorasi bagaimana hal itu dapat membantu kita menganalisa data OPSD dalam berbagai skala waktu. Kita menggunakan method **resample()** DataFrame, yang membagi DatetimeIndex ke dalam time bins dan mengelompokkan data menurut time bin. Metode **resample()** mengembalikan objek Resampler, mirip dengan objek GroupBy Pandas. Kita kemudia dapat menerapkan metode agregasi seperti **mean(), median(), sum()**, dll., ke grup data untuk setiap time bin.\n",
        "\n",
        "Misalnya, mari kita resample data menjadi weekly mean time series."
      ]
    },
    {
      "cell_type": "code",
      "metadata": {
        "colab": {
          "base_uri": "https://localhost:8080/",
          "height": 175
        },
        "id": "BPodStH0iDEG",
        "outputId": "9288221d-b8a7-492f-cec6-1ddf7309833a"
      },
      "source": [
        "data_columns = ['Consumption', 'Wind', 'Solar', 'Wind+Solar']\n",
        "opsd_weekly_mean = opsd_daily[data_columns].resample('W').mean()\n",
        "opsd_weekly_mean.head(3)"
      ],
      "execution_count": 68,
      "outputs": [
        {
          "output_type": "execute_result",
          "data": {
            "text/html": [
              "<div>\n",
              "<style scoped>\n",
              "    .dataframe tbody tr th:only-of-type {\n",
              "        vertical-align: middle;\n",
              "    }\n",
              "\n",
              "    .dataframe tbody tr th {\n",
              "        vertical-align: top;\n",
              "    }\n",
              "\n",
              "    .dataframe thead th {\n",
              "        text-align: right;\n",
              "    }\n",
              "</style>\n",
              "<table border=\"1\" class=\"dataframe\">\n",
              "  <thead>\n",
              "    <tr style=\"text-align: right;\">\n",
              "      <th></th>\n",
              "      <th>Consumption</th>\n",
              "      <th>Wind</th>\n",
              "      <th>Solar</th>\n",
              "      <th>Wind+Solar</th>\n",
              "    </tr>\n",
              "    <tr>\n",
              "      <th>Date</th>\n",
              "      <th></th>\n",
              "      <th></th>\n",
              "      <th></th>\n",
              "      <th></th>\n",
              "    </tr>\n",
              "  </thead>\n",
              "  <tbody>\n",
              "    <tr>\n",
              "      <th>2006-01-01</th>\n",
              "      <td>1069.184000</td>\n",
              "      <td>NaN</td>\n",
              "      <td>NaN</td>\n",
              "      <td>NaN</td>\n",
              "    </tr>\n",
              "    <tr>\n",
              "      <th>2006-01-08</th>\n",
              "      <td>1381.300143</td>\n",
              "      <td>NaN</td>\n",
              "      <td>NaN</td>\n",
              "      <td>NaN</td>\n",
              "    </tr>\n",
              "    <tr>\n",
              "      <th>2006-01-15</th>\n",
              "      <td>1486.730286</td>\n",
              "      <td>NaN</td>\n",
              "      <td>NaN</td>\n",
              "      <td>NaN</td>\n",
              "    </tr>\n",
              "  </tbody>\n",
              "</table>\n",
              "</div>"
            ],
            "text/plain": [
              "            Consumption  Wind  Solar  Wind+Solar\n",
              "Date                                            \n",
              "2006-01-01  1069.184000   NaN    NaN         NaN\n",
              "2006-01-08  1381.300143   NaN    NaN         NaN\n",
              "2006-01-15  1486.730286   NaN    NaN         NaN"
            ]
          },
          "metadata": {
            "tags": []
          },
          "execution_count": 68
        }
      ]
    },
    {
      "cell_type": "markdown",
      "metadata": {
        "id": "hE2ZmIHgmJsh"
      },
      "source": [
        "Baris pertama di atas, berlabel 2006-01-01, berisi rata-rata dari semua data yang ada dalam time bin 2006-01-01. Baris kedua, berlabel 2006-01-08, berisi data rata-rata untuk time bin 2006-01-08 hingga 2006-01-14, dan seterusnya.\n",
        "\n",
        "Berdasarkan konstruksi, deret waktu mingguan kita memiliki 1/7 poin data sebanyak deret waktu harian. Kita dapat mengkonfirmasi ini dengan membandingkan jumlah baris dari dua DataFrame."
      ]
    },
    {
      "cell_type": "code",
      "metadata": {
        "colab": {
          "base_uri": "https://localhost:8080/"
        },
        "id": "g45AYlqqlg0p",
        "outputId": "5569ed0a-8643-477f-f8e1-776b94655416"
      },
      "source": [
        "print(opsd_daily.shape[0])\n",
        "print(opsd_weekly_mean.shape[0])"
      ],
      "execution_count": 69,
      "outputs": [
        {
          "output_type": "stream",
          "text": [
            "4383\n",
            "627\n"
          ],
          "name": "stdout"
        }
      ]
    },
    {
      "cell_type": "markdown",
      "metadata": {
        "id": "lueWUfJFmoE2"
      },
      "source": [
        "Mari kita gambarkan rangkaian waktu Solar harian dan mingguan dalam satu periode enam bulan untuk membandingkannya"
      ]
    },
    {
      "cell_type": "code",
      "metadata": {
        "colab": {
          "base_uri": "https://localhost:8080/",
          "height": 559
        },
        "id": "A6YyX-XtloOT",
        "outputId": "95ced70c-20fc-4b22-da36-eeb082b8cc13"
      },
      "source": [
        "start, end = '2017-01', '2017-06'\n",
        "\n",
        "opsd_daily.loc[start:end, 'Solar'].plot(marker='.', linestyle='-', linewidth=0.5, figsize=(11, 9))\n",
        "opsd_weekly_mean.loc[start:end, 'Solar'].plot(marker='o', markersize=8, linestyle='-', figsize=(11, 9))"
      ],
      "execution_count": 70,
      "outputs": [
        {
          "output_type": "execute_result",
          "data": {
            "text/plain": [
              "<matplotlib.axes._subplots.AxesSubplot at 0x7fd0e2788250>"
            ]
          },
          "metadata": {
            "tags": []
          },
          "execution_count": 70
        },
        {
          "output_type": "display_data",
          "data": {
            "image/png": "[encoded data removed]",
            "text/plain": [
              "<Figure size 792x648 with 1 Axes>"
            ]
          },
          "metadata": {
            "tags": [],
            "needs_background": "light"
          }
        }
      ]
    },
    {
      "cell_type": "markdown",
      "metadata": {
        "id": "yK0bavYimvXZ"
      },
      "source": [
        "Kita dapat melihat bahwa deret waktu rata-rata mingguan lebih halus daripada deret waktu harian karena variabilitas frekuensi yang lebih tinggi telah dirata-ratakan dalam resampling"
      ]
    },
    {
      "cell_type": "code",
      "metadata": {
        "id": "AXpPDTQDmEHM"
      },
      "source": [
        ""
      ],
      "execution_count": null,
      "outputs": []
    }
  ]
}