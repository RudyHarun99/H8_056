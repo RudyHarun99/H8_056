{
  "nbformat": 4,
  "nbformat_minor": 0,
  "metadata": {
    "colab": {
      "name": "05_pytn.ipynb",
      "provenance": [],
      "authorship_tag": "ABX9TyMAdVRmoUWgK0kO5Hy46e0B",
      "include_colab_link": true
    },
    "kernelspec": {
      "name": "python3",
      "display_name": "Python 3"
    },
    "language_info": {
      "name": "python"
    }
  },
  "cells": [
    {
      "cell_type": "markdown",
      "metadata": {
        "id": "view-in-github",
        "colab_type": "text"
      },
      "source": [
        "<a href=\"https://colab.research.google.com/github/RudyHarun99/H8_056/blob/master/05_pytn.ipynb\" target=\"_parent\"><img src=\"https://colab.research.google.com/assets/colab-badge.svg\" alt=\"Open In Colab\"/></a>"
      ]
    },
    {
      "cell_type": "markdown",
      "metadata": {
        "id": "C2yyuIyPR4o6"
      },
      "source": [
        "# Pandas"
      ]
    },
    {
      "cell_type": "markdown",
      "metadata": {
        "id": "Nt9FPudMu08X"
      },
      "source": [
        "## Basic"
      ]
    },
    {
      "cell_type": "code",
      "metadata": {
        "id": "8zKyw9E4RhDx"
      },
      "source": [
        "import numpy as np\n",
        "import pandas as pd"
      ],
      "execution_count": null,
      "outputs": []
    },
    {
      "cell_type": "code",
      "metadata": {
        "id": "1MO74p-QSFvj"
      },
      "source": [
        "df = pd.read_csv('http://raw.githubusercontent.com/ardhiraka/PFDS_sources/master/nbaallelo.csv')"
      ],
      "execution_count": null,
      "outputs": []
    },
    {
      "cell_type": "code",
      "metadata": {
        "colab": {
          "base_uri": "https://localhost:8080/"
        },
        "id": "MbNTOsiSTttX",
        "outputId": "96b1ac33-f997-453a-921c-d90ba3154a40"
      },
      "source": [
        "len(df)"
      ],
      "execution_count": null,
      "outputs": [
        {
          "output_type": "execute_result",
          "data": {
            "text/plain": [
              "126314"
            ]
          },
          "metadata": {
            "tags": []
          },
          "execution_count": 112
        }
      ]
    },
    {
      "cell_type": "code",
      "metadata": {
        "id": "8ROacZjXTviS",
        "colab": {
          "base_uri": "https://localhost:8080/"
        },
        "outputId": "147b8ec5-5d29-4956-edf6-810b1f804c45"
      },
      "source": [
        "df.shape"
      ],
      "execution_count": null,
      "outputs": [
        {
          "output_type": "execute_result",
          "data": {
            "text/plain": [
              "(126314, 23)"
            ]
          },
          "metadata": {
            "tags": []
          },
          "execution_count": 113
        }
      ]
    },
    {
      "cell_type": "code",
      "metadata": {
        "id": "0qboQ9m1Tyat",
        "colab": {
          "base_uri": "https://localhost:8080/"
        },
        "outputId": "f2e38ea1-f9b2-4d57-c9c2-92fee353676c"
      },
      "source": [
        "df.head()"
      ],
      "execution_count": null,
      "outputs": [
        {
          "output_type": "execute_result",
          "data": {
            "text/html": [
              "<div>\n",
              "<style scoped>\n",
              "    .dataframe tbody tr th:only-of-type {\n",
              "        vertical-align: middle;\n",
              "    }\n",
              "\n",
              "    .dataframe tbody tr th {\n",
              "        vertical-align: top;\n",
              "    }\n",
              "\n",
              "    .dataframe thead th {\n",
              "        text-align: right;\n",
              "    }\n",
              "</style>\n",
              "<table border=\"1\" class=\"dataframe\">\n",
              "  <thead>\n",
              "    <tr style=\"text-align: right;\">\n",
              "      <th></th>\n",
              "      <th>gameorder</th>\n",
              "      <th>game_id</th>\n",
              "      <th>lg_id</th>\n",
              "      <th>_iscopy</th>\n",
              "      <th>year_id</th>\n",
              "      <th>date_game</th>\n",
              "      <th>seasongame</th>\n",
              "      <th>is_playoffs</th>\n",
              "      <th>team_id</th>\n",
              "      <th>fran_id</th>\n",
              "      <th>pts</th>\n",
              "      <th>elo_i</th>\n",
              "      <th>elo_n</th>\n",
              "      <th>win_equiv</th>\n",
              "      <th>opp_id</th>\n",
              "      <th>opp_fran</th>\n",
              "      <th>opp_pts</th>\n",
              "      <th>opp_elo_i</th>\n",
              "      <th>opp_elo_n</th>\n",
              "      <th>game_location</th>\n",
              "      <th>game_result</th>\n",
              "      <th>forecast</th>\n",
              "      <th>notes</th>\n",
              "    </tr>\n",
              "  </thead>\n",
              "  <tbody>\n",
              "    <tr>\n",
              "      <th>0</th>\n",
              "      <td>1</td>\n",
              "      <td>194611010TRH</td>\n",
              "      <td>NBA</td>\n",
              "      <td>0</td>\n",
              "      <td>1947</td>\n",
              "      <td>11/1/1946</td>\n",
              "      <td>1</td>\n",
              "      <td>0</td>\n",
              "      <td>TRH</td>\n",
              "      <td>Huskies</td>\n",
              "      <td>66</td>\n",
              "      <td>1300.00</td>\n",
              "      <td>1293.28</td>\n",
              "      <td>40.29</td>\n",
              "      <td>NYK</td>\n",
              "      <td>Knicks</td>\n",
              "      <td>68</td>\n",
              "      <td>1300.00</td>\n",
              "      <td>1306.72</td>\n",
              "      <td>H</td>\n",
              "      <td>L</td>\n",
              "      <td>0.64</td>\n",
              "      <td>NaN</td>\n",
              "    </tr>\n",
              "    <tr>\n",
              "      <th>1</th>\n",
              "      <td>1</td>\n",
              "      <td>194611010TRH</td>\n",
              "      <td>NBA</td>\n",
              "      <td>1</td>\n",
              "      <td>1947</td>\n",
              "      <td>11/1/1946</td>\n",
              "      <td>1</td>\n",
              "      <td>0</td>\n",
              "      <td>NYK</td>\n",
              "      <td>Knicks</td>\n",
              "      <td>68</td>\n",
              "      <td>1300.00</td>\n",
              "      <td>1306.72</td>\n",
              "      <td>41.71</td>\n",
              "      <td>TRH</td>\n",
              "      <td>Huskies</td>\n",
              "      <td>66</td>\n",
              "      <td>1300.00</td>\n",
              "      <td>1293.28</td>\n",
              "      <td>A</td>\n",
              "      <td>W</td>\n",
              "      <td>0.36</td>\n",
              "      <td>NaN</td>\n",
              "    </tr>\n",
              "    <tr>\n",
              "      <th>2</th>\n",
              "      <td>2</td>\n",
              "      <td>194611020CHS</td>\n",
              "      <td>NBA</td>\n",
              "      <td>0</td>\n",
              "      <td>1947</td>\n",
              "      <td>11/2/1946</td>\n",
              "      <td>1</td>\n",
              "      <td>0</td>\n",
              "      <td>CHS</td>\n",
              "      <td>Stags</td>\n",
              "      <td>63</td>\n",
              "      <td>1300.00</td>\n",
              "      <td>1309.65</td>\n",
              "      <td>42.01</td>\n",
              "      <td>NYK</td>\n",
              "      <td>Knicks</td>\n",
              "      <td>47</td>\n",
              "      <td>1306.72</td>\n",
              "      <td>1297.07</td>\n",
              "      <td>H</td>\n",
              "      <td>W</td>\n",
              "      <td>0.63</td>\n",
              "      <td>NaN</td>\n",
              "    </tr>\n",
              "    <tr>\n",
              "      <th>3</th>\n",
              "      <td>2</td>\n",
              "      <td>194611020CHS</td>\n",
              "      <td>NBA</td>\n",
              "      <td>1</td>\n",
              "      <td>1947</td>\n",
              "      <td>11/2/1946</td>\n",
              "      <td>2</td>\n",
              "      <td>0</td>\n",
              "      <td>NYK</td>\n",
              "      <td>Knicks</td>\n",
              "      <td>47</td>\n",
              "      <td>1306.72</td>\n",
              "      <td>1297.07</td>\n",
              "      <td>40.69</td>\n",
              "      <td>CHS</td>\n",
              "      <td>Stags</td>\n",
              "      <td>63</td>\n",
              "      <td>1300.00</td>\n",
              "      <td>1309.65</td>\n",
              "      <td>A</td>\n",
              "      <td>L</td>\n",
              "      <td>0.37</td>\n",
              "      <td>NaN</td>\n",
              "    </tr>\n",
              "    <tr>\n",
              "      <th>4</th>\n",
              "      <td>3</td>\n",
              "      <td>194611020DTF</td>\n",
              "      <td>NBA</td>\n",
              "      <td>0</td>\n",
              "      <td>1947</td>\n",
              "      <td>11/2/1946</td>\n",
              "      <td>1</td>\n",
              "      <td>0</td>\n",
              "      <td>DTF</td>\n",
              "      <td>Falcons</td>\n",
              "      <td>33</td>\n",
              "      <td>1300.00</td>\n",
              "      <td>1279.62</td>\n",
              "      <td>38.86</td>\n",
              "      <td>WSC</td>\n",
              "      <td>Capitols</td>\n",
              "      <td>50</td>\n",
              "      <td>1300.00</td>\n",
              "      <td>1320.38</td>\n",
              "      <td>H</td>\n",
              "      <td>L</td>\n",
              "      <td>0.64</td>\n",
              "      <td>NaN</td>\n",
              "    </tr>\n",
              "  </tbody>\n",
              "</table>\n",
              "</div>"
            ],
            "text/plain": [
              "   gameorder       game_id lg_id  _iscopy  year_id  date_game  seasongame  \\\n",
              "0          1  194611010TRH   NBA        0     1947  11/1/1946           1   \n",
              "1          1  194611010TRH   NBA        1     1947  11/1/1946           1   \n",
              "2          2  194611020CHS   NBA        0     1947  11/2/1946           1   \n",
              "3          2  194611020CHS   NBA        1     1947  11/2/1946           2   \n",
              "4          3  194611020DTF   NBA        0     1947  11/2/1946           1   \n",
              "\n",
              "   is_playoffs team_id  fran_id  pts    elo_i    elo_n  win_equiv opp_id  \\\n",
              "0            0     TRH  Huskies   66  1300.00  1293.28      40.29    NYK   \n",
              "1            0     NYK   Knicks   68  1300.00  1306.72      41.71    TRH   \n",
              "2            0     CHS    Stags   63  1300.00  1309.65      42.01    NYK   \n",
              "3            0     NYK   Knicks   47  1306.72  1297.07      40.69    CHS   \n",
              "4            0     DTF  Falcons   33  1300.00  1279.62      38.86    WSC   \n",
              "\n",
              "   opp_fran  opp_pts  opp_elo_i  opp_elo_n game_location game_result  \\\n",
              "0    Knicks       68    1300.00    1306.72             H           L   \n",
              "1   Huskies       66    1300.00    1293.28             A           W   \n",
              "2    Knicks       47    1306.72    1297.07             H           W   \n",
              "3     Stags       63    1300.00    1309.65             A           L   \n",
              "4  Capitols       50    1300.00    1320.38             H           L   \n",
              "\n",
              "   forecast notes  \n",
              "0      0.64   NaN  \n",
              "1      0.36   NaN  \n",
              "2      0.63   NaN  \n",
              "3      0.37   NaN  \n",
              "4      0.64   NaN  "
            ]
          },
          "metadata": {
            "tags": []
          },
          "execution_count": 114
        }
      ]
    },
    {
      "cell_type": "code",
      "metadata": {
        "id": "CGHaiOO1Qjdw"
      },
      "source": [
        "pd.set_option(\"display.max.columns\", None)\n",
        "pd.set_option(\"display.precision\", 2)"
      ],
      "execution_count": null,
      "outputs": []
    },
    {
      "cell_type": "code",
      "metadata": {
        "colab": {
          "base_uri": "https://localhost:8080/"
        },
        "id": "GdHEzBA2RJ-7",
        "outputId": "56a59c56-3b94-4a2d-c5c8-54fa25e92078"
      },
      "source": [
        "df.head()"
      ],
      "execution_count": null,
      "outputs": [
        {
          "output_type": "execute_result",
          "data": {
            "text/html": [
              "<div>\n",
              "<style scoped>\n",
              "    .dataframe tbody tr th:only-of-type {\n",
              "        vertical-align: middle;\n",
              "    }\n",
              "\n",
              "    .dataframe tbody tr th {\n",
              "        vertical-align: top;\n",
              "    }\n",
              "\n",
              "    .dataframe thead th {\n",
              "        text-align: right;\n",
              "    }\n",
              "</style>\n",
              "<table border=\"1\" class=\"dataframe\">\n",
              "  <thead>\n",
              "    <tr style=\"text-align: right;\">\n",
              "      <th></th>\n",
              "      <th>gameorder</th>\n",
              "      <th>game_id</th>\n",
              "      <th>lg_id</th>\n",
              "      <th>_iscopy</th>\n",
              "      <th>year_id</th>\n",
              "      <th>date_game</th>\n",
              "      <th>seasongame</th>\n",
              "      <th>is_playoffs</th>\n",
              "      <th>team_id</th>\n",
              "      <th>fran_id</th>\n",
              "      <th>pts</th>\n",
              "      <th>elo_i</th>\n",
              "      <th>elo_n</th>\n",
              "      <th>win_equiv</th>\n",
              "      <th>opp_id</th>\n",
              "      <th>opp_fran</th>\n",
              "      <th>opp_pts</th>\n",
              "      <th>opp_elo_i</th>\n",
              "      <th>opp_elo_n</th>\n",
              "      <th>game_location</th>\n",
              "      <th>game_result</th>\n",
              "      <th>forecast</th>\n",
              "      <th>notes</th>\n",
              "    </tr>\n",
              "  </thead>\n",
              "  <tbody>\n",
              "    <tr>\n",
              "      <th>0</th>\n",
              "      <td>1</td>\n",
              "      <td>194611010TRH</td>\n",
              "      <td>NBA</td>\n",
              "      <td>0</td>\n",
              "      <td>1947</td>\n",
              "      <td>11/1/1946</td>\n",
              "      <td>1</td>\n",
              "      <td>0</td>\n",
              "      <td>TRH</td>\n",
              "      <td>Huskies</td>\n",
              "      <td>66</td>\n",
              "      <td>1300.00</td>\n",
              "      <td>1293.28</td>\n",
              "      <td>40.29</td>\n",
              "      <td>NYK</td>\n",
              "      <td>Knicks</td>\n",
              "      <td>68</td>\n",
              "      <td>1300.00</td>\n",
              "      <td>1306.72</td>\n",
              "      <td>H</td>\n",
              "      <td>L</td>\n",
              "      <td>0.64</td>\n",
              "      <td>NaN</td>\n",
              "    </tr>\n",
              "    <tr>\n",
              "      <th>1</th>\n",
              "      <td>1</td>\n",
              "      <td>194611010TRH</td>\n",
              "      <td>NBA</td>\n",
              "      <td>1</td>\n",
              "      <td>1947</td>\n",
              "      <td>11/1/1946</td>\n",
              "      <td>1</td>\n",
              "      <td>0</td>\n",
              "      <td>NYK</td>\n",
              "      <td>Knicks</td>\n",
              "      <td>68</td>\n",
              "      <td>1300.00</td>\n",
              "      <td>1306.72</td>\n",
              "      <td>41.71</td>\n",
              "      <td>TRH</td>\n",
              "      <td>Huskies</td>\n",
              "      <td>66</td>\n",
              "      <td>1300.00</td>\n",
              "      <td>1293.28</td>\n",
              "      <td>A</td>\n",
              "      <td>W</td>\n",
              "      <td>0.36</td>\n",
              "      <td>NaN</td>\n",
              "    </tr>\n",
              "    <tr>\n",
              "      <th>2</th>\n",
              "      <td>2</td>\n",
              "      <td>194611020CHS</td>\n",
              "      <td>NBA</td>\n",
              "      <td>0</td>\n",
              "      <td>1947</td>\n",
              "      <td>11/2/1946</td>\n",
              "      <td>1</td>\n",
              "      <td>0</td>\n",
              "      <td>CHS</td>\n",
              "      <td>Stags</td>\n",
              "      <td>63</td>\n",
              "      <td>1300.00</td>\n",
              "      <td>1309.65</td>\n",
              "      <td>42.01</td>\n",
              "      <td>NYK</td>\n",
              "      <td>Knicks</td>\n",
              "      <td>47</td>\n",
              "      <td>1306.72</td>\n",
              "      <td>1297.07</td>\n",
              "      <td>H</td>\n",
              "      <td>W</td>\n",
              "      <td>0.63</td>\n",
              "      <td>NaN</td>\n",
              "    </tr>\n",
              "    <tr>\n",
              "      <th>3</th>\n",
              "      <td>2</td>\n",
              "      <td>194611020CHS</td>\n",
              "      <td>NBA</td>\n",
              "      <td>1</td>\n",
              "      <td>1947</td>\n",
              "      <td>11/2/1946</td>\n",
              "      <td>2</td>\n",
              "      <td>0</td>\n",
              "      <td>NYK</td>\n",
              "      <td>Knicks</td>\n",
              "      <td>47</td>\n",
              "      <td>1306.72</td>\n",
              "      <td>1297.07</td>\n",
              "      <td>40.69</td>\n",
              "      <td>CHS</td>\n",
              "      <td>Stags</td>\n",
              "      <td>63</td>\n",
              "      <td>1300.00</td>\n",
              "      <td>1309.65</td>\n",
              "      <td>A</td>\n",
              "      <td>L</td>\n",
              "      <td>0.37</td>\n",
              "      <td>NaN</td>\n",
              "    </tr>\n",
              "    <tr>\n",
              "      <th>4</th>\n",
              "      <td>3</td>\n",
              "      <td>194611020DTF</td>\n",
              "      <td>NBA</td>\n",
              "      <td>0</td>\n",
              "      <td>1947</td>\n",
              "      <td>11/2/1946</td>\n",
              "      <td>1</td>\n",
              "      <td>0</td>\n",
              "      <td>DTF</td>\n",
              "      <td>Falcons</td>\n",
              "      <td>33</td>\n",
              "      <td>1300.00</td>\n",
              "      <td>1279.62</td>\n",
              "      <td>38.86</td>\n",
              "      <td>WSC</td>\n",
              "      <td>Capitols</td>\n",
              "      <td>50</td>\n",
              "      <td>1300.00</td>\n",
              "      <td>1320.38</td>\n",
              "      <td>H</td>\n",
              "      <td>L</td>\n",
              "      <td>0.64</td>\n",
              "      <td>NaN</td>\n",
              "    </tr>\n",
              "  </tbody>\n",
              "</table>\n",
              "</div>"
            ],
            "text/plain": [
              "   gameorder       game_id lg_id  _iscopy  year_id  date_game  seasongame  \\\n",
              "0          1  194611010TRH   NBA        0     1947  11/1/1946           1   \n",
              "1          1  194611010TRH   NBA        1     1947  11/1/1946           1   \n",
              "2          2  194611020CHS   NBA        0     1947  11/2/1946           1   \n",
              "3          2  194611020CHS   NBA        1     1947  11/2/1946           2   \n",
              "4          3  194611020DTF   NBA        0     1947  11/2/1946           1   \n",
              "\n",
              "   is_playoffs team_id  fran_id  pts    elo_i    elo_n  win_equiv opp_id  \\\n",
              "0            0     TRH  Huskies   66  1300.00  1293.28      40.29    NYK   \n",
              "1            0     NYK   Knicks   68  1300.00  1306.72      41.71    TRH   \n",
              "2            0     CHS    Stags   63  1300.00  1309.65      42.01    NYK   \n",
              "3            0     NYK   Knicks   47  1306.72  1297.07      40.69    CHS   \n",
              "4            0     DTF  Falcons   33  1300.00  1279.62      38.86    WSC   \n",
              "\n",
              "   opp_fran  opp_pts  opp_elo_i  opp_elo_n game_location game_result  \\\n",
              "0    Knicks       68    1300.00    1306.72             H           L   \n",
              "1   Huskies       66    1300.00    1293.28             A           W   \n",
              "2    Knicks       47    1306.72    1297.07             H           W   \n",
              "3     Stags       63    1300.00    1309.65             A           L   \n",
              "4  Capitols       50    1300.00    1320.38             H           L   \n",
              "\n",
              "   forecast notes  \n",
              "0      0.64   NaN  \n",
              "1      0.36   NaN  \n",
              "2      0.63   NaN  \n",
              "3      0.37   NaN  \n",
              "4      0.64   NaN  "
            ]
          },
          "metadata": {
            "tags": []
          },
          "execution_count": 116
        }
      ]
    },
    {
      "cell_type": "code",
      "metadata": {
        "colab": {
          "base_uri": "https://localhost:8080/"
        },
        "id": "VpU5-q2IRLGp",
        "outputId": "53fb91f1-9e72-47f1-a916-ae674ec660dc"
      },
      "source": [
        "df.tail()"
      ],
      "execution_count": null,
      "outputs": [
        {
          "output_type": "execute_result",
          "data": {
            "text/html": [
              "<div>\n",
              "<style scoped>\n",
              "    .dataframe tbody tr th:only-of-type {\n",
              "        vertical-align: middle;\n",
              "    }\n",
              "\n",
              "    .dataframe tbody tr th {\n",
              "        vertical-align: top;\n",
              "    }\n",
              "\n",
              "    .dataframe thead th {\n",
              "        text-align: right;\n",
              "    }\n",
              "</style>\n",
              "<table border=\"1\" class=\"dataframe\">\n",
              "  <thead>\n",
              "    <tr style=\"text-align: right;\">\n",
              "      <th></th>\n",
              "      <th>gameorder</th>\n",
              "      <th>game_id</th>\n",
              "      <th>lg_id</th>\n",
              "      <th>_iscopy</th>\n",
              "      <th>year_id</th>\n",
              "      <th>date_game</th>\n",
              "      <th>seasongame</th>\n",
              "      <th>is_playoffs</th>\n",
              "      <th>team_id</th>\n",
              "      <th>fran_id</th>\n",
              "      <th>pts</th>\n",
              "      <th>elo_i</th>\n",
              "      <th>elo_n</th>\n",
              "      <th>win_equiv</th>\n",
              "      <th>opp_id</th>\n",
              "      <th>opp_fran</th>\n",
              "      <th>opp_pts</th>\n",
              "      <th>opp_elo_i</th>\n",
              "      <th>opp_elo_n</th>\n",
              "      <th>game_location</th>\n",
              "      <th>game_result</th>\n",
              "      <th>forecast</th>\n",
              "      <th>notes</th>\n",
              "    </tr>\n",
              "  </thead>\n",
              "  <tbody>\n",
              "    <tr>\n",
              "      <th>126309</th>\n",
              "      <td>63155</td>\n",
              "      <td>201506110CLE</td>\n",
              "      <td>NBA</td>\n",
              "      <td>0</td>\n",
              "      <td>2015</td>\n",
              "      <td>6/11/2015</td>\n",
              "      <td>100</td>\n",
              "      <td>1</td>\n",
              "      <td>CLE</td>\n",
              "      <td>Cavaliers</td>\n",
              "      <td>82</td>\n",
              "      <td>1723.41</td>\n",
              "      <td>1704.39</td>\n",
              "      <td>60.31</td>\n",
              "      <td>GSW</td>\n",
              "      <td>Warriors</td>\n",
              "      <td>103</td>\n",
              "      <td>1790.96</td>\n",
              "      <td>1809.98</td>\n",
              "      <td>H</td>\n",
              "      <td>L</td>\n",
              "      <td>0.55</td>\n",
              "      <td>NaN</td>\n",
              "    </tr>\n",
              "    <tr>\n",
              "      <th>126310</th>\n",
              "      <td>63156</td>\n",
              "      <td>201506140GSW</td>\n",
              "      <td>NBA</td>\n",
              "      <td>0</td>\n",
              "      <td>2015</td>\n",
              "      <td>6/14/2015</td>\n",
              "      <td>102</td>\n",
              "      <td>1</td>\n",
              "      <td>GSW</td>\n",
              "      <td>Warriors</td>\n",
              "      <td>104</td>\n",
              "      <td>1809.98</td>\n",
              "      <td>1813.63</td>\n",
              "      <td>68.01</td>\n",
              "      <td>CLE</td>\n",
              "      <td>Cavaliers</td>\n",
              "      <td>91</td>\n",
              "      <td>1704.39</td>\n",
              "      <td>1700.74</td>\n",
              "      <td>H</td>\n",
              "      <td>W</td>\n",
              "      <td>0.77</td>\n",
              "      <td>NaN</td>\n",
              "    </tr>\n",
              "    <tr>\n",
              "      <th>126311</th>\n",
              "      <td>63156</td>\n",
              "      <td>201506140GSW</td>\n",
              "      <td>NBA</td>\n",
              "      <td>1</td>\n",
              "      <td>2015</td>\n",
              "      <td>6/14/2015</td>\n",
              "      <td>101</td>\n",
              "      <td>1</td>\n",
              "      <td>CLE</td>\n",
              "      <td>Cavaliers</td>\n",
              "      <td>91</td>\n",
              "      <td>1704.39</td>\n",
              "      <td>1700.74</td>\n",
              "      <td>60.01</td>\n",
              "      <td>GSW</td>\n",
              "      <td>Warriors</td>\n",
              "      <td>104</td>\n",
              "      <td>1809.98</td>\n",
              "      <td>1813.63</td>\n",
              "      <td>A</td>\n",
              "      <td>L</td>\n",
              "      <td>0.23</td>\n",
              "      <td>NaN</td>\n",
              "    </tr>\n",
              "    <tr>\n",
              "      <th>126312</th>\n",
              "      <td>63157</td>\n",
              "      <td>201506170CLE</td>\n",
              "      <td>NBA</td>\n",
              "      <td>0</td>\n",
              "      <td>2015</td>\n",
              "      <td>6/16/2015</td>\n",
              "      <td>102</td>\n",
              "      <td>1</td>\n",
              "      <td>CLE</td>\n",
              "      <td>Cavaliers</td>\n",
              "      <td>97</td>\n",
              "      <td>1700.74</td>\n",
              "      <td>1692.09</td>\n",
              "      <td>59.29</td>\n",
              "      <td>GSW</td>\n",
              "      <td>Warriors</td>\n",
              "      <td>105</td>\n",
              "      <td>1813.63</td>\n",
              "      <td>1822.29</td>\n",
              "      <td>H</td>\n",
              "      <td>L</td>\n",
              "      <td>0.48</td>\n",
              "      <td>NaN</td>\n",
              "    </tr>\n",
              "    <tr>\n",
              "      <th>126313</th>\n",
              "      <td>63157</td>\n",
              "      <td>201506170CLE</td>\n",
              "      <td>NBA</td>\n",
              "      <td>1</td>\n",
              "      <td>2015</td>\n",
              "      <td>6/16/2015</td>\n",
              "      <td>103</td>\n",
              "      <td>1</td>\n",
              "      <td>GSW</td>\n",
              "      <td>Warriors</td>\n",
              "      <td>105</td>\n",
              "      <td>1813.63</td>\n",
              "      <td>1822.29</td>\n",
              "      <td>68.52</td>\n",
              "      <td>CLE</td>\n",
              "      <td>Cavaliers</td>\n",
              "      <td>97</td>\n",
              "      <td>1700.74</td>\n",
              "      <td>1692.09</td>\n",
              "      <td>A</td>\n",
              "      <td>W</td>\n",
              "      <td>0.52</td>\n",
              "      <td>NaN</td>\n",
              "    </tr>\n",
              "  </tbody>\n",
              "</table>\n",
              "</div>"
            ],
            "text/plain": [
              "        gameorder       game_id lg_id  _iscopy  year_id  date_game  \\\n",
              "126309      63155  201506110CLE   NBA        0     2015  6/11/2015   \n",
              "126310      63156  201506140GSW   NBA        0     2015  6/14/2015   \n",
              "126311      63156  201506140GSW   NBA        1     2015  6/14/2015   \n",
              "126312      63157  201506170CLE   NBA        0     2015  6/16/2015   \n",
              "126313      63157  201506170CLE   NBA        1     2015  6/16/2015   \n",
              "\n",
              "        seasongame  is_playoffs team_id    fran_id  pts    elo_i    elo_n  \\\n",
              "126309         100            1     CLE  Cavaliers   82  1723.41  1704.39   \n",
              "126310         102            1     GSW   Warriors  104  1809.98  1813.63   \n",
              "126311         101            1     CLE  Cavaliers   91  1704.39  1700.74   \n",
              "126312         102            1     CLE  Cavaliers   97  1700.74  1692.09   \n",
              "126313         103            1     GSW   Warriors  105  1813.63  1822.29   \n",
              "\n",
              "        win_equiv opp_id   opp_fran  opp_pts  opp_elo_i  opp_elo_n  \\\n",
              "126309      60.31    GSW   Warriors      103    1790.96    1809.98   \n",
              "126310      68.01    CLE  Cavaliers       91    1704.39    1700.74   \n",
              "126311      60.01    GSW   Warriors      104    1809.98    1813.63   \n",
              "126312      59.29    GSW   Warriors      105    1813.63    1822.29   \n",
              "126313      68.52    CLE  Cavaliers       97    1700.74    1692.09   \n",
              "\n",
              "       game_location game_result  forecast notes  \n",
              "126309             H           L      0.55   NaN  \n",
              "126310             H           W      0.77   NaN  \n",
              "126311             A           L      0.23   NaN  \n",
              "126312             H           L      0.48   NaN  \n",
              "126313             A           W      0.52   NaN  "
            ]
          },
          "metadata": {
            "tags": []
          },
          "execution_count": 117
        }
      ]
    },
    {
      "cell_type": "code",
      "metadata": {
        "colab": {
          "base_uri": "https://localhost:8080/"
        },
        "id": "0_eSI14iRNrK",
        "outputId": "a93cd0f3-4826-49b3-b22f-9227c2e676ae"
      },
      "source": [
        "df.tail(3)"
      ],
      "execution_count": null,
      "outputs": [
        {
          "output_type": "execute_result",
          "data": {
            "text/html": [
              "<div>\n",
              "<style scoped>\n",
              "    .dataframe tbody tr th:only-of-type {\n",
              "        vertical-align: middle;\n",
              "    }\n",
              "\n",
              "    .dataframe tbody tr th {\n",
              "        vertical-align: top;\n",
              "    }\n",
              "\n",
              "    .dataframe thead th {\n",
              "        text-align: right;\n",
              "    }\n",
              "</style>\n",
              "<table border=\"1\" class=\"dataframe\">\n",
              "  <thead>\n",
              "    <tr style=\"text-align: right;\">\n",
              "      <th></th>\n",
              "      <th>gameorder</th>\n",
              "      <th>game_id</th>\n",
              "      <th>lg_id</th>\n",
              "      <th>_iscopy</th>\n",
              "      <th>year_id</th>\n",
              "      <th>date_game</th>\n",
              "      <th>seasongame</th>\n",
              "      <th>is_playoffs</th>\n",
              "      <th>team_id</th>\n",
              "      <th>fran_id</th>\n",
              "      <th>pts</th>\n",
              "      <th>elo_i</th>\n",
              "      <th>elo_n</th>\n",
              "      <th>win_equiv</th>\n",
              "      <th>opp_id</th>\n",
              "      <th>opp_fran</th>\n",
              "      <th>opp_pts</th>\n",
              "      <th>opp_elo_i</th>\n",
              "      <th>opp_elo_n</th>\n",
              "      <th>game_location</th>\n",
              "      <th>game_result</th>\n",
              "      <th>forecast</th>\n",
              "      <th>notes</th>\n",
              "    </tr>\n",
              "  </thead>\n",
              "  <tbody>\n",
              "    <tr>\n",
              "      <th>126311</th>\n",
              "      <td>63156</td>\n",
              "      <td>201506140GSW</td>\n",
              "      <td>NBA</td>\n",
              "      <td>1</td>\n",
              "      <td>2015</td>\n",
              "      <td>6/14/2015</td>\n",
              "      <td>101</td>\n",
              "      <td>1</td>\n",
              "      <td>CLE</td>\n",
              "      <td>Cavaliers</td>\n",
              "      <td>91</td>\n",
              "      <td>1704.39</td>\n",
              "      <td>1700.74</td>\n",
              "      <td>60.01</td>\n",
              "      <td>GSW</td>\n",
              "      <td>Warriors</td>\n",
              "      <td>104</td>\n",
              "      <td>1809.98</td>\n",
              "      <td>1813.63</td>\n",
              "      <td>A</td>\n",
              "      <td>L</td>\n",
              "      <td>0.23</td>\n",
              "      <td>NaN</td>\n",
              "    </tr>\n",
              "    <tr>\n",
              "      <th>126312</th>\n",
              "      <td>63157</td>\n",
              "      <td>201506170CLE</td>\n",
              "      <td>NBA</td>\n",
              "      <td>0</td>\n",
              "      <td>2015</td>\n",
              "      <td>6/16/2015</td>\n",
              "      <td>102</td>\n",
              "      <td>1</td>\n",
              "      <td>CLE</td>\n",
              "      <td>Cavaliers</td>\n",
              "      <td>97</td>\n",
              "      <td>1700.74</td>\n",
              "      <td>1692.09</td>\n",
              "      <td>59.29</td>\n",
              "      <td>GSW</td>\n",
              "      <td>Warriors</td>\n",
              "      <td>105</td>\n",
              "      <td>1813.63</td>\n",
              "      <td>1822.29</td>\n",
              "      <td>H</td>\n",
              "      <td>L</td>\n",
              "      <td>0.48</td>\n",
              "      <td>NaN</td>\n",
              "    </tr>\n",
              "    <tr>\n",
              "      <th>126313</th>\n",
              "      <td>63157</td>\n",
              "      <td>201506170CLE</td>\n",
              "      <td>NBA</td>\n",
              "      <td>1</td>\n",
              "      <td>2015</td>\n",
              "      <td>6/16/2015</td>\n",
              "      <td>103</td>\n",
              "      <td>1</td>\n",
              "      <td>GSW</td>\n",
              "      <td>Warriors</td>\n",
              "      <td>105</td>\n",
              "      <td>1813.63</td>\n",
              "      <td>1822.29</td>\n",
              "      <td>68.52</td>\n",
              "      <td>CLE</td>\n",
              "      <td>Cavaliers</td>\n",
              "      <td>97</td>\n",
              "      <td>1700.74</td>\n",
              "      <td>1692.09</td>\n",
              "      <td>A</td>\n",
              "      <td>W</td>\n",
              "      <td>0.52</td>\n",
              "      <td>NaN</td>\n",
              "    </tr>\n",
              "  </tbody>\n",
              "</table>\n",
              "</div>"
            ],
            "text/plain": [
              "        gameorder       game_id lg_id  _iscopy  year_id  date_game  \\\n",
              "126311      63156  201506140GSW   NBA        1     2015  6/14/2015   \n",
              "126312      63157  201506170CLE   NBA        0     2015  6/16/2015   \n",
              "126313      63157  201506170CLE   NBA        1     2015  6/16/2015   \n",
              "\n",
              "        seasongame  is_playoffs team_id    fran_id  pts    elo_i    elo_n  \\\n",
              "126311         101            1     CLE  Cavaliers   91  1704.39  1700.74   \n",
              "126312         102            1     CLE  Cavaliers   97  1700.74  1692.09   \n",
              "126313         103            1     GSW   Warriors  105  1813.63  1822.29   \n",
              "\n",
              "        win_equiv opp_id   opp_fran  opp_pts  opp_elo_i  opp_elo_n  \\\n",
              "126311      60.01    GSW   Warriors      104    1809.98    1813.63   \n",
              "126312      59.29    GSW   Warriors      105    1813.63    1822.29   \n",
              "126313      68.52    CLE  Cavaliers       97    1700.74    1692.09   \n",
              "\n",
              "       game_location game_result  forecast notes  \n",
              "126311             A           L      0.23   NaN  \n",
              "126312             H           L      0.48   NaN  \n",
              "126313             A           W      0.52   NaN  "
            ]
          },
          "metadata": {
            "tags": []
          },
          "execution_count": 118
        }
      ]
    },
    {
      "cell_type": "markdown",
      "metadata": {
        "id": "zW8APSmkReRF"
      },
      "source": [
        "Displaying Data Types"
      ]
    },
    {
      "cell_type": "code",
      "metadata": {
        "colab": {
          "base_uri": "https://localhost:8080/"
        },
        "id": "y7c9fqeSRa5n",
        "outputId": "de2fd707-450d-48bc-d4af-9ec363ac58f8"
      },
      "source": [
        "df.info()"
      ],
      "execution_count": null,
      "outputs": [
        {
          "output_type": "stream",
          "text": [
            "<class 'pandas.core.frame.DataFrame'>\n",
            "RangeIndex: 126314 entries, 0 to 126313\n",
            "Data columns (total 23 columns):\n",
            " #   Column         Non-Null Count   Dtype  \n",
            "---  ------         --------------   -----  \n",
            " 0   gameorder      126314 non-null  int64  \n",
            " 1   game_id        126314 non-null  object \n",
            " 2   lg_id          126314 non-null  object \n",
            " 3   _iscopy        126314 non-null  int64  \n",
            " 4   year_id        126314 non-null  int64  \n",
            " 5   date_game      126314 non-null  object \n",
            " 6   seasongame     126314 non-null  int64  \n",
            " 7   is_playoffs    126314 non-null  int64  \n",
            " 8   team_id        126314 non-null  object \n",
            " 9   fran_id        126314 non-null  object \n",
            " 10  pts            126314 non-null  int64  \n",
            " 11  elo_i          126314 non-null  float64\n",
            " 12  elo_n          126314 non-null  float64\n",
            " 13  win_equiv      126314 non-null  float64\n",
            " 14  opp_id         126314 non-null  object \n",
            " 15  opp_fran       126314 non-null  object \n",
            " 16  opp_pts        126314 non-null  int64  \n",
            " 17  opp_elo_i      126314 non-null  float64\n",
            " 18  opp_elo_n      126314 non-null  float64\n",
            " 19  game_location  126314 non-null  object \n",
            " 20  game_result    126314 non-null  object \n",
            " 21  forecast       126314 non-null  float64\n",
            " 22  notes          5424 non-null    object \n",
            "dtypes: float64(6), int64(7), object(10)\n",
            "memory usage: 22.2+ MB\n"
          ],
          "name": "stdout"
        }
      ]
    },
    {
      "cell_type": "markdown",
      "metadata": {
        "id": "WIWowzSdRmy5"
      },
      "source": [
        "Showing Basic Statistic"
      ]
    },
    {
      "cell_type": "code",
      "metadata": {
        "colab": {
          "base_uri": "https://localhost:8080/"
        },
        "id": "34KknlAwRiam",
        "outputId": "b4c60586-d05e-4621-88f4-0414af6ed3ac"
      },
      "source": [
        "df.describe()"
      ],
      "execution_count": null,
      "outputs": [
        {
          "output_type": "execute_result",
          "data": {
            "text/html": [
              "<div>\n",
              "<style scoped>\n",
              "    .dataframe tbody tr th:only-of-type {\n",
              "        vertical-align: middle;\n",
              "    }\n",
              "\n",
              "    .dataframe tbody tr th {\n",
              "        vertical-align: top;\n",
              "    }\n",
              "\n",
              "    .dataframe thead th {\n",
              "        text-align: right;\n",
              "    }\n",
              "</style>\n",
              "<table border=\"1\" class=\"dataframe\">\n",
              "  <thead>\n",
              "    <tr style=\"text-align: right;\">\n",
              "      <th></th>\n",
              "      <th>gameorder</th>\n",
              "      <th>_iscopy</th>\n",
              "      <th>year_id</th>\n",
              "      <th>seasongame</th>\n",
              "      <th>is_playoffs</th>\n",
              "      <th>pts</th>\n",
              "      <th>elo_i</th>\n",
              "      <th>elo_n</th>\n",
              "      <th>win_equiv</th>\n",
              "      <th>opp_pts</th>\n",
              "      <th>opp_elo_i</th>\n",
              "      <th>opp_elo_n</th>\n",
              "      <th>forecast</th>\n",
              "    </tr>\n",
              "  </thead>\n",
              "  <tbody>\n",
              "    <tr>\n",
              "      <th>count</th>\n",
              "      <td>126314.00</td>\n",
              "      <td>126314.0</td>\n",
              "      <td>126314.00</td>\n",
              "      <td>126314.00</td>\n",
              "      <td>126314.00</td>\n",
              "      <td>126314.00</td>\n",
              "      <td>126314.00</td>\n",
              "      <td>126314.00</td>\n",
              "      <td>126314.00</td>\n",
              "      <td>126314.00</td>\n",
              "      <td>126314.00</td>\n",
              "      <td>126314.00</td>\n",
              "      <td>126314.00</td>\n",
              "    </tr>\n",
              "    <tr>\n",
              "      <th>mean</th>\n",
              "      <td>31579.00</td>\n",
              "      <td>0.5</td>\n",
              "      <td>1988.20</td>\n",
              "      <td>43.53</td>\n",
              "      <td>0.06</td>\n",
              "      <td>102.73</td>\n",
              "      <td>1495.24</td>\n",
              "      <td>1495.24</td>\n",
              "      <td>41.71</td>\n",
              "      <td>102.73</td>\n",
              "      <td>1495.24</td>\n",
              "      <td>1495.24</td>\n",
              "      <td>0.50</td>\n",
              "    </tr>\n",
              "    <tr>\n",
              "      <th>std</th>\n",
              "      <td>18231.93</td>\n",
              "      <td>0.5</td>\n",
              "      <td>17.58</td>\n",
              "      <td>25.38</td>\n",
              "      <td>0.24</td>\n",
              "      <td>14.81</td>\n",
              "      <td>112.14</td>\n",
              "      <td>112.46</td>\n",
              "      <td>10.63</td>\n",
              "      <td>14.81</td>\n",
              "      <td>112.14</td>\n",
              "      <td>112.46</td>\n",
              "      <td>0.22</td>\n",
              "    </tr>\n",
              "    <tr>\n",
              "      <th>min</th>\n",
              "      <td>1.00</td>\n",
              "      <td>0.0</td>\n",
              "      <td>1947.00</td>\n",
              "      <td>1.00</td>\n",
              "      <td>0.00</td>\n",
              "      <td>0.00</td>\n",
              "      <td>1091.64</td>\n",
              "      <td>1085.77</td>\n",
              "      <td>10.15</td>\n",
              "      <td>0.00</td>\n",
              "      <td>1091.64</td>\n",
              "      <td>1085.77</td>\n",
              "      <td>0.02</td>\n",
              "    </tr>\n",
              "    <tr>\n",
              "      <th>25%</th>\n",
              "      <td>15790.00</td>\n",
              "      <td>0.0</td>\n",
              "      <td>1975.00</td>\n",
              "      <td>22.00</td>\n",
              "      <td>0.00</td>\n",
              "      <td>93.00</td>\n",
              "      <td>1417.24</td>\n",
              "      <td>1416.99</td>\n",
              "      <td>34.10</td>\n",
              "      <td>93.00</td>\n",
              "      <td>1417.24</td>\n",
              "      <td>1416.99</td>\n",
              "      <td>0.33</td>\n",
              "    </tr>\n",
              "    <tr>\n",
              "      <th>50%</th>\n",
              "      <td>31579.00</td>\n",
              "      <td>0.5</td>\n",
              "      <td>1990.00</td>\n",
              "      <td>43.00</td>\n",
              "      <td>0.00</td>\n",
              "      <td>103.00</td>\n",
              "      <td>1500.95</td>\n",
              "      <td>1500.95</td>\n",
              "      <td>42.11</td>\n",
              "      <td>103.00</td>\n",
              "      <td>1500.95</td>\n",
              "      <td>1500.95</td>\n",
              "      <td>0.50</td>\n",
              "    </tr>\n",
              "    <tr>\n",
              "      <th>75%</th>\n",
              "      <td>47368.00</td>\n",
              "      <td>1.0</td>\n",
              "      <td>2003.00</td>\n",
              "      <td>65.00</td>\n",
              "      <td>0.00</td>\n",
              "      <td>112.00</td>\n",
              "      <td>1576.06</td>\n",
              "      <td>1576.29</td>\n",
              "      <td>49.64</td>\n",
              "      <td>112.00</td>\n",
              "      <td>1576.06</td>\n",
              "      <td>1576.29</td>\n",
              "      <td>0.67</td>\n",
              "    </tr>\n",
              "    <tr>\n",
              "      <th>max</th>\n",
              "      <td>63157.00</td>\n",
              "      <td>1.0</td>\n",
              "      <td>2015.00</td>\n",
              "      <td>108.00</td>\n",
              "      <td>1.00</td>\n",
              "      <td>186.00</td>\n",
              "      <td>1853.10</td>\n",
              "      <td>1853.10</td>\n",
              "      <td>71.11</td>\n",
              "      <td>186.00</td>\n",
              "      <td>1853.10</td>\n",
              "      <td>1853.10</td>\n",
              "      <td>0.98</td>\n",
              "    </tr>\n",
              "  </tbody>\n",
              "</table>\n",
              "</div>"
            ],
            "text/plain": [
              "       gameorder   _iscopy    year_id  seasongame  is_playoffs        pts  \\\n",
              "count  126314.00  126314.0  126314.00   126314.00    126314.00  126314.00   \n",
              "mean    31579.00       0.5    1988.20       43.53         0.06     102.73   \n",
              "std     18231.93       0.5      17.58       25.38         0.24      14.81   \n",
              "min         1.00       0.0    1947.00        1.00         0.00       0.00   \n",
              "25%     15790.00       0.0    1975.00       22.00         0.00      93.00   \n",
              "50%     31579.00       0.5    1990.00       43.00         0.00     103.00   \n",
              "75%     47368.00       1.0    2003.00       65.00         0.00     112.00   \n",
              "max     63157.00       1.0    2015.00      108.00         1.00     186.00   \n",
              "\n",
              "           elo_i      elo_n  win_equiv    opp_pts  opp_elo_i  opp_elo_n  \\\n",
              "count  126314.00  126314.00  126314.00  126314.00  126314.00  126314.00   \n",
              "mean     1495.24    1495.24      41.71     102.73    1495.24    1495.24   \n",
              "std       112.14     112.46      10.63      14.81     112.14     112.46   \n",
              "min      1091.64    1085.77      10.15       0.00    1091.64    1085.77   \n",
              "25%      1417.24    1416.99      34.10      93.00    1417.24    1416.99   \n",
              "50%      1500.95    1500.95      42.11     103.00    1500.95    1500.95   \n",
              "75%      1576.06    1576.29      49.64     112.00    1576.06    1576.29   \n",
              "max      1853.10    1853.10      71.11     186.00    1853.10    1853.10   \n",
              "\n",
              "        forecast  \n",
              "count  126314.00  \n",
              "mean        0.50  \n",
              "std         0.22  \n",
              "min         0.02  \n",
              "25%         0.33  \n",
              "50%         0.50  \n",
              "75%         0.67  \n",
              "max         0.98  "
            ]
          },
          "metadata": {
            "tags": []
          },
          "execution_count": 120
        }
      ]
    },
    {
      "cell_type": "markdown",
      "metadata": {
        "id": "vYScH4wwRtJ1"
      },
      "source": [
        "Exploring Your Dataset"
      ]
    },
    {
      "cell_type": "code",
      "metadata": {
        "colab": {
          "base_uri": "https://localhost:8080/"
        },
        "id": "-jehRM8MRqfr",
        "outputId": "40d989b5-58c6-4c05-81a1-472510c569dc"
      },
      "source": [
        "df[\"team_id\"].value_counts()"
      ],
      "execution_count": null,
      "outputs": [
        {
          "output_type": "execute_result",
          "data": {
            "text/plain": [
              "BOS    5997\n",
              "NYK    5769\n",
              "LAL    5078\n",
              "DET    4985\n",
              "PHI    4533\n",
              "       ... \n",
              "TRH      60\n",
              "DTF      60\n",
              "INJ      60\n",
              "PIT      60\n",
              "SDS      11\n",
              "Name: team_id, Length: 104, dtype: int64"
            ]
          },
          "metadata": {
            "tags": []
          },
          "execution_count": 121
        }
      ]
    },
    {
      "cell_type": "code",
      "metadata": {
        "colab": {
          "base_uri": "https://localhost:8080/"
        },
        "id": "4MsIHRWdRyUN",
        "outputId": "2c70d465-b0ef-414d-d682-1442815fdd77"
      },
      "source": [
        "df[\"fran_id\"].value_counts()"
      ],
      "execution_count": null,
      "outputs": [
        {
          "output_type": "execute_result",
          "data": {
            "text/plain": [
              "Lakers          6024\n",
              "Celtics         5997\n",
              "Knicks          5769\n",
              "Warriors        5657\n",
              "Pistons         5650\n",
              "Sixers          5644\n",
              "Hawks           5572\n",
              "Kings           5475\n",
              "Wizards         4582\n",
              "Spurs           4309\n",
              "Bulls           4307\n",
              "Pacers          4227\n",
              "Thunder         4178\n",
              "Rockets         4154\n",
              "Nuggets         4120\n",
              "Nets            4106\n",
              "Suns            4080\n",
              "Bucks           4034\n",
              "Trailblazers    3870\n",
              "Cavaliers       3810\n",
              "Clippers        3733\n",
              "Jazz            3555\n",
              "Mavericks       3013\n",
              "Heat            2371\n",
              "Pelicans        2254\n",
              "Magic           2207\n",
              "Timberwolves    2131\n",
              "Grizzlies       1657\n",
              "Raptors         1634\n",
              "Hornets          894\n",
              "Colonels         846\n",
              "Squires          799\n",
              "Spirits          777\n",
              "Stars            756\n",
              "Sounds           697\n",
              "Baltimore        467\n",
              "Floridians       440\n",
              "Condors          430\n",
              "Capitols         291\n",
              "Olympians        282\n",
              "Sails            274\n",
              "Stags            260\n",
              "Bombers          249\n",
              "Steamrollers     168\n",
              "Packers           72\n",
              "Redskins          65\n",
              "Rebels            63\n",
              "Waterloo          62\n",
              "Denver            62\n",
              "Ironmen           60\n",
              "Jets              60\n",
              "Falcons           60\n",
              "Huskies           60\n",
              "Name: fran_id, dtype: int64"
            ]
          },
          "metadata": {
            "tags": []
          },
          "execution_count": 122
        }
      ]
    },
    {
      "cell_type": "code",
      "metadata": {
        "colab": {
          "base_uri": "https://localhost:8080/"
        },
        "id": "v1xLLcZAR80h",
        "outputId": "632f6226-ae51-4322-89cf-9facd0464a2b"
      },
      "source": [
        "df.loc[df['fran_id'] == 'Lakers', 'team_id'].value_counts()"
      ],
      "execution_count": null,
      "outputs": [
        {
          "output_type": "execute_result",
          "data": {
            "text/plain": [
              "LAL    5078\n",
              "MNL     946\n",
              "Name: team_id, dtype: int64"
            ]
          },
          "metadata": {
            "tags": []
          },
          "execution_count": 123
        }
      ]
    },
    {
      "cell_type": "code",
      "metadata": {
        "colab": {
          "base_uri": "https://localhost:8080/"
        },
        "id": "RqdXwwPiShmC",
        "outputId": "fdf1bfbf-c19d-47aa-c3e6-b5541d35f740"
      },
      "source": [
        "df.loc[df['team_id'] == 'MNL', 'date_game'].min()"
      ],
      "execution_count": null,
      "outputs": [
        {
          "output_type": "execute_result",
          "data": {
            "application/vnd.google.colaboratory.intrinsic+json": {
              "type": "string"
            },
            "text/plain": [
              "'1/1/1949'"
            ]
          },
          "metadata": {
            "tags": []
          },
          "execution_count": 124
        }
      ]
    },
    {
      "cell_type": "code",
      "metadata": {
        "colab": {
          "base_uri": "https://localhost:8080/"
        },
        "id": "F1Tf-DDMSsRF",
        "outputId": "d87f813e-d4f5-47c1-ff6f-30789c19a6b6"
      },
      "source": [
        "df.loc[df['team_id'] == 'MNL', 'date_game'].max()"
      ],
      "execution_count": null,
      "outputs": [
        {
          "output_type": "execute_result",
          "data": {
            "application/vnd.google.colaboratory.intrinsic+json": {
              "type": "string"
            },
            "text/plain": [
              "'4/9/1959'"
            ]
          },
          "metadata": {
            "tags": []
          },
          "execution_count": 125
        }
      ]
    },
    {
      "cell_type": "code",
      "metadata": {
        "colab": {
          "base_uri": "https://localhost:8080/"
        },
        "id": "HPTfVy8xSwgc",
        "outputId": "be1edd03-a773-4378-ecb2-cd4a41fc732f"
      },
      "source": [
        "df.loc[df['team_id'] == 'MNL', 'date_game'].agg(('min', 'max'))"
      ],
      "execution_count": null,
      "outputs": [
        {
          "output_type": "execute_result",
          "data": {
            "text/plain": [
              "min    1/1/1949\n",
              "max    4/9/1959\n",
              "Name: date_game, dtype: object"
            ]
          },
          "metadata": {
            "tags": []
          },
          "execution_count": 126
        }
      ]
    },
    {
      "cell_type": "code",
      "metadata": {
        "colab": {
          "base_uri": "https://localhost:8080/"
        },
        "id": "ihjv1v-bS0pR",
        "outputId": "c7e3d187-a311-480d-abaa-9ae51405a667"
      },
      "source": [
        "df.loc[df['team_id'] == 'BOS', 'pts'].sum()"
      ],
      "execution_count": null,
      "outputs": [
        {
          "output_type": "execute_result",
          "data": {
            "text/plain": [
              "626484"
            ]
          },
          "metadata": {
            "tags": []
          },
          "execution_count": 127
        }
      ]
    },
    {
      "cell_type": "markdown",
      "metadata": {
        "id": "fdqC1u3dTFlY"
      },
      "source": [
        "## Getting to Know Pandas Data Structure"
      ]
    },
    {
      "cell_type": "markdown",
      "metadata": {
        "id": "41xfD_kAumEn"
      },
      "source": [
        "Understanding Series Object"
      ]
    },
    {
      "cell_type": "code",
      "metadata": {
        "colab": {
          "base_uri": "https://localhost:8080/"
        },
        "id": "eJrwyHwRS_Ug",
        "outputId": "5c2b59e2-eaa8-4313-f16c-dcd9dc328e33"
      },
      "source": [
        "revenues = pd.Series([5555, 7000, 1980])\n",
        "revenues"
      ],
      "execution_count": null,
      "outputs": [
        {
          "output_type": "execute_result",
          "data": {
            "text/plain": [
              "0    5555\n",
              "1    7000\n",
              "2    1980\n",
              "dtype: int64"
            ]
          },
          "metadata": {
            "tags": []
          },
          "execution_count": 128
        }
      ]
    },
    {
      "cell_type": "code",
      "metadata": {
        "colab": {
          "base_uri": "https://localhost:8080/"
        },
        "id": "DS1l09kfTTmh",
        "outputId": "4de3c886-bba9-44f8-e6a1-eebff07c0b6f"
      },
      "source": [
        "revenues.values"
      ],
      "execution_count": null,
      "outputs": [
        {
          "output_type": "execute_result",
          "data": {
            "text/plain": [
              "array([5555, 7000, 1980])"
            ]
          },
          "metadata": {
            "tags": []
          },
          "execution_count": 129
        }
      ]
    },
    {
      "cell_type": "code",
      "metadata": {
        "colab": {
          "base_uri": "https://localhost:8080/"
        },
        "id": "L8aQ5qWBTs8E",
        "outputId": "2f956901-9fb4-4bd9-e446-0169e876aad9"
      },
      "source": [
        "revenues.index"
      ],
      "execution_count": null,
      "outputs": [
        {
          "output_type": "execute_result",
          "data": {
            "text/plain": [
              "RangeIndex(start=0, stop=3, step=1)"
            ]
          },
          "metadata": {
            "tags": []
          },
          "execution_count": 130
        }
      ]
    },
    {
      "cell_type": "code",
      "metadata": {
        "colab": {
          "base_uri": "https://localhost:8080/"
        },
        "id": "F0-_gCQHTuoY",
        "outputId": "322a6e13-a534-4572-d5ee-c1efb6aee2c6"
      },
      "source": [
        "city_revenues = pd.Series(\n",
        "    [4200, 8000, 6500],\n",
        "    index=[\"Amsterdam\", \"Toronto\", \"Tokyo\"]\n",
        ")\n",
        "city_revenues"
      ],
      "execution_count": null,
      "outputs": [
        {
          "output_type": "execute_result",
          "data": {
            "text/plain": [
              "Amsterdam    4200\n",
              "Toronto      8000\n",
              "Tokyo        6500\n",
              "dtype: int64"
            ]
          },
          "metadata": {
            "tags": []
          },
          "execution_count": 131
        }
      ]
    },
    {
      "cell_type": "code",
      "metadata": {
        "colab": {
          "base_uri": "https://localhost:8080/"
        },
        "id": "p5QJ_X2eT8aL",
        "outputId": "2473eda9-8399-4fc7-eadd-8ff0974c08f4"
      },
      "source": [
        "city_employee_count = pd.Series({\"Amsterdam\": 5, \"Tokyo\": 8})\n",
        "city_employee_count"
      ],
      "execution_count": null,
      "outputs": [
        {
          "output_type": "execute_result",
          "data": {
            "text/plain": [
              "Amsterdam    5\n",
              "Tokyo        8\n",
              "dtype: int64"
            ]
          },
          "metadata": {
            "tags": []
          },
          "execution_count": 132
        }
      ]
    },
    {
      "cell_type": "code",
      "metadata": {
        "colab": {
          "base_uri": "https://localhost:8080/"
        },
        "id": "1c1DJwqNUNt0",
        "outputId": "fb3f642d-6847-4611-f216-8b00b123cf97"
      },
      "source": [
        "city_employee_count.keys()"
      ],
      "execution_count": null,
      "outputs": [
        {
          "output_type": "execute_result",
          "data": {
            "text/plain": [
              "Index(['Amsterdam', 'Tokyo'], dtype='object')"
            ]
          },
          "metadata": {
            "tags": []
          },
          "execution_count": 133
        }
      ]
    },
    {
      "cell_type": "code",
      "metadata": {
        "colab": {
          "base_uri": "https://localhost:8080/"
        },
        "id": "UCdEQOSjUT2l",
        "outputId": "1cd0c8ae-d7b4-49d3-acf6-d042cd2ce5b8"
      },
      "source": [
        "\"Tokyo\" in city_employee_count"
      ],
      "execution_count": null,
      "outputs": [
        {
          "output_type": "execute_result",
          "data": {
            "text/plain": [
              "True"
            ]
          },
          "metadata": {
            "tags": []
          },
          "execution_count": 134
        }
      ]
    },
    {
      "cell_type": "markdown",
      "metadata": {
        "id": "3D7PdodlWAze"
      },
      "source": [
        "Understanding DataFrame Objects"
      ]
    },
    {
      "cell_type": "code",
      "metadata": {
        "colab": {
          "base_uri": "https://localhost:8080/"
        },
        "id": "NPoKmWz5UXXA",
        "outputId": "5773be6d-8d60-4792-a88f-7c43bcffbcbf"
      },
      "source": [
        "city_data = pd.DataFrame({\n",
        "    'revenue': city_revenues,\n",
        "    'employee_count': city_employee_count\n",
        "})\n",
        "city_data"
      ],
      "execution_count": null,
      "outputs": [
        {
          "output_type": "execute_result",
          "data": {
            "text/html": [
              "<div>\n",
              "<style scoped>\n",
              "    .dataframe tbody tr th:only-of-type {\n",
              "        vertical-align: middle;\n",
              "    }\n",
              "\n",
              "    .dataframe tbody tr th {\n",
              "        vertical-align: top;\n",
              "    }\n",
              "\n",
              "    .dataframe thead th {\n",
              "        text-align: right;\n",
              "    }\n",
              "</style>\n",
              "<table border=\"1\" class=\"dataframe\">\n",
              "  <thead>\n",
              "    <tr style=\"text-align: right;\">\n",
              "      <th></th>\n",
              "      <th>revenue</th>\n",
              "      <th>employee_count</th>\n",
              "    </tr>\n",
              "  </thead>\n",
              "  <tbody>\n",
              "    <tr>\n",
              "      <th>Amsterdam</th>\n",
              "      <td>4200</td>\n",
              "      <td>5.0</td>\n",
              "    </tr>\n",
              "    <tr>\n",
              "      <th>Tokyo</th>\n",
              "      <td>6500</td>\n",
              "      <td>8.0</td>\n",
              "    </tr>\n",
              "    <tr>\n",
              "      <th>Toronto</th>\n",
              "      <td>8000</td>\n",
              "      <td>NaN</td>\n",
              "    </tr>\n",
              "  </tbody>\n",
              "</table>\n",
              "</div>"
            ],
            "text/plain": [
              "           revenue  employee_count\n",
              "Amsterdam     4200             5.0\n",
              "Tokyo         6500             8.0\n",
              "Toronto       8000             NaN"
            ]
          },
          "metadata": {
            "tags": []
          },
          "execution_count": 135
        }
      ]
    },
    {
      "cell_type": "code",
      "metadata": {
        "colab": {
          "base_uri": "https://localhost:8080/"
        },
        "id": "3NnwNppRWQ0j",
        "outputId": "3cc2c15c-7c02-4609-b22d-cb3ee454708e"
      },
      "source": [
        "city_data.index"
      ],
      "execution_count": null,
      "outputs": [
        {
          "output_type": "execute_result",
          "data": {
            "text/plain": [
              "Index(['Amsterdam', 'Tokyo', 'Toronto'], dtype='object')"
            ]
          },
          "metadata": {
            "tags": []
          },
          "execution_count": 136
        }
      ]
    },
    {
      "cell_type": "code",
      "metadata": {
        "colab": {
          "base_uri": "https://localhost:8080/"
        },
        "id": "liQ3FrXCWWN3",
        "outputId": "1102623e-7bf3-4dde-c60b-72ec75a093cc"
      },
      "source": [
        "city_data.values"
      ],
      "execution_count": null,
      "outputs": [
        {
          "output_type": "execute_result",
          "data": {
            "text/plain": [
              "array([[4.2e+03, 5.0e+00],\n",
              "       [6.5e+03, 8.0e+00],\n",
              "       [8.0e+03,     nan]])"
            ]
          },
          "metadata": {
            "tags": []
          },
          "execution_count": 137
        }
      ]
    },
    {
      "cell_type": "code",
      "metadata": {
        "colab": {
          "base_uri": "https://localhost:8080/"
        },
        "id": "lcJKdbxdWZTH",
        "outputId": "00ed4a0d-3057-4671-9393-2ba8ef664b63"
      },
      "source": [
        "city_data.axes"
      ],
      "execution_count": null,
      "outputs": [
        {
          "output_type": "execute_result",
          "data": {
            "text/plain": [
              "[Index(['Amsterdam', 'Tokyo', 'Toronto'], dtype='object'),\n",
              " Index(['revenue', 'employee_count'], dtype='object')]"
            ]
          },
          "metadata": {
            "tags": []
          },
          "execution_count": 138
        }
      ]
    },
    {
      "cell_type": "code",
      "metadata": {
        "colab": {
          "base_uri": "https://localhost:8080/"
        },
        "id": "hryxbUo3Wb85",
        "outputId": "bf18656b-defb-4f14-b6e7-fbd98fbb7e14"
      },
      "source": [
        "city_data.axes[0]"
      ],
      "execution_count": null,
      "outputs": [
        {
          "output_type": "execute_result",
          "data": {
            "text/plain": [
              "Index(['Amsterdam', 'Tokyo', 'Toronto'], dtype='object')"
            ]
          },
          "metadata": {
            "tags": []
          },
          "execution_count": 139
        }
      ]
    },
    {
      "cell_type": "code",
      "metadata": {
        "colab": {
          "base_uri": "https://localhost:8080/"
        },
        "id": "ShhavLfgWe3k",
        "outputId": "d8b900f9-d709-423e-db81-1b34309dd784"
      },
      "source": [
        "city_data.axes[1]"
      ],
      "execution_count": null,
      "outputs": [
        {
          "output_type": "execute_result",
          "data": {
            "text/plain": [
              "Index(['revenue', 'employee_count'], dtype='object')"
            ]
          },
          "metadata": {
            "tags": []
          },
          "execution_count": 140
        }
      ]
    },
    {
      "cell_type": "code",
      "metadata": {
        "colab": {
          "base_uri": "https://localhost:8080/"
        },
        "id": "O0NcEaJyWki3",
        "outputId": "acb19357-bdb6-450a-e6f8-512b354e3453"
      },
      "source": [
        "city_data.keys()"
      ],
      "execution_count": null,
      "outputs": [
        {
          "output_type": "execute_result",
          "data": {
            "text/plain": [
              "Index(['revenue', 'employee_count'], dtype='object')"
            ]
          },
          "metadata": {
            "tags": []
          },
          "execution_count": 141
        }
      ]
    },
    {
      "cell_type": "code",
      "metadata": {
        "colab": {
          "base_uri": "https://localhost:8080/"
        },
        "id": "2JAvBydqHLjr",
        "outputId": "34f59aa2-3798-4de8-d9ac-399dffb9be49"
      },
      "source": [
        "\"Amsterdam\" in city_data"
      ],
      "execution_count": null,
      "outputs": [
        {
          "output_type": "execute_result",
          "data": {
            "text/plain": [
              "False"
            ]
          },
          "metadata": {
            "tags": []
          },
          "execution_count": 142
        }
      ]
    },
    {
      "cell_type": "code",
      "metadata": {
        "colab": {
          "base_uri": "https://localhost:8080/"
        },
        "id": "0RvGJpFYHOwW",
        "outputId": "cb58d1dd-cf06-4179-9ee8-6016b677d8d6"
      },
      "source": [
        "\"revenue\" in city_data"
      ],
      "execution_count": null,
      "outputs": [
        {
          "output_type": "execute_result",
          "data": {
            "text/plain": [
              "True"
            ]
          },
          "metadata": {
            "tags": []
          },
          "execution_count": 143
        }
      ]
    },
    {
      "cell_type": "code",
      "metadata": {
        "colab": {
          "base_uri": "https://localhost:8080/"
        },
        "id": "xiUGljJjHQ-A",
        "outputId": "6ca8e9f0-f0ed-4c33-85bb-92fc8aedf3c5"
      },
      "source": [
        "df.index"
      ],
      "execution_count": null,
      "outputs": [
        {
          "output_type": "execute_result",
          "data": {
            "text/plain": [
              "RangeIndex(start=0, stop=126314, step=1)"
            ]
          },
          "metadata": {
            "tags": []
          },
          "execution_count": 144
        }
      ]
    },
    {
      "cell_type": "code",
      "metadata": {
        "colab": {
          "base_uri": "https://localhost:8080/"
        },
        "id": "iI4NPtcmHSxG",
        "outputId": "2d8e399c-f089-456f-dd4e-de18a4b54dfe"
      },
      "source": [
        "df.axes"
      ],
      "execution_count": null,
      "outputs": [
        {
          "output_type": "execute_result",
          "data": {
            "text/plain": [
              "[RangeIndex(start=0, stop=126314, step=1),\n",
              " Index(['gameorder', 'game_id', 'lg_id', '_iscopy', 'year_id', 'date_game',\n",
              "        'seasongame', 'is_playoffs', 'team_id', 'fran_id', 'pts', 'elo_i',\n",
              "        'elo_n', 'win_equiv', 'opp_id', 'opp_fran', 'opp_pts', 'opp_elo_i',\n",
              "        'opp_elo_n', 'game_location', 'game_result', 'forecast', 'notes'],\n",
              "       dtype='object')]"
            ]
          },
          "metadata": {
            "tags": []
          },
          "execution_count": 145
        }
      ]
    },
    {
      "cell_type": "code",
      "metadata": {
        "colab": {
          "base_uri": "https://localhost:8080/"
        },
        "id": "FWvndra7HUDQ",
        "outputId": "5c0a964a-22b1-4978-e55f-6dff0618e6ea"
      },
      "source": [
        "\"points\" in df.keys()"
      ],
      "execution_count": null,
      "outputs": [
        {
          "output_type": "execute_result",
          "data": {
            "text/plain": [
              "False"
            ]
          },
          "metadata": {
            "tags": []
          },
          "execution_count": 146
        }
      ]
    },
    {
      "cell_type": "code",
      "metadata": {
        "colab": {
          "base_uri": "https://localhost:8080/"
        },
        "id": "dnU0pAmCHWiq",
        "outputId": "5b9bb9e8-0c78-47fe-e73c-6fc38565a019"
      },
      "source": [
        "\"pts\" in df.keys()"
      ],
      "execution_count": null,
      "outputs": [
        {
          "output_type": "execute_result",
          "data": {
            "text/plain": [
              "True"
            ]
          },
          "metadata": {
            "tags": []
          },
          "execution_count": 147
        }
      ]
    },
    {
      "cell_type": "markdown",
      "metadata": {
        "id": "VlKhSFmJHais"
      },
      "source": [
        "## Accessing Series Elements"
      ]
    },
    {
      "cell_type": "markdown",
      "metadata": {
        "id": "yieH-meEutKE"
      },
      "source": [
        "Using the Indexing Operator"
      ]
    },
    {
      "cell_type": "code",
      "metadata": {
        "id": "SI38jybnHY1u",
        "colab": {
          "base_uri": "https://localhost:8080/"
        },
        "outputId": "94b0ac85-d132-4a3c-a8ae-60d03790a66b"
      },
      "source": [
        "city_revenues"
      ],
      "execution_count": null,
      "outputs": [
        {
          "output_type": "execute_result",
          "data": {
            "text/plain": [
              "Amsterdam    4200\n",
              "Toronto      8000\n",
              "Tokyo        6500\n",
              "dtype: int64"
            ]
          },
          "metadata": {
            "tags": []
          },
          "execution_count": 148
        }
      ]
    },
    {
      "cell_type": "code",
      "metadata": {
        "colab": {
          "base_uri": "https://localhost:8080/"
        },
        "id": "61jOmi8lnXE4",
        "outputId": "786d70e3-1ece-4995-ea88-3ad16a1a5ab1"
      },
      "source": [
        "city_revenues['Toronto']"
      ],
      "execution_count": null,
      "outputs": [
        {
          "output_type": "execute_result",
          "data": {
            "text/plain": [
              "8000"
            ]
          },
          "metadata": {
            "tags": []
          },
          "execution_count": 149
        }
      ]
    },
    {
      "cell_type": "code",
      "metadata": {
        "colab": {
          "base_uri": "https://localhost:8080/"
        },
        "id": "s0Qf6eZjna9U",
        "outputId": "fc0ecb33-70a3-4008-e9b3-514686125030"
      },
      "source": [
        "city_revenues[1]"
      ],
      "execution_count": null,
      "outputs": [
        {
          "output_type": "execute_result",
          "data": {
            "text/plain": [
              "8000"
            ]
          },
          "metadata": {
            "tags": []
          },
          "execution_count": 150
        }
      ]
    },
    {
      "cell_type": "code",
      "metadata": {
        "colab": {
          "base_uri": "https://localhost:8080/"
        },
        "id": "2se32Rs1nddC",
        "outputId": "89075268-7a54-4e62-f9c1-c20cd3315645"
      },
      "source": [
        "city_revenues[-1]"
      ],
      "execution_count": null,
      "outputs": [
        {
          "output_type": "execute_result",
          "data": {
            "text/plain": [
              "6500"
            ]
          },
          "metadata": {
            "tags": []
          },
          "execution_count": 151
        }
      ]
    },
    {
      "cell_type": "code",
      "metadata": {
        "colab": {
          "base_uri": "https://localhost:8080/"
        },
        "id": "hgCzGVRingnh",
        "outputId": "18c47d7b-bcd3-4567-c28a-6665ecc0e0b4"
      },
      "source": [
        "city_revenues[1:]"
      ],
      "execution_count": null,
      "outputs": [
        {
          "output_type": "execute_result",
          "data": {
            "text/plain": [
              "Toronto    8000\n",
              "Tokyo      6500\n",
              "dtype: int64"
            ]
          },
          "metadata": {
            "tags": []
          },
          "execution_count": 152
        }
      ]
    },
    {
      "cell_type": "code",
      "metadata": {
        "colab": {
          "base_uri": "https://localhost:8080/"
        },
        "id": "K2wuQxqsnj6v",
        "outputId": "28b66de4-bb66-4d56-f5ae-29d035ee37b7"
      },
      "source": [
        "city_revenues['Toronto':]"
      ],
      "execution_count": null,
      "outputs": [
        {
          "output_type": "execute_result",
          "data": {
            "text/plain": [
              "Toronto    8000\n",
              "Tokyo      6500\n",
              "dtype: int64"
            ]
          },
          "metadata": {
            "tags": []
          },
          "execution_count": 153
        }
      ]
    },
    {
      "cell_type": "markdown",
      "metadata": {
        "id": "BnJYOm-dnqT7"
      },
      "source": [
        "Using .loc and .iloc"
      ]
    },
    {
      "cell_type": "code",
      "metadata": {
        "colab": {
          "base_uri": "https://localhost:8080/"
        },
        "id": "kdiEWMMWnoX0",
        "outputId": "a1316e00-3c21-44e4-adca-0a075e42364c"
      },
      "source": [
        "colors = pd.Series(\n",
        "    ['red', 'purple', 'blue', 'green', 'yellow'],\n",
        "    index = [1, 2, 3, 5, 8]\n",
        ")\n",
        "colors"
      ],
      "execution_count": null,
      "outputs": [
        {
          "output_type": "execute_result",
          "data": {
            "text/plain": [
              "1       red\n",
              "2    purple\n",
              "3      blue\n",
              "5     green\n",
              "8    yellow\n",
              "dtype: object"
            ]
          },
          "metadata": {
            "tags": []
          },
          "execution_count": 154
        }
      ]
    },
    {
      "cell_type": "markdown",
      "metadata": {
        "id": "CATjEf9KoKGZ"
      },
      "source": [
        "- .loc refers to the label index\n",
        "- .iloc refers to the positional index"
      ]
    },
    {
      "cell_type": "code",
      "metadata": {
        "colab": {
          "base_uri": "https://localhost:8080/"
        },
        "id": "9Afk588Sn130",
        "outputId": "d0317ab1-0c1e-4aef-c005-8c3507835aff"
      },
      "source": [
        "colors.loc[1]"
      ],
      "execution_count": null,
      "outputs": [
        {
          "output_type": "execute_result",
          "data": {
            "application/vnd.google.colaboratory.intrinsic+json": {
              "type": "string"
            },
            "text/plain": [
              "'red'"
            ]
          },
          "metadata": {
            "tags": []
          },
          "execution_count": 155
        }
      ]
    },
    {
      "cell_type": "code",
      "metadata": {
        "colab": {
          "base_uri": "https://localhost:8080/"
        },
        "id": "IHeodqoZoOtd",
        "outputId": "0c2a1eef-b47a-4c3a-fc5a-ed794297d046"
      },
      "source": [
        "colors.iloc[1]"
      ],
      "execution_count": null,
      "outputs": [
        {
          "output_type": "execute_result",
          "data": {
            "application/vnd.google.colaboratory.intrinsic+json": {
              "type": "string"
            },
            "text/plain": [
              "'purple'"
            ]
          },
          "metadata": {
            "tags": []
          },
          "execution_count": 156
        }
      ]
    },
    {
      "cell_type": "markdown",
      "metadata": {
        "id": "9OtqKvxXoY87"
      },
      "source": [
        "- colors.loc[1] mengembalikan \"merah\", elemen dengan label 1\n",
        "- colors.iloc[1] mengembalikan \"ungu\", elemen dengan indeks 1"
      ]
    },
    {
      "cell_type": "code",
      "metadata": {
        "colab": {
          "base_uri": "https://localhost:8080/"
        },
        "id": "x2ppkL0PoSSu",
        "outputId": "2121d6c0-598c-41bd-c3dd-6165480e6a76"
      },
      "source": [
        "# return the elements with the implicit index: 1, 2\n",
        "colors.iloc[1:3]"
      ],
      "execution_count": null,
      "outputs": [
        {
          "output_type": "execute_result",
          "data": {
            "text/plain": [
              "2    purple\n",
              "3      blue\n",
              "dtype: object"
            ]
          },
          "metadata": {
            "tags": []
          },
          "execution_count": 157
        }
      ]
    },
    {
      "cell_type": "code",
      "metadata": {
        "colab": {
          "base_uri": "https://localhost:8080/"
        },
        "id": "0ZhsOBcPowjt",
        "outputId": "543e3025-bd27-49a3-a55f-1ca85500fa96"
      },
      "source": [
        "# return the elements with the explicit index between 3 and 8\n",
        "colors.loc[3:8]"
      ],
      "execution_count": null,
      "outputs": [
        {
          "output_type": "execute_result",
          "data": {
            "text/plain": [
              "3      blue\n",
              "5     green\n",
              "8    yellow\n",
              "dtype: object"
            ]
          },
          "metadata": {
            "tags": []
          },
          "execution_count": 158
        }
      ]
    },
    {
      "cell_type": "markdown",
      "metadata": {
        "id": "h5xP0X-DpFhe"
      },
      "source": [
        ".iloc tidak menyertakan elemen penutup (akhir), maka 1:3 akan mengembalikan indeks 1 sampai 2 (indeks 3 tidak termasuk)\n",
        "\n",
        ".loc menyertakan elemen penutup (akhir), maka 3:8 akan mengembalikan semua label 3 sampai 8 (label 8 termasuk)"
      ]
    },
    {
      "cell_type": "code",
      "metadata": {
        "colab": {
          "base_uri": "https://localhost:8080/"
        },
        "id": "XfaXfFcAo_N4",
        "outputId": "2be86a3a-6d9d-4d15-fe35-991d791e80f7"
      },
      "source": [
        "colors.iloc[-2]"
      ],
      "execution_count": null,
      "outputs": [
        {
          "output_type": "execute_result",
          "data": {
            "application/vnd.google.colaboratory.intrinsic+json": {
              "type": "string"
            },
            "text/plain": [
              "'green'"
            ]
          },
          "metadata": {
            "tags": []
          },
          "execution_count": 159
        }
      ]
    },
    {
      "cell_type": "markdown",
      "metadata": {
        "id": "noXAj1UZppMD"
      },
      "source": [
        "Accessing DataFrame Elements"
      ]
    },
    {
      "cell_type": "code",
      "metadata": {
        "colab": {
          "base_uri": "https://localhost:8080/"
        },
        "id": "PxmfJI7jpmNk",
        "outputId": "4d1fc253-bb54-4d44-ec23-5157ea275f76"
      },
      "source": [
        "city_data['revenue']"
      ],
      "execution_count": null,
      "outputs": [
        {
          "output_type": "execute_result",
          "data": {
            "text/plain": [
              "Amsterdam    4200\n",
              "Tokyo        6500\n",
              "Toronto      8000\n",
              "Name: revenue, dtype: int64"
            ]
          },
          "metadata": {
            "tags": []
          },
          "execution_count": 160
        }
      ]
    },
    {
      "cell_type": "code",
      "metadata": {
        "colab": {
          "base_uri": "https://localhost:8080/"
        },
        "id": "2UV_kuS7pxpB",
        "outputId": "c5812772-7003-46ad-c915-4144bf67b96f"
      },
      "source": [
        "city_data.revenue"
      ],
      "execution_count": null,
      "outputs": [
        {
          "output_type": "execute_result",
          "data": {
            "text/plain": [
              "Amsterdam    4200\n",
              "Tokyo        6500\n",
              "Toronto      8000\n",
              "Name: revenue, dtype: int64"
            ]
          },
          "metadata": {
            "tags": []
          },
          "execution_count": 161
        }
      ]
    },
    {
      "cell_type": "code",
      "metadata": {
        "id": "E9ngvXSlp8Eg"
      },
      "source": [
        "toys = pd.DataFrame([\n",
        "    {\"name\": \"ball\", \"shape\": \"sphere\"},\n",
        "    {\"name\": \"Rubik's cube\", \"shape\": \"cube\"}\n",
        "])"
      ],
      "execution_count": null,
      "outputs": []
    },
    {
      "cell_type": "code",
      "metadata": {
        "colab": {
          "base_uri": "https://localhost:8080/"
        },
        "id": "eeEPsDQoqSJu",
        "outputId": "6c0228ea-aeeb-4c2a-d815-2bb42b29a8fc"
      },
      "source": [
        "toys[\"shape\"]"
      ],
      "execution_count": null,
      "outputs": [
        {
          "output_type": "execute_result",
          "data": {
            "text/plain": [
              "0    sphere\n",
              "1      cube\n",
              "Name: shape, dtype: object"
            ]
          },
          "metadata": {
            "tags": []
          },
          "execution_count": 163
        }
      ]
    },
    {
      "cell_type": "code",
      "metadata": {
        "colab": {
          "base_uri": "https://localhost:8080/"
        },
        "id": "ESsTvDTDqTev",
        "outputId": "9a841bc3-537c-4af7-91b7-fbd2f1518c2f"
      },
      "source": [
        "toys.shape"
      ],
      "execution_count": null,
      "outputs": [
        {
          "output_type": "execute_result",
          "data": {
            "text/plain": [
              "(2, 2)"
            ]
          },
          "metadata": {
            "tags": []
          },
          "execution_count": 164
        }
      ]
    },
    {
      "cell_type": "markdown",
      "metadata": {
        "id": "cxiQL2-fqYkq"
      },
      "source": [
        "karena key \"shape\" bernama sama dengan method \"shape\", maka key \"shape\" tidak bisa dipanggil menggunakan dot notation"
      ]
    },
    {
      "cell_type": "code",
      "metadata": {
        "colab": {
          "base_uri": "https://localhost:8080/"
        },
        "id": "z2GuiW8XqUyA",
        "outputId": "3566a43d-17c1-45ea-9e8b-dab72957f8fe"
      },
      "source": [
        "city_data.loc[\"Amsterdam\"]"
      ],
      "execution_count": null,
      "outputs": [
        {
          "output_type": "execute_result",
          "data": {
            "text/plain": [
              "revenue           4200.0\n",
              "employee_count       5.0\n",
              "Name: Amsterdam, dtype: float64"
            ]
          },
          "metadata": {
            "tags": []
          },
          "execution_count": 165
        }
      ]
    },
    {
      "cell_type": "code",
      "metadata": {
        "colab": {
          "base_uri": "https://localhost:8080/"
        },
        "id": "A4jk9rP3qo6Y",
        "outputId": "1005d118-5db7-4d65-e39a-29abefe52ad1"
      },
      "source": [
        "city_data.loc[\"Tokyo\": \"Toronto\"]"
      ],
      "execution_count": null,
      "outputs": [
        {
          "output_type": "execute_result",
          "data": {
            "text/html": [
              "<div>\n",
              "<style scoped>\n",
              "    .dataframe tbody tr th:only-of-type {\n",
              "        vertical-align: middle;\n",
              "    }\n",
              "\n",
              "    .dataframe tbody tr th {\n",
              "        vertical-align: top;\n",
              "    }\n",
              "\n",
              "    .dataframe thead th {\n",
              "        text-align: right;\n",
              "    }\n",
              "</style>\n",
              "<table border=\"1\" class=\"dataframe\">\n",
              "  <thead>\n",
              "    <tr style=\"text-align: right;\">\n",
              "      <th></th>\n",
              "      <th>revenue</th>\n",
              "      <th>employee_count</th>\n",
              "    </tr>\n",
              "  </thead>\n",
              "  <tbody>\n",
              "    <tr>\n",
              "      <th>Tokyo</th>\n",
              "      <td>6500</td>\n",
              "      <td>8.0</td>\n",
              "    </tr>\n",
              "    <tr>\n",
              "      <th>Toronto</th>\n",
              "      <td>8000</td>\n",
              "      <td>NaN</td>\n",
              "    </tr>\n",
              "  </tbody>\n",
              "</table>\n",
              "</div>"
            ],
            "text/plain": [
              "         revenue  employee_count\n",
              "Tokyo       6500             8.0\n",
              "Toronto     8000             NaN"
            ]
          },
          "metadata": {
            "tags": []
          },
          "execution_count": 166
        }
      ]
    },
    {
      "cell_type": "code",
      "metadata": {
        "colab": {
          "base_uri": "https://localhost:8080/"
        },
        "id": "IIqkJQ6Fqtms",
        "outputId": "c1d7643f-18f9-49c2-c69d-adbeac1dc603"
      },
      "source": [
        "city_data.iloc[1]"
      ],
      "execution_count": null,
      "outputs": [
        {
          "output_type": "execute_result",
          "data": {
            "text/plain": [
              "revenue           6500.0\n",
              "employee_count       8.0\n",
              "Name: Tokyo, dtype: float64"
            ]
          },
          "metadata": {
            "tags": []
          },
          "execution_count": 167
        }
      ]
    },
    {
      "cell_type": "code",
      "metadata": {
        "colab": {
          "base_uri": "https://localhost:8080/"
        },
        "id": "vU5pYfgvqwXm",
        "outputId": "4b78583c-e8cf-481e-99bc-9c60a64d1ebc"
      },
      "source": [
        "df.iloc[-2]"
      ],
      "execution_count": null,
      "outputs": [
        {
          "output_type": "execute_result",
          "data": {
            "text/plain": [
              "gameorder               63157\n",
              "game_id          201506170CLE\n",
              "lg_id                     NBA\n",
              "_iscopy                     0\n",
              "year_id                  2015\n",
              "date_game           6/16/2015\n",
              "seasongame                102\n",
              "is_playoffs                 1\n",
              "team_id                   CLE\n",
              "fran_id             Cavaliers\n",
              "pts                        97\n",
              "elo_i                 1.7e+03\n",
              "elo_n                 1.7e+03\n",
              "win_equiv                  59\n",
              "opp_id                    GSW\n",
              "opp_fran             Warriors\n",
              "opp_pts                   105\n",
              "opp_elo_i             1.8e+03\n",
              "opp_elo_n             1.8e+03\n",
              "game_location               H\n",
              "game_result                 L\n",
              "forecast                 0.48\n",
              "notes                     NaN\n",
              "Name: 126312, dtype: object"
            ]
          },
          "metadata": {
            "tags": []
          },
          "execution_count": 168
        }
      ]
    },
    {
      "cell_type": "code",
      "metadata": {
        "colab": {
          "base_uri": "https://localhost:8080/"
        },
        "id": "TnRFPIPyq6lC",
        "outputId": "72e2b4f0-57d4-46d4-a568-999992ef8619"
      },
      "source": [
        "city_data.loc[\"Amsterdam\": \"Tokyo\", \"revenue\"]"
      ],
      "execution_count": null,
      "outputs": [
        {
          "output_type": "execute_result",
          "data": {
            "text/plain": [
              "Amsterdam    4200\n",
              "Tokyo        6500\n",
              "Name: revenue, dtype: int64"
            ]
          },
          "metadata": {
            "tags": []
          },
          "execution_count": 169
        }
      ]
    },
    {
      "cell_type": "code",
      "metadata": {
        "colab": {
          "base_uri": "https://localhost:8080/"
        },
        "id": "RVI2CxOgrCjU",
        "outputId": "3cb7fe59-6ad0-4d77-e336-fc474565db43"
      },
      "source": [
        "df.loc[5555:5559, [\"fran_id\", \"opp_fran\", \"pts\", \"opp_pts\"]]"
      ],
      "execution_count": null,
      "outputs": [
        {
          "output_type": "execute_result",
          "data": {
            "text/html": [
              "<div>\n",
              "<style scoped>\n",
              "    .dataframe tbody tr th:only-of-type {\n",
              "        vertical-align: middle;\n",
              "    }\n",
              "\n",
              "    .dataframe tbody tr th {\n",
              "        vertical-align: top;\n",
              "    }\n",
              "\n",
              "    .dataframe thead th {\n",
              "        text-align: right;\n",
              "    }\n",
              "</style>\n",
              "<table border=\"1\" class=\"dataframe\">\n",
              "  <thead>\n",
              "    <tr style=\"text-align: right;\">\n",
              "      <th></th>\n",
              "      <th>fran_id</th>\n",
              "      <th>opp_fran</th>\n",
              "      <th>pts</th>\n",
              "      <th>opp_pts</th>\n",
              "    </tr>\n",
              "  </thead>\n",
              "  <tbody>\n",
              "    <tr>\n",
              "      <th>5555</th>\n",
              "      <td>Pistons</td>\n",
              "      <td>Warriors</td>\n",
              "      <td>83</td>\n",
              "      <td>56</td>\n",
              "    </tr>\n",
              "    <tr>\n",
              "      <th>5556</th>\n",
              "      <td>Celtics</td>\n",
              "      <td>Knicks</td>\n",
              "      <td>95</td>\n",
              "      <td>74</td>\n",
              "    </tr>\n",
              "    <tr>\n",
              "      <th>5557</th>\n",
              "      <td>Knicks</td>\n",
              "      <td>Celtics</td>\n",
              "      <td>74</td>\n",
              "      <td>95</td>\n",
              "    </tr>\n",
              "    <tr>\n",
              "      <th>5558</th>\n",
              "      <td>Kings</td>\n",
              "      <td>Sixers</td>\n",
              "      <td>81</td>\n",
              "      <td>86</td>\n",
              "    </tr>\n",
              "    <tr>\n",
              "      <th>5559</th>\n",
              "      <td>Sixers</td>\n",
              "      <td>Kings</td>\n",
              "      <td>86</td>\n",
              "      <td>81</td>\n",
              "    </tr>\n",
              "  </tbody>\n",
              "</table>\n",
              "</div>"
            ],
            "text/plain": [
              "      fran_id  opp_fran  pts  opp_pts\n",
              "5555  Pistons  Warriors   83       56\n",
              "5556  Celtics    Knicks   95       74\n",
              "5557   Knicks   Celtics   74       95\n",
              "5558    Kings    Sixers   81       86\n",
              "5559   Sixers     Kings   86       81"
            ]
          },
          "metadata": {
            "tags": []
          },
          "execution_count": 170
        }
      ]
    },
    {
      "cell_type": "markdown",
      "metadata": {
        "id": "r5hrGr3bsHre"
      },
      "source": [
        "Querying Your Dataset"
      ]
    },
    {
      "cell_type": "code",
      "metadata": {
        "colab": {
          "base_uri": "https://localhost:8080/"
        },
        "id": "6Pp7X6LRsBoI",
        "outputId": "dc168f80-d03a-4b07-ffb7-85087bb11548"
      },
      "source": [
        "df"
      ],
      "execution_count": null,
      "outputs": [
        {
          "output_type": "execute_result",
          "data": {
            "text/html": [
              "<div>\n",
              "<style scoped>\n",
              "    .dataframe tbody tr th:only-of-type {\n",
              "        vertical-align: middle;\n",
              "    }\n",
              "\n",
              "    .dataframe tbody tr th {\n",
              "        vertical-align: top;\n",
              "    }\n",
              "\n",
              "    .dataframe thead th {\n",
              "        text-align: right;\n",
              "    }\n",
              "</style>\n",
              "<table border=\"1\" class=\"dataframe\">\n",
              "  <thead>\n",
              "    <tr style=\"text-align: right;\">\n",
              "      <th></th>\n",
              "      <th>gameorder</th>\n",
              "      <th>game_id</th>\n",
              "      <th>lg_id</th>\n",
              "      <th>_iscopy</th>\n",
              "      <th>year_id</th>\n",
              "      <th>date_game</th>\n",
              "      <th>seasongame</th>\n",
              "      <th>is_playoffs</th>\n",
              "      <th>team_id</th>\n",
              "      <th>fran_id</th>\n",
              "      <th>pts</th>\n",
              "      <th>elo_i</th>\n",
              "      <th>elo_n</th>\n",
              "      <th>win_equiv</th>\n",
              "      <th>opp_id</th>\n",
              "      <th>opp_fran</th>\n",
              "      <th>opp_pts</th>\n",
              "      <th>opp_elo_i</th>\n",
              "      <th>opp_elo_n</th>\n",
              "      <th>game_location</th>\n",
              "      <th>game_result</th>\n",
              "      <th>forecast</th>\n",
              "      <th>notes</th>\n",
              "    </tr>\n",
              "  </thead>\n",
              "  <tbody>\n",
              "    <tr>\n",
              "      <th>0</th>\n",
              "      <td>1</td>\n",
              "      <td>194611010TRH</td>\n",
              "      <td>NBA</td>\n",
              "      <td>0</td>\n",
              "      <td>1947</td>\n",
              "      <td>11/1/1946</td>\n",
              "      <td>1</td>\n",
              "      <td>0</td>\n",
              "      <td>TRH</td>\n",
              "      <td>Huskies</td>\n",
              "      <td>66</td>\n",
              "      <td>1300.00</td>\n",
              "      <td>1293.28</td>\n",
              "      <td>40.29</td>\n",
              "      <td>NYK</td>\n",
              "      <td>Knicks</td>\n",
              "      <td>68</td>\n",
              "      <td>1300.00</td>\n",
              "      <td>1306.72</td>\n",
              "      <td>H</td>\n",
              "      <td>L</td>\n",
              "      <td>0.64</td>\n",
              "      <td>NaN</td>\n",
              "    </tr>\n",
              "    <tr>\n",
              "      <th>1</th>\n",
              "      <td>1</td>\n",
              "      <td>194611010TRH</td>\n",
              "      <td>NBA</td>\n",
              "      <td>1</td>\n",
              "      <td>1947</td>\n",
              "      <td>11/1/1946</td>\n",
              "      <td>1</td>\n",
              "      <td>0</td>\n",
              "      <td>NYK</td>\n",
              "      <td>Knicks</td>\n",
              "      <td>68</td>\n",
              "      <td>1300.00</td>\n",
              "      <td>1306.72</td>\n",
              "      <td>41.71</td>\n",
              "      <td>TRH</td>\n",
              "      <td>Huskies</td>\n",
              "      <td>66</td>\n",
              "      <td>1300.00</td>\n",
              "      <td>1293.28</td>\n",
              "      <td>A</td>\n",
              "      <td>W</td>\n",
              "      <td>0.36</td>\n",
              "      <td>NaN</td>\n",
              "    </tr>\n",
              "    <tr>\n",
              "      <th>2</th>\n",
              "      <td>2</td>\n",
              "      <td>194611020CHS</td>\n",
              "      <td>NBA</td>\n",
              "      <td>0</td>\n",
              "      <td>1947</td>\n",
              "      <td>11/2/1946</td>\n",
              "      <td>1</td>\n",
              "      <td>0</td>\n",
              "      <td>CHS</td>\n",
              "      <td>Stags</td>\n",
              "      <td>63</td>\n",
              "      <td>1300.00</td>\n",
              "      <td>1309.65</td>\n",
              "      <td>42.01</td>\n",
              "      <td>NYK</td>\n",
              "      <td>Knicks</td>\n",
              "      <td>47</td>\n",
              "      <td>1306.72</td>\n",
              "      <td>1297.07</td>\n",
              "      <td>H</td>\n",
              "      <td>W</td>\n",
              "      <td>0.63</td>\n",
              "      <td>NaN</td>\n",
              "    </tr>\n",
              "    <tr>\n",
              "      <th>3</th>\n",
              "      <td>2</td>\n",
              "      <td>194611020CHS</td>\n",
              "      <td>NBA</td>\n",
              "      <td>1</td>\n",
              "      <td>1947</td>\n",
              "      <td>11/2/1946</td>\n",
              "      <td>2</td>\n",
              "      <td>0</td>\n",
              "      <td>NYK</td>\n",
              "      <td>Knicks</td>\n",
              "      <td>47</td>\n",
              "      <td>1306.72</td>\n",
              "      <td>1297.07</td>\n",
              "      <td>40.69</td>\n",
              "      <td>CHS</td>\n",
              "      <td>Stags</td>\n",
              "      <td>63</td>\n",
              "      <td>1300.00</td>\n",
              "      <td>1309.65</td>\n",
              "      <td>A</td>\n",
              "      <td>L</td>\n",
              "      <td>0.37</td>\n",
              "      <td>NaN</td>\n",
              "    </tr>\n",
              "    <tr>\n",
              "      <th>4</th>\n",
              "      <td>3</td>\n",
              "      <td>194611020DTF</td>\n",
              "      <td>NBA</td>\n",
              "      <td>0</td>\n",
              "      <td>1947</td>\n",
              "      <td>11/2/1946</td>\n",
              "      <td>1</td>\n",
              "      <td>0</td>\n",
              "      <td>DTF</td>\n",
              "      <td>Falcons</td>\n",
              "      <td>33</td>\n",
              "      <td>1300.00</td>\n",
              "      <td>1279.62</td>\n",
              "      <td>38.86</td>\n",
              "      <td>WSC</td>\n",
              "      <td>Capitols</td>\n",
              "      <td>50</td>\n",
              "      <td>1300.00</td>\n",
              "      <td>1320.38</td>\n",
              "      <td>H</td>\n",
              "      <td>L</td>\n",
              "      <td>0.64</td>\n",
              "      <td>NaN</td>\n",
              "    </tr>\n",
              "    <tr>\n",
              "      <th>...</th>\n",
              "      <td>...</td>\n",
              "      <td>...</td>\n",
              "      <td>...</td>\n",
              "      <td>...</td>\n",
              "      <td>...</td>\n",
              "      <td>...</td>\n",
              "      <td>...</td>\n",
              "      <td>...</td>\n",
              "      <td>...</td>\n",
              "      <td>...</td>\n",
              "      <td>...</td>\n",
              "      <td>...</td>\n",
              "      <td>...</td>\n",
              "      <td>...</td>\n",
              "      <td>...</td>\n",
              "      <td>...</td>\n",
              "      <td>...</td>\n",
              "      <td>...</td>\n",
              "      <td>...</td>\n",
              "      <td>...</td>\n",
              "      <td>...</td>\n",
              "      <td>...</td>\n",
              "      <td>...</td>\n",
              "    </tr>\n",
              "    <tr>\n",
              "      <th>126309</th>\n",
              "      <td>63155</td>\n",
              "      <td>201506110CLE</td>\n",
              "      <td>NBA</td>\n",
              "      <td>0</td>\n",
              "      <td>2015</td>\n",
              "      <td>6/11/2015</td>\n",
              "      <td>100</td>\n",
              "      <td>1</td>\n",
              "      <td>CLE</td>\n",
              "      <td>Cavaliers</td>\n",
              "      <td>82</td>\n",
              "      <td>1723.41</td>\n",
              "      <td>1704.39</td>\n",
              "      <td>60.31</td>\n",
              "      <td>GSW</td>\n",
              "      <td>Warriors</td>\n",
              "      <td>103</td>\n",
              "      <td>1790.96</td>\n",
              "      <td>1809.98</td>\n",
              "      <td>H</td>\n",
              "      <td>L</td>\n",
              "      <td>0.55</td>\n",
              "      <td>NaN</td>\n",
              "    </tr>\n",
              "    <tr>\n",
              "      <th>126310</th>\n",
              "      <td>63156</td>\n",
              "      <td>201506140GSW</td>\n",
              "      <td>NBA</td>\n",
              "      <td>0</td>\n",
              "      <td>2015</td>\n",
              "      <td>6/14/2015</td>\n",
              "      <td>102</td>\n",
              "      <td>1</td>\n",
              "      <td>GSW</td>\n",
              "      <td>Warriors</td>\n",
              "      <td>104</td>\n",
              "      <td>1809.98</td>\n",
              "      <td>1813.63</td>\n",
              "      <td>68.01</td>\n",
              "      <td>CLE</td>\n",
              "      <td>Cavaliers</td>\n",
              "      <td>91</td>\n",
              "      <td>1704.39</td>\n",
              "      <td>1700.74</td>\n",
              "      <td>H</td>\n",
              "      <td>W</td>\n",
              "      <td>0.77</td>\n",
              "      <td>NaN</td>\n",
              "    </tr>\n",
              "    <tr>\n",
              "      <th>126311</th>\n",
              "      <td>63156</td>\n",
              "      <td>201506140GSW</td>\n",
              "      <td>NBA</td>\n",
              "      <td>1</td>\n",
              "      <td>2015</td>\n",
              "      <td>6/14/2015</td>\n",
              "      <td>101</td>\n",
              "      <td>1</td>\n",
              "      <td>CLE</td>\n",
              "      <td>Cavaliers</td>\n",
              "      <td>91</td>\n",
              "      <td>1704.39</td>\n",
              "      <td>1700.74</td>\n",
              "      <td>60.01</td>\n",
              "      <td>GSW</td>\n",
              "      <td>Warriors</td>\n",
              "      <td>104</td>\n",
              "      <td>1809.98</td>\n",
              "      <td>1813.63</td>\n",
              "      <td>A</td>\n",
              "      <td>L</td>\n",
              "      <td>0.23</td>\n",
              "      <td>NaN</td>\n",
              "    </tr>\n",
              "    <tr>\n",
              "      <th>126312</th>\n",
              "      <td>63157</td>\n",
              "      <td>201506170CLE</td>\n",
              "      <td>NBA</td>\n",
              "      <td>0</td>\n",
              "      <td>2015</td>\n",
              "      <td>6/16/2015</td>\n",
              "      <td>102</td>\n",
              "      <td>1</td>\n",
              "      <td>CLE</td>\n",
              "      <td>Cavaliers</td>\n",
              "      <td>97</td>\n",
              "      <td>1700.74</td>\n",
              "      <td>1692.09</td>\n",
              "      <td>59.29</td>\n",
              "      <td>GSW</td>\n",
              "      <td>Warriors</td>\n",
              "      <td>105</td>\n",
              "      <td>1813.63</td>\n",
              "      <td>1822.29</td>\n",
              "      <td>H</td>\n",
              "      <td>L</td>\n",
              "      <td>0.48</td>\n",
              "      <td>NaN</td>\n",
              "    </tr>\n",
              "    <tr>\n",
              "      <th>126313</th>\n",
              "      <td>63157</td>\n",
              "      <td>201506170CLE</td>\n",
              "      <td>NBA</td>\n",
              "      <td>1</td>\n",
              "      <td>2015</td>\n",
              "      <td>6/16/2015</td>\n",
              "      <td>103</td>\n",
              "      <td>1</td>\n",
              "      <td>GSW</td>\n",
              "      <td>Warriors</td>\n",
              "      <td>105</td>\n",
              "      <td>1813.63</td>\n",
              "      <td>1822.29</td>\n",
              "      <td>68.52</td>\n",
              "      <td>CLE</td>\n",
              "      <td>Cavaliers</td>\n",
              "      <td>97</td>\n",
              "      <td>1700.74</td>\n",
              "      <td>1692.09</td>\n",
              "      <td>A</td>\n",
              "      <td>W</td>\n",
              "      <td>0.52</td>\n",
              "      <td>NaN</td>\n",
              "    </tr>\n",
              "  </tbody>\n",
              "</table>\n",
              "<p>126314 rows × 23 columns</p>\n",
              "</div>"
            ],
            "text/plain": [
              "        gameorder       game_id lg_id  _iscopy  year_id  date_game  \\\n",
              "0               1  194611010TRH   NBA        0     1947  11/1/1946   \n",
              "1               1  194611010TRH   NBA        1     1947  11/1/1946   \n",
              "2               2  194611020CHS   NBA        0     1947  11/2/1946   \n",
              "3               2  194611020CHS   NBA        1     1947  11/2/1946   \n",
              "4               3  194611020DTF   NBA        0     1947  11/2/1946   \n",
              "...           ...           ...   ...      ...      ...        ...   \n",
              "126309      63155  201506110CLE   NBA        0     2015  6/11/2015   \n",
              "126310      63156  201506140GSW   NBA        0     2015  6/14/2015   \n",
              "126311      63156  201506140GSW   NBA        1     2015  6/14/2015   \n",
              "126312      63157  201506170CLE   NBA        0     2015  6/16/2015   \n",
              "126313      63157  201506170CLE   NBA        1     2015  6/16/2015   \n",
              "\n",
              "        seasongame  is_playoffs team_id    fran_id  pts    elo_i    elo_n  \\\n",
              "0                1            0     TRH    Huskies   66  1300.00  1293.28   \n",
              "1                1            0     NYK     Knicks   68  1300.00  1306.72   \n",
              "2                1            0     CHS      Stags   63  1300.00  1309.65   \n",
              "3                2            0     NYK     Knicks   47  1306.72  1297.07   \n",
              "4                1            0     DTF    Falcons   33  1300.00  1279.62   \n",
              "...            ...          ...     ...        ...  ...      ...      ...   \n",
              "126309         100            1     CLE  Cavaliers   82  1723.41  1704.39   \n",
              "126310         102            1     GSW   Warriors  104  1809.98  1813.63   \n",
              "126311         101            1     CLE  Cavaliers   91  1704.39  1700.74   \n",
              "126312         102            1     CLE  Cavaliers   97  1700.74  1692.09   \n",
              "126313         103            1     GSW   Warriors  105  1813.63  1822.29   \n",
              "\n",
              "        win_equiv opp_id   opp_fran  opp_pts  opp_elo_i  opp_elo_n  \\\n",
              "0           40.29    NYK     Knicks       68    1300.00    1306.72   \n",
              "1           41.71    TRH    Huskies       66    1300.00    1293.28   \n",
              "2           42.01    NYK     Knicks       47    1306.72    1297.07   \n",
              "3           40.69    CHS      Stags       63    1300.00    1309.65   \n",
              "4           38.86    WSC   Capitols       50    1300.00    1320.38   \n",
              "...           ...    ...        ...      ...        ...        ...   \n",
              "126309      60.31    GSW   Warriors      103    1790.96    1809.98   \n",
              "126310      68.01    CLE  Cavaliers       91    1704.39    1700.74   \n",
              "126311      60.01    GSW   Warriors      104    1809.98    1813.63   \n",
              "126312      59.29    GSW   Warriors      105    1813.63    1822.29   \n",
              "126313      68.52    CLE  Cavaliers       97    1700.74    1692.09   \n",
              "\n",
              "       game_location game_result  forecast notes  \n",
              "0                  H           L      0.64   NaN  \n",
              "1                  A           W      0.36   NaN  \n",
              "2                  H           W      0.63   NaN  \n",
              "3                  A           L      0.37   NaN  \n",
              "4                  H           L      0.64   NaN  \n",
              "...              ...         ...       ...   ...  \n",
              "126309             H           L      0.55   NaN  \n",
              "126310             H           W      0.77   NaN  \n",
              "126311             A           L      0.23   NaN  \n",
              "126312             H           L      0.48   NaN  \n",
              "126313             A           W      0.52   NaN  \n",
              "\n",
              "[126314 rows x 23 columns]"
            ]
          },
          "metadata": {
            "tags": []
          },
          "execution_count": 171
        }
      ]
    },
    {
      "cell_type": "code",
      "metadata": {
        "colab": {
          "base_uri": "https://localhost:8080/"
        },
        "id": "TqqWvCDcsLMC",
        "outputId": "58c06d1d-5ad2-4dc1-f04a-d51c74c4de54"
      },
      "source": [
        "current_decade = df[df[\"year_id\"] > 2010]\n",
        "current_decade"
      ],
      "execution_count": null,
      "outputs": [
        {
          "output_type": "execute_result",
          "data": {
            "text/html": [
              "<div>\n",
              "<style scoped>\n",
              "    .dataframe tbody tr th:only-of-type {\n",
              "        vertical-align: middle;\n",
              "    }\n",
              "\n",
              "    .dataframe tbody tr th {\n",
              "        vertical-align: top;\n",
              "    }\n",
              "\n",
              "    .dataframe thead th {\n",
              "        text-align: right;\n",
              "    }\n",
              "</style>\n",
              "<table border=\"1\" class=\"dataframe\">\n",
              "  <thead>\n",
              "    <tr style=\"text-align: right;\">\n",
              "      <th></th>\n",
              "      <th>gameorder</th>\n",
              "      <th>game_id</th>\n",
              "      <th>lg_id</th>\n",
              "      <th>_iscopy</th>\n",
              "      <th>year_id</th>\n",
              "      <th>date_game</th>\n",
              "      <th>seasongame</th>\n",
              "      <th>is_playoffs</th>\n",
              "      <th>team_id</th>\n",
              "      <th>fran_id</th>\n",
              "      <th>pts</th>\n",
              "      <th>elo_i</th>\n",
              "      <th>elo_n</th>\n",
              "      <th>win_equiv</th>\n",
              "      <th>opp_id</th>\n",
              "      <th>opp_fran</th>\n",
              "      <th>opp_pts</th>\n",
              "      <th>opp_elo_i</th>\n",
              "      <th>opp_elo_n</th>\n",
              "      <th>game_location</th>\n",
              "      <th>game_result</th>\n",
              "      <th>forecast</th>\n",
              "      <th>notes</th>\n",
              "    </tr>\n",
              "  </thead>\n",
              "  <tbody>\n",
              "    <tr>\n",
              "      <th>113656</th>\n",
              "      <td>56829</td>\n",
              "      <td>201010260BOS</td>\n",
              "      <td>NBA</td>\n",
              "      <td>1</td>\n",
              "      <td>2011</td>\n",
              "      <td>10/26/2010</td>\n",
              "      <td>1</td>\n",
              "      <td>0</td>\n",
              "      <td>MIA</td>\n",
              "      <td>Heat</td>\n",
              "      <td>80</td>\n",
              "      <td>1547.36</td>\n",
              "      <td>1543.16</td>\n",
              "      <td>45.14</td>\n",
              "      <td>BOS</td>\n",
              "      <td>Celtics</td>\n",
              "      <td>88</td>\n",
              "      <td>1625.10</td>\n",
              "      <td>1629.30</td>\n",
              "      <td>A</td>\n",
              "      <td>L</td>\n",
              "      <td>0.26</td>\n",
              "      <td>NaN</td>\n",
              "    </tr>\n",
              "    <tr>\n",
              "      <th>113657</th>\n",
              "      <td>56829</td>\n",
              "      <td>201010260BOS</td>\n",
              "      <td>NBA</td>\n",
              "      <td>0</td>\n",
              "      <td>2011</td>\n",
              "      <td>10/26/2010</td>\n",
              "      <td>1</td>\n",
              "      <td>0</td>\n",
              "      <td>BOS</td>\n",
              "      <td>Celtics</td>\n",
              "      <td>88</td>\n",
              "      <td>1625.10</td>\n",
              "      <td>1629.30</td>\n",
              "      <td>53.75</td>\n",
              "      <td>MIA</td>\n",
              "      <td>Heat</td>\n",
              "      <td>80</td>\n",
              "      <td>1547.36</td>\n",
              "      <td>1543.16</td>\n",
              "      <td>H</td>\n",
              "      <td>W</td>\n",
              "      <td>0.74</td>\n",
              "      <td>NaN</td>\n",
              "    </tr>\n",
              "    <tr>\n",
              "      <th>113658</th>\n",
              "      <td>56830</td>\n",
              "      <td>201010260LAL</td>\n",
              "      <td>NBA</td>\n",
              "      <td>1</td>\n",
              "      <td>2011</td>\n",
              "      <td>10/26/2010</td>\n",
              "      <td>1</td>\n",
              "      <td>0</td>\n",
              "      <td>HOU</td>\n",
              "      <td>Rockets</td>\n",
              "      <td>110</td>\n",
              "      <td>1504.20</td>\n",
              "      <td>1502.60</td>\n",
              "      <td>40.90</td>\n",
              "      <td>LAL</td>\n",
              "      <td>Lakers</td>\n",
              "      <td>112</td>\n",
              "      <td>1647.60</td>\n",
              "      <td>1649.20</td>\n",
              "      <td>A</td>\n",
              "      <td>L</td>\n",
              "      <td>0.20</td>\n",
              "      <td>NaN</td>\n",
              "    </tr>\n",
              "    <tr>\n",
              "      <th>113659</th>\n",
              "      <td>56830</td>\n",
              "      <td>201010260LAL</td>\n",
              "      <td>NBA</td>\n",
              "      <td>0</td>\n",
              "      <td>2011</td>\n",
              "      <td>10/26/2010</td>\n",
              "      <td>1</td>\n",
              "      <td>0</td>\n",
              "      <td>LAL</td>\n",
              "      <td>Lakers</td>\n",
              "      <td>112</td>\n",
              "      <td>1647.60</td>\n",
              "      <td>1649.20</td>\n",
              "      <td>55.61</td>\n",
              "      <td>HOU</td>\n",
              "      <td>Rockets</td>\n",
              "      <td>110</td>\n",
              "      <td>1504.20</td>\n",
              "      <td>1502.60</td>\n",
              "      <td>H</td>\n",
              "      <td>W</td>\n",
              "      <td>0.80</td>\n",
              "      <td>NaN</td>\n",
              "    </tr>\n",
              "    <tr>\n",
              "      <th>113660</th>\n",
              "      <td>56831</td>\n",
              "      <td>201010260POR</td>\n",
              "      <td>NBA</td>\n",
              "      <td>1</td>\n",
              "      <td>2011</td>\n",
              "      <td>10/26/2010</td>\n",
              "      <td>1</td>\n",
              "      <td>0</td>\n",
              "      <td>PHO</td>\n",
              "      <td>Suns</td>\n",
              "      <td>92</td>\n",
              "      <td>1643.02</td>\n",
              "      <td>1630.62</td>\n",
              "      <td>53.88</td>\n",
              "      <td>POR</td>\n",
              "      <td>Trailblazers</td>\n",
              "      <td>106</td>\n",
              "      <td>1552.81</td>\n",
              "      <td>1565.22</td>\n",
              "      <td>A</td>\n",
              "      <td>L</td>\n",
              "      <td>0.49</td>\n",
              "      <td>NaN</td>\n",
              "    </tr>\n",
              "    <tr>\n",
              "      <th>...</th>\n",
              "      <td>...</td>\n",
              "      <td>...</td>\n",
              "      <td>...</td>\n",
              "      <td>...</td>\n",
              "      <td>...</td>\n",
              "      <td>...</td>\n",
              "      <td>...</td>\n",
              "      <td>...</td>\n",
              "      <td>...</td>\n",
              "      <td>...</td>\n",
              "      <td>...</td>\n",
              "      <td>...</td>\n",
              "      <td>...</td>\n",
              "      <td>...</td>\n",
              "      <td>...</td>\n",
              "      <td>...</td>\n",
              "      <td>...</td>\n",
              "      <td>...</td>\n",
              "      <td>...</td>\n",
              "      <td>...</td>\n",
              "      <td>...</td>\n",
              "      <td>...</td>\n",
              "      <td>...</td>\n",
              "    </tr>\n",
              "    <tr>\n",
              "      <th>126309</th>\n",
              "      <td>63155</td>\n",
              "      <td>201506110CLE</td>\n",
              "      <td>NBA</td>\n",
              "      <td>0</td>\n",
              "      <td>2015</td>\n",
              "      <td>6/11/2015</td>\n",
              "      <td>100</td>\n",
              "      <td>1</td>\n",
              "      <td>CLE</td>\n",
              "      <td>Cavaliers</td>\n",
              "      <td>82</td>\n",
              "      <td>1723.41</td>\n",
              "      <td>1704.39</td>\n",
              "      <td>60.31</td>\n",
              "      <td>GSW</td>\n",
              "      <td>Warriors</td>\n",
              "      <td>103</td>\n",
              "      <td>1790.96</td>\n",
              "      <td>1809.98</td>\n",
              "      <td>H</td>\n",
              "      <td>L</td>\n",
              "      <td>0.55</td>\n",
              "      <td>NaN</td>\n",
              "    </tr>\n",
              "    <tr>\n",
              "      <th>126310</th>\n",
              "      <td>63156</td>\n",
              "      <td>201506140GSW</td>\n",
              "      <td>NBA</td>\n",
              "      <td>0</td>\n",
              "      <td>2015</td>\n",
              "      <td>6/14/2015</td>\n",
              "      <td>102</td>\n",
              "      <td>1</td>\n",
              "      <td>GSW</td>\n",
              "      <td>Warriors</td>\n",
              "      <td>104</td>\n",
              "      <td>1809.98</td>\n",
              "      <td>1813.63</td>\n",
              "      <td>68.01</td>\n",
              "      <td>CLE</td>\n",
              "      <td>Cavaliers</td>\n",
              "      <td>91</td>\n",
              "      <td>1704.39</td>\n",
              "      <td>1700.74</td>\n",
              "      <td>H</td>\n",
              "      <td>W</td>\n",
              "      <td>0.77</td>\n",
              "      <td>NaN</td>\n",
              "    </tr>\n",
              "    <tr>\n",
              "      <th>126311</th>\n",
              "      <td>63156</td>\n",
              "      <td>201506140GSW</td>\n",
              "      <td>NBA</td>\n",
              "      <td>1</td>\n",
              "      <td>2015</td>\n",
              "      <td>6/14/2015</td>\n",
              "      <td>101</td>\n",
              "      <td>1</td>\n",
              "      <td>CLE</td>\n",
              "      <td>Cavaliers</td>\n",
              "      <td>91</td>\n",
              "      <td>1704.39</td>\n",
              "      <td>1700.74</td>\n",
              "      <td>60.01</td>\n",
              "      <td>GSW</td>\n",
              "      <td>Warriors</td>\n",
              "      <td>104</td>\n",
              "      <td>1809.98</td>\n",
              "      <td>1813.63</td>\n",
              "      <td>A</td>\n",
              "      <td>L</td>\n",
              "      <td>0.23</td>\n",
              "      <td>NaN</td>\n",
              "    </tr>\n",
              "    <tr>\n",
              "      <th>126312</th>\n",
              "      <td>63157</td>\n",
              "      <td>201506170CLE</td>\n",
              "      <td>NBA</td>\n",
              "      <td>0</td>\n",
              "      <td>2015</td>\n",
              "      <td>6/16/2015</td>\n",
              "      <td>102</td>\n",
              "      <td>1</td>\n",
              "      <td>CLE</td>\n",
              "      <td>Cavaliers</td>\n",
              "      <td>97</td>\n",
              "      <td>1700.74</td>\n",
              "      <td>1692.09</td>\n",
              "      <td>59.29</td>\n",
              "      <td>GSW</td>\n",
              "      <td>Warriors</td>\n",
              "      <td>105</td>\n",
              "      <td>1813.63</td>\n",
              "      <td>1822.29</td>\n",
              "      <td>H</td>\n",
              "      <td>L</td>\n",
              "      <td>0.48</td>\n",
              "      <td>NaN</td>\n",
              "    </tr>\n",
              "    <tr>\n",
              "      <th>126313</th>\n",
              "      <td>63157</td>\n",
              "      <td>201506170CLE</td>\n",
              "      <td>NBA</td>\n",
              "      <td>1</td>\n",
              "      <td>2015</td>\n",
              "      <td>6/16/2015</td>\n",
              "      <td>103</td>\n",
              "      <td>1</td>\n",
              "      <td>GSW</td>\n",
              "      <td>Warriors</td>\n",
              "      <td>105</td>\n",
              "      <td>1813.63</td>\n",
              "      <td>1822.29</td>\n",
              "      <td>68.52</td>\n",
              "      <td>CLE</td>\n",
              "      <td>Cavaliers</td>\n",
              "      <td>97</td>\n",
              "      <td>1700.74</td>\n",
              "      <td>1692.09</td>\n",
              "      <td>A</td>\n",
              "      <td>W</td>\n",
              "      <td>0.52</td>\n",
              "      <td>NaN</td>\n",
              "    </tr>\n",
              "  </tbody>\n",
              "</table>\n",
              "<p>12658 rows × 23 columns</p>\n",
              "</div>"
            ],
            "text/plain": [
              "        gameorder       game_id lg_id  _iscopy  year_id   date_game  \\\n",
              "113656      56829  201010260BOS   NBA        1     2011  10/26/2010   \n",
              "113657      56829  201010260BOS   NBA        0     2011  10/26/2010   \n",
              "113658      56830  201010260LAL   NBA        1     2011  10/26/2010   \n",
              "113659      56830  201010260LAL   NBA        0     2011  10/26/2010   \n",
              "113660      56831  201010260POR   NBA        1     2011  10/26/2010   \n",
              "...           ...           ...   ...      ...      ...         ...   \n",
              "126309      63155  201506110CLE   NBA        0     2015   6/11/2015   \n",
              "126310      63156  201506140GSW   NBA        0     2015   6/14/2015   \n",
              "126311      63156  201506140GSW   NBA        1     2015   6/14/2015   \n",
              "126312      63157  201506170CLE   NBA        0     2015   6/16/2015   \n",
              "126313      63157  201506170CLE   NBA        1     2015   6/16/2015   \n",
              "\n",
              "        seasongame  is_playoffs team_id    fran_id  pts    elo_i    elo_n  \\\n",
              "113656           1            0     MIA       Heat   80  1547.36  1543.16   \n",
              "113657           1            0     BOS    Celtics   88  1625.10  1629.30   \n",
              "113658           1            0     HOU    Rockets  110  1504.20  1502.60   \n",
              "113659           1            0     LAL     Lakers  112  1647.60  1649.20   \n",
              "113660           1            0     PHO       Suns   92  1643.02  1630.62   \n",
              "...            ...          ...     ...        ...  ...      ...      ...   \n",
              "126309         100            1     CLE  Cavaliers   82  1723.41  1704.39   \n",
              "126310         102            1     GSW   Warriors  104  1809.98  1813.63   \n",
              "126311         101            1     CLE  Cavaliers   91  1704.39  1700.74   \n",
              "126312         102            1     CLE  Cavaliers   97  1700.74  1692.09   \n",
              "126313         103            1     GSW   Warriors  105  1813.63  1822.29   \n",
              "\n",
              "        win_equiv opp_id      opp_fran  opp_pts  opp_elo_i  opp_elo_n  \\\n",
              "113656      45.14    BOS       Celtics       88    1625.10    1629.30   \n",
              "113657      53.75    MIA          Heat       80    1547.36    1543.16   \n",
              "113658      40.90    LAL        Lakers      112    1647.60    1649.20   \n",
              "113659      55.61    HOU       Rockets      110    1504.20    1502.60   \n",
              "113660      53.88    POR  Trailblazers      106    1552.81    1565.22   \n",
              "...           ...    ...           ...      ...        ...        ...   \n",
              "126309      60.31    GSW      Warriors      103    1790.96    1809.98   \n",
              "126310      68.01    CLE     Cavaliers       91    1704.39    1700.74   \n",
              "126311      60.01    GSW      Warriors      104    1809.98    1813.63   \n",
              "126312      59.29    GSW      Warriors      105    1813.63    1822.29   \n",
              "126313      68.52    CLE     Cavaliers       97    1700.74    1692.09   \n",
              "\n",
              "       game_location game_result  forecast notes  \n",
              "113656             A           L      0.26   NaN  \n",
              "113657             H           W      0.74   NaN  \n",
              "113658             A           L      0.20   NaN  \n",
              "113659             H           W      0.80   NaN  \n",
              "113660             A           L      0.49   NaN  \n",
              "...              ...         ...       ...   ...  \n",
              "126309             H           L      0.55   NaN  \n",
              "126310             H           W      0.77   NaN  \n",
              "126311             A           L      0.23   NaN  \n",
              "126312             H           L      0.48   NaN  \n",
              "126313             A           W      0.52   NaN  \n",
              "\n",
              "[12658 rows x 23 columns]"
            ]
          },
          "metadata": {
            "tags": []
          },
          "execution_count": 172
        }
      ]
    },
    {
      "cell_type": "code",
      "metadata": {
        "colab": {
          "base_uri": "https://localhost:8080/"
        },
        "id": "7Np9tVb_sW-W",
        "outputId": "ea4db2ad-bed1-4c92-81e8-bca77d2eace1"
      },
      "source": [
        "current_decade.shape"
      ],
      "execution_count": null,
      "outputs": [
        {
          "output_type": "execute_result",
          "data": {
            "text/plain": [
              "(12658, 23)"
            ]
          },
          "metadata": {
            "tags": []
          },
          "execution_count": 173
        }
      ]
    },
    {
      "cell_type": "code",
      "metadata": {
        "colab": {
          "base_uri": "https://localhost:8080/"
        },
        "id": "z61wauJZsbu3",
        "outputId": "ee2a6fef-b9df-48c2-d233-0f36bf8a7ed5"
      },
      "source": [
        "games_with_notes = df[df[\"notes\"].notnull()]\n",
        "games_with_notes.shape"
      ],
      "execution_count": null,
      "outputs": [
        {
          "output_type": "execute_result",
          "data": {
            "text/plain": [
              "(5424, 23)"
            ]
          },
          "metadata": {
            "tags": []
          },
          "execution_count": 174
        }
      ]
    },
    {
      "cell_type": "code",
      "metadata": {
        "colab": {
          "base_uri": "https://localhost:8080/"
        },
        "id": "hB_6dehBskHY",
        "outputId": "b1e4ef4c-7b4f-44c5-d77f-df1e0b6a943e"
      },
      "source": [
        "ers = df[df[\"fran_id\"].str.endswith(\"ers\")]\n",
        "ers.shape"
      ],
      "execution_count": null,
      "outputs": [
        {
          "output_type": "execute_result",
          "data": {
            "text/plain": [
              "(27797, 23)"
            ]
          },
          "metadata": {
            "tags": []
          },
          "execution_count": 175
        }
      ]
    },
    {
      "cell_type": "markdown",
      "metadata": {
        "id": "oyvbuA_ItTR_"
      },
      "source": [
        "mencari game Baltimore dimana kedua tim mencetak lebih dari 100 poin dan tanpa duplicates"
      ]
    },
    {
      "cell_type": "code",
      "metadata": {
        "colab": {
          "base_uri": "https://localhost:8080/"
        },
        "id": "BwdBUoP1s4jU",
        "outputId": "bcc932b2-e7ef-4aba-c78f-0987080a2c78"
      },
      "source": [
        "df[\n",
        "   (df[\"_iscopy\"] == 0) &\n",
        "   (df[\"pts\"] > 100) &\n",
        "   (df[\"opp_pts\"] > 100) &\n",
        "   (df[\"team_id\"] == \"BLB\")\n",
        "]"
      ],
      "execution_count": null,
      "outputs": [
        {
          "output_type": "execute_result",
          "data": {
            "text/html": [
              "<div>\n",
              "<style scoped>\n",
              "    .dataframe tbody tr th:only-of-type {\n",
              "        vertical-align: middle;\n",
              "    }\n",
              "\n",
              "    .dataframe tbody tr th {\n",
              "        vertical-align: top;\n",
              "    }\n",
              "\n",
              "    .dataframe thead th {\n",
              "        text-align: right;\n",
              "    }\n",
              "</style>\n",
              "<table border=\"1\" class=\"dataframe\">\n",
              "  <thead>\n",
              "    <tr style=\"text-align: right;\">\n",
              "      <th></th>\n",
              "      <th>gameorder</th>\n",
              "      <th>game_id</th>\n",
              "      <th>lg_id</th>\n",
              "      <th>_iscopy</th>\n",
              "      <th>year_id</th>\n",
              "      <th>date_game</th>\n",
              "      <th>seasongame</th>\n",
              "      <th>is_playoffs</th>\n",
              "      <th>team_id</th>\n",
              "      <th>fran_id</th>\n",
              "      <th>pts</th>\n",
              "      <th>elo_i</th>\n",
              "      <th>elo_n</th>\n",
              "      <th>win_equiv</th>\n",
              "      <th>opp_id</th>\n",
              "      <th>opp_fran</th>\n",
              "      <th>opp_pts</th>\n",
              "      <th>opp_elo_i</th>\n",
              "      <th>opp_elo_n</th>\n",
              "      <th>game_location</th>\n",
              "      <th>game_result</th>\n",
              "      <th>forecast</th>\n",
              "      <th>notes</th>\n",
              "    </tr>\n",
              "  </thead>\n",
              "  <tbody>\n",
              "    <tr>\n",
              "      <th>1726</th>\n",
              "      <td>864</td>\n",
              "      <td>194902260BLB</td>\n",
              "      <td>NBA</td>\n",
              "      <td>0</td>\n",
              "      <td>1949</td>\n",
              "      <td>2/26/1949</td>\n",
              "      <td>53</td>\n",
              "      <td>0</td>\n",
              "      <td>BLB</td>\n",
              "      <td>Baltimore</td>\n",
              "      <td>114</td>\n",
              "      <td>1421.94</td>\n",
              "      <td>1419.43</td>\n",
              "      <td>38.56</td>\n",
              "      <td>MNL</td>\n",
              "      <td>Lakers</td>\n",
              "      <td>115</td>\n",
              "      <td>1637.99</td>\n",
              "      <td>1640.49</td>\n",
              "      <td>H</td>\n",
              "      <td>L</td>\n",
              "      <td>0.34</td>\n",
              "      <td>NaN</td>\n",
              "    </tr>\n",
              "    <tr>\n",
              "      <th>4890</th>\n",
              "      <td>2446</td>\n",
              "      <td>195301100BLB</td>\n",
              "      <td>NBA</td>\n",
              "      <td>0</td>\n",
              "      <td>1953</td>\n",
              "      <td>1/10/1953</td>\n",
              "      <td>32</td>\n",
              "      <td>0</td>\n",
              "      <td>BLB</td>\n",
              "      <td>Baltimore</td>\n",
              "      <td>126</td>\n",
              "      <td>1328.67</td>\n",
              "      <td>1356.65</td>\n",
              "      <td>25.80</td>\n",
              "      <td>BOS</td>\n",
              "      <td>Celtics</td>\n",
              "      <td>105</td>\n",
              "      <td>1591.14</td>\n",
              "      <td>1563.17</td>\n",
              "      <td>H</td>\n",
              "      <td>W</td>\n",
              "      <td>0.28</td>\n",
              "      <td>NaN</td>\n",
              "    </tr>\n",
              "    <tr>\n",
              "      <th>4909</th>\n",
              "      <td>2455</td>\n",
              "      <td>195301140BLB</td>\n",
              "      <td>NBA</td>\n",
              "      <td>0</td>\n",
              "      <td>1953</td>\n",
              "      <td>1/14/1953</td>\n",
              "      <td>34</td>\n",
              "      <td>0</td>\n",
              "      <td>BLB</td>\n",
              "      <td>Baltimore</td>\n",
              "      <td>104</td>\n",
              "      <td>1349.83</td>\n",
              "      <td>1346.36</td>\n",
              "      <td>24.88</td>\n",
              "      <td>MNL</td>\n",
              "      <td>Lakers</td>\n",
              "      <td>112</td>\n",
              "      <td>1665.44</td>\n",
              "      <td>1668.91</td>\n",
              "      <td>H</td>\n",
              "      <td>L</td>\n",
              "      <td>0.22</td>\n",
              "      <td>NaN</td>\n",
              "    </tr>\n",
              "    <tr>\n",
              "      <th>5208</th>\n",
              "      <td>2605</td>\n",
              "      <td>195303110BLB</td>\n",
              "      <td>NBA</td>\n",
              "      <td>0</td>\n",
              "      <td>1953</td>\n",
              "      <td>3/11/1953</td>\n",
              "      <td>66</td>\n",
              "      <td>0</td>\n",
              "      <td>BLB</td>\n",
              "      <td>Baltimore</td>\n",
              "      <td>107</td>\n",
              "      <td>1284.52</td>\n",
              "      <td>1282.24</td>\n",
              "      <td>19.58</td>\n",
              "      <td>NYK</td>\n",
              "      <td>Knicks</td>\n",
              "      <td>113</td>\n",
              "      <td>1649.15</td>\n",
              "      <td>1651.44</td>\n",
              "      <td>H</td>\n",
              "      <td>L</td>\n",
              "      <td>0.18</td>\n",
              "      <td>at Boston MA</td>\n",
              "    </tr>\n",
              "    <tr>\n",
              "      <th>5825</th>\n",
              "      <td>2913</td>\n",
              "      <td>195402220BLB</td>\n",
              "      <td>NBA</td>\n",
              "      <td>0</td>\n",
              "      <td>1954</td>\n",
              "      <td>2/22/1954</td>\n",
              "      <td>60</td>\n",
              "      <td>0</td>\n",
              "      <td>BLB</td>\n",
              "      <td>Baltimore</td>\n",
              "      <td>110</td>\n",
              "      <td>1303.75</td>\n",
              "      <td>1301.97</td>\n",
              "      <td>20.74</td>\n",
              "      <td>BOS</td>\n",
              "      <td>Celtics</td>\n",
              "      <td>111</td>\n",
              "      <td>1591.49</td>\n",
              "      <td>1593.27</td>\n",
              "      <td>H</td>\n",
              "      <td>L</td>\n",
              "      <td>0.25</td>\n",
              "      <td>at Worcester MA</td>\n",
              "    </tr>\n",
              "  </tbody>\n",
              "</table>\n",
              "</div>"
            ],
            "text/plain": [
              "      gameorder       game_id lg_id  _iscopy  year_id  date_game  seasongame  \\\n",
              "1726        864  194902260BLB   NBA        0     1949  2/26/1949          53   \n",
              "4890       2446  195301100BLB   NBA        0     1953  1/10/1953          32   \n",
              "4909       2455  195301140BLB   NBA        0     1953  1/14/1953          34   \n",
              "5208       2605  195303110BLB   NBA        0     1953  3/11/1953          66   \n",
              "5825       2913  195402220BLB   NBA        0     1954  2/22/1954          60   \n",
              "\n",
              "      is_playoffs team_id    fran_id  pts    elo_i    elo_n  win_equiv opp_id  \\\n",
              "1726            0     BLB  Baltimore  114  1421.94  1419.43      38.56    MNL   \n",
              "4890            0     BLB  Baltimore  126  1328.67  1356.65      25.80    BOS   \n",
              "4909            0     BLB  Baltimore  104  1349.83  1346.36      24.88    MNL   \n",
              "5208            0     BLB  Baltimore  107  1284.52  1282.24      19.58    NYK   \n",
              "5825            0     BLB  Baltimore  110  1303.75  1301.97      20.74    BOS   \n",
              "\n",
              "     opp_fran  opp_pts  opp_elo_i  opp_elo_n game_location game_result  \\\n",
              "1726   Lakers      115    1637.99    1640.49             H           L   \n",
              "4890  Celtics      105    1591.14    1563.17             H           W   \n",
              "4909   Lakers      112    1665.44    1668.91             H           L   \n",
              "5208   Knicks      113    1649.15    1651.44             H           L   \n",
              "5825  Celtics      111    1591.49    1593.27             H           L   \n",
              "\n",
              "      forecast            notes  \n",
              "1726      0.34              NaN  \n",
              "4890      0.28              NaN  \n",
              "4909      0.22              NaN  \n",
              "5208      0.18     at Boston MA  \n",
              "5825      0.25  at Worcester MA  "
            ]
          },
          "metadata": {
            "tags": []
          },
          "execution_count": 176
        }
      ]
    },
    {
      "cell_type": "code",
      "metadata": {
        "colab": {
          "base_uri": "https://localhost:8080/"
        },
        "id": "X7V8kPN8tPhY",
        "outputId": "1b0b2845-dc40-4b66-f342-f9fd34f987bf"
      },
      "source": [
        "df[\n",
        "   (df[\"_iscopy\"] == 0) &\n",
        "   (df[\"team_id\"].str.startswith(\"LA\")) &\n",
        "   (df[\"year_id\"] == 1992) &\n",
        "   (df[\"notes\"].notnull())\n",
        "]"
      ],
      "execution_count": null,
      "outputs": [
        {
          "output_type": "execute_result",
          "data": {
            "text/html": [
              "<div>\n",
              "<style scoped>\n",
              "    .dataframe tbody tr th:only-of-type {\n",
              "        vertical-align: middle;\n",
              "    }\n",
              "\n",
              "    .dataframe tbody tr th {\n",
              "        vertical-align: top;\n",
              "    }\n",
              "\n",
              "    .dataframe thead th {\n",
              "        text-align: right;\n",
              "    }\n",
              "</style>\n",
              "<table border=\"1\" class=\"dataframe\">\n",
              "  <thead>\n",
              "    <tr style=\"text-align: right;\">\n",
              "      <th></th>\n",
              "      <th>gameorder</th>\n",
              "      <th>game_id</th>\n",
              "      <th>lg_id</th>\n",
              "      <th>_iscopy</th>\n",
              "      <th>year_id</th>\n",
              "      <th>date_game</th>\n",
              "      <th>seasongame</th>\n",
              "      <th>is_playoffs</th>\n",
              "      <th>team_id</th>\n",
              "      <th>fran_id</th>\n",
              "      <th>pts</th>\n",
              "      <th>elo_i</th>\n",
              "      <th>elo_n</th>\n",
              "      <th>win_equiv</th>\n",
              "      <th>opp_id</th>\n",
              "      <th>opp_fran</th>\n",
              "      <th>opp_pts</th>\n",
              "      <th>opp_elo_i</th>\n",
              "      <th>opp_elo_n</th>\n",
              "      <th>game_location</th>\n",
              "      <th>game_result</th>\n",
              "      <th>forecast</th>\n",
              "      <th>notes</th>\n",
              "    </tr>\n",
              "  </thead>\n",
              "  <tbody>\n",
              "    <tr>\n",
              "      <th>68901</th>\n",
              "      <td>34451</td>\n",
              "      <td>199205030LAC</td>\n",
              "      <td>NBA</td>\n",
              "      <td>0</td>\n",
              "      <td>1992</td>\n",
              "      <td>5/3/1992</td>\n",
              "      <td>86</td>\n",
              "      <td>1</td>\n",
              "      <td>LAC</td>\n",
              "      <td>Clippers</td>\n",
              "      <td>115</td>\n",
              "      <td>1546.90</td>\n",
              "      <td>1556.0</td>\n",
              "      <td>47.89</td>\n",
              "      <td>UTA</td>\n",
              "      <td>Jazz</td>\n",
              "      <td>107</td>\n",
              "      <td>1647.51</td>\n",
              "      <td>1638.41</td>\n",
              "      <td>H</td>\n",
              "      <td>W</td>\n",
              "      <td>0.50</td>\n",
              "      <td>at Anaheim, CA (Anaheim Convention Center)</td>\n",
              "    </tr>\n",
              "    <tr>\n",
              "      <th>68903</th>\n",
              "      <td>34452</td>\n",
              "      <td>199205030LAL</td>\n",
              "      <td>NBA</td>\n",
              "      <td>0</td>\n",
              "      <td>1992</td>\n",
              "      <td>5/3/1992</td>\n",
              "      <td>86</td>\n",
              "      <td>1</td>\n",
              "      <td>LAL</td>\n",
              "      <td>Lakers</td>\n",
              "      <td>76</td>\n",
              "      <td>1489.65</td>\n",
              "      <td>1474.4</td>\n",
              "      <td>39.40</td>\n",
              "      <td>POR</td>\n",
              "      <td>Trailblazers</td>\n",
              "      <td>102</td>\n",
              "      <td>1655.12</td>\n",
              "      <td>1670.37</td>\n",
              "      <td>H</td>\n",
              "      <td>L</td>\n",
              "      <td>0.41</td>\n",
              "      <td>at Las Vegas, NV</td>\n",
              "    </tr>\n",
              "  </tbody>\n",
              "</table>\n",
              "</div>"
            ],
            "text/plain": [
              "       gameorder       game_id lg_id  _iscopy  year_id date_game  seasongame  \\\n",
              "68901      34451  199205030LAC   NBA        0     1992  5/3/1992          86   \n",
              "68903      34452  199205030LAL   NBA        0     1992  5/3/1992          86   \n",
              "\n",
              "       is_playoffs team_id   fran_id  pts    elo_i   elo_n  win_equiv opp_id  \\\n",
              "68901            1     LAC  Clippers  115  1546.90  1556.0      47.89    UTA   \n",
              "68903            1     LAL    Lakers   76  1489.65  1474.4      39.40    POR   \n",
              "\n",
              "           opp_fran  opp_pts  opp_elo_i  opp_elo_n game_location game_result  \\\n",
              "68901          Jazz      107    1647.51    1638.41             H           W   \n",
              "68903  Trailblazers      102    1655.12    1670.37             H           L   \n",
              "\n",
              "       forecast                                       notes  \n",
              "68901      0.50  at Anaheim, CA (Anaheim Convention Center)  \n",
              "68903      0.41                            at Las Vegas, NV  "
            ]
          },
          "metadata": {
            "tags": []
          },
          "execution_count": 177
        }
      ]
    },
    {
      "cell_type": "markdown",
      "metadata": {
        "id": "ZAYjMlQfuBjh"
      },
      "source": [
        "## Grouping and Aggregating Your Data"
      ]
    },
    {
      "cell_type": "code",
      "metadata": {
        "colab": {
          "base_uri": "https://localhost:8080/"
        },
        "id": "rtMMRQO6t46Q",
        "outputId": "a31ab3a3-ea58-4fb1-d1b1-879edc7990a7"
      },
      "source": [
        "city_revenues.sum()"
      ],
      "execution_count": null,
      "outputs": [
        {
          "output_type": "execute_result",
          "data": {
            "text/plain": [
              "18700"
            ]
          },
          "metadata": {
            "tags": []
          },
          "execution_count": 178
        }
      ]
    },
    {
      "cell_type": "code",
      "metadata": {
        "colab": {
          "base_uri": "https://localhost:8080/"
        },
        "id": "D6KXHzVYu6IM",
        "outputId": "8d1b698f-6553-46eb-b606-4693d7392d56"
      },
      "source": [
        "city_revenues.max()"
      ],
      "execution_count": null,
      "outputs": [
        {
          "output_type": "execute_result",
          "data": {
            "text/plain": [
              "8000"
            ]
          },
          "metadata": {
            "tags": []
          },
          "execution_count": 179
        }
      ]
    },
    {
      "cell_type": "code",
      "metadata": {
        "colab": {
          "base_uri": "https://localhost:8080/"
        },
        "id": "xNSLAjdju8G-",
        "outputId": "e35e8621-11ef-476b-8af1-945fc7437272"
      },
      "source": [
        "points = df[\"pts\"]\n",
        "points.sum()"
      ],
      "execution_count": null,
      "outputs": [
        {
          "output_type": "execute_result",
          "data": {
            "text/plain": [
              "12976235"
            ]
          },
          "metadata": {
            "tags": []
          },
          "execution_count": 180
        }
      ]
    },
    {
      "cell_type": "code",
      "metadata": {
        "colab": {
          "base_uri": "https://localhost:8080/",
          "height": 163
        },
        "id": "RByHcPbvvDJL",
        "outputId": "1e9acfd8-3b58-4930-970b-5372990a8a2c"
      },
      "source": [
        "df.head(3)"
      ],
      "execution_count": null,
      "outputs": [
        {
          "output_type": "execute_result",
          "data": {
            "text/html": [
              "<div>\n",
              "<style scoped>\n",
              "    .dataframe tbody tr th:only-of-type {\n",
              "        vertical-align: middle;\n",
              "    }\n",
              "\n",
              "    .dataframe tbody tr th {\n",
              "        vertical-align: top;\n",
              "    }\n",
              "\n",
              "    .dataframe thead th {\n",
              "        text-align: right;\n",
              "    }\n",
              "</style>\n",
              "<table border=\"1\" class=\"dataframe\">\n",
              "  <thead>\n",
              "    <tr style=\"text-align: right;\">\n",
              "      <th></th>\n",
              "      <th>gameorder</th>\n",
              "      <th>game_id</th>\n",
              "      <th>lg_id</th>\n",
              "      <th>_iscopy</th>\n",
              "      <th>year_id</th>\n",
              "      <th>date_game</th>\n",
              "      <th>seasongame</th>\n",
              "      <th>is_playoffs</th>\n",
              "      <th>team_id</th>\n",
              "      <th>fran_id</th>\n",
              "      <th>pts</th>\n",
              "      <th>elo_i</th>\n",
              "      <th>elo_n</th>\n",
              "      <th>win_equiv</th>\n",
              "      <th>opp_id</th>\n",
              "      <th>opp_fran</th>\n",
              "      <th>opp_pts</th>\n",
              "      <th>opp_elo_i</th>\n",
              "      <th>opp_elo_n</th>\n",
              "      <th>game_location</th>\n",
              "      <th>game_result</th>\n",
              "      <th>forecast</th>\n",
              "      <th>notes</th>\n",
              "    </tr>\n",
              "  </thead>\n",
              "  <tbody>\n",
              "    <tr>\n",
              "      <th>0</th>\n",
              "      <td>1</td>\n",
              "      <td>194611010TRH</td>\n",
              "      <td>NBA</td>\n",
              "      <td>0</td>\n",
              "      <td>1947</td>\n",
              "      <td>11/1/1946</td>\n",
              "      <td>1</td>\n",
              "      <td>0</td>\n",
              "      <td>TRH</td>\n",
              "      <td>Huskies</td>\n",
              "      <td>66</td>\n",
              "      <td>1300.0</td>\n",
              "      <td>1293.28</td>\n",
              "      <td>40.29</td>\n",
              "      <td>NYK</td>\n",
              "      <td>Knicks</td>\n",
              "      <td>68</td>\n",
              "      <td>1300.00</td>\n",
              "      <td>1306.72</td>\n",
              "      <td>H</td>\n",
              "      <td>L</td>\n",
              "      <td>0.64</td>\n",
              "      <td>NaN</td>\n",
              "    </tr>\n",
              "    <tr>\n",
              "      <th>1</th>\n",
              "      <td>1</td>\n",
              "      <td>194611010TRH</td>\n",
              "      <td>NBA</td>\n",
              "      <td>1</td>\n",
              "      <td>1947</td>\n",
              "      <td>11/1/1946</td>\n",
              "      <td>1</td>\n",
              "      <td>0</td>\n",
              "      <td>NYK</td>\n",
              "      <td>Knicks</td>\n",
              "      <td>68</td>\n",
              "      <td>1300.0</td>\n",
              "      <td>1306.72</td>\n",
              "      <td>41.71</td>\n",
              "      <td>TRH</td>\n",
              "      <td>Huskies</td>\n",
              "      <td>66</td>\n",
              "      <td>1300.00</td>\n",
              "      <td>1293.28</td>\n",
              "      <td>A</td>\n",
              "      <td>W</td>\n",
              "      <td>0.36</td>\n",
              "      <td>NaN</td>\n",
              "    </tr>\n",
              "    <tr>\n",
              "      <th>2</th>\n",
              "      <td>2</td>\n",
              "      <td>194611020CHS</td>\n",
              "      <td>NBA</td>\n",
              "      <td>0</td>\n",
              "      <td>1947</td>\n",
              "      <td>11/2/1946</td>\n",
              "      <td>1</td>\n",
              "      <td>0</td>\n",
              "      <td>CHS</td>\n",
              "      <td>Stags</td>\n",
              "      <td>63</td>\n",
              "      <td>1300.0</td>\n",
              "      <td>1309.65</td>\n",
              "      <td>42.01</td>\n",
              "      <td>NYK</td>\n",
              "      <td>Knicks</td>\n",
              "      <td>47</td>\n",
              "      <td>1306.72</td>\n",
              "      <td>1297.07</td>\n",
              "      <td>H</td>\n",
              "      <td>W</td>\n",
              "      <td>0.63</td>\n",
              "      <td>NaN</td>\n",
              "    </tr>\n",
              "  </tbody>\n",
              "</table>\n",
              "</div>"
            ],
            "text/plain": [
              "   gameorder       game_id lg_id  _iscopy  year_id  date_game  seasongame  \\\n",
              "0          1  194611010TRH   NBA        0     1947  11/1/1946           1   \n",
              "1          1  194611010TRH   NBA        1     1947  11/1/1946           1   \n",
              "2          2  194611020CHS   NBA        0     1947  11/2/1946           1   \n",
              "\n",
              "   is_playoffs team_id  fran_id  pts   elo_i    elo_n  win_equiv opp_id  \\\n",
              "0            0     TRH  Huskies   66  1300.0  1293.28      40.29    NYK   \n",
              "1            0     NYK   Knicks   68  1300.0  1306.72      41.71    TRH   \n",
              "2            0     CHS    Stags   63  1300.0  1309.65      42.01    NYK   \n",
              "\n",
              "  opp_fran  opp_pts  opp_elo_i  opp_elo_n game_location game_result  forecast  \\\n",
              "0   Knicks       68    1300.00    1306.72             H           L      0.64   \n",
              "1  Huskies       66    1300.00    1293.28             A           W      0.36   \n",
              "2   Knicks       47    1306.72    1297.07             H           W      0.63   \n",
              "\n",
              "  notes  \n",
              "0   NaN  \n",
              "1   NaN  \n",
              "2   NaN  "
            ]
          },
          "metadata": {
            "tags": []
          },
          "execution_count": 181
        }
      ]
    },
    {
      "cell_type": "code",
      "metadata": {
        "colab": {
          "base_uri": "https://localhost:8080/"
        },
        "id": "NUj1ECS8vEgi",
        "outputId": "d12defc0-b2cb-4d55-db64-a2b08f9b4b64"
      },
      "source": [
        "df.groupby(\"fran_id\", sort=False)[\"pts\"].sum()"
      ],
      "execution_count": null,
      "outputs": [
        {
          "output_type": "execute_result",
          "data": {
            "text/plain": [
              "fran_id\n",
              "Huskies           3995\n",
              "Knicks          582497\n",
              "Stags            20398\n",
              "Falcons           3797\n",
              "Capitols         22387\n",
              "Celtics         626484\n",
              "Steamrollers     12372\n",
              "Ironmen           3674\n",
              "Bombers          17793\n",
              "Rebels            4474\n",
              "Warriors        591224\n",
              "Baltimore        37219\n",
              "Jets              4482\n",
              "Pistons         572758\n",
              "Lakers          637444\n",
              "Kings           569245\n",
              "Hawks           567261\n",
              "Denver            4818\n",
              "Olympians        22864\n",
              "Redskins          5372\n",
              "Waterloo          4921\n",
              "Packers           6193\n",
              "Sixers          585891\n",
              "Wizards         474809\n",
              "Bulls           437269\n",
              "Thunder         437735\n",
              "Squires          91127\n",
              "Stars            84940\n",
              "Rockets         432504\n",
              "Colonels         94435\n",
              "Pacers          438288\n",
              "Nuggets         445780\n",
              "Spurs           453822\n",
              "Spirits          85874\n",
              "Sounds           75582\n",
              "Floridians       49568\n",
              "Nets            417809\n",
              "Condors          49642\n",
              "Bucks           418326\n",
              "Suns            437486\n",
              "Clippers        380523\n",
              "Cavaliers       380416\n",
              "Trailblazers    402695\n",
              "Sails            30080\n",
              "Jazz            363155\n",
              "Mavericks       309239\n",
              "Pelicans        220794\n",
              "Heat            229103\n",
              "Timberwolves    207693\n",
              "Magic           219436\n",
              "Grizzlies       157683\n",
              "Raptors         158370\n",
              "Hornets          84489\n",
              "Name: pts, dtype: int64"
            ]
          },
          "metadata": {
            "tags": []
          },
          "execution_count": 182
        }
      ]
    },
    {
      "cell_type": "code",
      "metadata": {
        "colab": {
          "base_uri": "https://localhost:8080/"
        },
        "id": "8bCd3bCQvPIf",
        "outputId": "ed38f8f3-195d-4f16-b75d-c197d7e6091b"
      },
      "source": [
        "df[\n",
        "   (df[\"fran_id\"] == \"Spurs\") &\n",
        "   (df[\"year_id\"] > 2010)\n",
        "].groupby([\"year_id\", \"game_result\"])[\"game_id\"].count()"
      ],
      "execution_count": null,
      "outputs": [
        {
          "output_type": "execute_result",
          "data": {
            "text/plain": [
              "year_id  game_result\n",
              "2011     L              25\n",
              "         W              63\n",
              "2012     L              20\n",
              "         W              60\n",
              "2013     L              30\n",
              "         W              73\n",
              "2014     L              27\n",
              "         W              78\n",
              "2015     L              31\n",
              "         W              58\n",
              "Name: game_id, dtype: int64"
            ]
          },
          "metadata": {
            "tags": []
          },
          "execution_count": 183
        }
      ]
    },
    {
      "cell_type": "code",
      "metadata": {
        "colab": {
          "base_uri": "https://localhost:8080/"
        },
        "id": "9lwP1sNV7jgF",
        "outputId": "ef41c9e8-fda0-4d85-f447-9c6f39929e95"
      },
      "source": [
        "df[\n",
        "   (df[\"fran_id\"] == \"Warriors\") &\n",
        "   (df[\"year_id\"] == 2015)\n",
        "].groupby([\"is_playoffs\", \"game_result\"])[\"game_id\"].count()"
      ],
      "execution_count": null,
      "outputs": [
        {
          "output_type": "execute_result",
          "data": {
            "text/plain": [
              "is_playoffs  game_result\n",
              "0            L              15\n",
              "             W              67\n",
              "1            L               5\n",
              "             W              16\n",
              "Name: game_id, dtype: int64"
            ]
          },
          "metadata": {
            "tags": []
          },
          "execution_count": 184
        }
      ]
    },
    {
      "cell_type": "code",
      "metadata": {
        "colab": {
          "base_uri": "https://localhost:8080/",
          "height": 443
        },
        "id": "FfCFkpcK8BQ5",
        "outputId": "e8746023-1c69-405d-934e-320f84dd53ad"
      },
      "source": [
        "df"
      ],
      "execution_count": null,
      "outputs": [
        {
          "output_type": "execute_result",
          "data": {
            "text/html": [
              "<div>\n",
              "<style scoped>\n",
              "    .dataframe tbody tr th:only-of-type {\n",
              "        vertical-align: middle;\n",
              "    }\n",
              "\n",
              "    .dataframe tbody tr th {\n",
              "        vertical-align: top;\n",
              "    }\n",
              "\n",
              "    .dataframe thead th {\n",
              "        text-align: right;\n",
              "    }\n",
              "</style>\n",
              "<table border=\"1\" class=\"dataframe\">\n",
              "  <thead>\n",
              "    <tr style=\"text-align: right;\">\n",
              "      <th></th>\n",
              "      <th>gameorder</th>\n",
              "      <th>game_id</th>\n",
              "      <th>lg_id</th>\n",
              "      <th>_iscopy</th>\n",
              "      <th>year_id</th>\n",
              "      <th>date_game</th>\n",
              "      <th>seasongame</th>\n",
              "      <th>is_playoffs</th>\n",
              "      <th>team_id</th>\n",
              "      <th>fran_id</th>\n",
              "      <th>pts</th>\n",
              "      <th>elo_i</th>\n",
              "      <th>elo_n</th>\n",
              "      <th>win_equiv</th>\n",
              "      <th>opp_id</th>\n",
              "      <th>opp_fran</th>\n",
              "      <th>opp_pts</th>\n",
              "      <th>opp_elo_i</th>\n",
              "      <th>opp_elo_n</th>\n",
              "      <th>game_location</th>\n",
              "      <th>game_result</th>\n",
              "      <th>forecast</th>\n",
              "      <th>notes</th>\n",
              "    </tr>\n",
              "  </thead>\n",
              "  <tbody>\n",
              "    <tr>\n",
              "      <th>0</th>\n",
              "      <td>1</td>\n",
              "      <td>194611010TRH</td>\n",
              "      <td>NBA</td>\n",
              "      <td>0</td>\n",
              "      <td>1947</td>\n",
              "      <td>11/1/1946</td>\n",
              "      <td>1</td>\n",
              "      <td>0</td>\n",
              "      <td>TRH</td>\n",
              "      <td>Huskies</td>\n",
              "      <td>66</td>\n",
              "      <td>1300.00</td>\n",
              "      <td>1293.28</td>\n",
              "      <td>40.29</td>\n",
              "      <td>NYK</td>\n",
              "      <td>Knicks</td>\n",
              "      <td>68</td>\n",
              "      <td>1300.00</td>\n",
              "      <td>1306.72</td>\n",
              "      <td>H</td>\n",
              "      <td>L</td>\n",
              "      <td>0.64</td>\n",
              "      <td>NaN</td>\n",
              "    </tr>\n",
              "    <tr>\n",
              "      <th>1</th>\n",
              "      <td>1</td>\n",
              "      <td>194611010TRH</td>\n",
              "      <td>NBA</td>\n",
              "      <td>1</td>\n",
              "      <td>1947</td>\n",
              "      <td>11/1/1946</td>\n",
              "      <td>1</td>\n",
              "      <td>0</td>\n",
              "      <td>NYK</td>\n",
              "      <td>Knicks</td>\n",
              "      <td>68</td>\n",
              "      <td>1300.00</td>\n",
              "      <td>1306.72</td>\n",
              "      <td>41.71</td>\n",
              "      <td>TRH</td>\n",
              "      <td>Huskies</td>\n",
              "      <td>66</td>\n",
              "      <td>1300.00</td>\n",
              "      <td>1293.28</td>\n",
              "      <td>A</td>\n",
              "      <td>W</td>\n",
              "      <td>0.36</td>\n",
              "      <td>NaN</td>\n",
              "    </tr>\n",
              "    <tr>\n",
              "      <th>2</th>\n",
              "      <td>2</td>\n",
              "      <td>194611020CHS</td>\n",
              "      <td>NBA</td>\n",
              "      <td>0</td>\n",
              "      <td>1947</td>\n",
              "      <td>11/2/1946</td>\n",
              "      <td>1</td>\n",
              "      <td>0</td>\n",
              "      <td>CHS</td>\n",
              "      <td>Stags</td>\n",
              "      <td>63</td>\n",
              "      <td>1300.00</td>\n",
              "      <td>1309.65</td>\n",
              "      <td>42.01</td>\n",
              "      <td>NYK</td>\n",
              "      <td>Knicks</td>\n",
              "      <td>47</td>\n",
              "      <td>1306.72</td>\n",
              "      <td>1297.07</td>\n",
              "      <td>H</td>\n",
              "      <td>W</td>\n",
              "      <td>0.63</td>\n",
              "      <td>NaN</td>\n",
              "    </tr>\n",
              "    <tr>\n",
              "      <th>3</th>\n",
              "      <td>2</td>\n",
              "      <td>194611020CHS</td>\n",
              "      <td>NBA</td>\n",
              "      <td>1</td>\n",
              "      <td>1947</td>\n",
              "      <td>11/2/1946</td>\n",
              "      <td>2</td>\n",
              "      <td>0</td>\n",
              "      <td>NYK</td>\n",
              "      <td>Knicks</td>\n",
              "      <td>47</td>\n",
              "      <td>1306.72</td>\n",
              "      <td>1297.07</td>\n",
              "      <td>40.69</td>\n",
              "      <td>CHS</td>\n",
              "      <td>Stags</td>\n",
              "      <td>63</td>\n",
              "      <td>1300.00</td>\n",
              "      <td>1309.65</td>\n",
              "      <td>A</td>\n",
              "      <td>L</td>\n",
              "      <td>0.37</td>\n",
              "      <td>NaN</td>\n",
              "    </tr>\n",
              "    <tr>\n",
              "      <th>4</th>\n",
              "      <td>3</td>\n",
              "      <td>194611020DTF</td>\n",
              "      <td>NBA</td>\n",
              "      <td>0</td>\n",
              "      <td>1947</td>\n",
              "      <td>11/2/1946</td>\n",
              "      <td>1</td>\n",
              "      <td>0</td>\n",
              "      <td>DTF</td>\n",
              "      <td>Falcons</td>\n",
              "      <td>33</td>\n",
              "      <td>1300.00</td>\n",
              "      <td>1279.62</td>\n",
              "      <td>38.86</td>\n",
              "      <td>WSC</td>\n",
              "      <td>Capitols</td>\n",
              "      <td>50</td>\n",
              "      <td>1300.00</td>\n",
              "      <td>1320.38</td>\n",
              "      <td>H</td>\n",
              "      <td>L</td>\n",
              "      <td>0.64</td>\n",
              "      <td>NaN</td>\n",
              "    </tr>\n",
              "    <tr>\n",
              "      <th>...</th>\n",
              "      <td>...</td>\n",
              "      <td>...</td>\n",
              "      <td>...</td>\n",
              "      <td>...</td>\n",
              "      <td>...</td>\n",
              "      <td>...</td>\n",
              "      <td>...</td>\n",
              "      <td>...</td>\n",
              "      <td>...</td>\n",
              "      <td>...</td>\n",
              "      <td>...</td>\n",
              "      <td>...</td>\n",
              "      <td>...</td>\n",
              "      <td>...</td>\n",
              "      <td>...</td>\n",
              "      <td>...</td>\n",
              "      <td>...</td>\n",
              "      <td>...</td>\n",
              "      <td>...</td>\n",
              "      <td>...</td>\n",
              "      <td>...</td>\n",
              "      <td>...</td>\n",
              "      <td>...</td>\n",
              "    </tr>\n",
              "    <tr>\n",
              "      <th>126309</th>\n",
              "      <td>63155</td>\n",
              "      <td>201506110CLE</td>\n",
              "      <td>NBA</td>\n",
              "      <td>0</td>\n",
              "      <td>2015</td>\n",
              "      <td>6/11/2015</td>\n",
              "      <td>100</td>\n",
              "      <td>1</td>\n",
              "      <td>CLE</td>\n",
              "      <td>Cavaliers</td>\n",
              "      <td>82</td>\n",
              "      <td>1723.41</td>\n",
              "      <td>1704.39</td>\n",
              "      <td>60.31</td>\n",
              "      <td>GSW</td>\n",
              "      <td>Warriors</td>\n",
              "      <td>103</td>\n",
              "      <td>1790.96</td>\n",
              "      <td>1809.98</td>\n",
              "      <td>H</td>\n",
              "      <td>L</td>\n",
              "      <td>0.55</td>\n",
              "      <td>NaN</td>\n",
              "    </tr>\n",
              "    <tr>\n",
              "      <th>126310</th>\n",
              "      <td>63156</td>\n",
              "      <td>201506140GSW</td>\n",
              "      <td>NBA</td>\n",
              "      <td>0</td>\n",
              "      <td>2015</td>\n",
              "      <td>6/14/2015</td>\n",
              "      <td>102</td>\n",
              "      <td>1</td>\n",
              "      <td>GSW</td>\n",
              "      <td>Warriors</td>\n",
              "      <td>104</td>\n",
              "      <td>1809.98</td>\n",
              "      <td>1813.63</td>\n",
              "      <td>68.01</td>\n",
              "      <td>CLE</td>\n",
              "      <td>Cavaliers</td>\n",
              "      <td>91</td>\n",
              "      <td>1704.39</td>\n",
              "      <td>1700.74</td>\n",
              "      <td>H</td>\n",
              "      <td>W</td>\n",
              "      <td>0.77</td>\n",
              "      <td>NaN</td>\n",
              "    </tr>\n",
              "    <tr>\n",
              "      <th>126311</th>\n",
              "      <td>63156</td>\n",
              "      <td>201506140GSW</td>\n",
              "      <td>NBA</td>\n",
              "      <td>1</td>\n",
              "      <td>2015</td>\n",
              "      <td>6/14/2015</td>\n",
              "      <td>101</td>\n",
              "      <td>1</td>\n",
              "      <td>CLE</td>\n",
              "      <td>Cavaliers</td>\n",
              "      <td>91</td>\n",
              "      <td>1704.39</td>\n",
              "      <td>1700.74</td>\n",
              "      <td>60.01</td>\n",
              "      <td>GSW</td>\n",
              "      <td>Warriors</td>\n",
              "      <td>104</td>\n",
              "      <td>1809.98</td>\n",
              "      <td>1813.63</td>\n",
              "      <td>A</td>\n",
              "      <td>L</td>\n",
              "      <td>0.23</td>\n",
              "      <td>NaN</td>\n",
              "    </tr>\n",
              "    <tr>\n",
              "      <th>126312</th>\n",
              "      <td>63157</td>\n",
              "      <td>201506170CLE</td>\n",
              "      <td>NBA</td>\n",
              "      <td>0</td>\n",
              "      <td>2015</td>\n",
              "      <td>6/16/2015</td>\n",
              "      <td>102</td>\n",
              "      <td>1</td>\n",
              "      <td>CLE</td>\n",
              "      <td>Cavaliers</td>\n",
              "      <td>97</td>\n",
              "      <td>1700.74</td>\n",
              "      <td>1692.09</td>\n",
              "      <td>59.29</td>\n",
              "      <td>GSW</td>\n",
              "      <td>Warriors</td>\n",
              "      <td>105</td>\n",
              "      <td>1813.63</td>\n",
              "      <td>1822.29</td>\n",
              "      <td>H</td>\n",
              "      <td>L</td>\n",
              "      <td>0.48</td>\n",
              "      <td>NaN</td>\n",
              "    </tr>\n",
              "    <tr>\n",
              "      <th>126313</th>\n",
              "      <td>63157</td>\n",
              "      <td>201506170CLE</td>\n",
              "      <td>NBA</td>\n",
              "      <td>1</td>\n",
              "      <td>2015</td>\n",
              "      <td>6/16/2015</td>\n",
              "      <td>103</td>\n",
              "      <td>1</td>\n",
              "      <td>GSW</td>\n",
              "      <td>Warriors</td>\n",
              "      <td>105</td>\n",
              "      <td>1813.63</td>\n",
              "      <td>1822.29</td>\n",
              "      <td>68.52</td>\n",
              "      <td>CLE</td>\n",
              "      <td>Cavaliers</td>\n",
              "      <td>97</td>\n",
              "      <td>1700.74</td>\n",
              "      <td>1692.09</td>\n",
              "      <td>A</td>\n",
              "      <td>W</td>\n",
              "      <td>0.52</td>\n",
              "      <td>NaN</td>\n",
              "    </tr>\n",
              "  </tbody>\n",
              "</table>\n",
              "<p>126314 rows × 23 columns</p>\n",
              "</div>"
            ],
            "text/plain": [
              "        gameorder       game_id lg_id  _iscopy  year_id  date_game  \\\n",
              "0               1  194611010TRH   NBA        0     1947  11/1/1946   \n",
              "1               1  194611010TRH   NBA        1     1947  11/1/1946   \n",
              "2               2  194611020CHS   NBA        0     1947  11/2/1946   \n",
              "3               2  194611020CHS   NBA        1     1947  11/2/1946   \n",
              "4               3  194611020DTF   NBA        0     1947  11/2/1946   \n",
              "...           ...           ...   ...      ...      ...        ...   \n",
              "126309      63155  201506110CLE   NBA        0     2015  6/11/2015   \n",
              "126310      63156  201506140GSW   NBA        0     2015  6/14/2015   \n",
              "126311      63156  201506140GSW   NBA        1     2015  6/14/2015   \n",
              "126312      63157  201506170CLE   NBA        0     2015  6/16/2015   \n",
              "126313      63157  201506170CLE   NBA        1     2015  6/16/2015   \n",
              "\n",
              "        seasongame  is_playoffs team_id    fran_id  pts    elo_i    elo_n  \\\n",
              "0                1            0     TRH    Huskies   66  1300.00  1293.28   \n",
              "1                1            0     NYK     Knicks   68  1300.00  1306.72   \n",
              "2                1            0     CHS      Stags   63  1300.00  1309.65   \n",
              "3                2            0     NYK     Knicks   47  1306.72  1297.07   \n",
              "4                1            0     DTF    Falcons   33  1300.00  1279.62   \n",
              "...            ...          ...     ...        ...  ...      ...      ...   \n",
              "126309         100            1     CLE  Cavaliers   82  1723.41  1704.39   \n",
              "126310         102            1     GSW   Warriors  104  1809.98  1813.63   \n",
              "126311         101            1     CLE  Cavaliers   91  1704.39  1700.74   \n",
              "126312         102            1     CLE  Cavaliers   97  1700.74  1692.09   \n",
              "126313         103            1     GSW   Warriors  105  1813.63  1822.29   \n",
              "\n",
              "        win_equiv opp_id   opp_fran  opp_pts  opp_elo_i  opp_elo_n  \\\n",
              "0           40.29    NYK     Knicks       68    1300.00    1306.72   \n",
              "1           41.71    TRH    Huskies       66    1300.00    1293.28   \n",
              "2           42.01    NYK     Knicks       47    1306.72    1297.07   \n",
              "3           40.69    CHS      Stags       63    1300.00    1309.65   \n",
              "4           38.86    WSC   Capitols       50    1300.00    1320.38   \n",
              "...           ...    ...        ...      ...        ...        ...   \n",
              "126309      60.31    GSW   Warriors      103    1790.96    1809.98   \n",
              "126310      68.01    CLE  Cavaliers       91    1704.39    1700.74   \n",
              "126311      60.01    GSW   Warriors      104    1809.98    1813.63   \n",
              "126312      59.29    GSW   Warriors      105    1813.63    1822.29   \n",
              "126313      68.52    CLE  Cavaliers       97    1700.74    1692.09   \n",
              "\n",
              "       game_location game_result  forecast notes  \n",
              "0                  H           L      0.64   NaN  \n",
              "1                  A           W      0.36   NaN  \n",
              "2                  H           W      0.63   NaN  \n",
              "3                  A           L      0.37   NaN  \n",
              "4                  H           L      0.64   NaN  \n",
              "...              ...         ...       ...   ...  \n",
              "126309             H           L      0.55   NaN  \n",
              "126310             H           W      0.77   NaN  \n",
              "126311             A           L      0.23   NaN  \n",
              "126312             H           L      0.48   NaN  \n",
              "126313             A           W      0.52   NaN  \n",
              "\n",
              "[126314 rows x 23 columns]"
            ]
          },
          "metadata": {
            "tags": []
          },
          "execution_count": 185
        }
      ]
    },
    {
      "cell_type": "code",
      "metadata": {
        "colab": {
          "base_uri": "https://localhost:8080/"
        },
        "id": "0YxBe1vg8KBT",
        "outputId": "32c4701e-4257-4b15-b97d-b8707517ec2e"
      },
      "source": [
        "nba = df.copy()\n",
        "nba.shape"
      ],
      "execution_count": null,
      "outputs": [
        {
          "output_type": "execute_result",
          "data": {
            "text/plain": [
              "(126314, 23)"
            ]
          },
          "metadata": {
            "tags": []
          },
          "execution_count": 186
        }
      ]
    },
    {
      "cell_type": "code",
      "metadata": {
        "colab": {
          "base_uri": "https://localhost:8080/",
          "height": 443
        },
        "id": "5CWqXhHE8NxA",
        "outputId": "cd41496b-108f-4653-d5fc-c642d7cd2eaa"
      },
      "source": [
        "nba[\"difference\"] = df.pts - df.opp_pts\n",
        "nba"
      ],
      "execution_count": null,
      "outputs": [
        {
          "output_type": "execute_result",
          "data": {
            "text/html": [
              "<div>\n",
              "<style scoped>\n",
              "    .dataframe tbody tr th:only-of-type {\n",
              "        vertical-align: middle;\n",
              "    }\n",
              "\n",
              "    .dataframe tbody tr th {\n",
              "        vertical-align: top;\n",
              "    }\n",
              "\n",
              "    .dataframe thead th {\n",
              "        text-align: right;\n",
              "    }\n",
              "</style>\n",
              "<table border=\"1\" class=\"dataframe\">\n",
              "  <thead>\n",
              "    <tr style=\"text-align: right;\">\n",
              "      <th></th>\n",
              "      <th>gameorder</th>\n",
              "      <th>game_id</th>\n",
              "      <th>lg_id</th>\n",
              "      <th>_iscopy</th>\n",
              "      <th>year_id</th>\n",
              "      <th>date_game</th>\n",
              "      <th>seasongame</th>\n",
              "      <th>is_playoffs</th>\n",
              "      <th>team_id</th>\n",
              "      <th>fran_id</th>\n",
              "      <th>pts</th>\n",
              "      <th>elo_i</th>\n",
              "      <th>elo_n</th>\n",
              "      <th>win_equiv</th>\n",
              "      <th>opp_id</th>\n",
              "      <th>opp_fran</th>\n",
              "      <th>opp_pts</th>\n",
              "      <th>opp_elo_i</th>\n",
              "      <th>opp_elo_n</th>\n",
              "      <th>game_location</th>\n",
              "      <th>game_result</th>\n",
              "      <th>forecast</th>\n",
              "      <th>notes</th>\n",
              "      <th>difference</th>\n",
              "    </tr>\n",
              "  </thead>\n",
              "  <tbody>\n",
              "    <tr>\n",
              "      <th>0</th>\n",
              "      <td>1</td>\n",
              "      <td>194611010TRH</td>\n",
              "      <td>NBA</td>\n",
              "      <td>0</td>\n",
              "      <td>1947</td>\n",
              "      <td>11/1/1946</td>\n",
              "      <td>1</td>\n",
              "      <td>0</td>\n",
              "      <td>TRH</td>\n",
              "      <td>Huskies</td>\n",
              "      <td>66</td>\n",
              "      <td>1300.00</td>\n",
              "      <td>1293.28</td>\n",
              "      <td>40.29</td>\n",
              "      <td>NYK</td>\n",
              "      <td>Knicks</td>\n",
              "      <td>68</td>\n",
              "      <td>1300.00</td>\n",
              "      <td>1306.72</td>\n",
              "      <td>H</td>\n",
              "      <td>L</td>\n",
              "      <td>0.64</td>\n",
              "      <td>NaN</td>\n",
              "      <td>-2</td>\n",
              "    </tr>\n",
              "    <tr>\n",
              "      <th>1</th>\n",
              "      <td>1</td>\n",
              "      <td>194611010TRH</td>\n",
              "      <td>NBA</td>\n",
              "      <td>1</td>\n",
              "      <td>1947</td>\n",
              "      <td>11/1/1946</td>\n",
              "      <td>1</td>\n",
              "      <td>0</td>\n",
              "      <td>NYK</td>\n",
              "      <td>Knicks</td>\n",
              "      <td>68</td>\n",
              "      <td>1300.00</td>\n",
              "      <td>1306.72</td>\n",
              "      <td>41.71</td>\n",
              "      <td>TRH</td>\n",
              "      <td>Huskies</td>\n",
              "      <td>66</td>\n",
              "      <td>1300.00</td>\n",
              "      <td>1293.28</td>\n",
              "      <td>A</td>\n",
              "      <td>W</td>\n",
              "      <td>0.36</td>\n",
              "      <td>NaN</td>\n",
              "      <td>2</td>\n",
              "    </tr>\n",
              "    <tr>\n",
              "      <th>2</th>\n",
              "      <td>2</td>\n",
              "      <td>194611020CHS</td>\n",
              "      <td>NBA</td>\n",
              "      <td>0</td>\n",
              "      <td>1947</td>\n",
              "      <td>11/2/1946</td>\n",
              "      <td>1</td>\n",
              "      <td>0</td>\n",
              "      <td>CHS</td>\n",
              "      <td>Stags</td>\n",
              "      <td>63</td>\n",
              "      <td>1300.00</td>\n",
              "      <td>1309.65</td>\n",
              "      <td>42.01</td>\n",
              "      <td>NYK</td>\n",
              "      <td>Knicks</td>\n",
              "      <td>47</td>\n",
              "      <td>1306.72</td>\n",
              "      <td>1297.07</td>\n",
              "      <td>H</td>\n",
              "      <td>W</td>\n",
              "      <td>0.63</td>\n",
              "      <td>NaN</td>\n",
              "      <td>16</td>\n",
              "    </tr>\n",
              "    <tr>\n",
              "      <th>3</th>\n",
              "      <td>2</td>\n",
              "      <td>194611020CHS</td>\n",
              "      <td>NBA</td>\n",
              "      <td>1</td>\n",
              "      <td>1947</td>\n",
              "      <td>11/2/1946</td>\n",
              "      <td>2</td>\n",
              "      <td>0</td>\n",
              "      <td>NYK</td>\n",
              "      <td>Knicks</td>\n",
              "      <td>47</td>\n",
              "      <td>1306.72</td>\n",
              "      <td>1297.07</td>\n",
              "      <td>40.69</td>\n",
              "      <td>CHS</td>\n",
              "      <td>Stags</td>\n",
              "      <td>63</td>\n",
              "      <td>1300.00</td>\n",
              "      <td>1309.65</td>\n",
              "      <td>A</td>\n",
              "      <td>L</td>\n",
              "      <td>0.37</td>\n",
              "      <td>NaN</td>\n",
              "      <td>-16</td>\n",
              "    </tr>\n",
              "    <tr>\n",
              "      <th>4</th>\n",
              "      <td>3</td>\n",
              "      <td>194611020DTF</td>\n",
              "      <td>NBA</td>\n",
              "      <td>0</td>\n",
              "      <td>1947</td>\n",
              "      <td>11/2/1946</td>\n",
              "      <td>1</td>\n",
              "      <td>0</td>\n",
              "      <td>DTF</td>\n",
              "      <td>Falcons</td>\n",
              "      <td>33</td>\n",
              "      <td>1300.00</td>\n",
              "      <td>1279.62</td>\n",
              "      <td>38.86</td>\n",
              "      <td>WSC</td>\n",
              "      <td>Capitols</td>\n",
              "      <td>50</td>\n",
              "      <td>1300.00</td>\n",
              "      <td>1320.38</td>\n",
              "      <td>H</td>\n",
              "      <td>L</td>\n",
              "      <td>0.64</td>\n",
              "      <td>NaN</td>\n",
              "      <td>-17</td>\n",
              "    </tr>\n",
              "    <tr>\n",
              "      <th>...</th>\n",
              "      <td>...</td>\n",
              "      <td>...</td>\n",
              "      <td>...</td>\n",
              "      <td>...</td>\n",
              "      <td>...</td>\n",
              "      <td>...</td>\n",
              "      <td>...</td>\n",
              "      <td>...</td>\n",
              "      <td>...</td>\n",
              "      <td>...</td>\n",
              "      <td>...</td>\n",
              "      <td>...</td>\n",
              "      <td>...</td>\n",
              "      <td>...</td>\n",
              "      <td>...</td>\n",
              "      <td>...</td>\n",
              "      <td>...</td>\n",
              "      <td>...</td>\n",
              "      <td>...</td>\n",
              "      <td>...</td>\n",
              "      <td>...</td>\n",
              "      <td>...</td>\n",
              "      <td>...</td>\n",
              "      <td>...</td>\n",
              "    </tr>\n",
              "    <tr>\n",
              "      <th>126309</th>\n",
              "      <td>63155</td>\n",
              "      <td>201506110CLE</td>\n",
              "      <td>NBA</td>\n",
              "      <td>0</td>\n",
              "      <td>2015</td>\n",
              "      <td>6/11/2015</td>\n",
              "      <td>100</td>\n",
              "      <td>1</td>\n",
              "      <td>CLE</td>\n",
              "      <td>Cavaliers</td>\n",
              "      <td>82</td>\n",
              "      <td>1723.41</td>\n",
              "      <td>1704.39</td>\n",
              "      <td>60.31</td>\n",
              "      <td>GSW</td>\n",
              "      <td>Warriors</td>\n",
              "      <td>103</td>\n",
              "      <td>1790.96</td>\n",
              "      <td>1809.98</td>\n",
              "      <td>H</td>\n",
              "      <td>L</td>\n",
              "      <td>0.55</td>\n",
              "      <td>NaN</td>\n",
              "      <td>-21</td>\n",
              "    </tr>\n",
              "    <tr>\n",
              "      <th>126310</th>\n",
              "      <td>63156</td>\n",
              "      <td>201506140GSW</td>\n",
              "      <td>NBA</td>\n",
              "      <td>0</td>\n",
              "      <td>2015</td>\n",
              "      <td>6/14/2015</td>\n",
              "      <td>102</td>\n",
              "      <td>1</td>\n",
              "      <td>GSW</td>\n",
              "      <td>Warriors</td>\n",
              "      <td>104</td>\n",
              "      <td>1809.98</td>\n",
              "      <td>1813.63</td>\n",
              "      <td>68.01</td>\n",
              "      <td>CLE</td>\n",
              "      <td>Cavaliers</td>\n",
              "      <td>91</td>\n",
              "      <td>1704.39</td>\n",
              "      <td>1700.74</td>\n",
              "      <td>H</td>\n",
              "      <td>W</td>\n",
              "      <td>0.77</td>\n",
              "      <td>NaN</td>\n",
              "      <td>13</td>\n",
              "    </tr>\n",
              "    <tr>\n",
              "      <th>126311</th>\n",
              "      <td>63156</td>\n",
              "      <td>201506140GSW</td>\n",
              "      <td>NBA</td>\n",
              "      <td>1</td>\n",
              "      <td>2015</td>\n",
              "      <td>6/14/2015</td>\n",
              "      <td>101</td>\n",
              "      <td>1</td>\n",
              "      <td>CLE</td>\n",
              "      <td>Cavaliers</td>\n",
              "      <td>91</td>\n",
              "      <td>1704.39</td>\n",
              "      <td>1700.74</td>\n",
              "      <td>60.01</td>\n",
              "      <td>GSW</td>\n",
              "      <td>Warriors</td>\n",
              "      <td>104</td>\n",
              "      <td>1809.98</td>\n",
              "      <td>1813.63</td>\n",
              "      <td>A</td>\n",
              "      <td>L</td>\n",
              "      <td>0.23</td>\n",
              "      <td>NaN</td>\n",
              "      <td>-13</td>\n",
              "    </tr>\n",
              "    <tr>\n",
              "      <th>126312</th>\n",
              "      <td>63157</td>\n",
              "      <td>201506170CLE</td>\n",
              "      <td>NBA</td>\n",
              "      <td>0</td>\n",
              "      <td>2015</td>\n",
              "      <td>6/16/2015</td>\n",
              "      <td>102</td>\n",
              "      <td>1</td>\n",
              "      <td>CLE</td>\n",
              "      <td>Cavaliers</td>\n",
              "      <td>97</td>\n",
              "      <td>1700.74</td>\n",
              "      <td>1692.09</td>\n",
              "      <td>59.29</td>\n",
              "      <td>GSW</td>\n",
              "      <td>Warriors</td>\n",
              "      <td>105</td>\n",
              "      <td>1813.63</td>\n",
              "      <td>1822.29</td>\n",
              "      <td>H</td>\n",
              "      <td>L</td>\n",
              "      <td>0.48</td>\n",
              "      <td>NaN</td>\n",
              "      <td>-8</td>\n",
              "    </tr>\n",
              "    <tr>\n",
              "      <th>126313</th>\n",
              "      <td>63157</td>\n",
              "      <td>201506170CLE</td>\n",
              "      <td>NBA</td>\n",
              "      <td>1</td>\n",
              "      <td>2015</td>\n",
              "      <td>6/16/2015</td>\n",
              "      <td>103</td>\n",
              "      <td>1</td>\n",
              "      <td>GSW</td>\n",
              "      <td>Warriors</td>\n",
              "      <td>105</td>\n",
              "      <td>1813.63</td>\n",
              "      <td>1822.29</td>\n",
              "      <td>68.52</td>\n",
              "      <td>CLE</td>\n",
              "      <td>Cavaliers</td>\n",
              "      <td>97</td>\n",
              "      <td>1700.74</td>\n",
              "      <td>1692.09</td>\n",
              "      <td>A</td>\n",
              "      <td>W</td>\n",
              "      <td>0.52</td>\n",
              "      <td>NaN</td>\n",
              "      <td>8</td>\n",
              "    </tr>\n",
              "  </tbody>\n",
              "</table>\n",
              "<p>126314 rows × 24 columns</p>\n",
              "</div>"
            ],
            "text/plain": [
              "        gameorder       game_id lg_id  _iscopy  year_id  date_game  \\\n",
              "0               1  194611010TRH   NBA        0     1947  11/1/1946   \n",
              "1               1  194611010TRH   NBA        1     1947  11/1/1946   \n",
              "2               2  194611020CHS   NBA        0     1947  11/2/1946   \n",
              "3               2  194611020CHS   NBA        1     1947  11/2/1946   \n",
              "4               3  194611020DTF   NBA        0     1947  11/2/1946   \n",
              "...           ...           ...   ...      ...      ...        ...   \n",
              "126309      63155  201506110CLE   NBA        0     2015  6/11/2015   \n",
              "126310      63156  201506140GSW   NBA        0     2015  6/14/2015   \n",
              "126311      63156  201506140GSW   NBA        1     2015  6/14/2015   \n",
              "126312      63157  201506170CLE   NBA        0     2015  6/16/2015   \n",
              "126313      63157  201506170CLE   NBA        1     2015  6/16/2015   \n",
              "\n",
              "        seasongame  is_playoffs team_id    fran_id  pts    elo_i    elo_n  \\\n",
              "0                1            0     TRH    Huskies   66  1300.00  1293.28   \n",
              "1                1            0     NYK     Knicks   68  1300.00  1306.72   \n",
              "2                1            0     CHS      Stags   63  1300.00  1309.65   \n",
              "3                2            0     NYK     Knicks   47  1306.72  1297.07   \n",
              "4                1            0     DTF    Falcons   33  1300.00  1279.62   \n",
              "...            ...          ...     ...        ...  ...      ...      ...   \n",
              "126309         100            1     CLE  Cavaliers   82  1723.41  1704.39   \n",
              "126310         102            1     GSW   Warriors  104  1809.98  1813.63   \n",
              "126311         101            1     CLE  Cavaliers   91  1704.39  1700.74   \n",
              "126312         102            1     CLE  Cavaliers   97  1700.74  1692.09   \n",
              "126313         103            1     GSW   Warriors  105  1813.63  1822.29   \n",
              "\n",
              "        win_equiv opp_id   opp_fran  opp_pts  opp_elo_i  opp_elo_n  \\\n",
              "0           40.29    NYK     Knicks       68    1300.00    1306.72   \n",
              "1           41.71    TRH    Huskies       66    1300.00    1293.28   \n",
              "2           42.01    NYK     Knicks       47    1306.72    1297.07   \n",
              "3           40.69    CHS      Stags       63    1300.00    1309.65   \n",
              "4           38.86    WSC   Capitols       50    1300.00    1320.38   \n",
              "...           ...    ...        ...      ...        ...        ...   \n",
              "126309      60.31    GSW   Warriors      103    1790.96    1809.98   \n",
              "126310      68.01    CLE  Cavaliers       91    1704.39    1700.74   \n",
              "126311      60.01    GSW   Warriors      104    1809.98    1813.63   \n",
              "126312      59.29    GSW   Warriors      105    1813.63    1822.29   \n",
              "126313      68.52    CLE  Cavaliers       97    1700.74    1692.09   \n",
              "\n",
              "       game_location game_result  forecast notes  difference  \n",
              "0                  H           L      0.64   NaN          -2  \n",
              "1                  A           W      0.36   NaN           2  \n",
              "2                  H           W      0.63   NaN          16  \n",
              "3                  A           L      0.37   NaN         -16  \n",
              "4                  H           L      0.64   NaN         -17  \n",
              "...              ...         ...       ...   ...         ...  \n",
              "126309             H           L      0.55   NaN         -21  \n",
              "126310             H           W      0.77   NaN          13  \n",
              "126311             A           L      0.23   NaN         -13  \n",
              "126312             H           L      0.48   NaN          -8  \n",
              "126313             A           W      0.52   NaN           8  \n",
              "\n",
              "[126314 rows x 24 columns]"
            ]
          },
          "metadata": {
            "tags": []
          },
          "execution_count": 187
        }
      ]
    },
    {
      "cell_type": "code",
      "metadata": {
        "colab": {
          "base_uri": "https://localhost:8080/"
        },
        "id": "USAMOy8I8Uay",
        "outputId": "02e22960-b6eb-43b2-fefd-0577f51dc473"
      },
      "source": [
        "nba.shape"
      ],
      "execution_count": null,
      "outputs": [
        {
          "output_type": "execute_result",
          "data": {
            "text/plain": [
              "(126314, 24)"
            ]
          },
          "metadata": {
            "tags": []
          },
          "execution_count": 188
        }
      ]
    },
    {
      "cell_type": "code",
      "metadata": {
        "colab": {
          "base_uri": "https://localhost:8080/"
        },
        "id": "NCnxzegH8ZBn",
        "outputId": "2d4a0a35-6249-4d34-ea01-cd8e3b71b8cd"
      },
      "source": [
        "nba[\"difference\"].max()"
      ],
      "execution_count": null,
      "outputs": [
        {
          "output_type": "execute_result",
          "data": {
            "text/plain": [
              "68"
            ]
          },
          "metadata": {
            "tags": []
          },
          "execution_count": 189
        }
      ]
    },
    {
      "cell_type": "code",
      "metadata": {
        "colab": {
          "base_uri": "https://localhost:8080/",
          "height": 226
        },
        "id": "c6gvFYwT8bk5",
        "outputId": "04662923-aef4-4da5-86d4-368e4519570d"
      },
      "source": [
        "renamed_nba = nba.rename(\n",
        "    columns={\"game_result\": \"result\", \"game_location\": \"location\"}\n",
        ")\n",
        "renamed_nba.head()"
      ],
      "execution_count": null,
      "outputs": [
        {
          "output_type": "execute_result",
          "data": {
            "text/html": [
              "<div>\n",
              "<style scoped>\n",
              "    .dataframe tbody tr th:only-of-type {\n",
              "        vertical-align: middle;\n",
              "    }\n",
              "\n",
              "    .dataframe tbody tr th {\n",
              "        vertical-align: top;\n",
              "    }\n",
              "\n",
              "    .dataframe thead th {\n",
              "        text-align: right;\n",
              "    }\n",
              "</style>\n",
              "<table border=\"1\" class=\"dataframe\">\n",
              "  <thead>\n",
              "    <tr style=\"text-align: right;\">\n",
              "      <th></th>\n",
              "      <th>gameorder</th>\n",
              "      <th>game_id</th>\n",
              "      <th>lg_id</th>\n",
              "      <th>_iscopy</th>\n",
              "      <th>year_id</th>\n",
              "      <th>date_game</th>\n",
              "      <th>seasongame</th>\n",
              "      <th>is_playoffs</th>\n",
              "      <th>team_id</th>\n",
              "      <th>fran_id</th>\n",
              "      <th>pts</th>\n",
              "      <th>elo_i</th>\n",
              "      <th>elo_n</th>\n",
              "      <th>win_equiv</th>\n",
              "      <th>opp_id</th>\n",
              "      <th>opp_fran</th>\n",
              "      <th>opp_pts</th>\n",
              "      <th>opp_elo_i</th>\n",
              "      <th>opp_elo_n</th>\n",
              "      <th>location</th>\n",
              "      <th>result</th>\n",
              "      <th>forecast</th>\n",
              "      <th>notes</th>\n",
              "      <th>difference</th>\n",
              "    </tr>\n",
              "  </thead>\n",
              "  <tbody>\n",
              "    <tr>\n",
              "      <th>0</th>\n",
              "      <td>1</td>\n",
              "      <td>194611010TRH</td>\n",
              "      <td>NBA</td>\n",
              "      <td>0</td>\n",
              "      <td>1947</td>\n",
              "      <td>11/1/1946</td>\n",
              "      <td>1</td>\n",
              "      <td>0</td>\n",
              "      <td>TRH</td>\n",
              "      <td>Huskies</td>\n",
              "      <td>66</td>\n",
              "      <td>1300.00</td>\n",
              "      <td>1293.28</td>\n",
              "      <td>40.29</td>\n",
              "      <td>NYK</td>\n",
              "      <td>Knicks</td>\n",
              "      <td>68</td>\n",
              "      <td>1300.00</td>\n",
              "      <td>1306.72</td>\n",
              "      <td>H</td>\n",
              "      <td>L</td>\n",
              "      <td>0.64</td>\n",
              "      <td>NaN</td>\n",
              "      <td>-2</td>\n",
              "    </tr>\n",
              "    <tr>\n",
              "      <th>1</th>\n",
              "      <td>1</td>\n",
              "      <td>194611010TRH</td>\n",
              "      <td>NBA</td>\n",
              "      <td>1</td>\n",
              "      <td>1947</td>\n",
              "      <td>11/1/1946</td>\n",
              "      <td>1</td>\n",
              "      <td>0</td>\n",
              "      <td>NYK</td>\n",
              "      <td>Knicks</td>\n",
              "      <td>68</td>\n",
              "      <td>1300.00</td>\n",
              "      <td>1306.72</td>\n",
              "      <td>41.71</td>\n",
              "      <td>TRH</td>\n",
              "      <td>Huskies</td>\n",
              "      <td>66</td>\n",
              "      <td>1300.00</td>\n",
              "      <td>1293.28</td>\n",
              "      <td>A</td>\n",
              "      <td>W</td>\n",
              "      <td>0.36</td>\n",
              "      <td>NaN</td>\n",
              "      <td>2</td>\n",
              "    </tr>\n",
              "    <tr>\n",
              "      <th>2</th>\n",
              "      <td>2</td>\n",
              "      <td>194611020CHS</td>\n",
              "      <td>NBA</td>\n",
              "      <td>0</td>\n",
              "      <td>1947</td>\n",
              "      <td>11/2/1946</td>\n",
              "      <td>1</td>\n",
              "      <td>0</td>\n",
              "      <td>CHS</td>\n",
              "      <td>Stags</td>\n",
              "      <td>63</td>\n",
              "      <td>1300.00</td>\n",
              "      <td>1309.65</td>\n",
              "      <td>42.01</td>\n",
              "      <td>NYK</td>\n",
              "      <td>Knicks</td>\n",
              "      <td>47</td>\n",
              "      <td>1306.72</td>\n",
              "      <td>1297.07</td>\n",
              "      <td>H</td>\n",
              "      <td>W</td>\n",
              "      <td>0.63</td>\n",
              "      <td>NaN</td>\n",
              "      <td>16</td>\n",
              "    </tr>\n",
              "    <tr>\n",
              "      <th>3</th>\n",
              "      <td>2</td>\n",
              "      <td>194611020CHS</td>\n",
              "      <td>NBA</td>\n",
              "      <td>1</td>\n",
              "      <td>1947</td>\n",
              "      <td>11/2/1946</td>\n",
              "      <td>2</td>\n",
              "      <td>0</td>\n",
              "      <td>NYK</td>\n",
              "      <td>Knicks</td>\n",
              "      <td>47</td>\n",
              "      <td>1306.72</td>\n",
              "      <td>1297.07</td>\n",
              "      <td>40.69</td>\n",
              "      <td>CHS</td>\n",
              "      <td>Stags</td>\n",
              "      <td>63</td>\n",
              "      <td>1300.00</td>\n",
              "      <td>1309.65</td>\n",
              "      <td>A</td>\n",
              "      <td>L</td>\n",
              "      <td>0.37</td>\n",
              "      <td>NaN</td>\n",
              "      <td>-16</td>\n",
              "    </tr>\n",
              "    <tr>\n",
              "      <th>4</th>\n",
              "      <td>3</td>\n",
              "      <td>194611020DTF</td>\n",
              "      <td>NBA</td>\n",
              "      <td>0</td>\n",
              "      <td>1947</td>\n",
              "      <td>11/2/1946</td>\n",
              "      <td>1</td>\n",
              "      <td>0</td>\n",
              "      <td>DTF</td>\n",
              "      <td>Falcons</td>\n",
              "      <td>33</td>\n",
              "      <td>1300.00</td>\n",
              "      <td>1279.62</td>\n",
              "      <td>38.86</td>\n",
              "      <td>WSC</td>\n",
              "      <td>Capitols</td>\n",
              "      <td>50</td>\n",
              "      <td>1300.00</td>\n",
              "      <td>1320.38</td>\n",
              "      <td>H</td>\n",
              "      <td>L</td>\n",
              "      <td>0.64</td>\n",
              "      <td>NaN</td>\n",
              "      <td>-17</td>\n",
              "    </tr>\n",
              "  </tbody>\n",
              "</table>\n",
              "</div>"
            ],
            "text/plain": [
              "   gameorder       game_id lg_id  _iscopy  year_id  date_game  seasongame  \\\n",
              "0          1  194611010TRH   NBA        0     1947  11/1/1946           1   \n",
              "1          1  194611010TRH   NBA        1     1947  11/1/1946           1   \n",
              "2          2  194611020CHS   NBA        0     1947  11/2/1946           1   \n",
              "3          2  194611020CHS   NBA        1     1947  11/2/1946           2   \n",
              "4          3  194611020DTF   NBA        0     1947  11/2/1946           1   \n",
              "\n",
              "   is_playoffs team_id  fran_id  pts    elo_i    elo_n  win_equiv opp_id  \\\n",
              "0            0     TRH  Huskies   66  1300.00  1293.28      40.29    NYK   \n",
              "1            0     NYK   Knicks   68  1300.00  1306.72      41.71    TRH   \n",
              "2            0     CHS    Stags   63  1300.00  1309.65      42.01    NYK   \n",
              "3            0     NYK   Knicks   47  1306.72  1297.07      40.69    CHS   \n",
              "4            0     DTF  Falcons   33  1300.00  1279.62      38.86    WSC   \n",
              "\n",
              "   opp_fran  opp_pts  opp_elo_i  opp_elo_n location result  forecast notes  \\\n",
              "0    Knicks       68    1300.00    1306.72        H      L      0.64   NaN   \n",
              "1   Huskies       66    1300.00    1293.28        A      W      0.36   NaN   \n",
              "2    Knicks       47    1306.72    1297.07        H      W      0.63   NaN   \n",
              "3     Stags       63    1300.00    1309.65        A      L      0.37   NaN   \n",
              "4  Capitols       50    1300.00    1320.38        H      L      0.64   NaN   \n",
              "\n",
              "   difference  \n",
              "0          -2  \n",
              "1           2  \n",
              "2          16  \n",
              "3         -16  \n",
              "4         -17  "
            ]
          },
          "metadata": {
            "tags": []
          },
          "execution_count": 190
        }
      ]
    },
    {
      "cell_type": "code",
      "metadata": {
        "colab": {
          "base_uri": "https://localhost:8080/"
        },
        "id": "-zNd6Np68r1u",
        "outputId": "06f472fc-ae67-40ba-eb45-1dcc9c0a59e5"
      },
      "source": [
        "nba.shape"
      ],
      "execution_count": null,
      "outputs": [
        {
          "output_type": "execute_result",
          "data": {
            "text/plain": [
              "(126314, 24)"
            ]
          },
          "metadata": {
            "tags": []
          },
          "execution_count": 191
        }
      ]
    },
    {
      "cell_type": "code",
      "metadata": {
        "colab": {
          "base_uri": "https://localhost:8080/"
        },
        "id": "W4eOIHx885y6",
        "outputId": "9d5f8813-53b1-4a3f-9b68-7be204424e36"
      },
      "source": [
        "elo_columns = [\"elo_i\", \"elo_n\", \"opp_elo_i\", \"opp_elo_n\"]\n",
        "nba.drop(elo_columns, inplace=True, axis=1)\n",
        "nba.shape"
      ],
      "execution_count": null,
      "outputs": [
        {
          "output_type": "execute_result",
          "data": {
            "text/plain": [
              "(126314, 20)"
            ]
          },
          "metadata": {
            "tags": []
          },
          "execution_count": 192
        }
      ]
    },
    {
      "cell_type": "markdown",
      "metadata": {
        "id": "818hK2-ARmKj"
      },
      "source": [
        "Specifying Data Types"
      ]
    },
    {
      "cell_type": "code",
      "metadata": {
        "colab": {
          "base_uri": "https://localhost:8080/"
        },
        "id": "yLZoQeJf9HM4",
        "outputId": "34f69d1c-477f-4058-e4da-c8bb0fa17467"
      },
      "source": [
        "nba.info()"
      ],
      "execution_count": null,
      "outputs": [
        {
          "output_type": "stream",
          "text": [
            "<class 'pandas.core.frame.DataFrame'>\n",
            "RangeIndex: 126314 entries, 0 to 126313\n",
            "Data columns (total 20 columns):\n",
            " #   Column         Non-Null Count   Dtype  \n",
            "---  ------         --------------   -----  \n",
            " 0   gameorder      126314 non-null  int64  \n",
            " 1   game_id        126314 non-null  object \n",
            " 2   lg_id          126314 non-null  object \n",
            " 3   _iscopy        126314 non-null  int64  \n",
            " 4   year_id        126314 non-null  int64  \n",
            " 5   date_game      126314 non-null  object \n",
            " 6   seasongame     126314 non-null  int64  \n",
            " 7   is_playoffs    126314 non-null  int64  \n",
            " 8   team_id        126314 non-null  object \n",
            " 9   fran_id        126314 non-null  object \n",
            " 10  pts            126314 non-null  int64  \n",
            " 11  win_equiv      126314 non-null  float64\n",
            " 12  opp_id         126314 non-null  object \n",
            " 13  opp_fran       126314 non-null  object \n",
            " 14  opp_pts        126314 non-null  int64  \n",
            " 15  game_location  126314 non-null  object \n",
            " 16  game_result    126314 non-null  object \n",
            " 17  forecast       126314 non-null  float64\n",
            " 18  notes          5424 non-null    object \n",
            " 19  difference     126314 non-null  int64  \n",
            "dtypes: float64(2), int64(8), object(10)\n",
            "memory usage: 19.3+ MB\n"
          ],
          "name": "stdout"
        }
      ]
    },
    {
      "cell_type": "code",
      "metadata": {
        "id": "PM2mhWBQ9b8k"
      },
      "source": [
        "nba[\"date_game\"] = pd.to_datetime(nba[\"date_game\"])"
      ],
      "execution_count": null,
      "outputs": []
    },
    {
      "cell_type": "code",
      "metadata": {
        "colab": {
          "base_uri": "https://localhost:8080/"
        },
        "id": "8lq_ZYfyRzn1",
        "outputId": "0b403375-421c-4222-90e1-e8fdc9738e8e"
      },
      "source": [
        "nba[\"game_location\"].nunique()"
      ],
      "execution_count": null,
      "outputs": [
        {
          "output_type": "execute_result",
          "data": {
            "text/plain": [
              "3"
            ]
          },
          "metadata": {
            "tags": []
          },
          "execution_count": 195
        }
      ]
    },
    {
      "cell_type": "code",
      "metadata": {
        "colab": {
          "base_uri": "https://localhost:8080/"
        },
        "id": "F880vQd-R6iq",
        "outputId": "cdbe3883-5548-40c0-f545-4e0aea954fd4"
      },
      "source": [
        "nba[\"game_location\"].value_counts()"
      ],
      "execution_count": null,
      "outputs": [
        {
          "output_type": "execute_result",
          "data": {
            "text/plain": [
              "H    63138\n",
              "A    63138\n",
              "N       38\n",
              "Name: game_location, dtype: int64"
            ]
          },
          "metadata": {
            "tags": []
          },
          "execution_count": 196
        }
      ]
    },
    {
      "cell_type": "code",
      "metadata": {
        "id": "B5JYhAOtR9a6"
      },
      "source": [
        "nba[\"game_location\"] = pd.Categorical(nba[\"game_location\"])"
      ],
      "execution_count": null,
      "outputs": []
    },
    {
      "cell_type": "code",
      "metadata": {
        "colab": {
          "base_uri": "https://localhost:8080/"
        },
        "id": "kR_W4StqSFqo",
        "outputId": "8d13792f-9bac-400c-8d75-62fdb4e9cddb"
      },
      "source": [
        "nba[\"game_location\"].dtype"
      ],
      "execution_count": null,
      "outputs": [
        {
          "output_type": "execute_result",
          "data": {
            "text/plain": [
              "CategoricalDtype(categories=['A', 'H', 'N'], ordered=False)"
            ]
          },
          "metadata": {
            "tags": []
          },
          "execution_count": 198
        }
      ]
    },
    {
      "cell_type": "code",
      "metadata": {
        "colab": {
          "base_uri": "https://localhost:8080/"
        },
        "id": "TAIu-K2NST48",
        "outputId": "64b94a23-2641-4172-a06e-2dd5414297eb"
      },
      "source": [
        "df.info()"
      ],
      "execution_count": null,
      "outputs": [
        {
          "output_type": "stream",
          "text": [
            "<class 'pandas.core.frame.DataFrame'>\n",
            "RangeIndex: 126314 entries, 0 to 126313\n",
            "Data columns (total 23 columns):\n",
            " #   Column         Non-Null Count   Dtype  \n",
            "---  ------         --------------   -----  \n",
            " 0   gameorder      126314 non-null  int64  \n",
            " 1   game_id        126314 non-null  object \n",
            " 2   lg_id          126314 non-null  object \n",
            " 3   _iscopy        126314 non-null  int64  \n",
            " 4   year_id        126314 non-null  int64  \n",
            " 5   date_game      126314 non-null  object \n",
            " 6   seasongame     126314 non-null  int64  \n",
            " 7   is_playoffs    126314 non-null  int64  \n",
            " 8   team_id        126314 non-null  object \n",
            " 9   fran_id        126314 non-null  object \n",
            " 10  pts            126314 non-null  int64  \n",
            " 11  elo_i          126314 non-null  float64\n",
            " 12  elo_n          126314 non-null  float64\n",
            " 13  win_equiv      126314 non-null  float64\n",
            " 14  opp_id         126314 non-null  object \n",
            " 15  opp_fran       126314 non-null  object \n",
            " 16  opp_pts        126314 non-null  int64  \n",
            " 17  opp_elo_i      126314 non-null  float64\n",
            " 18  opp_elo_n      126314 non-null  float64\n",
            " 19  game_location  126314 non-null  object \n",
            " 20  game_result    126314 non-null  object \n",
            " 21  forecast       126314 non-null  float64\n",
            " 22  notes          5424 non-null    object \n",
            "dtypes: float64(6), int64(7), object(10)\n",
            "memory usage: 22.2+ MB\n"
          ],
          "name": "stdout"
        }
      ]
    },
    {
      "cell_type": "markdown",
      "metadata": {
        "id": "inqZwPVHSRN7"
      },
      "source": [
        "Missing Values"
      ]
    },
    {
      "cell_type": "code",
      "metadata": {
        "colab": {
          "base_uri": "https://localhost:8080/"
        },
        "id": "ZkXnNcUCSIv_",
        "outputId": "10784ab9-19af-4b2e-a39e-c226f60b2f6d"
      },
      "source": [
        "rows_without_missing_data = nba.dropna()\n",
        "rows_without_missing_data.shape"
      ],
      "execution_count": null,
      "outputs": [
        {
          "output_type": "execute_result",
          "data": {
            "text/plain": [
              "(5424, 20)"
            ]
          },
          "metadata": {
            "tags": []
          },
          "execution_count": 203
        }
      ]
    },
    {
      "cell_type": "code",
      "metadata": {
        "colab": {
          "base_uri": "https://localhost:8080/"
        },
        "id": "TbkjzGc-SMKj",
        "outputId": "adead1f3-090d-4ba1-bc31-6192b2712a50"
      },
      "source": [
        "data_without_missing_columns = nba.dropna(axis=1)\n",
        "data_without_missing_columns.shape"
      ],
      "execution_count": null,
      "outputs": [
        {
          "output_type": "execute_result",
          "data": {
            "text/plain": [
              "(126314, 19)"
            ]
          },
          "metadata": {
            "tags": []
          },
          "execution_count": 206
        }
      ]
    },
    {
      "cell_type": "code",
      "metadata": {
        "colab": {
          "base_uri": "https://localhost:8080/"
        },
        "id": "_eLRtW9CS3xO",
        "outputId": "bee0c3ed-a163-4987-8e66-c1ae620624e8"
      },
      "source": [
        "data_with_default_notes = nba.copy()\n",
        "data_with_default_notes[\"notes\"].fillna(\n",
        "    value=\"no notes at all\",\n",
        "    inplace=True\n",
        ")\n",
        "data_with_default_notes[\"notes\"].describe()"
      ],
      "execution_count": null,
      "outputs": [
        {
          "output_type": "execute_result",
          "data": {
            "text/plain": [
              "count              126314\n",
              "unique                232\n",
              "top       no notes at all\n",
              "freq               120890\n",
              "Name: notes, dtype: object"
            ]
          },
          "metadata": {
            "tags": []
          },
          "execution_count": 208
        }
      ]
    },
    {
      "cell_type": "markdown",
      "metadata": {
        "id": "4FDtur2jTVpE"
      },
      "source": [
        "Invalid Values"
      ]
    },
    {
      "cell_type": "code",
      "metadata": {
        "colab": {
          "base_uri": "https://localhost:8080/",
          "height": 320
        },
        "id": "VIjv72PITDh2",
        "outputId": "53237174-7a97-4354-a044-8f4dd645b04a"
      },
      "source": [
        "nba.describe()"
      ],
      "execution_count": null,
      "outputs": [
        {
          "output_type": "execute_result",
          "data": {
            "text/html": [
              "<div>\n",
              "<style scoped>\n",
              "    .dataframe tbody tr th:only-of-type {\n",
              "        vertical-align: middle;\n",
              "    }\n",
              "\n",
              "    .dataframe tbody tr th {\n",
              "        vertical-align: top;\n",
              "    }\n",
              "\n",
              "    .dataframe thead th {\n",
              "        text-align: right;\n",
              "    }\n",
              "</style>\n",
              "<table border=\"1\" class=\"dataframe\">\n",
              "  <thead>\n",
              "    <tr style=\"text-align: right;\">\n",
              "      <th></th>\n",
              "      <th>gameorder</th>\n",
              "      <th>_iscopy</th>\n",
              "      <th>year_id</th>\n",
              "      <th>seasongame</th>\n",
              "      <th>is_playoffs</th>\n",
              "      <th>pts</th>\n",
              "      <th>win_equiv</th>\n",
              "      <th>opp_pts</th>\n",
              "      <th>forecast</th>\n",
              "      <th>difference</th>\n",
              "    </tr>\n",
              "  </thead>\n",
              "  <tbody>\n",
              "    <tr>\n",
              "      <th>count</th>\n",
              "      <td>126314.00</td>\n",
              "      <td>126314.0</td>\n",
              "      <td>126314.00</td>\n",
              "      <td>126314.00</td>\n",
              "      <td>126314.00</td>\n",
              "      <td>126314.00</td>\n",
              "      <td>126314.00</td>\n",
              "      <td>126314.00</td>\n",
              "      <td>126314.00</td>\n",
              "      <td>126314.00</td>\n",
              "    </tr>\n",
              "    <tr>\n",
              "      <th>mean</th>\n",
              "      <td>31579.00</td>\n",
              "      <td>0.5</td>\n",
              "      <td>1988.20</td>\n",
              "      <td>43.53</td>\n",
              "      <td>0.06</td>\n",
              "      <td>102.73</td>\n",
              "      <td>41.71</td>\n",
              "      <td>102.73</td>\n",
              "      <td>0.50</td>\n",
              "      <td>0.00</td>\n",
              "    </tr>\n",
              "    <tr>\n",
              "      <th>std</th>\n",
              "      <td>18231.93</td>\n",
              "      <td>0.5</td>\n",
              "      <td>17.58</td>\n",
              "      <td>25.38</td>\n",
              "      <td>0.24</td>\n",
              "      <td>14.81</td>\n",
              "      <td>10.63</td>\n",
              "      <td>14.81</td>\n",
              "      <td>0.22</td>\n",
              "      <td>13.37</td>\n",
              "    </tr>\n",
              "    <tr>\n",
              "      <th>min</th>\n",
              "      <td>1.00</td>\n",
              "      <td>0.0</td>\n",
              "      <td>1947.00</td>\n",
              "      <td>1.00</td>\n",
              "      <td>0.00</td>\n",
              "      <td>0.00</td>\n",
              "      <td>10.15</td>\n",
              "      <td>0.00</td>\n",
              "      <td>0.02</td>\n",
              "      <td>-68.00</td>\n",
              "    </tr>\n",
              "    <tr>\n",
              "      <th>25%</th>\n",
              "      <td>15790.00</td>\n",
              "      <td>0.0</td>\n",
              "      <td>1975.00</td>\n",
              "      <td>22.00</td>\n",
              "      <td>0.00</td>\n",
              "      <td>93.00</td>\n",
              "      <td>34.10</td>\n",
              "      <td>93.00</td>\n",
              "      <td>0.33</td>\n",
              "      <td>-9.00</td>\n",
              "    </tr>\n",
              "    <tr>\n",
              "      <th>50%</th>\n",
              "      <td>31579.00</td>\n",
              "      <td>0.5</td>\n",
              "      <td>1990.00</td>\n",
              "      <td>43.00</td>\n",
              "      <td>0.00</td>\n",
              "      <td>103.00</td>\n",
              "      <td>42.11</td>\n",
              "      <td>103.00</td>\n",
              "      <td>0.50</td>\n",
              "      <td>0.00</td>\n",
              "    </tr>\n",
              "    <tr>\n",
              "      <th>75%</th>\n",
              "      <td>47368.00</td>\n",
              "      <td>1.0</td>\n",
              "      <td>2003.00</td>\n",
              "      <td>65.00</td>\n",
              "      <td>0.00</td>\n",
              "      <td>112.00</td>\n",
              "      <td>49.64</td>\n",
              "      <td>112.00</td>\n",
              "      <td>0.67</td>\n",
              "      <td>9.00</td>\n",
              "    </tr>\n",
              "    <tr>\n",
              "      <th>max</th>\n",
              "      <td>63157.00</td>\n",
              "      <td>1.0</td>\n",
              "      <td>2015.00</td>\n",
              "      <td>108.00</td>\n",
              "      <td>1.00</td>\n",
              "      <td>186.00</td>\n",
              "      <td>71.11</td>\n",
              "      <td>186.00</td>\n",
              "      <td>0.98</td>\n",
              "      <td>68.00</td>\n",
              "    </tr>\n",
              "  </tbody>\n",
              "</table>\n",
              "</div>"
            ],
            "text/plain": [
              "       gameorder   _iscopy    year_id  seasongame  is_playoffs        pts  \\\n",
              "count  126314.00  126314.0  126314.00   126314.00    126314.00  126314.00   \n",
              "mean    31579.00       0.5    1988.20       43.53         0.06     102.73   \n",
              "std     18231.93       0.5      17.58       25.38         0.24      14.81   \n",
              "min         1.00       0.0    1947.00        1.00         0.00       0.00   \n",
              "25%     15790.00       0.0    1975.00       22.00         0.00      93.00   \n",
              "50%     31579.00       0.5    1990.00       43.00         0.00     103.00   \n",
              "75%     47368.00       1.0    2003.00       65.00         0.00     112.00   \n",
              "max     63157.00       1.0    2015.00      108.00         1.00     186.00   \n",
              "\n",
              "       win_equiv    opp_pts   forecast  difference  \n",
              "count  126314.00  126314.00  126314.00   126314.00  \n",
              "mean       41.71     102.73       0.50        0.00  \n",
              "std        10.63      14.81       0.22       13.37  \n",
              "min        10.15       0.00       0.02      -68.00  \n",
              "25%        34.10      93.00       0.33       -9.00  \n",
              "50%        42.11     103.00       0.50        0.00  \n",
              "75%        49.64     112.00       0.67        9.00  \n",
              "max        71.11     186.00       0.98       68.00  "
            ]
          },
          "metadata": {
            "tags": []
          },
          "execution_count": 209
        }
      ]
    },
    {
      "cell_type": "code",
      "metadata": {
        "colab": {
          "base_uri": "https://localhost:8080/",
          "height": 153
        },
        "id": "gxtBUjpWTcKx",
        "outputId": "c1146f81-0586-434b-b200-9ab143145791"
      },
      "source": [
        "nba[nba[\"pts\"] == 0]"
      ],
      "execution_count": null,
      "outputs": [
        {
          "output_type": "execute_result",
          "data": {
            "text/html": [
              "<div>\n",
              "<style scoped>\n",
              "    .dataframe tbody tr th:only-of-type {\n",
              "        vertical-align: middle;\n",
              "    }\n",
              "\n",
              "    .dataframe tbody tr th {\n",
              "        vertical-align: top;\n",
              "    }\n",
              "\n",
              "    .dataframe thead th {\n",
              "        text-align: right;\n",
              "    }\n",
              "</style>\n",
              "<table border=\"1\" class=\"dataframe\">\n",
              "  <thead>\n",
              "    <tr style=\"text-align: right;\">\n",
              "      <th></th>\n",
              "      <th>gameorder</th>\n",
              "      <th>game_id</th>\n",
              "      <th>lg_id</th>\n",
              "      <th>_iscopy</th>\n",
              "      <th>year_id</th>\n",
              "      <th>date_game</th>\n",
              "      <th>seasongame</th>\n",
              "      <th>is_playoffs</th>\n",
              "      <th>team_id</th>\n",
              "      <th>fran_id</th>\n",
              "      <th>pts</th>\n",
              "      <th>win_equiv</th>\n",
              "      <th>opp_id</th>\n",
              "      <th>opp_fran</th>\n",
              "      <th>opp_pts</th>\n",
              "      <th>game_location</th>\n",
              "      <th>game_result</th>\n",
              "      <th>forecast</th>\n",
              "      <th>notes</th>\n",
              "      <th>difference</th>\n",
              "    </tr>\n",
              "  </thead>\n",
              "  <tbody>\n",
              "    <tr>\n",
              "      <th>26684</th>\n",
              "      <td>13343</td>\n",
              "      <td>197210260VIR</td>\n",
              "      <td>ABA</td>\n",
              "      <td>1</td>\n",
              "      <td>1973</td>\n",
              "      <td>1972-10-26</td>\n",
              "      <td>7</td>\n",
              "      <td>0</td>\n",
              "      <td>DNR</td>\n",
              "      <td>Nuggets</td>\n",
              "      <td>0</td>\n",
              "      <td>40.41</td>\n",
              "      <td>VIR</td>\n",
              "      <td>Squires</td>\n",
              "      <td>2</td>\n",
              "      <td>A</td>\n",
              "      <td>L</td>\n",
              "      <td>0.33</td>\n",
              "      <td>at Richmond VA; forfeit to VIR</td>\n",
              "      <td>-2</td>\n",
              "    </tr>\n",
              "  </tbody>\n",
              "</table>\n",
              "</div>"
            ],
            "text/plain": [
              "       gameorder       game_id lg_id  _iscopy  year_id  date_game  seasongame  \\\n",
              "26684      13343  197210260VIR   ABA        1     1973 1972-10-26           7   \n",
              "\n",
              "       is_playoffs team_id  fran_id  pts  win_equiv opp_id opp_fran  opp_pts  \\\n",
              "26684            0     DNR  Nuggets    0      40.41    VIR  Squires        2   \n",
              "\n",
              "      game_location game_result  forecast                           notes  \\\n",
              "26684             A           L      0.33  at Richmond VA; forfeit to VIR   \n",
              "\n",
              "       difference  \n",
              "26684          -2  "
            ]
          },
          "metadata": {
            "tags": []
          },
          "execution_count": 210
        }
      ]
    },
    {
      "cell_type": "markdown",
      "metadata": {
        "id": "Lq1BNN5mTvPK"
      },
      "source": [
        "Inconsistent Values"
      ]
    },
    {
      "cell_type": "code",
      "metadata": {
        "colab": {
          "base_uri": "https://localhost:8080/"
        },
        "id": "gcpld4YKTfuE",
        "outputId": "783766ba-c1aa-4519-eb7c-6bafc801731c"
      },
      "source": [
        "nba[(nba[\"pts\"] > nba[\"opp_pts\"]) & (nba[\"game_result\"] != 'W')].empty"
      ],
      "execution_count": null,
      "outputs": [
        {
          "output_type": "execute_result",
          "data": {
            "text/plain": [
              "True"
            ]
          },
          "metadata": {
            "tags": []
          },
          "execution_count": 211
        }
      ]
    },
    {
      "cell_type": "code",
      "metadata": {
        "colab": {
          "base_uri": "https://localhost:8080/"
        },
        "id": "twGZcyJ0T6p6",
        "outputId": "896c4e86-6ed6-4249-e8cf-77c7a8e632c2"
      },
      "source": [
        "nba[(nba[\"pts\"] < nba[\"opp_pts\"]) & (nba[\"game_result\"] != 'L')].empty"
      ],
      "execution_count": null,
      "outputs": [
        {
          "output_type": "execute_result",
          "data": {
            "text/plain": [
              "True"
            ]
          },
          "metadata": {
            "tags": []
          },
          "execution_count": 212
        }
      ]
    },
    {
      "cell_type": "markdown",
      "metadata": {
        "id": "3ni6rYeHUMIg"
      },
      "source": [
        "Combining Multiple Datasets"
      ]
    },
    {
      "cell_type": "code",
      "metadata": {
        "colab": {
          "base_uri": "https://localhost:8080/",
          "height": 112
        },
        "id": "CFKuzl1AUF57",
        "outputId": "75b23c41-781e-448c-939c-797dc789ab14"
      },
      "source": [
        "further_city_data = pd.DataFrame(\n",
        "    {\"revenue\": [7000, 3400], \"employee_count\": [2, 2]},\n",
        "    index=[\"New York\", \"Barcelona\"]\n",
        ")\n",
        "further_city_data"
      ],
      "execution_count": null,
      "outputs": [
        {
          "output_type": "execute_result",
          "data": {
            "text/html": [
              "<div>\n",
              "<style scoped>\n",
              "    .dataframe tbody tr th:only-of-type {\n",
              "        vertical-align: middle;\n",
              "    }\n",
              "\n",
              "    .dataframe tbody tr th {\n",
              "        vertical-align: top;\n",
              "    }\n",
              "\n",
              "    .dataframe thead th {\n",
              "        text-align: right;\n",
              "    }\n",
              "</style>\n",
              "<table border=\"1\" class=\"dataframe\">\n",
              "  <thead>\n",
              "    <tr style=\"text-align: right;\">\n",
              "      <th></th>\n",
              "      <th>revenue</th>\n",
              "      <th>employee_count</th>\n",
              "    </tr>\n",
              "  </thead>\n",
              "  <tbody>\n",
              "    <tr>\n",
              "      <th>New York</th>\n",
              "      <td>7000</td>\n",
              "      <td>2</td>\n",
              "    </tr>\n",
              "    <tr>\n",
              "      <th>Barcelona</th>\n",
              "      <td>3400</td>\n",
              "      <td>2</td>\n",
              "    </tr>\n",
              "  </tbody>\n",
              "</table>\n",
              "</div>"
            ],
            "text/plain": [
              "           revenue  employee_count\n",
              "New York      7000               2\n",
              "Barcelona     3400               2"
            ]
          },
          "metadata": {
            "tags": []
          },
          "execution_count": 213
        }
      ]
    },
    {
      "cell_type": "code",
      "metadata": {
        "colab": {
          "base_uri": "https://localhost:8080/",
          "height": 143
        },
        "id": "aCzyJoqLUiJg",
        "outputId": "dbad4734-c277-4575-f29a-09812dde1d3a"
      },
      "source": [
        "city_data"
      ],
      "execution_count": null,
      "outputs": [
        {
          "output_type": "execute_result",
          "data": {
            "text/html": [
              "<div>\n",
              "<style scoped>\n",
              "    .dataframe tbody tr th:only-of-type {\n",
              "        vertical-align: middle;\n",
              "    }\n",
              "\n",
              "    .dataframe tbody tr th {\n",
              "        vertical-align: top;\n",
              "    }\n",
              "\n",
              "    .dataframe thead th {\n",
              "        text-align: right;\n",
              "    }\n",
              "</style>\n",
              "<table border=\"1\" class=\"dataframe\">\n",
              "  <thead>\n",
              "    <tr style=\"text-align: right;\">\n",
              "      <th></th>\n",
              "      <th>revenue</th>\n",
              "      <th>employee_count</th>\n",
              "    </tr>\n",
              "  </thead>\n",
              "  <tbody>\n",
              "    <tr>\n",
              "      <th>Amsterdam</th>\n",
              "      <td>4200</td>\n",
              "      <td>5.0</td>\n",
              "    </tr>\n",
              "    <tr>\n",
              "      <th>Tokyo</th>\n",
              "      <td>6500</td>\n",
              "      <td>8.0</td>\n",
              "    </tr>\n",
              "    <tr>\n",
              "      <th>Toronto</th>\n",
              "      <td>8000</td>\n",
              "      <td>NaN</td>\n",
              "    </tr>\n",
              "  </tbody>\n",
              "</table>\n",
              "</div>"
            ],
            "text/plain": [
              "           revenue  employee_count\n",
              "Amsterdam     4200             5.0\n",
              "Tokyo         6500             8.0\n",
              "Toronto       8000             NaN"
            ]
          },
          "metadata": {
            "tags": []
          },
          "execution_count": 214
        }
      ]
    },
    {
      "cell_type": "code",
      "metadata": {
        "colab": {
          "base_uri": "https://localhost:8080/",
          "height": 206
        },
        "id": "AoDbvqexUk2l",
        "outputId": "35eecb1c-a603-4081-cf75-aa6b72558c3d"
      },
      "source": [
        "all_city_data = pd.concat([city_data, further_city_data], sort=False)\n",
        "all_city_data"
      ],
      "execution_count": null,
      "outputs": [
        {
          "output_type": "execute_result",
          "data": {
            "text/html": [
              "<div>\n",
              "<style scoped>\n",
              "    .dataframe tbody tr th:only-of-type {\n",
              "        vertical-align: middle;\n",
              "    }\n",
              "\n",
              "    .dataframe tbody tr th {\n",
              "        vertical-align: top;\n",
              "    }\n",
              "\n",
              "    .dataframe thead th {\n",
              "        text-align: right;\n",
              "    }\n",
              "</style>\n",
              "<table border=\"1\" class=\"dataframe\">\n",
              "  <thead>\n",
              "    <tr style=\"text-align: right;\">\n",
              "      <th></th>\n",
              "      <th>revenue</th>\n",
              "      <th>employee_count</th>\n",
              "    </tr>\n",
              "  </thead>\n",
              "  <tbody>\n",
              "    <tr>\n",
              "      <th>Amsterdam</th>\n",
              "      <td>4200</td>\n",
              "      <td>5.0</td>\n",
              "    </tr>\n",
              "    <tr>\n",
              "      <th>Tokyo</th>\n",
              "      <td>6500</td>\n",
              "      <td>8.0</td>\n",
              "    </tr>\n",
              "    <tr>\n",
              "      <th>Toronto</th>\n",
              "      <td>8000</td>\n",
              "      <td>NaN</td>\n",
              "    </tr>\n",
              "    <tr>\n",
              "      <th>New York</th>\n",
              "      <td>7000</td>\n",
              "      <td>2.0</td>\n",
              "    </tr>\n",
              "    <tr>\n",
              "      <th>Barcelona</th>\n",
              "      <td>3400</td>\n",
              "      <td>2.0</td>\n",
              "    </tr>\n",
              "  </tbody>\n",
              "</table>\n",
              "</div>"
            ],
            "text/plain": [
              "           revenue  employee_count\n",
              "Amsterdam     4200             5.0\n",
              "Tokyo         6500             8.0\n",
              "Toronto       8000             NaN\n",
              "New York      7000             2.0\n",
              "Barcelona     3400             2.0"
            ]
          },
          "metadata": {
            "tags": []
          },
          "execution_count": 215
        }
      ]
    },
    {
      "cell_type": "code",
      "metadata": {
        "colab": {
          "base_uri": "https://localhost:8080/",
          "height": 206
        },
        "id": "aYvobqF-UuK8",
        "outputId": "8919069d-26f5-4fe2-ccbc-3c3c0c44f116"
      },
      "source": [
        "city_countries = pd.DataFrame({\n",
        "    \"country\": [\"Holland\", \"Japan\", \"Holland\", \"Canada\", \"Spain\"],\n",
        "    \"capital\": [1, 1, 0, 0, 0]},\n",
        "    index=[\"Amsterdam\", \"Tokyo\", \"Rotterdam\", \"Toronto\", \"Barcelona\"]\n",
        ")\n",
        "city_countries"
      ],
      "execution_count": null,
      "outputs": [
        {
          "output_type": "execute_result",
          "data": {
            "text/html": [
              "<div>\n",
              "<style scoped>\n",
              "    .dataframe tbody tr th:only-of-type {\n",
              "        vertical-align: middle;\n",
              "    }\n",
              "\n",
              "    .dataframe tbody tr th {\n",
              "        vertical-align: top;\n",
              "    }\n",
              "\n",
              "    .dataframe thead th {\n",
              "        text-align: right;\n",
              "    }\n",
              "</style>\n",
              "<table border=\"1\" class=\"dataframe\">\n",
              "  <thead>\n",
              "    <tr style=\"text-align: right;\">\n",
              "      <th></th>\n",
              "      <th>country</th>\n",
              "      <th>capital</th>\n",
              "    </tr>\n",
              "  </thead>\n",
              "  <tbody>\n",
              "    <tr>\n",
              "      <th>Amsterdam</th>\n",
              "      <td>Holland</td>\n",
              "      <td>1</td>\n",
              "    </tr>\n",
              "    <tr>\n",
              "      <th>Tokyo</th>\n",
              "      <td>Japan</td>\n",
              "      <td>1</td>\n",
              "    </tr>\n",
              "    <tr>\n",
              "      <th>Rotterdam</th>\n",
              "      <td>Holland</td>\n",
              "      <td>0</td>\n",
              "    </tr>\n",
              "    <tr>\n",
              "      <th>Toronto</th>\n",
              "      <td>Canada</td>\n",
              "      <td>0</td>\n",
              "    </tr>\n",
              "    <tr>\n",
              "      <th>Barcelona</th>\n",
              "      <td>Spain</td>\n",
              "      <td>0</td>\n",
              "    </tr>\n",
              "  </tbody>\n",
              "</table>\n",
              "</div>"
            ],
            "text/plain": [
              "           country  capital\n",
              "Amsterdam  Holland        1\n",
              "Tokyo        Japan        1\n",
              "Rotterdam  Holland        0\n",
              "Toronto     Canada        0\n",
              "Barcelona    Spain        0"
            ]
          },
          "metadata": {
            "tags": []
          },
          "execution_count": 217
        }
      ]
    },
    {
      "cell_type": "code",
      "metadata": {
        "colab": {
          "base_uri": "https://localhost:8080/",
          "height": 206
        },
        "id": "3yPaonzlVMyL",
        "outputId": "7236a7ee-02e6-4ab8-db19-8c3d5721a993"
      },
      "source": [
        "all_city_data"
      ],
      "execution_count": null,
      "outputs": [
        {
          "output_type": "execute_result",
          "data": {
            "text/html": [
              "<div>\n",
              "<style scoped>\n",
              "    .dataframe tbody tr th:only-of-type {\n",
              "        vertical-align: middle;\n",
              "    }\n",
              "\n",
              "    .dataframe tbody tr th {\n",
              "        vertical-align: top;\n",
              "    }\n",
              "\n",
              "    .dataframe thead th {\n",
              "        text-align: right;\n",
              "    }\n",
              "</style>\n",
              "<table border=\"1\" class=\"dataframe\">\n",
              "  <thead>\n",
              "    <tr style=\"text-align: right;\">\n",
              "      <th></th>\n",
              "      <th>revenue</th>\n",
              "      <th>employee_count</th>\n",
              "    </tr>\n",
              "  </thead>\n",
              "  <tbody>\n",
              "    <tr>\n",
              "      <th>Amsterdam</th>\n",
              "      <td>4200</td>\n",
              "      <td>5.0</td>\n",
              "    </tr>\n",
              "    <tr>\n",
              "      <th>Tokyo</th>\n",
              "      <td>6500</td>\n",
              "      <td>8.0</td>\n",
              "    </tr>\n",
              "    <tr>\n",
              "      <th>Toronto</th>\n",
              "      <td>8000</td>\n",
              "      <td>NaN</td>\n",
              "    </tr>\n",
              "    <tr>\n",
              "      <th>New York</th>\n",
              "      <td>7000</td>\n",
              "      <td>2.0</td>\n",
              "    </tr>\n",
              "    <tr>\n",
              "      <th>Barcelona</th>\n",
              "      <td>3400</td>\n",
              "      <td>2.0</td>\n",
              "    </tr>\n",
              "  </tbody>\n",
              "</table>\n",
              "</div>"
            ],
            "text/plain": [
              "           revenue  employee_count\n",
              "Amsterdam     4200             5.0\n",
              "Tokyo         6500             8.0\n",
              "Toronto       8000             NaN\n",
              "New York      7000             2.0\n",
              "Barcelona     3400             2.0"
            ]
          },
          "metadata": {
            "tags": []
          },
          "execution_count": 218
        }
      ]
    },
    {
      "cell_type": "code",
      "metadata": {
        "colab": {
          "base_uri": "https://localhost:8080/",
          "height": 237
        },
        "id": "f5wqv129VSoi",
        "outputId": "ed9e6b4d-3b98-4101-ddfe-bdb452406683"
      },
      "source": [
        "cities = pd.concat([all_city_data, city_countries], axis=1, sort=False)\n",
        "cities"
      ],
      "execution_count": null,
      "outputs": [
        {
          "output_type": "execute_result",
          "data": {
            "text/html": [
              "<div>\n",
              "<style scoped>\n",
              "    .dataframe tbody tr th:only-of-type {\n",
              "        vertical-align: middle;\n",
              "    }\n",
              "\n",
              "    .dataframe tbody tr th {\n",
              "        vertical-align: top;\n",
              "    }\n",
              "\n",
              "    .dataframe thead th {\n",
              "        text-align: right;\n",
              "    }\n",
              "</style>\n",
              "<table border=\"1\" class=\"dataframe\">\n",
              "  <thead>\n",
              "    <tr style=\"text-align: right;\">\n",
              "      <th></th>\n",
              "      <th>revenue</th>\n",
              "      <th>employee_count</th>\n",
              "      <th>country</th>\n",
              "      <th>capital</th>\n",
              "    </tr>\n",
              "  </thead>\n",
              "  <tbody>\n",
              "    <tr>\n",
              "      <th>Amsterdam</th>\n",
              "      <td>4200.0</td>\n",
              "      <td>5.0</td>\n",
              "      <td>Holland</td>\n",
              "      <td>1.0</td>\n",
              "    </tr>\n",
              "    <tr>\n",
              "      <th>Tokyo</th>\n",
              "      <td>6500.0</td>\n",
              "      <td>8.0</td>\n",
              "      <td>Japan</td>\n",
              "      <td>1.0</td>\n",
              "    </tr>\n",
              "    <tr>\n",
              "      <th>Toronto</th>\n",
              "      <td>8000.0</td>\n",
              "      <td>NaN</td>\n",
              "      <td>Canada</td>\n",
              "      <td>0.0</td>\n",
              "    </tr>\n",
              "    <tr>\n",
              "      <th>New York</th>\n",
              "      <td>7000.0</td>\n",
              "      <td>2.0</td>\n",
              "      <td>NaN</td>\n",
              "      <td>NaN</td>\n",
              "    </tr>\n",
              "    <tr>\n",
              "      <th>Barcelona</th>\n",
              "      <td>3400.0</td>\n",
              "      <td>2.0</td>\n",
              "      <td>Spain</td>\n",
              "      <td>0.0</td>\n",
              "    </tr>\n",
              "    <tr>\n",
              "      <th>Rotterdam</th>\n",
              "      <td>NaN</td>\n",
              "      <td>NaN</td>\n",
              "      <td>Holland</td>\n",
              "      <td>0.0</td>\n",
              "    </tr>\n",
              "  </tbody>\n",
              "</table>\n",
              "</div>"
            ],
            "text/plain": [
              "           revenue  employee_count  country  capital\n",
              "Amsterdam   4200.0             5.0  Holland      1.0\n",
              "Tokyo       6500.0             8.0    Japan      1.0\n",
              "Toronto     8000.0             NaN   Canada      0.0\n",
              "New York    7000.0             2.0      NaN      NaN\n",
              "Barcelona   3400.0             2.0    Spain      0.0\n",
              "Rotterdam      NaN             NaN  Holland      0.0"
            ]
          },
          "metadata": {
            "tags": []
          },
          "execution_count": 219
        }
      ]
    },
    {
      "cell_type": "code",
      "metadata": {
        "colab": {
          "base_uri": "https://localhost:8080/",
          "height": 175
        },
        "id": "nvRj3D33Vcbq",
        "outputId": "06a85f8f-0baf-42c0-bacf-429388c887a5"
      },
      "source": [
        "pd.concat([all_city_data, city_countries], axis=1, join=\"inner\")"
      ],
      "execution_count": null,
      "outputs": [
        {
          "output_type": "execute_result",
          "data": {
            "text/html": [
              "<div>\n",
              "<style scoped>\n",
              "    .dataframe tbody tr th:only-of-type {\n",
              "        vertical-align: middle;\n",
              "    }\n",
              "\n",
              "    .dataframe tbody tr th {\n",
              "        vertical-align: top;\n",
              "    }\n",
              "\n",
              "    .dataframe thead th {\n",
              "        text-align: right;\n",
              "    }\n",
              "</style>\n",
              "<table border=\"1\" class=\"dataframe\">\n",
              "  <thead>\n",
              "    <tr style=\"text-align: right;\">\n",
              "      <th></th>\n",
              "      <th>revenue</th>\n",
              "      <th>employee_count</th>\n",
              "      <th>country</th>\n",
              "      <th>capital</th>\n",
              "    </tr>\n",
              "  </thead>\n",
              "  <tbody>\n",
              "    <tr>\n",
              "      <th>Amsterdam</th>\n",
              "      <td>4200</td>\n",
              "      <td>5.0</td>\n",
              "      <td>Holland</td>\n",
              "      <td>1</td>\n",
              "    </tr>\n",
              "    <tr>\n",
              "      <th>Tokyo</th>\n",
              "      <td>6500</td>\n",
              "      <td>8.0</td>\n",
              "      <td>Japan</td>\n",
              "      <td>1</td>\n",
              "    </tr>\n",
              "    <tr>\n",
              "      <th>Toronto</th>\n",
              "      <td>8000</td>\n",
              "      <td>NaN</td>\n",
              "      <td>Canada</td>\n",
              "      <td>0</td>\n",
              "    </tr>\n",
              "    <tr>\n",
              "      <th>Barcelona</th>\n",
              "      <td>3400</td>\n",
              "      <td>2.0</td>\n",
              "      <td>Spain</td>\n",
              "      <td>0</td>\n",
              "    </tr>\n",
              "  </tbody>\n",
              "</table>\n",
              "</div>"
            ],
            "text/plain": [
              "           revenue  employee_count  country  capital\n",
              "Amsterdam     4200             5.0  Holland        1\n",
              "Tokyo         6500             8.0    Japan        1\n",
              "Toronto       8000             NaN   Canada        0\n",
              "Barcelona     3400             2.0    Spain        0"
            ]
          },
          "metadata": {
            "tags": []
          },
          "execution_count": 220
        }
      ]
    },
    {
      "cell_type": "code",
      "metadata": {
        "colab": {
          "base_uri": "https://localhost:8080/",
          "height": 143
        },
        "id": "Ls7tql7jVrU0",
        "outputId": "7e5bda46-8eac-4136-f344-5fdc0e3c43c5"
      },
      "source": [
        "countries = pd.DataFrame({\n",
        "    \"population_millions\": [17, 127, 37],\n",
        "    \"continent\": [\"Europe\", \"Asia\", \"North America\"]\n",
        "}, index=[\"Holland\", \"Japan\", \"Canada\"])\n",
        "countries"
      ],
      "execution_count": null,
      "outputs": [
        {
          "output_type": "execute_result",
          "data": {
            "text/html": [
              "<div>\n",
              "<style scoped>\n",
              "    .dataframe tbody tr th:only-of-type {\n",
              "        vertical-align: middle;\n",
              "    }\n",
              "\n",
              "    .dataframe tbody tr th {\n",
              "        vertical-align: top;\n",
              "    }\n",
              "\n",
              "    .dataframe thead th {\n",
              "        text-align: right;\n",
              "    }\n",
              "</style>\n",
              "<table border=\"1\" class=\"dataframe\">\n",
              "  <thead>\n",
              "    <tr style=\"text-align: right;\">\n",
              "      <th></th>\n",
              "      <th>population_millions</th>\n",
              "      <th>continent</th>\n",
              "    </tr>\n",
              "  </thead>\n",
              "  <tbody>\n",
              "    <tr>\n",
              "      <th>Holland</th>\n",
              "      <td>17</td>\n",
              "      <td>Europe</td>\n",
              "    </tr>\n",
              "    <tr>\n",
              "      <th>Japan</th>\n",
              "      <td>127</td>\n",
              "      <td>Asia</td>\n",
              "    </tr>\n",
              "    <tr>\n",
              "      <th>Canada</th>\n",
              "      <td>37</td>\n",
              "      <td>North America</td>\n",
              "    </tr>\n",
              "  </tbody>\n",
              "</table>\n",
              "</div>"
            ],
            "text/plain": [
              "         population_millions      continent\n",
              "Holland                   17         Europe\n",
              "Japan                    127           Asia\n",
              "Canada                    37  North America"
            ]
          },
          "metadata": {
            "tags": []
          },
          "execution_count": 221
        }
      ]
    },
    {
      "cell_type": "code",
      "metadata": {
        "colab": {
          "base_uri": "https://localhost:8080/",
          "height": 237
        },
        "id": "Lt2gfVnWWIin",
        "outputId": "716e1814-08aa-4dad-9cd8-4242e773fc30"
      },
      "source": [
        "cities"
      ],
      "execution_count": null,
      "outputs": [
        {
          "output_type": "execute_result",
          "data": {
            "text/html": [
              "<div>\n",
              "<style scoped>\n",
              "    .dataframe tbody tr th:only-of-type {\n",
              "        vertical-align: middle;\n",
              "    }\n",
              "\n",
              "    .dataframe tbody tr th {\n",
              "        vertical-align: top;\n",
              "    }\n",
              "\n",
              "    .dataframe thead th {\n",
              "        text-align: right;\n",
              "    }\n",
              "</style>\n",
              "<table border=\"1\" class=\"dataframe\">\n",
              "  <thead>\n",
              "    <tr style=\"text-align: right;\">\n",
              "      <th></th>\n",
              "      <th>revenue</th>\n",
              "      <th>employee_count</th>\n",
              "      <th>country</th>\n",
              "      <th>capital</th>\n",
              "    </tr>\n",
              "  </thead>\n",
              "  <tbody>\n",
              "    <tr>\n",
              "      <th>Amsterdam</th>\n",
              "      <td>4200.0</td>\n",
              "      <td>5.0</td>\n",
              "      <td>Holland</td>\n",
              "      <td>1.0</td>\n",
              "    </tr>\n",
              "    <tr>\n",
              "      <th>Tokyo</th>\n",
              "      <td>6500.0</td>\n",
              "      <td>8.0</td>\n",
              "      <td>Japan</td>\n",
              "      <td>1.0</td>\n",
              "    </tr>\n",
              "    <tr>\n",
              "      <th>Toronto</th>\n",
              "      <td>8000.0</td>\n",
              "      <td>NaN</td>\n",
              "      <td>Canada</td>\n",
              "      <td>0.0</td>\n",
              "    </tr>\n",
              "    <tr>\n",
              "      <th>New York</th>\n",
              "      <td>7000.0</td>\n",
              "      <td>2.0</td>\n",
              "      <td>NaN</td>\n",
              "      <td>NaN</td>\n",
              "    </tr>\n",
              "    <tr>\n",
              "      <th>Barcelona</th>\n",
              "      <td>3400.0</td>\n",
              "      <td>2.0</td>\n",
              "      <td>Spain</td>\n",
              "      <td>0.0</td>\n",
              "    </tr>\n",
              "    <tr>\n",
              "      <th>Rotterdam</th>\n",
              "      <td>NaN</td>\n",
              "      <td>NaN</td>\n",
              "      <td>Holland</td>\n",
              "      <td>0.0</td>\n",
              "    </tr>\n",
              "  </tbody>\n",
              "</table>\n",
              "</div>"
            ],
            "text/plain": [
              "           revenue  employee_count  country  capital\n",
              "Amsterdam   4200.0             5.0  Holland      1.0\n",
              "Tokyo       6500.0             8.0    Japan      1.0\n",
              "Toronto     8000.0             NaN   Canada      0.0\n",
              "New York    7000.0             2.0      NaN      NaN\n",
              "Barcelona   3400.0             2.0    Spain      0.0\n",
              "Rotterdam      NaN             NaN  Holland      0.0"
            ]
          },
          "metadata": {
            "tags": []
          },
          "execution_count": 222
        }
      ]
    },
    {
      "cell_type": "code",
      "metadata": {
        "colab": {
          "base_uri": "https://localhost:8080/",
          "height": 212
        },
        "id": "PBLaQ8l0WKzP",
        "outputId": "87ab14c6-472d-454d-87c6-a0d46aace1a7"
      },
      "source": [
        "pd.merge(cities, countries, left_on=\"country\", right_index=True)"
      ],
      "execution_count": null,
      "outputs": [
        {
          "output_type": "execute_result",
          "data": {
            "text/html": [
              "<div>\n",
              "<style scoped>\n",
              "    .dataframe tbody tr th:only-of-type {\n",
              "        vertical-align: middle;\n",
              "    }\n",
              "\n",
              "    .dataframe tbody tr th {\n",
              "        vertical-align: top;\n",
              "    }\n",
              "\n",
              "    .dataframe thead th {\n",
              "        text-align: right;\n",
              "    }\n",
              "</style>\n",
              "<table border=\"1\" class=\"dataframe\">\n",
              "  <thead>\n",
              "    <tr style=\"text-align: right;\">\n",
              "      <th></th>\n",
              "      <th>revenue</th>\n",
              "      <th>employee_count</th>\n",
              "      <th>country</th>\n",
              "      <th>capital</th>\n",
              "      <th>population_millions</th>\n",
              "      <th>continent</th>\n",
              "    </tr>\n",
              "  </thead>\n",
              "  <tbody>\n",
              "    <tr>\n",
              "      <th>Amsterdam</th>\n",
              "      <td>4200.0</td>\n",
              "      <td>5.0</td>\n",
              "      <td>Holland</td>\n",
              "      <td>1.0</td>\n",
              "      <td>17</td>\n",
              "      <td>Europe</td>\n",
              "    </tr>\n",
              "    <tr>\n",
              "      <th>Rotterdam</th>\n",
              "      <td>NaN</td>\n",
              "      <td>NaN</td>\n",
              "      <td>Holland</td>\n",
              "      <td>0.0</td>\n",
              "      <td>17</td>\n",
              "      <td>Europe</td>\n",
              "    </tr>\n",
              "    <tr>\n",
              "      <th>Tokyo</th>\n",
              "      <td>6500.0</td>\n",
              "      <td>8.0</td>\n",
              "      <td>Japan</td>\n",
              "      <td>1.0</td>\n",
              "      <td>127</td>\n",
              "      <td>Asia</td>\n",
              "    </tr>\n",
              "    <tr>\n",
              "      <th>Toronto</th>\n",
              "      <td>8000.0</td>\n",
              "      <td>NaN</td>\n",
              "      <td>Canada</td>\n",
              "      <td>0.0</td>\n",
              "      <td>37</td>\n",
              "      <td>North America</td>\n",
              "    </tr>\n",
              "  </tbody>\n",
              "</table>\n",
              "</div>"
            ],
            "text/plain": [
              "           revenue  employee_count  country  capital  population_millions  \\\n",
              "Amsterdam   4200.0             5.0  Holland      1.0                   17   \n",
              "Rotterdam      NaN             NaN  Holland      0.0                   17   \n",
              "Tokyo       6500.0             8.0    Japan      1.0                  127   \n",
              "Toronto     8000.0             NaN   Canada      0.0                   37   \n",
              "\n",
              "               continent  \n",
              "Amsterdam         Europe  \n",
              "Rotterdam         Europe  \n",
              "Tokyo               Asia  \n",
              "Toronto    North America  "
            ]
          },
          "metadata": {
            "tags": []
          },
          "execution_count": 223
        }
      ]
    },
    {
      "cell_type": "code",
      "metadata": {
        "colab": {
          "base_uri": "https://localhost:8080/",
          "height": 275
        },
        "id": "_IiCrSNOWQ3Y",
        "outputId": "396bd4e8-a524-4f54-f350-9afbc1cfcc1a"
      },
      "source": [
        "pd.merge(\n",
        "    cities,\n",
        "    countries,\n",
        "    left_on=\"country\",\n",
        "    right_index=True,\n",
        "    how=\"left\"\n",
        ")"
      ],
      "execution_count": null,
      "outputs": [
        {
          "output_type": "execute_result",
          "data": {
            "text/html": [
              "<div>\n",
              "<style scoped>\n",
              "    .dataframe tbody tr th:only-of-type {\n",
              "        vertical-align: middle;\n",
              "    }\n",
              "\n",
              "    .dataframe tbody tr th {\n",
              "        vertical-align: top;\n",
              "    }\n",
              "\n",
              "    .dataframe thead th {\n",
              "        text-align: right;\n",
              "    }\n",
              "</style>\n",
              "<table border=\"1\" class=\"dataframe\">\n",
              "  <thead>\n",
              "    <tr style=\"text-align: right;\">\n",
              "      <th></th>\n",
              "      <th>revenue</th>\n",
              "      <th>employee_count</th>\n",
              "      <th>country</th>\n",
              "      <th>capital</th>\n",
              "      <th>population_millions</th>\n",
              "      <th>continent</th>\n",
              "    </tr>\n",
              "  </thead>\n",
              "  <tbody>\n",
              "    <tr>\n",
              "      <th>Amsterdam</th>\n",
              "      <td>4200.0</td>\n",
              "      <td>5.0</td>\n",
              "      <td>Holland</td>\n",
              "      <td>1.0</td>\n",
              "      <td>17.0</td>\n",
              "      <td>Europe</td>\n",
              "    </tr>\n",
              "    <tr>\n",
              "      <th>Tokyo</th>\n",
              "      <td>6500.0</td>\n",
              "      <td>8.0</td>\n",
              "      <td>Japan</td>\n",
              "      <td>1.0</td>\n",
              "      <td>127.0</td>\n",
              "      <td>Asia</td>\n",
              "    </tr>\n",
              "    <tr>\n",
              "      <th>Toronto</th>\n",
              "      <td>8000.0</td>\n",
              "      <td>NaN</td>\n",
              "      <td>Canada</td>\n",
              "      <td>0.0</td>\n",
              "      <td>37.0</td>\n",
              "      <td>North America</td>\n",
              "    </tr>\n",
              "    <tr>\n",
              "      <th>New York</th>\n",
              "      <td>7000.0</td>\n",
              "      <td>2.0</td>\n",
              "      <td>NaN</td>\n",
              "      <td>NaN</td>\n",
              "      <td>NaN</td>\n",
              "      <td>NaN</td>\n",
              "    </tr>\n",
              "    <tr>\n",
              "      <th>Barcelona</th>\n",
              "      <td>3400.0</td>\n",
              "      <td>2.0</td>\n",
              "      <td>Spain</td>\n",
              "      <td>0.0</td>\n",
              "      <td>NaN</td>\n",
              "      <td>NaN</td>\n",
              "    </tr>\n",
              "    <tr>\n",
              "      <th>Rotterdam</th>\n",
              "      <td>NaN</td>\n",
              "      <td>NaN</td>\n",
              "      <td>Holland</td>\n",
              "      <td>0.0</td>\n",
              "      <td>17.0</td>\n",
              "      <td>Europe</td>\n",
              "    </tr>\n",
              "  </tbody>\n",
              "</table>\n",
              "</div>"
            ],
            "text/plain": [
              "           revenue  employee_count  country  capital  population_millions  \\\n",
              "Amsterdam   4200.0             5.0  Holland      1.0                 17.0   \n",
              "Tokyo       6500.0             8.0    Japan      1.0                127.0   \n",
              "Toronto     8000.0             NaN   Canada      0.0                 37.0   \n",
              "New York    7000.0             2.0      NaN      NaN                  NaN   \n",
              "Barcelona   3400.0             2.0    Spain      0.0                  NaN   \n",
              "Rotterdam      NaN             NaN  Holland      0.0                 17.0   \n",
              "\n",
              "               continent  \n",
              "Amsterdam         Europe  \n",
              "Tokyo               Asia  \n",
              "Toronto    North America  \n",
              "New York             NaN  \n",
              "Barcelona            NaN  \n",
              "Rotterdam         Europe  "
            ]
          },
          "metadata": {
            "tags": []
          },
          "execution_count": 224
        }
      ]
    },
    {
      "cell_type": "markdown",
      "metadata": {
        "id": "wfjo8vVBWoQC"
      },
      "source": [
        "Visualizing Your Pandas DataFrame"
      ]
    },
    {
      "cell_type": "code",
      "metadata": {
        "id": "Ne5ELgBMWiXp"
      },
      "source": [
        "%matplotlib inline"
      ],
      "execution_count": null,
      "outputs": []
    },
    {
      "cell_type": "code",
      "metadata": {
        "colab": {
          "base_uri": "https://localhost:8080/",
          "height": 617
        },
        "id": "-b-HOc4EWue3",
        "outputId": "ceb4701e-a19d-4482-c786-d5c649c151d6"
      },
      "source": [
        "nba"
      ],
      "execution_count": null,
      "outputs": [
        {
          "output_type": "execute_result",
          "data": {
            "text/html": [
              "<div>\n",
              "<style scoped>\n",
              "    .dataframe tbody tr th:only-of-type {\n",
              "        vertical-align: middle;\n",
              "    }\n",
              "\n",
              "    .dataframe tbody tr th {\n",
              "        vertical-align: top;\n",
              "    }\n",
              "\n",
              "    .dataframe thead th {\n",
              "        text-align: right;\n",
              "    }\n",
              "</style>\n",
              "<table border=\"1\" class=\"dataframe\">\n",
              "  <thead>\n",
              "    <tr style=\"text-align: right;\">\n",
              "      <th></th>\n",
              "      <th>gameorder</th>\n",
              "      <th>game_id</th>\n",
              "      <th>lg_id</th>\n",
              "      <th>_iscopy</th>\n",
              "      <th>year_id</th>\n",
              "      <th>date_game</th>\n",
              "      <th>seasongame</th>\n",
              "      <th>is_playoffs</th>\n",
              "      <th>team_id</th>\n",
              "      <th>fran_id</th>\n",
              "      <th>pts</th>\n",
              "      <th>win_equiv</th>\n",
              "      <th>opp_id</th>\n",
              "      <th>opp_fran</th>\n",
              "      <th>opp_pts</th>\n",
              "      <th>game_location</th>\n",
              "      <th>game_result</th>\n",
              "      <th>forecast</th>\n",
              "      <th>notes</th>\n",
              "      <th>difference</th>\n",
              "    </tr>\n",
              "  </thead>\n",
              "  <tbody>\n",
              "    <tr>\n",
              "      <th>0</th>\n",
              "      <td>1</td>\n",
              "      <td>194611010TRH</td>\n",
              "      <td>NBA</td>\n",
              "      <td>0</td>\n",
              "      <td>1947</td>\n",
              "      <td>1946-11-01</td>\n",
              "      <td>1</td>\n",
              "      <td>0</td>\n",
              "      <td>TRH</td>\n",
              "      <td>Huskies</td>\n",
              "      <td>66</td>\n",
              "      <td>40.29</td>\n",
              "      <td>NYK</td>\n",
              "      <td>Knicks</td>\n",
              "      <td>68</td>\n",
              "      <td>H</td>\n",
              "      <td>L</td>\n",
              "      <td>0.64</td>\n",
              "      <td>NaN</td>\n",
              "      <td>-2</td>\n",
              "    </tr>\n",
              "    <tr>\n",
              "      <th>1</th>\n",
              "      <td>1</td>\n",
              "      <td>194611010TRH</td>\n",
              "      <td>NBA</td>\n",
              "      <td>1</td>\n",
              "      <td>1947</td>\n",
              "      <td>1946-11-01</td>\n",
              "      <td>1</td>\n",
              "      <td>0</td>\n",
              "      <td>NYK</td>\n",
              "      <td>Knicks</td>\n",
              "      <td>68</td>\n",
              "      <td>41.71</td>\n",
              "      <td>TRH</td>\n",
              "      <td>Huskies</td>\n",
              "      <td>66</td>\n",
              "      <td>A</td>\n",
              "      <td>W</td>\n",
              "      <td>0.36</td>\n",
              "      <td>NaN</td>\n",
              "      <td>2</td>\n",
              "    </tr>\n",
              "    <tr>\n",
              "      <th>2</th>\n",
              "      <td>2</td>\n",
              "      <td>194611020CHS</td>\n",
              "      <td>NBA</td>\n",
              "      <td>0</td>\n",
              "      <td>1947</td>\n",
              "      <td>1946-11-02</td>\n",
              "      <td>1</td>\n",
              "      <td>0</td>\n",
              "      <td>CHS</td>\n",
              "      <td>Stags</td>\n",
              "      <td>63</td>\n",
              "      <td>42.01</td>\n",
              "      <td>NYK</td>\n",
              "      <td>Knicks</td>\n",
              "      <td>47</td>\n",
              "      <td>H</td>\n",
              "      <td>W</td>\n",
              "      <td>0.63</td>\n",
              "      <td>NaN</td>\n",
              "      <td>16</td>\n",
              "    </tr>\n",
              "    <tr>\n",
              "      <th>3</th>\n",
              "      <td>2</td>\n",
              "      <td>194611020CHS</td>\n",
              "      <td>NBA</td>\n",
              "      <td>1</td>\n",
              "      <td>1947</td>\n",
              "      <td>1946-11-02</td>\n",
              "      <td>2</td>\n",
              "      <td>0</td>\n",
              "      <td>NYK</td>\n",
              "      <td>Knicks</td>\n",
              "      <td>47</td>\n",
              "      <td>40.69</td>\n",
              "      <td>CHS</td>\n",
              "      <td>Stags</td>\n",
              "      <td>63</td>\n",
              "      <td>A</td>\n",
              "      <td>L</td>\n",
              "      <td>0.37</td>\n",
              "      <td>NaN</td>\n",
              "      <td>-16</td>\n",
              "    </tr>\n",
              "    <tr>\n",
              "      <th>4</th>\n",
              "      <td>3</td>\n",
              "      <td>194611020DTF</td>\n",
              "      <td>NBA</td>\n",
              "      <td>0</td>\n",
              "      <td>1947</td>\n",
              "      <td>1946-11-02</td>\n",
              "      <td>1</td>\n",
              "      <td>0</td>\n",
              "      <td>DTF</td>\n",
              "      <td>Falcons</td>\n",
              "      <td>33</td>\n",
              "      <td>38.86</td>\n",
              "      <td>WSC</td>\n",
              "      <td>Capitols</td>\n",
              "      <td>50</td>\n",
              "      <td>H</td>\n",
              "      <td>L</td>\n",
              "      <td>0.64</td>\n",
              "      <td>NaN</td>\n",
              "      <td>-17</td>\n",
              "    </tr>\n",
              "    <tr>\n",
              "      <th>...</th>\n",
              "      <td>...</td>\n",
              "      <td>...</td>\n",
              "      <td>...</td>\n",
              "      <td>...</td>\n",
              "      <td>...</td>\n",
              "      <td>...</td>\n",
              "      <td>...</td>\n",
              "      <td>...</td>\n",
              "      <td>...</td>\n",
              "      <td>...</td>\n",
              "      <td>...</td>\n",
              "      <td>...</td>\n",
              "      <td>...</td>\n",
              "      <td>...</td>\n",
              "      <td>...</td>\n",
              "      <td>...</td>\n",
              "      <td>...</td>\n",
              "      <td>...</td>\n",
              "      <td>...</td>\n",
              "      <td>...</td>\n",
              "    </tr>\n",
              "    <tr>\n",
              "      <th>126309</th>\n",
              "      <td>63155</td>\n",
              "      <td>201506110CLE</td>\n",
              "      <td>NBA</td>\n",
              "      <td>0</td>\n",
              "      <td>2015</td>\n",
              "      <td>2015-06-11</td>\n",
              "      <td>100</td>\n",
              "      <td>1</td>\n",
              "      <td>CLE</td>\n",
              "      <td>Cavaliers</td>\n",
              "      <td>82</td>\n",
              "      <td>60.31</td>\n",
              "      <td>GSW</td>\n",
              "      <td>Warriors</td>\n",
              "      <td>103</td>\n",
              "      <td>H</td>\n",
              "      <td>L</td>\n",
              "      <td>0.55</td>\n",
              "      <td>NaN</td>\n",
              "      <td>-21</td>\n",
              "    </tr>\n",
              "    <tr>\n",
              "      <th>126310</th>\n",
              "      <td>63156</td>\n",
              "      <td>201506140GSW</td>\n",
              "      <td>NBA</td>\n",
              "      <td>0</td>\n",
              "      <td>2015</td>\n",
              "      <td>2015-06-14</td>\n",
              "      <td>102</td>\n",
              "      <td>1</td>\n",
              "      <td>GSW</td>\n",
              "      <td>Warriors</td>\n",
              "      <td>104</td>\n",
              "      <td>68.01</td>\n",
              "      <td>CLE</td>\n",
              "      <td>Cavaliers</td>\n",
              "      <td>91</td>\n",
              "      <td>H</td>\n",
              "      <td>W</td>\n",
              "      <td>0.77</td>\n",
              "      <td>NaN</td>\n",
              "      <td>13</td>\n",
              "    </tr>\n",
              "    <tr>\n",
              "      <th>126311</th>\n",
              "      <td>63156</td>\n",
              "      <td>201506140GSW</td>\n",
              "      <td>NBA</td>\n",
              "      <td>1</td>\n",
              "      <td>2015</td>\n",
              "      <td>2015-06-14</td>\n",
              "      <td>101</td>\n",
              "      <td>1</td>\n",
              "      <td>CLE</td>\n",
              "      <td>Cavaliers</td>\n",
              "      <td>91</td>\n",
              "      <td>60.01</td>\n",
              "      <td>GSW</td>\n",
              "      <td>Warriors</td>\n",
              "      <td>104</td>\n",
              "      <td>A</td>\n",
              "      <td>L</td>\n",
              "      <td>0.23</td>\n",
              "      <td>NaN</td>\n",
              "      <td>-13</td>\n",
              "    </tr>\n",
              "    <tr>\n",
              "      <th>126312</th>\n",
              "      <td>63157</td>\n",
              "      <td>201506170CLE</td>\n",
              "      <td>NBA</td>\n",
              "      <td>0</td>\n",
              "      <td>2015</td>\n",
              "      <td>2015-06-16</td>\n",
              "      <td>102</td>\n",
              "      <td>1</td>\n",
              "      <td>CLE</td>\n",
              "      <td>Cavaliers</td>\n",
              "      <td>97</td>\n",
              "      <td>59.29</td>\n",
              "      <td>GSW</td>\n",
              "      <td>Warriors</td>\n",
              "      <td>105</td>\n",
              "      <td>H</td>\n",
              "      <td>L</td>\n",
              "      <td>0.48</td>\n",
              "      <td>NaN</td>\n",
              "      <td>-8</td>\n",
              "    </tr>\n",
              "    <tr>\n",
              "      <th>126313</th>\n",
              "      <td>63157</td>\n",
              "      <td>201506170CLE</td>\n",
              "      <td>NBA</td>\n",
              "      <td>1</td>\n",
              "      <td>2015</td>\n",
              "      <td>2015-06-16</td>\n",
              "      <td>103</td>\n",
              "      <td>1</td>\n",
              "      <td>GSW</td>\n",
              "      <td>Warriors</td>\n",
              "      <td>105</td>\n",
              "      <td>68.52</td>\n",
              "      <td>CLE</td>\n",
              "      <td>Cavaliers</td>\n",
              "      <td>97</td>\n",
              "      <td>A</td>\n",
              "      <td>W</td>\n",
              "      <td>0.52</td>\n",
              "      <td>NaN</td>\n",
              "      <td>8</td>\n",
              "    </tr>\n",
              "  </tbody>\n",
              "</table>\n",
              "<p>126314 rows × 20 columns</p>\n",
              "</div>"
            ],
            "text/plain": [
              "        gameorder       game_id lg_id  _iscopy  year_id  date_game  \\\n",
              "0               1  194611010TRH   NBA        0     1947 1946-11-01   \n",
              "1               1  194611010TRH   NBA        1     1947 1946-11-01   \n",
              "2               2  194611020CHS   NBA        0     1947 1946-11-02   \n",
              "3               2  194611020CHS   NBA        1     1947 1946-11-02   \n",
              "4               3  194611020DTF   NBA        0     1947 1946-11-02   \n",
              "...           ...           ...   ...      ...      ...        ...   \n",
              "126309      63155  201506110CLE   NBA        0     2015 2015-06-11   \n",
              "126310      63156  201506140GSW   NBA        0     2015 2015-06-14   \n",
              "126311      63156  201506140GSW   NBA        1     2015 2015-06-14   \n",
              "126312      63157  201506170CLE   NBA        0     2015 2015-06-16   \n",
              "126313      63157  201506170CLE   NBA        1     2015 2015-06-16   \n",
              "\n",
              "        seasongame  is_playoffs team_id    fran_id  pts  win_equiv opp_id  \\\n",
              "0                1            0     TRH    Huskies   66      40.29    NYK   \n",
              "1                1            0     NYK     Knicks   68      41.71    TRH   \n",
              "2                1            0     CHS      Stags   63      42.01    NYK   \n",
              "3                2            0     NYK     Knicks   47      40.69    CHS   \n",
              "4                1            0     DTF    Falcons   33      38.86    WSC   \n",
              "...            ...          ...     ...        ...  ...        ...    ...   \n",
              "126309         100            1     CLE  Cavaliers   82      60.31    GSW   \n",
              "126310         102            1     GSW   Warriors  104      68.01    CLE   \n",
              "126311         101            1     CLE  Cavaliers   91      60.01    GSW   \n",
              "126312         102            1     CLE  Cavaliers   97      59.29    GSW   \n",
              "126313         103            1     GSW   Warriors  105      68.52    CLE   \n",
              "\n",
              "         opp_fran  opp_pts game_location game_result  forecast notes  \\\n",
              "0          Knicks       68             H           L      0.64   NaN   \n",
              "1         Huskies       66             A           W      0.36   NaN   \n",
              "2          Knicks       47             H           W      0.63   NaN   \n",
              "3           Stags       63             A           L      0.37   NaN   \n",
              "4        Capitols       50             H           L      0.64   NaN   \n",
              "...           ...      ...           ...         ...       ...   ...   \n",
              "126309   Warriors      103             H           L      0.55   NaN   \n",
              "126310  Cavaliers       91             H           W      0.77   NaN   \n",
              "126311   Warriors      104             A           L      0.23   NaN   \n",
              "126312   Warriors      105             H           L      0.48   NaN   \n",
              "126313  Cavaliers       97             A           W      0.52   NaN   \n",
              "\n",
              "        difference  \n",
              "0               -2  \n",
              "1                2  \n",
              "2               16  \n",
              "3              -16  \n",
              "4              -17  \n",
              "...            ...  \n",
              "126309         -21  \n",
              "126310          13  \n",
              "126311         -13  \n",
              "126312          -8  \n",
              "126313           8  \n",
              "\n",
              "[126314 rows x 20 columns]"
            ]
          },
          "metadata": {
            "tags": []
          },
          "execution_count": 226
        }
      ]
    },
    {
      "cell_type": "code",
      "metadata": {
        "colab": {
          "base_uri": "https://localhost:8080/",
          "height": 297
        },
        "id": "8JMB2eaeWvXJ",
        "outputId": "2593c7bd-eba6-4024-b759-a8fa39e38908"
      },
      "source": [
        "nba[nba[\"fran_id\"] == \"Knicks\"].groupby(\"year_id\")[\"pts\"].sum().plot()"
      ],
      "execution_count": null,
      "outputs": [
        {
          "output_type": "execute_result",
          "data": {
            "text/plain": [
              "<matplotlib.axes._subplots.AxesSubplot at 0x7f42512cd210>"
            ]
          },
          "metadata": {
            "tags": []
          },
          "execution_count": 227
        },
        {
          "output_type": "display_data",
          "data": {
            "image/png": "[encoded data removed]",
            "text/plain": [
              "<Figure size 432x288 with 1 Axes>"
            ]
          },
          "metadata": {
            "tags": [],
            "needs_background": "light"
          }
        }
      ]
    },
    {
      "cell_type": "code",
      "metadata": {
        "colab": {
          "base_uri": "https://localhost:8080/"
        },
        "id": "Q0KsOU0UW5eF",
        "outputId": "502a5280-2e62-4930-95c9-09d6de9c143d"
      },
      "source": [
        "nba[nba[\"fran_id\"] == \"Knicks\"].groupby(\"year_id\")[\"pts\"].sum()"
      ],
      "execution_count": null,
      "outputs": [
        {
          "output_type": "execute_result",
          "data": {
            "text/plain": [
              "year_id\n",
              "1947    4234\n",
              "1948    3815\n",
              "1949    5253\n",
              "1950    5924\n",
              "1951    6814\n",
              "        ... \n",
              "2011    9097\n",
              "2012    6872\n",
              "2013    9259\n",
              "2014    8084\n",
              "2015    7535\n",
              "Name: pts, Length: 69, dtype: int64"
            ]
          },
          "metadata": {
            "tags": []
          },
          "execution_count": 228
        }
      ]
    },
    {
      "cell_type": "code",
      "metadata": {
        "colab": {
          "base_uri": "https://localhost:8080/",
          "height": 315
        },
        "id": "TPwzhzbRW-Fr",
        "outputId": "beb92219-f0b8-4127-adf2-85a30c0d82c6"
      },
      "source": [
        "nba[\"fran_id\"].value_counts().head(10).plot(kind=\"bar\")"
      ],
      "execution_count": null,
      "outputs": [
        {
          "output_type": "execute_result",
          "data": {
            "text/plain": [
              "<matplotlib.axes._subplots.AxesSubplot at 0x7f42511c2a10>"
            ]
          },
          "metadata": {
            "tags": []
          },
          "execution_count": 229
        },
        {
          "output_type": "display_data",
          "data": {
            "image/png": "[encoded data removed]",
            "text/plain": [
              "<Figure size 432x288 with 1 Axes>"
            ]
          },
          "metadata": {
            "tags": [],
            "needs_background": "light"
          }
        }
      ]
    },
    {
      "cell_type": "code",
      "metadata": {
        "colab": {
          "base_uri": "https://localhost:8080/"
        },
        "id": "XRyPQbrpXF1V",
        "outputId": "6c1c46ca-66a8-4611-c55b-f812a0634d4a"
      },
      "source": [
        "nba[\"fran_id\"].value_counts().head(10)"
      ],
      "execution_count": null,
      "outputs": [
        {
          "output_type": "execute_result",
          "data": {
            "text/plain": [
              "Lakers      6024\n",
              "Celtics     5997\n",
              "Knicks      5769\n",
              "Warriors    5657\n",
              "Pistons     5650\n",
              "Sixers      5644\n",
              "Hawks       5572\n",
              "Kings       5475\n",
              "Wizards     4582\n",
              "Spurs       4309\n",
              "Name: fran_id, dtype: int64"
            ]
          },
          "metadata": {
            "tags": []
          },
          "execution_count": 230
        }
      ]
    },
    {
      "cell_type": "code",
      "metadata": {
        "id": "M1UBlHU7XJpN"
      },
      "source": [
        ""
      ],
      "execution_count": null,
      "outputs": []
    }
  ]
}